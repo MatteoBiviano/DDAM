{
 "cells": [
  {
   "cell_type": "code",
   "execution_count": 1,
   "metadata": {},
   "outputs": [],
   "source": [
    "import pyspark\n",
    "sc = pyspark.SparkContext()"
   ]
  },
  {
   "cell_type": "code",
   "execution_count": 2,
   "metadata": {},
   "outputs": [],
   "source": [
    "import matplotlib.pyplot as plt\n",
    "import pyspark.sql.functions as F\n",
    "from pyspark.sql.functions import when\n",
    "from kneed import KneeLocator\n",
    "from yellowbrick.cluster import KElbowVisualizer\n",
    "from pyspark.ml.feature import Normalizer, MinMaxScaler, VectorAssembler, StandardScaler\n",
    "from pyspark.sql import Row, Column\n",
    "from pyspark.sql.types import FloatType, DoubleType\n",
    "import plotly.graph_objects as go\n",
    "from pyspark.mllib.linalg import DenseVector\n",
    "from pyspark.mllib.tree import DecisionTree as DT\n",
    "from pyspark.mllib.tree import DecisionTreeModel, LabeledPoint\n",
    "\n",
    "from pyspark.ml.clustering import KMeans\n",
    "from pyspark.mllib.clustering import KMeans as KM\n",
    "\n",
    "from pyspark.mllib.evaluation import MulticlassMetrics\n",
    "from pyspark.mllib.tree import LabeledPoint\n",
    "\n",
    "from sklearn.metrics import confusion_matrix, roc_curve, auc\n",
    "import numpy as np\n",
    "import itertools\n",
    "\n",
    "\n",
    "from pyspark.ml import Pipeline\n",
    "from pyspark.sql.functions import udf\n",
    "\n",
    "from pyspark.ml.feature import StringIndexer, VectorIndexer, StandardScaler, VectorAssembler\n",
    "from pyspark.ml.classification import DecisionTreeClassifier\n",
    "from pyspark.ml.tuning import ParamGridBuilder, CrossValidator\n",
    "from pyspark.ml.evaluation import BinaryClassificationEvaluator, MulticlassClassificationEvaluator, ClusteringEvaluator\n",
    "from pyspark.mllib.evaluation import MulticlassMetrics, BinaryClassificationMetrics\n"
   ]
  },
  {
   "cell_type": "code",
   "execution_count": 3,
   "metadata": {},
   "outputs": [],
   "source": [
    "from pyspark.sql import SparkSession\n",
    "from pyspark.sql.types import StructType, StructField\n",
    "spark = SparkSession.builder \\\n",
    "    .config(\"spark.some.config.option\", \"some-value\") \\\n",
    "    .getOrCreate()"
   ]
  },
  {
   "cell_type": "code",
   "execution_count": 4,
   "metadata": {},
   "outputs": [],
   "source": [
    "hdfs_path = 'hdfs://kddrtserver13.isti.cnr.it:9000/user/hpsa15/bank_dataset2.csv'"
   ]
  },
  {
   "cell_type": "code",
   "execution_count": 5,
   "metadata": {},
   "outputs": [],
   "source": [
    "kdd_df = spark.read.options(inferSchema = True, header = True)\\\n",
    "                .csv(hdfs_path)  "
   ]
  },
  {
   "cell_type": "code",
   "execution_count": null,
   "metadata": {},
   "outputs": [],
   "source": [
    "kdd_df = kdd_df.withColumn(\"y\", when(kdd_df[\"y\"] == \"yes\", 1.0).otherwise(0.0))"
   ]
  },
  {
   "cell_type": "code",
   "execution_count": null,
   "metadata": {},
   "outputs": [],
   "source": [
    "kdd_df.count()"
   ]
  },
  {
   "cell_type": "markdown",
   "metadata": {},
   "source": [
    "Divisione in training e test"
   ]
  },
  {
   "cell_type": "code",
   "execution_count": 7,
   "metadata": {},
   "outputs": [],
   "source": [
    "train, test = kdd_df.randomSplit([0.7, 0.3], seed = 2)"
   ]
  },
  {
   "cell_type": "markdown",
   "metadata": {},
   "source": [
    "Esecuzione del Decision Tree su tutto il dataset"
   ]
  },
  {
   "cell_type": "code",
   "execution_count": 8,
   "metadata": {},
   "outputs": [],
   "source": [
    "feature_columns = [\"age\", \"duration\", \"campaign\", \"pdays\", \"previous\",\n",
    "                   \"emp_var_rate\", \"cons_price_idx\", \"cons_conf_idx\", \"euribor3m\", \"nr_employed\"]"
   ]
  },
  {
   "cell_type": "markdown",
   "metadata": {},
   "source": [
    "- 3Fold-CrossValidation"
   ]
  },
  {
   "cell_type": "code",
   "execution_count": 9,
   "metadata": {},
   "outputs": [],
   "source": [
    "def exec_crossEvalTree(df):\n",
    "    # Assemblaggio del clusters\n",
    "    assembler = VectorAssembler().setInputCols(feature_columns).setOutputCol(\"features\")\n",
    "    tmp_df = assembler.transform(df)\n",
    "    tmp_df =tmp_df.withColumnRenamed(\"y\",\"label\")\n",
    "    # Training e test\n",
    "    \n",
    "    # Create initial Decision Tree Model\n",
    "    model = DecisionTreeClassifier(labelCol=\"label\", featuresCol=\"features\")\n",
    "\n",
    "    # Create ParamGrid for Cross Validation\n",
    "    model_paramGrid = (ParamGridBuilder()\n",
    "           .addGrid(model.impurity, [\"entropy\", \"gini\"])\n",
    "           .addGrid(model.maxDepth, [2, 5, 10, 15])\n",
    "           .addGrid(model.maxBins, [2, 5, 10, 15]).build())\n",
    "    # Evaluate model\n",
    "    model_evaluator = BinaryClassificationEvaluator(rawPredictionCol=\"rawPrediction\")\n",
    "\n",
    "    # Create 3-fold CrossValidator\n",
    "    cross_model = CrossValidator(estimator = model,\n",
    "                          estimatorParamMaps = model_paramGrid,\n",
    "                          evaluator = model_evaluator,\n",
    "                          numFolds = 3)\n",
    "\n",
    "    # Run cross validations\n",
    "    fit_model = cross_model.fit(tmp_df)\n",
    "    print(fit_model)\n",
    "\n",
    "\n",
    "    bestModel = fit_model.bestModel\n",
    "    extract_par = bestModel.extractParamMap()\n",
    "    best_parameters = {}\n",
    "    best_parameters[\"impurity\"] = extract_par[bestModel.getParam(\"impurity\")]\n",
    "    best_parameters[\"maxDepth\"] = extract_par[bestModel.getParam(\"maxDepth\")]\n",
    "    best_parameters[\"maxBins\"] = extract_par[bestModel.getParam(\"maxBins\")]\n",
    "    print(best_parameters)\n",
    "    best_parameters\n",
    "    \n",
    "    return best_parameters"
   ]
  },
  {
   "cell_type": "code",
   "execution_count": 10,
   "metadata": {},
   "outputs": [
    {
     "name": "stdout",
     "output_type": "stream",
     "text": [
      "CrossValidatorModel_0aaaea51bca8\n",
      "{'impurity': 'entropy', 'maxDepth': 5, 'maxBins': 5}\n"
     ]
    }
   ],
   "source": [
    "optimals = exec_crossEvalTree(train)"
   ]
  },
  {
   "cell_type": "markdown",
   "metadata": {},
   "source": [
    "### Valutazione del decision Tree eseguito su tutto il dataset (con i parametri ottimi)"
   ]
  },
  {
   "cell_type": "markdown",
   "metadata": {},
   "source": [
    "- Trasformazione di Training e Test in labeled point"
   ]
  },
  {
   "cell_type": "code",
   "execution_count": 11,
   "metadata": {},
   "outputs": [],
   "source": [
    "def toLabeld(df):\n",
    "    return df.rdd.map(lambda row: LabeledPoint(row[20], [row[0:1] + row[10:14] + row[15:20]]))"
   ]
  },
  {
   "cell_type": "code",
   "execution_count": 12,
   "metadata": {
    "scrolled": true
   },
   "outputs": [],
   "source": [
    "train_labeled = toLabeld(train)"
   ]
  },
  {
   "cell_type": "code",
   "execution_count": 13,
   "metadata": {},
   "outputs": [],
   "source": [
    "test_labeled = toLabeld(test)"
   ]
  },
  {
   "cell_type": "markdown",
   "metadata": {},
   "source": [
    "- Funzione per plottare la confusion matrix"
   ]
  },
  {
   "cell_type": "code",
   "execution_count": 14,
   "metadata": {},
   "outputs": [],
   "source": [
    "def plt_matrix(matrix, title):\n",
    "    # Normalizzazione della matrice\n",
    "    matrix = matrix.astype('float') / matrix.sum(axis=1)[:, np.newaxis]\n",
    "    plt.figure()\n",
    "    plt.imshow(matrix, interpolation='nearest', cmap=plt.cm.Blues)\n",
    "    plt.title(title)\n",
    "    plt.colorbar()\n",
    "    tick_marks = np.arange(2)\n",
    "    plt.xticks(tick_marks, [\"Aperto\", \"Non-Aperto\"], rotation=45)\n",
    "    plt.yticks(tick_marks, [\"Aperto\", \"Non-Aperto\"])\n",
    "\n",
    "    thresh = matrix.max() / 2.\n",
    "    for i, j in itertools.product(range(matrix.shape[0]), range(matrix.shape[1])):\n",
    "        plt.text(j, i, format(matrix[i, j], '.2f'),\n",
    "                 horizontalalignment=\"center\",\n",
    "                 color=\"white\" if matrix[i, j] > thresh else \"black\")\n",
    "\n",
    "    plt.ylabel('True label')\n",
    "    plt.xlabel('Predicted label')\n",
    "    plt.grid()\n",
    "    plt.tight_layout()\n",
    "    plt.plot()"
   ]
  },
  {
   "cell_type": "markdown",
   "metadata": {},
   "source": [
    "- Funzione per stampare le metriche"
   ]
  },
  {
   "cell_type": "code",
   "execution_count": 15,
   "metadata": {},
   "outputs": [],
   "source": [
    "def performance(df, title):\n",
    "    metrics = MulticlassMetrics(df)\n",
    "  \n",
    "    print('  Accuracy '+str(metrics.accuracy))\n",
    "    print('  F-1 Score         '+ str(metrics.fMeasure()))\n",
    "    print('  Precision (False) '+ str(metrics.precision(0)))\n",
    "    print('  Precision (True) '+str(metrics.precision(1)))\n",
    "    print('  Recall (False)   '+str(metrics.recall(0)))\n",
    "    print('  Recall (True)    '+str(metrics.recall(1)))\n",
    "    print('  Confusion Matrix')\n",
    "    matrix = metrics.confusionMatrix().toArray()\n",
    "    print(matrix)\n",
    "    plt_matrix(matrix, title)"
   ]
  },
  {
   "cell_type": "markdown",
   "metadata": {},
   "source": [
    "- Funzione per stampare roc_auc"
   ]
  },
  {
   "cell_type": "code",
   "execution_count": 16,
   "metadata": {},
   "outputs": [],
   "source": [
    "def roc_auc_plot(res, title):\n",
    "\n",
    "    results_list = res.collect()\n",
    "    y_score = [i[0] for i in results_list]\n",
    "    y_test = [i[1] for i in results_list]\n",
    "    \n",
    "    fpr, tpr, _ = roc_curve(y_test, y_score)\n",
    "    roc_auc = auc(fpr, tpr)\n",
    "\n",
    "    print(\"AUC MLlib: \" + str(BinaryClassificationMetrics(res).areaUnderROC))\n",
    "    %matplotlib inline\n",
    "    plt.figure()\n",
    "    plt.plot(fpr, tpr, label='ROC curve (area = %0.2f)' % roc_auc)\n",
    "    plt.plot([0, 1], [0, 1], 'k--')\n",
    "    plt.xlim([0.0, 1.0])\n",
    "    plt.ylim([0.0, 1.05])\n",
    "    plt.xlabel('False Positive Rate')\n",
    "    plt.ylabel('True Positive Rate')\n",
    "    plt.title(title)\n",
    "    plt.legend(loc=\"lower right\")\n",
    "    plt.plot()"
   ]
  },
  {
   "cell_type": "code",
   "execution_count": 17,
   "metadata": {},
   "outputs": [],
   "source": [
    "def get_labels_plot(model, data, title):    \n",
    "    # 1 - Valore target predetto\n",
    "    predictions = model.predict(data.map(lambda r: r.features))\n",
    "    # 2 - Etichette per performance\n",
    "    labels_ = predictions.zip(data.map(lambda r: r.label))\n",
    "    # 3 - Stampa Performance\n",
    "    performance(labels_, title)"
   ]
  },
  {
   "cell_type": "markdown",
   "metadata": {},
   "source": [
    "- Esecuzione del Decision Tree"
   ]
  },
  {
   "cell_type": "code",
   "execution_count": 18,
   "metadata": {},
   "outputs": [],
   "source": [
    "def exec_decisionTree(train, test, optimals):\n",
    "    model = DT.trainClassifier(train, numClasses=2, \n",
    "                                         #categoricalFeaturesInfo = categoricalFeaturesInfo,\n",
    "                                         categoricalFeaturesInfo = {},\n",
    "                                        impurity = optimals[\"impurity\"],\n",
    "                                        maxDepth=optimals[\"maxDepth\"],\n",
    "                                        maxBins=optimals[\"maxBins\"])\n",
    "\n",
    "    print(\"<--------------- Metriche per Decision Tree ---------------->\")\n",
    "    print(\"          |  TRAINING  |\")\n",
    "    get_labels_plot(model, train, \"Training cluster \")\n",
    "    print(\"          |    TEST    |\")\n",
    "    get_labels_plot(model, test, \"Test cluster \")\n",
    "    tree = model.toDebugString()    \n",
    "    for i in range(0,len(feature_columns)):\n",
    "        tree=tree.replace(\"feature \"+str(i)+\" \", str(feature_columns[i])+\" \")\n",
    "    print(tree)\n"
   ]
  },
  {
   "cell_type": "code",
   "execution_count": 19,
   "metadata": {
    "scrolled": true
   },
   "outputs": [
    {
     "name": "stdout",
     "output_type": "stream",
     "text": [
      "<--------------- Metriche per Decision Tree ---------------->\n",
      "          |  TRAINING  |\n",
      "  Accuracy 0.8578139680551206\n",
      "  F-1 Score         0.8578139680551206\n",
      "  Precision (False) 0.8904815884740557\n",
      "  Precision (True) 0.21175637393767704\n",
      "  Recall (False)   0.9596847290640395\n",
      "  Recall (True)    0.08893515764425937\n",
      "  Confusion Matrix\n",
      "[[24378.  1129.]\n",
      " [ 2950.   280.]]\n",
      "          |    TEST    |\n",
      "  Accuracy 0.8554081222356252\n",
      "  F-1 Score         0.8554081222356252\n",
      "  Precision (False) 0.8943248532289628\n",
      "  Precision (True) 0.21176470588235294\n",
      "  Recall (False)   0.9545041772611697\n",
      "  Recall (True)    0.08854532677442024\n",
      "  Confusion Matrix\n",
      "[[10550.   449.]\n",
      " [ 1276.   160.]]\n",
      "DecisionTreeModel classifier of depth 5 with 25 nodes\n",
      "  If (nr_employed <= 5087.65)\n",
      "   If (duration <= 143.5)\n",
      "    Predict: 0.0\n",
      "   Else (duration > 143.5)\n",
      "    If (pdays <= -0.5)\n",
      "     If (duration <= 217.5)\n",
      "      Predict: 0.0\n",
      "     Else (duration > 217.5)\n",
      "      If (duration <= 360.5)\n",
      "       Predict: 0.0\n",
      "      Else (duration > 360.5)\n",
      "       Predict: 1.0\n",
      "    Else (pdays > -0.5)\n",
      "     Predict: 1.0\n",
      "  Else (nr_employed > 5087.65)\n",
      "   If (duration <= 360.5)\n",
      "    If (emp_var_rate <= -0.05)\n",
      "     If (duration <= 86.5)\n",
      "      Predict: 0.0\n",
      "     Else (duration > 86.5)\n",
      "      If (cons_price_idx <= 93.4065)\n",
      "       Predict: 0.0\n",
      "      Else (cons_price_idx > 93.4065)\n",
      "       Predict: 1.0\n",
      "    Else (emp_var_rate > -0.05)\n",
      "     Predict: 0.0\n",
      "   Else (duration > 360.5)\n",
      "    If (cons_price_idx <= 93.956)\n",
      "     If (emp_var_rate <= -1.75)\n",
      "      If (pdays <= -0.5)\n",
      "       Predict: 0.0\n",
      "      Else (pdays > -0.5)\n",
      "       Predict: 1.0\n",
      "     Else (emp_var_rate > -1.75)\n",
      "      Predict: 0.0\n",
      "    Else (cons_price_idx > 93.956)\n",
      "     Predict: 0.0\n",
      "\n"
     ]
    },
    {
     "data": {
      "image/png": "[encoded data removed]",
      "text/plain": [
       "<Figure size 576x396 with 2 Axes>"
      ]
     },
     "metadata": {},
     "output_type": "display_data"
    },
    {
     "data": {
      "image/png": "[encoded data removed]",
      "text/plain": [
       "<Figure size 576x396 with 2 Axes>"
      ]
     },
     "metadata": {},
     "output_type": "display_data"
    }
   ],
   "source": [
    "exec_decisionTree(train_labeled, test_labeled, optimals)"
   ]
  },
  {
   "cell_type": "markdown",
   "metadata": {},
   "source": [
    "# Esecuzione del K-Means per ottenere i clusters (dal training)"
   ]
  },
  {
   "cell_type": "markdown",
   "metadata": {},
   "source": [
    "- MinMaxScaler"
   ]
  },
  {
   "cell_type": "code",
   "execution_count": 20,
   "metadata": {},
   "outputs": [],
   "source": [
    "features = [\"age\", \"duration\", \"campaign\",\"previous\"]"
   ]
  },
  {
   "cell_type": "code",
   "execution_count": 21,
   "metadata": {},
   "outputs": [
    {
     "data": {
      "text/plain": [
       "['age_Scaled', 'duration_Scaled', 'campaign_Scaled', 'previous_Scaled']"
      ]
     },
     "execution_count": 21,
     "metadata": {},
     "output_type": "execute_result"
    }
   ],
   "source": [
    "scaledF = []\n",
    "for i in features:\n",
    "    scaledF.append(i+str(\"_Scaled\"))\n",
    "scaledF"
   ]
  },
  {
   "cell_type": "code",
   "execution_count": 22,
   "metadata": {},
   "outputs": [],
   "source": [
    "numeric_df_withJ = train.filter(train[\"y\"] == 1.0)"
   ]
  },
  {
   "cell_type": "code",
   "execution_count": 23,
   "metadata": {},
   "outputs": [],
   "source": [
    "unlist = udf(lambda x: round(float(list(x)[0]),3), DoubleType())"
   ]
  },
  {
   "cell_type": "code",
   "execution_count": 24,
   "metadata": {},
   "outputs": [],
   "source": [
    "# Iterazione sulle colonne da normalizzare\n",
    "for i in features:\n",
    "    # VectorAssembler Transformation - Conversione da colonna a tipo vector\n",
    "    assembler = VectorAssembler(inputCols=[i],outputCol=i+\"_Vect\")\n",
    "\n",
    "    # MinMaxScaler Transformation\n",
    "    scaler = MinMaxScaler(inputCol=i+\"_Vect\", outputCol=i+\"_Scaled\")\n",
    "\n",
    "    # Pipeline of VectorAssembler and MinMaxScaler\n",
    "    pipeline = Pipeline(stages=[assembler, scaler])\n",
    "\n",
    "    # Fitting pipeline on dataframe\n",
    "    numeric_df_withJ = pipeline.fit(numeric_df_withJ).transform(numeric_df_withJ).withColumn(i+\"_Scaled\", unlist(i+\"_Scaled\")).drop(i+\"_Vect\")"
   ]
  },
  {
   "cell_type": "code",
   "execution_count": 25,
   "metadata": {},
   "outputs": [],
   "source": [
    "numeric_df_withJ = numeric_df_withJ.withColumnRenamed(\"features\",\"tt_features\")\n",
    "assembler = VectorAssembler().setInputCols(scaledF).setOutputCol(\"features\")\n",
    "transformed = assembler.transform(numeric_df_withJ)"
   ]
  },
  {
   "cell_type": "code",
   "execution_count": 26,
   "metadata": {
    "scrolled": true
   },
   "outputs": [
    {
     "name": "stdout",
     "output_type": "stream",
     "text": [
      "+---+-----------+-------+-------------------+-------+-------+-------+---------+-----+-----------+--------+--------+-----+--------+-----------+------------+--------------+-------------+---------+-----------+---+----------+---------------+---------------+---------------+--------------------+\n",
      "|age|        job|marital|          education|default|housing|   loan|  contact|month|day_of_week|duration|campaign|pdays|previous|   poutcome|emp_var_rate|cons_price_idx|cons_conf_idx|euribor3m|nr_employed|  y|age_Scaled|duration_Scaled|campaign_Scaled|previous_Scaled|            features|\n",
      "+---+-----------+-------+-------------------+-------+-------+-------+---------+-----+-----------+--------+--------+-----+--------+-----------+------------+--------------+-------------+---------+-----------+---+----------+---------------+---------------+---------------+--------------------+\n",
      "| 17|    student| single|           basic.9y|     no|unknown|unknown| cellular|  aug|        fri|     498|       2|   -1|       1|    failure|        -2.9|        92.201|        -31.4|    0.869|     5076.2|1.0|       0.0|          0.128|          0.045|          0.167|[0.0,0.128,0.045,...|\n",
      "| 18|    student| single|            unknown|     no|    yes|     no|telephone|  may|        tue|     421|       1|    3|       1|    success|        -1.8|        93.876|        -40.0|    0.668|     5008.7|1.0|     0.013|          0.106|            0.0|          0.167|[0.013,0.106,0.0,...|\n",
      "| 19|    student| single|            unknown|     no|    yes|    yes| cellular|  apr|        tue|     278|       3|   -1|       0|nonexistent|        -1.8|        93.075|        -47.1|    1.405|     5099.1|1.0|     0.027|          0.067|          0.091|            0.0|[0.027,0.067,0.09...|\n",
      "| 20|    student| single|           basic.4y|     no|    yes|     no| cellular|  aug|        wed|     131|       1|   -1|       1|    failure|        -2.9|        92.201|        -31.4|    0.879|     5076.2|1.0|      0.04|          0.026|            0.0|          0.167|[0.04,0.026,0.0,0...|\n",
      "| 20|    student| single|           basic.4y|     no|    yes|    yes| cellular|  apr|        tue|     240|       1|   -1|       1|    failure|        -1.8|        93.749|        -34.6|    0.644|     5008.7|1.0|      0.04|          0.056|            0.0|          0.167|[0.04,0.056,0.0,0...|\n",
      "| 20|    student| single|        high.school|     no|     no|     no| cellular|  nov|        wed|     229|       2|    3|       3|    success|        -3.4|        92.649|        -30.1|    0.715|     5017.5|1.0|      0.04|          0.053|          0.045|            0.5|[0.04,0.053,0.045...|\n",
      "| 20|    student| single|        high.school|     no|    yes|     no| cellular|  apr|        thu|     615|       1|   -1|       0|nonexistent|        -1.8|        93.075|        -47.1|    1.365|     5099.1|1.0|      0.04|           0.16|            0.0|            0.0| [0.04,0.16,0.0,0.0]|\n",
      "| 20|    student| single|            unknown|     no|    yes|     no|telephone|  may|        wed|     510|       4|   -1|       0|nonexistent|        -1.8|        93.876|        -40.0|    0.672|     5008.7|1.0|      0.04|          0.131|          0.136|            0.0|[0.04,0.131,0.136...|\n",
      "| 21|     admin.| single|        high.school|     no|     no|     no| cellular|  jun|        mon|     173|       1|   -1|       0|nonexistent|        -2.9|        92.963|        -40.8|     1.26|     5076.2|1.0|     0.053|          0.038|            0.0|            0.0|[0.053,0.038,0.0,...|\n",
      "| 21|    student| single|            unknown|     no|     no|     no| cellular|  may|        mon|     288|       5|   -1|       0|nonexistent|        -1.8|        92.893|        -46.2|    1.354|     5099.1|1.0|     0.053|           0.07|          0.182|            0.0|[0.053,0.07,0.182...|\n",
      "| 22|    student| single|           basic.9y|     no|     no|     no| cellular|  oct|        fri|     221|       2|    6|       1|    success|        -3.4|        92.431|        -26.9|     0.73|     5017.5|1.0|     0.067|          0.051|          0.045|          0.167|[0.067,0.051,0.04...|\n",
      "| 22|    student| single|        high.school|     no|     no|     no| cellular|  apr|        thu|     780|       1|   -1|       0|nonexistent|        -1.8|        93.075|        -47.1|    1.365|     5099.1|1.0|     0.067|          0.206|            0.0|            0.0|[0.067,0.206,0.0,...|\n",
      "| 22|    student| single|        high.school|     no|     no|    yes| cellular|  jun|        mon|     563|       1|   12|       2|    failure|        -1.7|        94.055|        -39.8|     0.72|     4991.6|1.0|     0.067|          0.146|            0.0|          0.333|[0.067,0.146,0.0,...|\n",
      "| 22|    student| single|        high.school|     no|    yes|     no| cellular|  aug|        thu|     425|       2|   -1|       0|nonexistent|        -2.9|        92.201|        -31.4|    0.873|     5076.2|1.0|     0.067|          0.108|          0.045|            0.0|[0.067,0.108,0.04...|\n",
      "| 22|    student| single|        high.school|     no|    yes|    yes| cellular|  may|        tue|     131|       2|   -1|       0|nonexistent|        -1.8|        92.893|        -46.2|    1.266|     5099.1|1.0|     0.067|          0.026|          0.045|            0.0|[0.067,0.026,0.04...|\n",
      "| 22|    student| single|professional.course|     no|     no|     no| cellular|  nov|        mon|     113|       3|   -1|       0|nonexistent|        -3.4|        92.649|        -30.1|    0.715|     5017.5|1.0|     0.067|          0.021|          0.091|            0.0|[0.067,0.021,0.09...|\n",
      "| 22|    student| single|            unknown|     no|    yes|     no| cellular|  may|        mon|     171|       2|    3|       2|    success|        -1.8|        93.876|        -40.0|    0.682|     5008.7|1.0|     0.067|          0.037|          0.045|          0.333|[0.067,0.037,0.04...|\n",
      "| 23|     admin.| single|  university.degree|     no|    yes|     no| cellular|  apr|        wed|     219|       1|   -1|       0|nonexistent|        -1.8|        93.075|        -47.1|    1.405|     5099.1|1.0|      0.08|           0.05|            0.0|            0.0| [0.08,0.05,0.0,0.0]|\n",
      "| 23|blue-collar| single|           basic.9y|     no|    yes|     no| cellular|  jul|        thu|     268|       5|   -1|       1|    failure|        -1.7|        94.215|        -40.3|    0.846|     4991.6|1.0|      0.08|          0.064|          0.182|          0.167|[0.08,0.064,0.182...|\n",
      "| 23|    student| single|        high.school|     no|     no|     no|telephone|  mar|        fri|     290|       1|    3|       1|    success|        -1.8|        93.369|        -34.8|    0.649|     5008.7|1.0|      0.08|           0.07|            0.0|          0.167|[0.08,0.07,0.0,0....|\n",
      "+---+-----------+-------+-------------------+-------+-------+-------+---------+-----+-----------+--------+--------+-----+--------+-----------+------------+--------------+-------------+---------+-----------+---+----------+---------------+---------------+---------------+--------------------+\n",
      "only showing top 20 rows\n",
      "\n"
     ]
    }
   ],
   "source": [
    "transformed.show()"
   ]
  },
  {
   "cell_type": "markdown",
   "metadata": {},
   "source": [
    "- Scelta k: wsse"
   ]
  },
  {
   "cell_type": "code",
   "execution_count": 86,
   "metadata": {},
   "outputs": [],
   "source": [
    "wssse = {}\n",
    "centers = {}\n",
    "for k in range(2, 20):\n",
    "    kmeans = KMeans(k=k, seed=1).fit(transformed.select(\"features\"))\n",
    "    wssse[k] = kmeans.computeCost(transformed.select(\"features\"))\n",
    "    centers[k] = kmeans.clusterCenters()"
   ]
  },
  {
   "cell_type": "code",
   "execution_count": 87,
   "metadata": {},
   "outputs": [
    {
     "data": {
      "image/png": "[encoded data removed]",
      "text/plain": [
       "<Figure size 576x396 with 1 Axes>"
      ]
     },
     "metadata": {},
     "output_type": "display_data"
    },
    {
     "name": "stdout",
     "output_type": "stream",
     "text": [
      "7\n"
     ]
    }
   ],
   "source": [
    "plt.figure()\n",
    "plt.style.use('seaborn-darkgrid')\n",
    "plt.xticks(range(2,20, 1))\n",
    "plt.plot(list(wssse.keys()), list(wssse.values()))\n",
    "plt.xlabel(\"k\")\n",
    "plt.ylabel(\"WSSE\")\n",
    "plt.show()\n",
    "\n",
    "kl = KneeLocator(\n",
    "    range(2, 20), list(wssse.values()), curve=\"convex\", direction=\"decreasing\"\n",
    ")\n",
    "\n",
    "print(kl.elbow)"
   ]
  },
  {
   "cell_type": "code",
   "execution_count": 88,
   "metadata": {},
   "outputs": [
    {
     "name": "stdout",
     "output_type": "stream",
     "text": [
      "k = 2| WSSSE = 161.5379234203003\n",
      "k = 3| WSSSE = 134.3948603868511\n",
      "k = 4| WSSSE = 105.12649264210155\n",
      "k = 5| WSSSE = 90.82889923839524\n",
      "k = 6| WSSSE = 81.15028099435038\n",
      "k = 7| WSSSE = 73.05986161493745\n",
      "k = 8| WSSSE = 66.3194678042402\n",
      "k = 9| WSSSE = 63.938473530954305\n",
      "k = 10| WSSSE = 60.020480140238504\n",
      "k = 11| WSSSE = 52.63451739431245\n",
      "k = 12| WSSSE = 48.564767471898946\n",
      "k = 13| WSSSE = 48.998465811292554\n",
      "k = 14| WSSSE = 46.46338977859313\n",
      "k = 15| WSSSE = 44.33313682559101\n",
      "k = 16| WSSSE = 42.12032617003526\n",
      "k = 17| WSSSE = 38.922506660449805\n",
      "k = 18| WSSSE = 37.46395972082035\n",
      "k = 19| WSSSE = 36.222259356814845\n"
     ]
    }
   ],
   "source": [
    "for i in range(2, 20):\n",
    "    print(\"k = \" + str(i) + \"| WSSSE = \" + str(wssse[i]))"
   ]
  },
  {
   "cell_type": "code",
   "execution_count": 89,
   "metadata": {},
   "outputs": [
    {
     "name": "stdout",
     "output_type": "stream",
     "text": [
      "Silhouette with squared euclidean distance  of 3  = 0.354339828643153\n",
      "Silhouette with squared euclidean distance  of 4  = 0.3995050415583894\n",
      "Silhouette with squared euclidean distance  of 5  = 0.4039326125333354\n",
      "Silhouette with squared euclidean distance  of 6  = 0.3776633171232702\n",
      "Silhouette with squared euclidean distance  of 7  = 0.38991737392380893\n",
      "Silhouette with squared euclidean distance  of 8  = 0.40700050152788847\n",
      "Silhouette with squared euclidean distance  of 9  = 0.377693402860088\n",
      "Silhouette with squared euclidean distance  of 10  = 0.3850903232424558\n",
      "Silhouette with squared euclidean distance  of 11  = 0.40823165357396085\n",
      "Silhouette with squared euclidean distance  of 12  = 0.41855593384874085\n",
      "Silhouette with squared euclidean distance  of 13  = 0.420916331240361\n",
      "Silhouette with squared euclidean distance  of 14  = 0.3837769535335197\n"
     ]
    }
   ],
   "source": [
    "for i in range(3, 15):\n",
    "    kmeans = KMeans(k=i, seed=1)\n",
    "    model = kmeans.fit(transformed)\n",
    "    predictions = model.transform(transformed)\n",
    "    evaluator = ClusteringEvaluator()\n",
    "    silhouette = evaluator.evaluate(predictions)\n",
    "    print(\"Silhouette with squared euclidean distance  of\", i,\" = \" + str(silhouette))"
   ]
  },
  {
   "cell_type": "markdown",
   "metadata": {},
   "source": [
    "- Eseguiamo il clustering con k = 7"
   ]
  },
  {
   "cell_type": "code",
   "execution_count": 27,
   "metadata": {},
   "outputs": [],
   "source": [
    "kmeans = KMeans(k=8, seed=1)\n",
    "model = kmeans.fit(transformed.select(\"features\"))"
   ]
  },
  {
   "cell_type": "code",
   "execution_count": 28,
   "metadata": {},
   "outputs": [],
   "source": [
    "predictions = model.transform(transformed)"
   ]
  },
  {
   "cell_type": "code",
   "execution_count": 29,
   "metadata": {},
   "outputs": [],
   "source": [
    "def basic_statistics(df):\n",
    "    for i in df.dtypes:\n",
    "        if(i[1] == 'int' or i[1] == 'double'):\n",
    "            df.describe(i[0]).show(truncate=False)"
   ]
  },
  {
   "cell_type": "code",
   "execution_count": 30,
   "metadata": {},
   "outputs": [],
   "source": [
    "features_tosel = [\"age\", \"job\", \"marital\", \"education\", \"default\", \n",
    "                  \"housing\", \"loan\", \"contact\", \"month\", \"day_of_week\", \n",
    "                  \"duration\", \"campaign\", \"pdays\", \"previous\", \"poutcome\",\n",
    "                  \"emp_var_rate\", \"cons_price_idx\", \"cons_conf_idx\", \"euribor3m\",\n",
    "                  \"nr_employed\"]"
   ]
  },
  {
   "cell_type": "code",
   "execution_count": 31,
   "metadata": {},
   "outputs": [],
   "source": [
    "features_numeric = [\"age\", \"duration\", \"campaign\", \"pdays\", \"previous\",\n",
    "                  \"emp_var_rate\", \"cons_price_idx\", \"cons_conf_idx\", \"euribor3m\",\n",
    "                  \"nr_employed\"]"
   ]
  },
  {
   "cell_type": "code",
   "execution_count": 32,
   "metadata": {},
   "outputs": [],
   "source": [
    "features_notnumeric = [\"job\", \"marital\", \"education\", \"default\", \n",
    "                  \"housing\", \"loan\", \"contact\", \"month\", \"day_of_week\"]"
   ]
  },
  {
   "cell_type": "code",
   "execution_count": 33,
   "metadata": {},
   "outputs": [],
   "source": [
    "dist_clusters = predictions.select(\"prediction\").distinct().rdd.map(lambda x: x[0]).collect()\n",
    "dd = {}\n",
    "for i in dist_clusters:\n",
    "    dd[i] = predictions.filter(predictions[\"prediction\"] == i).select(features_tosel)"
   ]
  },
  {
   "cell_type": "code",
   "execution_count": 34,
   "metadata": {},
   "outputs": [
    {
     "data": {
      "text/plain": [
       "{1: DataFrame[age: int, job: string, marital: string, education: string, default: string, housing: string, loan: string, contact: string, month: string, day_of_week: string, duration: int, campaign: int, pdays: int, previous: int, poutcome: string, emp_var_rate: double, cons_price_idx: double, cons_conf_idx: double, euribor3m: double, nr_employed: double],\n",
       " 6: DataFrame[age: int, job: string, marital: string, education: string, default: string, housing: string, loan: string, contact: string, month: string, day_of_week: string, duration: int, campaign: int, pdays: int, previous: int, poutcome: string, emp_var_rate: double, cons_price_idx: double, cons_conf_idx: double, euribor3m: double, nr_employed: double],\n",
       " 3: DataFrame[age: int, job: string, marital: string, education: string, default: string, housing: string, loan: string, contact: string, month: string, day_of_week: string, duration: int, campaign: int, pdays: int, previous: int, poutcome: string, emp_var_rate: double, cons_price_idx: double, cons_conf_idx: double, euribor3m: double, nr_employed: double],\n",
       " 5: DataFrame[age: int, job: string, marital: string, education: string, default: string, housing: string, loan: string, contact: string, month: string, day_of_week: string, duration: int, campaign: int, pdays: int, previous: int, poutcome: string, emp_var_rate: double, cons_price_idx: double, cons_conf_idx: double, euribor3m: double, nr_employed: double],\n",
       " 4: DataFrame[age: int, job: string, marital: string, education: string, default: string, housing: string, loan: string, contact: string, month: string, day_of_week: string, duration: int, campaign: int, pdays: int, previous: int, poutcome: string, emp_var_rate: double, cons_price_idx: double, cons_conf_idx: double, euribor3m: double, nr_employed: double],\n",
       " 2: DataFrame[age: int, job: string, marital: string, education: string, default: string, housing: string, loan: string, contact: string, month: string, day_of_week: string, duration: int, campaign: int, pdays: int, previous: int, poutcome: string, emp_var_rate: double, cons_price_idx: double, cons_conf_idx: double, euribor3m: double, nr_employed: double],\n",
       " 0: DataFrame[age: int, job: string, marital: string, education: string, default: string, housing: string, loan: string, contact: string, month: string, day_of_week: string, duration: int, campaign: int, pdays: int, previous: int, poutcome: string, emp_var_rate: double, cons_price_idx: double, cons_conf_idx: double, euribor3m: double, nr_employed: double]}"
      ]
     },
     "execution_count": 34,
     "metadata": {},
     "output_type": "execute_result"
    }
   ],
   "source": [
    "dd"
   ]
  },
  {
   "cell_type": "code",
   "execution_count": 98,
   "metadata": {
    "scrolled": true
   },
   "outputs": [
    {
     "name": "stdout",
     "output_type": "stream",
     "text": [
      "----------- Statistiche cluster n°: 1 --------\n",
      "+-------+-----------------+\n",
      "|summary|age              |\n",
      "+-------+-----------------+\n",
      "|count  |293              |\n",
      "|mean   |70.72013651877133|\n",
      "|stddev |8.407647202883103|\n",
      "|min    |58               |\n",
      "|max    |92               |\n",
      "+-------+-----------------+\n",
      "\n",
      "+-------+------------------+\n",
      "|summary|duration          |\n",
      "+-------+------------------+\n",
      "|count  |293               |\n",
      "|mean   |334.51194539249144|\n",
      "|stddev |227.10127793346012|\n",
      "|min    |63                |\n",
      "|max    |1962              |\n",
      "+-------+------------------+\n",
      "\n",
      "+-------+------------------+\n",
      "|summary|campaign          |\n",
      "+-------+------------------+\n",
      "|count  |293               |\n",
      "|mean   |1.8361774744027304|\n",
      "|stddev |1.3320811284522167|\n",
      "|min    |1                 |\n",
      "|max    |11                |\n",
      "+-------+------------------+\n",
      "\n",
      "+-------+------------------+\n",
      "|summary|pdays             |\n",
      "+-------+------------------+\n",
      "|count  |293               |\n",
      "|mean   |1.9044368600682593|\n",
      "|stddev |4.186297049491577 |\n",
      "|min    |-1                |\n",
      "|max    |25                |\n",
      "+-------+------------------+\n",
      "\n",
      "+-------+------------------+\n",
      "|summary|previous          |\n",
      "+-------+------------------+\n",
      "|count  |293               |\n",
      "|mean   |0.8907849829351536|\n",
      "|stddev |0.8570919282506081|\n",
      "|min    |0                 |\n",
      "|max    |4                 |\n",
      "+-------+------------------+\n",
      "\n",
      "+-------+-------------------+\n",
      "|summary|emp_var_rate       |\n",
      "+-------+-------------------+\n",
      "|count  |293                |\n",
      "|mean   |-2.2959044368600683|\n",
      "|stddev |0.8043015461490676 |\n",
      "|min    |-3.4               |\n",
      "|max    |-1.1               |\n",
      "+-------+-------------------+\n",
      "\n",
      "+-------+-----------------+\n",
      "|summary|cons_price_idx   |\n",
      "+-------+-----------------+\n",
      "|count  |293              |\n",
      "|mean   |93.22476109215016|\n",
      "|stddev |0.759752490510667|\n",
      "|min    |92.201           |\n",
      "|max    |94.767           |\n",
      "+-------+-----------------+\n",
      "\n",
      "+-------+------------------+\n",
      "|summary|cons_conf_idx     |\n",
      "+-------+------------------+\n",
      "|count  |293               |\n",
      "|mean   |-36.96757679180886|\n",
      "|stddev |7.023361696432242 |\n",
      "|min    |-50.8             |\n",
      "|max    |-26.9             |\n",
      "+-------+------------------+\n",
      "\n",
      "+-------+------------------+\n",
      "|summary|euribor3m         |\n",
      "+-------+------------------+\n",
      "|count  |293               |\n",
      "|mean   |0.895706484641638 |\n",
      "|stddev |0.2730092248283327|\n",
      "|min    |0.634             |\n",
      "|max    |1.811             |\n",
      "+-------+------------------+\n",
      "\n",
      "+-------+-----------------+\n",
      "|summary|nr_employed      |\n",
      "+-------+-----------------+\n",
      "|count  |293              |\n",
      "|mean   |5026.404778156999|\n",
      "|stddev |42.14981976068402|\n",
      "|min    |4963.6           |\n",
      "|max    |5099.1           |\n",
      "+-------+-----------------+\n",
      "\n",
      "----------- Statistiche cluster n°: 6 --------\n",
      "+-------+------------------+\n",
      "|summary|age               |\n",
      "+-------+------------------+\n",
      "|count  |177               |\n",
      "|mean   |42.53107344632768 |\n",
      "|stddev |11.944968295946454|\n",
      "|min    |19                |\n",
      "|max    |80                |\n",
      "+-------+------------------+\n",
      "\n",
      "+-------+-----------------+\n",
      "|summary|duration         |\n",
      "+-------+-----------------+\n",
      "|count  |177              |\n",
      "|mean   |347.7570621468927|\n",
      "|stddev |198.0757223443324|\n",
      "|min    |89               |\n",
      "|max    |1042             |\n",
      "+-------+-----------------+\n",
      "\n",
      "+-------+------------------+\n",
      "|summary|campaign          |\n",
      "+-------+------------------+\n",
      "|count  |177               |\n",
      "|mean   |1.7231638418079096|\n",
      "|stddev |1.1012261457755632|\n",
      "|min    |1                 |\n",
      "|max    |7                 |\n",
      "+-------+------------------+\n",
      "\n",
      "+-------+-----------------+\n",
      "|summary|pdays            |\n",
      "+-------+-----------------+\n",
      "|count  |177              |\n",
      "|mean   |4.966101694915254|\n",
      "|stddev |3.687969238379809|\n",
      "|min    |-1               |\n",
      "|max    |18               |\n",
      "+-------+-----------------+\n",
      "\n",
      "+-------+-----------------+\n",
      "|summary|previous         |\n",
      "+-------+-----------------+\n",
      "|count  |177              |\n",
      "|mean   |3.016949152542373|\n",
      "|stddev |0.956286474474821|\n",
      "|min    |2                |\n",
      "|max    |6                |\n",
      "+-------+-----------------+\n",
      "\n",
      "+-------+-------------------+\n",
      "|summary|emp_var_rate       |\n",
      "+-------+-------------------+\n",
      "|count  |177                |\n",
      "|mean   |-1.8581920903954805|\n",
      "|stddev |0.7146622750901873 |\n",
      "|min    |-3.4               |\n",
      "|max    |-1.1               |\n",
      "+-------+-------------------+\n",
      "\n",
      "+-------+------------------+\n",
      "|summary|cons_price_idx    |\n",
      "+-------+------------------+\n",
      "|count  |177               |\n",
      "|mean   |93.73456497175144 |\n",
      "|stddev |0.7289387191431479|\n",
      "|min    |92.201            |\n",
      "|max    |94.767            |\n",
      "+-------+------------------+\n",
      "\n",
      "+-------+-------------------+\n",
      "|summary|cons_conf_idx      |\n",
      "+-------+-------------------+\n",
      "|count  |177                |\n",
      "|mean   |-38.535028248587565|\n",
      "|stddev |5.944393283160133  |\n",
      "|min    |-50.8              |\n",
      "|max    |-26.9              |\n",
      "+-------+-------------------+\n",
      "\n",
      "+-------+-------------------+\n",
      "|summary|euribor3m          |\n",
      "+-------+-------------------+\n",
      "|count  |177                |\n",
      "|mean   |0.8340169491525423 |\n",
      "|stddev |0.15536011958204893|\n",
      "|min    |0.638              |\n",
      "|max    |1.445              |\n",
      "+-------+-------------------+\n",
      "\n",
      "+-------+-----------------+\n",
      "|summary|nr_employed      |\n",
      "+-------+-----------------+\n",
      "|count  |177              |\n",
      "|mean   |5000.76384180791 |\n",
      "|stddev |33.18543702606893|\n",
      "|min    |4963.6           |\n",
      "|max    |5099.1           |\n",
      "+-------+-----------------+\n",
      "\n",
      "----------- Statistiche cluster n°: 3 --------\n",
      "+-------+-----------------+\n",
      "|summary|age              |\n",
      "+-------+-----------------+\n",
      "|count  |235              |\n",
      "|mean   |42.92340425531915|\n",
      "|stddev |7.648423466565736|\n",
      "|min    |25               |\n",
      "|max    |60               |\n",
      "+-------+-----------------+\n",
      "\n",
      "+-------+------------------+\n",
      "|summary|duration          |\n",
      "+-------+------------------+\n",
      "|count  |235               |\n",
      "|mean   |1477.540425531915 |\n",
      "|stddev |436.28400911178915|\n",
      "|min    |955               |\n",
      "|max    |3643              |\n",
      "+-------+------------------+\n",
      "\n",
      "+-------+-----------------+\n",
      "|summary|campaign         |\n",
      "+-------+-----------------+\n",
      "|count  |235              |\n",
      "|mean   |2.795744680851064|\n",
      "|stddev |2.518475105616586|\n",
      "|min    |1                |\n",
      "|max    |17               |\n",
      "+-------+-----------------+\n",
      "\n",
      "+-------+------------------+\n",
      "|summary|pdays             |\n",
      "+-------+------------------+\n",
      "|count  |235               |\n",
      "|mean   |-0.676595744680851|\n",
      "|stddev |1.789596331072162 |\n",
      "|min    |-1                |\n",
      "|max    |12                |\n",
      "+-------+------------------+\n",
      "\n",
      "+-------+------------------+\n",
      "|summary|previous          |\n",
      "+-------+------------------+\n",
      "|count  |235               |\n",
      "|mean   |0.1148936170212766|\n",
      "|stddev |0.3452849209978408|\n",
      "|min    |0                 |\n",
      "|max    |2                 |\n",
      "+-------+------------------+\n",
      "\n",
      "+-------+-------------------+\n",
      "|summary|emp_var_rate       |\n",
      "+-------+-------------------+\n",
      "|count  |235                |\n",
      "|mean   |0.31829787234042545|\n",
      "|stddev |1.464233586680409  |\n",
      "|min    |-3.4               |\n",
      "|max    |1.4                |\n",
      "+-------+-------------------+\n",
      "\n",
      "+-------+-----------------+\n",
      "|summary|cons_price_idx   |\n",
      "+-------+-----------------+\n",
      "|count  |235              |\n",
      "|mean   |93.67309361702128|\n",
      "|stddev |0.545035221713057|\n",
      "|min    |92.201           |\n",
      "|max    |94.767           |\n",
      "+-------+-----------------+\n",
      "\n",
      "+-------+-------------------+\n",
      "|summary|cons_conf_idx      |\n",
      "+-------+-------------------+\n",
      "|count  |235                |\n",
      "|mean   |-40.977446808510635|\n",
      "|stddev |4.329372187607025  |\n",
      "|min    |-50.8              |\n",
      "|max    |-26.9              |\n",
      "+-------+-------------------+\n",
      "\n",
      "+-------+------------------+\n",
      "|summary|euribor3m         |\n",
      "+-------+------------------+\n",
      "|count  |235               |\n",
      "|mean   |3.833131914893617 |\n",
      "|stddev |1.6539219807540895|\n",
      "|min    |0.639             |\n",
      "|max    |5.0               |\n",
      "+-------+------------------+\n",
      "\n",
      "+-------+-----------------+\n",
      "|summary|nr_employed      |\n",
      "+-------+-----------------+\n",
      "|count  |235              |\n",
      "|mean   |5176.088085106385|\n",
      "|stddev |71.23397305540168|\n",
      "|min    |4963.6           |\n",
      "|max    |5228.1           |\n",
      "+-------+-----------------+\n",
      "\n",
      "----------- Statistiche cluster n°: 5 --------\n",
      "+-------+------------------+\n",
      "|summary|age               |\n",
      "+-------+------------------+\n",
      "|count  |542               |\n",
      "|mean   |31.710332103321033|\n",
      "|stddev |5.9005188124005175|\n",
      "|min    |17                |\n",
      "|max    |44                |\n",
      "+-------+------------------+\n",
      "\n"
     ]
    },
    {
     "name": "stdout",
     "output_type": "stream",
     "text": [
      "+-------+------------------+\n",
      "|summary|duration          |\n",
      "+-------+------------------+\n",
      "|count  |542               |\n",
      "|mean   |372.6826568265683 |\n",
      "|stddev |220.22671655754974|\n",
      "|min    |71                |\n",
      "|max    |1370              |\n",
      "+-------+------------------+\n",
      "\n",
      "+-------+------------------+\n",
      "|summary|campaign          |\n",
      "+-------+------------------+\n",
      "|count  |542               |\n",
      "|mean   |1.6918819188191883|\n",
      "|stddev |1.0078658116778203|\n",
      "|min    |1                 |\n",
      "|max    |7                 |\n",
      "+-------+------------------+\n",
      "\n",
      "+-------+-----------------+\n",
      "|summary|pdays            |\n",
      "+-------+-----------------+\n",
      "|count  |542              |\n",
      "|mean   |3.503690036900369|\n",
      "|stddev |4.731905436202723|\n",
      "|min    |-1               |\n",
      "|max    |27               |\n",
      "+-------+-----------------+\n",
      "\n",
      "+-------+------------------+\n",
      "|summary|previous          |\n",
      "+-------+------------------+\n",
      "|count  |542               |\n",
      "|mean   |1.2527675276752768|\n",
      "|stddev |0.4350002628347881|\n",
      "|min    |1                 |\n",
      "|max    |2                 |\n",
      "+-------+------------------+\n",
      "\n",
      "+-------+-------------------+\n",
      "|summary|emp_var_rate       |\n",
      "+-------+-------------------+\n",
      "|count  |542                |\n",
      "|mean   |-2.1311808118081186|\n",
      "|stddev |0.8154277698473094 |\n",
      "|min    |-3.4               |\n",
      "|max    |-0.1               |\n",
      "+-------+-------------------+\n",
      "\n",
      "+-------+------------------+\n",
      "|summary|cons_price_idx    |\n",
      "+-------+------------------+\n",
      "|count  |542               |\n",
      "|mean   |93.27024907749076 |\n",
      "|stddev |0.7475343863214438|\n",
      "|min    |92.201            |\n",
      "|max    |94.767            |\n",
      "+-------+------------------+\n",
      "\n",
      "+-------+-------------------+\n",
      "|summary|cons_conf_idx      |\n",
      "+-------+-------------------+\n",
      "|count  |542                |\n",
      "|mean   |-38.434132841328434|\n",
      "|stddev |6.798999402086047  |\n",
      "|min    |-50.8              |\n",
      "|max    |-26.9              |\n",
      "+-------+-------------------+\n",
      "\n",
      "+-------+------------------+\n",
      "|summary|euribor3m         |\n",
      "+-------+------------------+\n",
      "|count  |542               |\n",
      "|mean   |0.9967952029520296|\n",
      "|stddev |0.5032021754026861|\n",
      "|min    |0.635             |\n",
      "|max    |4.968             |\n",
      "+-------+------------------+\n",
      "\n",
      "+-------+-----------------+\n",
      "|summary|nr_employed      |\n",
      "+-------+-----------------+\n",
      "|count  |542              |\n",
      "|mean   |5034.470664206641|\n",
      "|stddev |51.98712096234573|\n",
      "|min    |4963.6           |\n",
      "|max    |5195.8           |\n",
      "+-------+-----------------+\n",
      "\n",
      "----------- Statistiche cluster n°: 4 --------\n",
      "+-------+-----------------+\n",
      "|summary|age              |\n",
      "+-------+-----------------+\n",
      "|count  |804              |\n",
      "|mean   |31.33582089552239|\n",
      "|stddev |5.27657578385366 |\n",
      "|min    |18               |\n",
      "|max    |42               |\n",
      "+-------+-----------------+\n",
      "\n",
      "+-------+------------------+\n",
      "|summary|duration          |\n",
      "+-------+------------------+\n",
      "|count  |804               |\n",
      "|mean   |341.4651741293532 |\n",
      "|stddev |161.38805605960872|\n",
      "|min    |37                |\n",
      "|max    |728               |\n",
      "+-------+------------------+\n",
      "\n",
      "+-------+------------------+\n",
      "|summary|campaign          |\n",
      "+-------+------------------+\n",
      "|count  |804               |\n",
      "|mean   |1.6455223880597014|\n",
      "|stddev |0.9993608671101256|\n",
      "|min    |1                 |\n",
      "|max    |7                 |\n",
      "+-------+------------------+\n",
      "\n",
      "+-------+-----+\n",
      "|summary|pdays|\n",
      "+-------+-----+\n",
      "|count  |804  |\n",
      "|mean   |-1.0 |\n",
      "|stddev |0.0  |\n",
      "|min    |-1   |\n",
      "|max    |-1   |\n",
      "+-------+-----+\n",
      "\n",
      "+-------+--------+\n",
      "|summary|previous|\n",
      "+-------+--------+\n",
      "|count  |804     |\n",
      "|mean   |0.0     |\n",
      "|stddev |0.0     |\n",
      "|min    |0       |\n",
      "|max    |0       |\n",
      "+-------+--------+\n",
      "\n",
      "+-------+-------------------+\n",
      "|summary|emp_var_rate       |\n",
      "+-------+-------------------+\n",
      "|count  |804                |\n",
      "|mean   |-1.5944029850746282|\n",
      "|stddev |1.4153511740004678 |\n",
      "|min    |-3.4               |\n",
      "|max    |1.4                |\n",
      "+-------+-------------------+\n",
      "\n",
      "+-------+------------------+\n",
      "|summary|cons_price_idx    |\n",
      "+-------+------------------+\n",
      "|count  |804               |\n",
      "|mean   |93.19246641791048 |\n",
      "|stddev |0.6020676061355275|\n",
      "|min    |92.201            |\n",
      "|max    |94.767            |\n",
      "+-------+------------------+\n",
      "\n",
      "+-------+-------------------+\n",
      "|summary|cons_conf_idx      |\n",
      "+-------+-------------------+\n",
      "|count  |804                |\n",
      "|mean   |-40.809825870646776|\n",
      "|stddev |6.464035225907323  |\n",
      "|min    |-50.8              |\n",
      "|max    |-26.9              |\n",
      "+-------+-------------------+\n",
      "\n",
      "+-------+------------------+\n",
      "|summary|euribor3m         |\n",
      "+-------+------------------+\n",
      "|count  |804               |\n",
      "|mean   |1.8799975124378108|\n",
      "|stddev |1.5069059812600918|\n",
      "|min    |0.635             |\n",
      "|max    |5.045             |\n",
      "+-------+------------------+\n",
      "\n",
      "+-------+-----------------+\n",
      "|summary|nr_employed      |\n",
      "+-------+-----------------+\n",
      "|count  |804              |\n",
      "|mean   |5092.007587064671|\n",
      "|stddev |73.62011799093985|\n",
      "|min    |4963.6           |\n",
      "|max    |5228.1           |\n",
      "+-------+-----------------+\n",
      "\n",
      "----------- Statistiche cluster n°: 2 --------\n",
      "+-------+-----------------+\n",
      "|summary|age              |\n",
      "+-------+-----------------+\n",
      "|count  |567              |\n",
      "|mean   |33.27336860670194|\n",
      "|stddev |4.90233734293752 |\n",
      "|min    |19               |\n",
      "|max    |47               |\n",
      "+-------+-----------------+\n",
      "\n",
      "+-------+------------------+\n",
      "|summary|duration          |\n",
      "+-------+------------------+\n",
      "|count  |567               |\n",
      "|mean   |857.8077601410935 |\n",
      "|stddev |222.06501151457226|\n",
      "|min    |207               |\n",
      "|max    |1594              |\n",
      "+-------+------------------+\n",
      "\n",
      "+-------+------------------+\n",
      "|summary|campaign          |\n",
      "+-------+------------------+\n",
      "|count  |567               |\n",
      "|mean   |2.8077601410934743|\n",
      "|stddev |2.496657077829109 |\n",
      "|min    |1                 |\n",
      "|max    |23                |\n",
      "+-------+------------------+\n",
      "\n",
      "+-------+-------------------+\n",
      "|summary|pdays              |\n",
      "+-------+-------------------+\n",
      "|count  |567                |\n",
      "|mean   |-0.9647266313932981|\n",
      "|stddev |0.42719922080240286|\n",
      "|min    |-1                 |\n",
      "|max    |5                  |\n",
      "+-------+-------------------+\n",
      "\n",
      "+-------+--------------------+\n",
      "|summary|previous            |\n",
      "+-------+--------------------+\n",
      "|count  |567                 |\n",
      "|mean   |0.029982363315696647|\n",
      "|stddev |0.17068920687058114 |\n",
      "|min    |0                   |\n",
      "|max    |1                   |\n",
      "+-------+--------------------+\n",
      "\n",
      "+-------+------------------+\n",
      "|summary|emp_var_rate      |\n",
      "+-------+------------------+\n",
      "|count  |567               |\n",
      "|mean   |0.0959435626102292|\n",
      "|stddev |1.5607264041048228|\n",
      "|min    |-3.4              |\n",
      "|max    |1.4               |\n",
      "+-------+------------------+\n",
      "\n",
      "+-------+-----------------+\n",
      "|summary|cons_price_idx   |\n",
      "+-------+-----------------+\n",
      "|count  |567              |\n",
      "|mean   |93.5744656084656 |\n",
      "|stddev |0.562072821821767|\n",
      "|min    |92.201           |\n",
      "|max    |94.767           |\n",
      "+-------+-----------------+\n",
      "\n",
      "+-------+-----------------+\n",
      "|summary|cons_conf_idx    |\n",
      "+-------+-----------------+\n",
      "|count  |567              |\n",
      "|mean   |-41.3137566137566|\n",
      "|stddev |4.401488002971851|\n",
      "|min    |-50.8            |\n",
      "|max    |-26.9            |\n",
      "+-------+-----------------+\n",
      "\n",
      "+-------+------------------+\n",
      "|summary|euribor3m         |\n",
      "+-------+------------------+\n",
      "|count  |567               |\n",
      "|mean   |3.5827460317460322|\n",
      "|stddev |1.752769127361444 |\n",
      "|min    |0.644             |\n",
      "|max    |5.0               |\n",
      "+-------+------------------+\n",
      "\n",
      "+-------+------------------+\n",
      "|summary|nr_employed       |\n",
      "+-------+------------------+\n",
      "|count  |567               |\n",
      "|mean   |5168.7543209876485|\n",
      "|stddev |71.17868381673455 |\n",
      "|min    |4963.6            |\n",
      "|max    |5228.1            |\n",
      "+-------+------------------+\n",
      "\n",
      "----------- Statistiche cluster n°: 0 --------\n",
      "+-------+-----------------+\n",
      "|summary|age              |\n",
      "+-------+-----------------+\n",
      "|count  |661              |\n",
      "|mean   |51.58850226928896|\n",
      "|stddev |5.315795874909701|\n",
      "|min    |42               |\n",
      "|max    |66               |\n",
      "+-------+-----------------+\n",
      "\n",
      "+-------+------------------+\n",
      "|summary|duration          |\n",
      "+-------+------------------+\n",
      "|count  |661               |\n",
      "|mean   |502.56127080181545|\n",
      "|stddev |259.53635457534926|\n",
      "|min    |82                |\n",
      "|max    |1260              |\n",
      "+-------+------------------+\n",
      "\n",
      "+-------+------------------+\n",
      "|summary|campaign          |\n",
      "+-------+------------------+\n",
      "|count  |661               |\n",
      "|mean   |2.0408472012102874|\n",
      "|stddev |1.4790953037334158|\n",
      "|min    |1                 |\n",
      "|max    |9                 |\n",
      "+-------+------------------+\n",
      "\n"
     ]
    },
    {
     "name": "stdout",
     "output_type": "stream",
     "text": [
      "+-------+--------------------+\n",
      "|summary|pdays               |\n",
      "+-------+--------------------+\n",
      "|count  |661                 |\n",
      "|mean   |-0.34190620272314676|\n",
      "|stddev |2.2417286343303506  |\n",
      "|min    |-1                  |\n",
      "|max    |16                  |\n",
      "+-------+--------------------+\n",
      "\n",
      "+-------+-------------------+\n",
      "|summary|previous           |\n",
      "+-------+-------------------+\n",
      "|count  |661                |\n",
      "|mean   |0.2042360060514372 |\n",
      "|stddev |0.40344752800471473|\n",
      "|min    |0                  |\n",
      "|max    |1                  |\n",
      "+-------+-------------------+\n",
      "\n",
      "+-------+-------------------+\n",
      "|summary|emp_var_rate       |\n",
      "+-------+-------------------+\n",
      "|count  |661                |\n",
      "|mean   |-1.1261724659606653|\n",
      "|stddev |1.72530946558251   |\n",
      "|min    |-3.4               |\n",
      "|max    |1.4                |\n",
      "+-------+-------------------+\n",
      "\n",
      "+-------+------------------+\n",
      "|summary|cons_price_idx    |\n",
      "+-------+------------------+\n",
      "|count  |661               |\n",
      "|mean   |93.28712254160362 |\n",
      "|stddev |0.6469150301028166|\n",
      "|min    |92.201            |\n",
      "|max    |94.767            |\n",
      "+-------+------------------+\n",
      "\n",
      "+-------+------------------+\n",
      "|summary|cons_conf_idx     |\n",
      "+-------+------------------+\n",
      "|count  |661               |\n",
      "|mean   |-39.40468986384266|\n",
      "|stddev |5.952302261669505 |\n",
      "|min    |-50.8             |\n",
      "|max    |-26.9             |\n",
      "+-------+------------------+\n",
      "\n",
      "+-------+------------------+\n",
      "|summary|euribor3m         |\n",
      "+-------+------------------+\n",
      "|count  |661               |\n",
      "|mean   |2.3414220877458396|\n",
      "|stddev |1.815131581855923 |\n",
      "|min    |0.634             |\n",
      "|max    |5.045             |\n",
      "+-------+------------------+\n",
      "\n",
      "+-------+-----------------+\n",
      "|summary|nr_employed      |\n",
      "+-------+-----------------+\n",
      "|count  |661              |\n",
      "|mean   |5109.666111951585|\n",
      "|stddev |84.99951640600156|\n",
      "|min    |4963.6           |\n",
      "|max    |5228.1           |\n",
      "+-------+-----------------+\n",
      "\n"
     ]
    }
   ],
   "source": [
    "for i in dist_clusters:\n",
    "    print(\"----------- Statistiche cluster n°: \" + str(i) + \" --------\")\n",
    "    basic_statistics(dd[i].select(features_numeric))"
   ]
  },
  {
   "cell_type": "code",
   "execution_count": 99,
   "metadata": {
    "scrolled": true
   },
   "outputs": [
    {
     "name": "stdout",
     "output_type": "stream",
     "text": [
      "----------- Info categorici cluster n°: 1 --------\n",
      "<<-- feature:job\n",
      "+-------------+------------------------------------------------------------------------+\n",
      "|          job|((CAST(count(1) AS DOUBLE) / CAST(293 AS DOUBLE)) * CAST(100 AS DOUBLE))|\n",
      "+-------------+------------------------------------------------------------------------+\n",
      "|   management|                                                       4.778156996587031|\n",
      "|      retired|                                                       73.37883959044369|\n",
      "|      unknown|                                                      1.3651877133105803|\n",
      "|self-employed|                                                      0.3412969283276451|\n",
      "|  blue-collar|                                                      1.3651877133105803|\n",
      "| entrepreneur|                                                       1.023890784982935|\n",
      "|       admin.|                                                       7.508532423208192|\n",
      "|   technician|                                                      3.0716723549488054|\n",
      "|     services|                                                      0.3412969283276451|\n",
      "|    housemaid|                                                       5.802047781569966|\n",
      "|   unemployed|                                                       1.023890784982935|\n",
      "+-------------+------------------------------------------------------------------------+\n",
      "\n",
      "<<-- feature:marital\n",
      "+--------+------------------------------------------------------------------------+\n",
      "| marital|((CAST(count(1) AS DOUBLE) / CAST(293 AS DOUBLE)) * CAST(100 AS DOUBLE))|\n",
      "+--------+------------------------------------------------------------------------+\n",
      "| unknown|                                                      0.3412969283276451|\n",
      "|divorced|                                                      23.208191126279864|\n",
      "| married|                                                       74.06143344709898|\n",
      "|  single|                                                      2.3890784982935154|\n",
      "+--------+------------------------------------------------------------------------+\n",
      "\n",
      "<<-- feature:education\n",
      "+-------------------+------------------------------------------------------------------------+\n",
      "|          education|((CAST(count(1) AS DOUBLE) / CAST(293 AS DOUBLE)) * CAST(100 AS DOUBLE))|\n",
      "+-------------------+------------------------------------------------------------------------+\n",
      "|        high.school|                                                       8.873720136518772|\n",
      "|            unknown|                                                      13.651877133105803|\n",
      "|           basic.6y|                                                      1.7064846416382253|\n",
      "|professional.course|                                                      11.945392491467576|\n",
      "|  university.degree|                                                      18.771331058020476|\n",
      "|           basic.4y|                                                       42.32081911262799|\n",
      "|           basic.9y|                                                      2.7303754266211606|\n",
      "+-------------------+------------------------------------------------------------------------+\n",
      "\n",
      "<<-- feature:default\n",
      "+-------+------------------------------------------------------------------------+\n",
      "|default|((CAST(count(1) AS DOUBLE) / CAST(293 AS DOUBLE)) * CAST(100 AS DOUBLE))|\n",
      "+-------+------------------------------------------------------------------------+\n",
      "|unknown|                                                       5.802047781569966|\n",
      "|     no|                                                       94.19795221843003|\n",
      "+-------+------------------------------------------------------------------------+\n",
      "\n",
      "<<-- feature:housing\n",
      "+-------+------------------------------------------------------------------------+\n",
      "|housing|((CAST(count(1) AS DOUBLE) / CAST(293 AS DOUBLE)) * CAST(100 AS DOUBLE))|\n",
      "+-------+------------------------------------------------------------------------+\n",
      "|unknown|                                                      2.3890784982935154|\n",
      "|     no|                                                       45.73378839590443|\n",
      "|    yes|                                                      51.877133105802045|\n",
      "+-------+------------------------------------------------------------------------+\n",
      "\n",
      "<<-- feature:loan\n",
      "+-------+------------------------------------------------------------------------+\n",
      "|   loan|((CAST(count(1) AS DOUBLE) / CAST(293 AS DOUBLE)) * CAST(100 AS DOUBLE))|\n",
      "+-------+------------------------------------------------------------------------+\n",
      "|unknown|                                                      2.3890784982935154|\n",
      "|     no|                                                       83.27645051194538|\n",
      "|    yes|                                                      14.334470989761092|\n",
      "+-------+------------------------------------------------------------------------+\n",
      "\n",
      "<<-- feature:contact\n",
      "+---------+------------------------------------------------------------------------+\n",
      "|  contact|((CAST(count(1) AS DOUBLE) / CAST(293 AS DOUBLE)) * CAST(100 AS DOUBLE))|\n",
      "+---------+------------------------------------------------------------------------+\n",
      "| cellular|                                                       92.83276450511946|\n",
      "|telephone|                                                       7.167235494880546|\n",
      "+---------+------------------------------------------------------------------------+\n",
      "\n",
      "<<-- feature:month\n",
      "+-----+------------------------------------------------------------------------+\n",
      "|month|((CAST(count(1) AS DOUBLE) / CAST(293 AS DOUBLE)) * CAST(100 AS DOUBLE))|\n",
      "+-----+------------------------------------------------------------------------+\n",
      "|  jun|                                                       4.778156996587031|\n",
      "|  aug|                                                      14.334470989761092|\n",
      "|  may|                                                       7.508532423208192|\n",
      "|  sep|                                                      10.921501706484642|\n",
      "|  mar|                                                       9.556313993174061|\n",
      "|  oct|                                                      11.945392491467576|\n",
      "|  jul|                                                       9.215017064846416|\n",
      "|  nov|                                                      11.604095563139932|\n",
      "|  apr|                                                      15.699658703071673|\n",
      "|  dec|                                                       4.436860068259386|\n",
      "+-----+------------------------------------------------------------------------+\n",
      "\n",
      "<<-- feature:day_of_week\n",
      "+-----------+------------------------------------------------------------------------+\n",
      "|day_of_week|((CAST(count(1) AS DOUBLE) / CAST(293 AS DOUBLE)) * CAST(100 AS DOUBLE))|\n",
      "+-----------+------------------------------------------------------------------------+\n",
      "|        fri|                                                       16.38225255972696|\n",
      "|        thu|                                                       18.43003412969283|\n",
      "|        tue|                                                       27.64505119453925|\n",
      "|        wed|                                                      18.771331058020476|\n",
      "|        mon|                                                      18.771331058020476|\n",
      "+-----------+------------------------------------------------------------------------+\n",
      "\n",
      "----------- Info categorici cluster n°: 6 --------\n",
      "<<-- feature:job\n",
      "+-------------+------------------------------------------------------------------------+\n",
      "|          job|((CAST(count(1) AS DOUBLE) / CAST(177 AS DOUBLE)) * CAST(100 AS DOUBLE))|\n",
      "+-------------+------------------------------------------------------------------------+\n",
      "|   management|                                                        9.03954802259887|\n",
      "|      retired|                                                       3.954802259887006|\n",
      "|      unknown|                                                      1.1299435028248588|\n",
      "|self-employed|                                                       1.694915254237288|\n",
      "|      student|                                                       10.16949152542373|\n",
      "|  blue-collar|                                                        8.47457627118644|\n",
      "| entrepreneur|                                                       2.824858757062147|\n",
      "|       admin.|                                                      34.463276836158194|\n",
      "|   technician|                                                       17.51412429378531|\n",
      "|     services|                                                       3.389830508474576|\n",
      "|    housemaid|                                                      2.2598870056497176|\n",
      "|   unemployed|                                                       5.084745762711865|\n",
      "+-------------+------------------------------------------------------------------------+\n",
      "\n"
     ]
    },
    {
     "name": "stdout",
     "output_type": "stream",
     "text": [
      "<<-- feature:marital\n",
      "+--------+------------------------------------------------------------------------+\n",
      "| marital|((CAST(count(1) AS DOUBLE) / CAST(177 AS DOUBLE)) * CAST(100 AS DOUBLE))|\n",
      "+--------+------------------------------------------------------------------------+\n",
      "|divorced|                                                      12.429378531073446|\n",
      "| married|                                                      61.016949152542374|\n",
      "|  single|                                                       26.55367231638418|\n",
      "+--------+------------------------------------------------------------------------+\n",
      "\n",
      "<<-- feature:education\n",
      "+-------------------+------------------------------------------------------------------------+\n",
      "|          education|((CAST(count(1) AS DOUBLE) / CAST(177 AS DOUBLE)) * CAST(100 AS DOUBLE))|\n",
      "+-------------------+------------------------------------------------------------------------+\n",
      "|        high.school|                                                       18.07909604519774|\n",
      "|            unknown|                                                       7.909604519774012|\n",
      "|           basic.6y|                                                       3.389830508474576|\n",
      "|professional.course|                                                      14.124293785310735|\n",
      "|  university.degree|                                                       45.76271186440678|\n",
      "|           basic.4y|                                                       3.954802259887006|\n",
      "|           basic.9y|                                                       6.779661016949152|\n",
      "+-------------------+------------------------------------------------------------------------+\n",
      "\n",
      "<<-- feature:default\n",
      "+-------+------------------------------------------------------------------------+\n",
      "|default|((CAST(count(1) AS DOUBLE) / CAST(177 AS DOUBLE)) * CAST(100 AS DOUBLE))|\n",
      "+-------+------------------------------------------------------------------------+\n",
      "|unknown|                                                       1.694915254237288|\n",
      "|     no|                                                       98.30508474576271|\n",
      "+-------+------------------------------------------------------------------------+\n",
      "\n",
      "<<-- feature:housing\n",
      "+-------+------------------------------------------------------------------------+\n",
      "|housing|((CAST(count(1) AS DOUBLE) / CAST(177 AS DOUBLE)) * CAST(100 AS DOUBLE))|\n",
      "+-------+------------------------------------------------------------------------+\n",
      "|unknown|                                                       4.519774011299435|\n",
      "|     no|                                                       41.24293785310734|\n",
      "|    yes|                                                       54.23728813559322|\n",
      "+-------+------------------------------------------------------------------------+\n",
      "\n",
      "<<-- feature:loan\n",
      "+-------+------------------------------------------------------------------------+\n",
      "|   loan|((CAST(count(1) AS DOUBLE) / CAST(177 AS DOUBLE)) * CAST(100 AS DOUBLE))|\n",
      "+-------+------------------------------------------------------------------------+\n",
      "|unknown|                                                       4.519774011299435|\n",
      "|     no|                                                       82.48587570621469|\n",
      "|    yes|                                                      12.994350282485875|\n",
      "+-------+------------------------------------------------------------------------+\n",
      "\n",
      "<<-- feature:contact\n",
      "+---------+------------------------------------------------------------------------+\n",
      "|  contact|((CAST(count(1) AS DOUBLE) / CAST(177 AS DOUBLE)) * CAST(100 AS DOUBLE))|\n",
      "+---------+------------------------------------------------------------------------+\n",
      "| cellular|                                                       93.22033898305084|\n",
      "|telephone|                                                       6.779661016949152|\n",
      "+---------+------------------------------------------------------------------------+\n",
      "\n",
      "<<-- feature:month\n",
      "+-----+------------------------------------------------------------------------+\n",
      "|month|((CAST(count(1) AS DOUBLE) / CAST(177 AS DOUBLE)) * CAST(100 AS DOUBLE))|\n",
      "+-----+------------------------------------------------------------------------+\n",
      "|  jun|                                                       5.649717514124294|\n",
      "|  aug|                                                      19.774011299435028|\n",
      "|  may|                                                      15.819209039548024|\n",
      "|  sep|                                                      14.124293785310735|\n",
      "|  mar|                                                        8.47457627118644|\n",
      "|  oct|                                                      10.734463276836157|\n",
      "|  jul|                                                       7.909604519774012|\n",
      "|  nov|                                                      11.864406779661017|\n",
      "|  apr|                                                       3.954802259887006|\n",
      "|  dec|                                                       1.694915254237288|\n",
      "+-----+------------------------------------------------------------------------+\n",
      "\n",
      "<<-- feature:day_of_week\n",
      "+-----------+------------------------------------------------------------------------+\n",
      "|day_of_week|((CAST(count(1) AS DOUBLE) / CAST(177 AS DOUBLE)) * CAST(100 AS DOUBLE))|\n",
      "+-----------+------------------------------------------------------------------------+\n",
      "|        fri|                                                      12.994350282485875|\n",
      "|        thu|                                                       25.98870056497175|\n",
      "|        tue|                                                      22.033898305084744|\n",
      "|        wed|                                                      24.858757062146893|\n",
      "|        mon|                                                      14.124293785310735|\n",
      "+-----------+------------------------------------------------------------------------+\n",
      "\n",
      "----------- Info categorici cluster n°: 3 --------\n",
      "<<-- feature:job\n",
      "+-------------+------------------------------------------------------------------------+\n",
      "|          job|((CAST(count(1) AS DOUBLE) / CAST(235 AS DOUBLE)) * CAST(100 AS DOUBLE))|\n",
      "+-------------+------------------------------------------------------------------------+\n",
      "|   management|                                                       5.531914893617021|\n",
      "|      retired|                                                       3.829787234042553|\n",
      "|self-employed|                                                       5.106382978723404|\n",
      "|      student|                                                       0.425531914893617|\n",
      "|  blue-collar|                                                      27.659574468085108|\n",
      "| entrepreneur|                                                        4.25531914893617|\n",
      "|       admin.|                                                       26.80851063829787|\n",
      "|   technician|                                                      13.191489361702127|\n",
      "|     services|                                                       8.936170212765958|\n",
      "|    housemaid|                                                      2.9787234042553195|\n",
      "|   unemployed|                                                       1.276595744680851|\n",
      "+-------------+------------------------------------------------------------------------+\n",
      "\n",
      "<<-- feature:marital\n",
      "+--------+------------------------------------------------------------------------+\n",
      "| marital|((CAST(count(1) AS DOUBLE) / CAST(235 AS DOUBLE)) * CAST(100 AS DOUBLE))|\n",
      "+--------+------------------------------------------------------------------------+\n",
      "| unknown|                                                       0.851063829787234|\n",
      "|divorced|                                                       12.76595744680851|\n",
      "| married|                                                       68.08510638297872|\n",
      "|  single|                                                       18.29787234042553|\n",
      "+--------+------------------------------------------------------------------------+\n",
      "\n",
      "<<-- feature:education\n",
      "+-------------------+------------------------------------------------------------------------+\n",
      "|          education|((CAST(count(1) AS DOUBLE) / CAST(235 AS DOUBLE)) * CAST(100 AS DOUBLE))|\n",
      "+-------------------+------------------------------------------------------------------------+\n",
      "|        high.school|                                                       21.70212765957447|\n",
      "|            unknown|                                                       3.829787234042553|\n",
      "|           basic.6y|                                                       9.787234042553191|\n",
      "|professional.course|                                                      10.212765957446807|\n",
      "|  university.degree|                                                      28.085106382978726|\n",
      "|           basic.4y|                                                      10.212765957446807|\n",
      "|           basic.9y|                                                      16.170212765957448|\n",
      "+-------------------+------------------------------------------------------------------------+\n",
      "\n"
     ]
    },
    {
     "name": "stdout",
     "output_type": "stream",
     "text": [
      "<<-- feature:default\n",
      "+-------+------------------------------------------------------------------------+\n",
      "|default|((CAST(count(1) AS DOUBLE) / CAST(235 AS DOUBLE)) * CAST(100 AS DOUBLE))|\n",
      "+-------+------------------------------------------------------------------------+\n",
      "|unknown|                                                       21.27659574468085|\n",
      "|     no|                                                       78.72340425531915|\n",
      "+-------+------------------------------------------------------------------------+\n",
      "\n",
      "<<-- feature:housing\n",
      "+-------+------------------------------------------------------------------------+\n",
      "|housing|((CAST(count(1) AS DOUBLE) / CAST(235 AS DOUBLE)) * CAST(100 AS DOUBLE))|\n",
      "+-------+------------------------------------------------------------------------+\n",
      "|unknown|                                                       2.127659574468085|\n",
      "|     no|                                                      46.808510638297875|\n",
      "|    yes|                                                       51.06382978723404|\n",
      "+-------+------------------------------------------------------------------------+\n",
      "\n",
      "<<-- feature:loan\n",
      "+-------+------------------------------------------------------------------------+\n",
      "|   loan|((CAST(count(1) AS DOUBLE) / CAST(235 AS DOUBLE)) * CAST(100 AS DOUBLE))|\n",
      "+-------+------------------------------------------------------------------------+\n",
      "|unknown|                                                       2.127659574468085|\n",
      "|     no|                                                                    80.0|\n",
      "|    yes|                                                      17.872340425531917|\n",
      "+-------+------------------------------------------------------------------------+\n",
      "\n",
      "<<-- feature:contact\n",
      "+---------+------------------------------------------------------------------------+\n",
      "|  contact|((CAST(count(1) AS DOUBLE) / CAST(235 AS DOUBLE)) * CAST(100 AS DOUBLE))|\n",
      "+---------+------------------------------------------------------------------------+\n",
      "| cellular|                                                      63.829787234042556|\n",
      "|telephone|                                                       36.17021276595745|\n",
      "+---------+------------------------------------------------------------------------+\n",
      "\n",
      "<<-- feature:month\n",
      "+-----+------------------------------------------------------------------------+\n",
      "|month|((CAST(count(1) AS DOUBLE) / CAST(235 AS DOUBLE)) * CAST(100 AS DOUBLE))|\n",
      "+-----+------------------------------------------------------------------------+\n",
      "|  jun|                                                      15.319148936170212|\n",
      "|  aug|                                                      14.468085106382977|\n",
      "|  may|                                                       25.53191489361702|\n",
      "|  sep|                                                       2.127659574468085|\n",
      "|  mar|                                                       0.851063829787234|\n",
      "|  oct|                                                       0.851063829787234|\n",
      "|  jul|                                                       21.70212765957447|\n",
      "|  nov|                                                        8.51063829787234|\n",
      "|  apr|                                                      10.212765957446807|\n",
      "|  dec|                                                       0.425531914893617|\n",
      "+-----+------------------------------------------------------------------------+\n",
      "\n",
      "<<-- feature:day_of_week\n",
      "+-----------+------------------------------------------------------------------------+\n",
      "|day_of_week|((CAST(count(1) AS DOUBLE) / CAST(235 AS DOUBLE)) * CAST(100 AS DOUBLE))|\n",
      "+-----------+------------------------------------------------------------------------+\n",
      "|        fri|                                                                    20.0|\n",
      "|        thu|                                                      20.851063829787233|\n",
      "|        tue|                                                        22.5531914893617|\n",
      "|        wed|                                                      19.574468085106382|\n",
      "|        mon|                                                       17.02127659574468|\n",
      "+-----------+------------------------------------------------------------------------+\n",
      "\n",
      "----------- Info categorici cluster n°: 5 --------\n",
      "<<-- feature:job\n",
      "+-------------+------------------------------------------------------------------------+\n",
      "|          job|((CAST(count(1) AS DOUBLE) / CAST(542 AS DOUBLE)) * CAST(100 AS DOUBLE))|\n",
      "+-------------+------------------------------------------------------------------------+\n",
      "|   management|                                                       5.719557195571956|\n",
      "|      unknown|                                                      0.7380073800738007|\n",
      "|self-employed|                                                      1.8450184501845017|\n",
      "|      student|                                                      13.468634686346864|\n",
      "|  blue-collar|                                                       9.778597785977858|\n",
      "| entrepreneur|                                                      0.9225092250922509|\n",
      "|       admin.|                                                      33.025830258302584|\n",
      "|   technician|                                                       21.58671586715867|\n",
      "|     services|                                                      7.7490774907749085|\n",
      "|    housemaid|                                                      0.5535055350553505|\n",
      "|   unemployed|                                                       4.612546125461255|\n",
      "+-------------+------------------------------------------------------------------------+\n",
      "\n",
      "<<-- feature:marital\n",
      "+--------+------------------------------------------------------------------------+\n",
      "| marital|((CAST(count(1) AS DOUBLE) / CAST(542 AS DOUBLE)) * CAST(100 AS DOUBLE))|\n",
      "+--------+------------------------------------------------------------------------+\n",
      "| unknown|                                                      0.5535055350553505|\n",
      "|divorced|                                                       5.904059040590406|\n",
      "| married|                                                      40.405904059040594|\n",
      "|  single|                                                       53.13653136531366|\n",
      "+--------+------------------------------------------------------------------------+\n",
      "\n",
      "<<-- feature:education\n",
      "+-------------------+------------------------------------------------------------------------+\n",
      "|          education|((CAST(count(1) AS DOUBLE) / CAST(542 AS DOUBLE)) * CAST(100 AS DOUBLE))|\n",
      "+-------------------+------------------------------------------------------------------------+\n",
      "|        high.school|                                                      25.830258302583026|\n",
      "|            unknown|                                                       6.273062730627306|\n",
      "|           basic.6y|                                                      2.5830258302583027|\n",
      "|professional.course|                                                      14.206642066420663|\n",
      "|  university.degree|                                                       41.88191881918819|\n",
      "|           basic.4y|                                                      1.6605166051660518|\n",
      "|           basic.9y|                                                       7.564575645756458|\n",
      "+-------------------+------------------------------------------------------------------------+\n",
      "\n",
      "<<-- feature:default\n",
      "+-------+------------------------------------------------------------------------+\n",
      "|default|((CAST(count(1) AS DOUBLE) / CAST(542 AS DOUBLE)) * CAST(100 AS DOUBLE))|\n",
      "+-------+------------------------------------------------------------------------+\n",
      "|unknown|                                                      1.6605166051660518|\n",
      "|     no|                                                       98.33948339483395|\n",
      "+-------+------------------------------------------------------------------------+\n",
      "\n",
      "<<-- feature:housing\n",
      "+-------+------------------------------------------------------------------------+\n",
      "|housing|((CAST(count(1) AS DOUBLE) / CAST(542 AS DOUBLE)) * CAST(100 AS DOUBLE))|\n",
      "+-------+------------------------------------------------------------------------+\n",
      "|unknown|                                                      2.7675276752767526|\n",
      "|     no|                                                      44.464944649446494|\n",
      "|    yes|                                                      52.767527675276746|\n",
      "+-------+------------------------------------------------------------------------+\n",
      "\n"
     ]
    },
    {
     "name": "stdout",
     "output_type": "stream",
     "text": [
      "<<-- feature:loan\n",
      "+-------+------------------------------------------------------------------------+\n",
      "|   loan|((CAST(count(1) AS DOUBLE) / CAST(542 AS DOUBLE)) * CAST(100 AS DOUBLE))|\n",
      "+-------+------------------------------------------------------------------------+\n",
      "|unknown|                                                      2.7675276752767526|\n",
      "|     no|                                                       84.13284132841329|\n",
      "|    yes|                                                      13.099630996309964|\n",
      "+-------+------------------------------------------------------------------------+\n",
      "\n",
      "<<-- feature:contact\n",
      "+---------+------------------------------------------------------------------------+\n",
      "|  contact|((CAST(count(1) AS DOUBLE) / CAST(542 AS DOUBLE)) * CAST(100 AS DOUBLE))|\n",
      "+---------+------------------------------------------------------------------------+\n",
      "| cellular|                                                       92.43542435424355|\n",
      "|telephone|                                                       7.564575645756458|\n",
      "+---------+------------------------------------------------------------------------+\n",
      "\n",
      "<<-- feature:month\n",
      "+-----+------------------------------------------------------------------------+\n",
      "|month|((CAST(count(1) AS DOUBLE) / CAST(542 AS DOUBLE)) * CAST(100 AS DOUBLE))|\n",
      "+-----+------------------------------------------------------------------------+\n",
      "|  jun|                                                      11.992619926199263|\n",
      "|  aug|                                                      12.177121771217712|\n",
      "|  may|                                                       17.89667896678967|\n",
      "|  sep|                                                       9.778597785977858|\n",
      "|  mar|                                                       8.671586715867159|\n",
      "|  oct|                                                      11.808118081180812|\n",
      "|  jul|                                                       7.380073800738007|\n",
      "|  nov|                                                       10.14760147601476|\n",
      "|  apr|                                                      7.9335793357933575|\n",
      "|  dec|                                                       2.214022140221402|\n",
      "+-----+------------------------------------------------------------------------+\n",
      "\n",
      "<<-- feature:day_of_week\n",
      "+-----------+------------------------------------------------------------------------+\n",
      "|day_of_week|((CAST(count(1) AS DOUBLE) / CAST(542 AS DOUBLE)) * CAST(100 AS DOUBLE))|\n",
      "+-----------+------------------------------------------------------------------------+\n",
      "|        fri|                                                       20.29520295202952|\n",
      "|        thu|                                                      21.771217712177123|\n",
      "|        tue|                                                       20.66420664206642|\n",
      "|        wed|                                                       19.00369003690037|\n",
      "|        mon|                                                      18.265682656826566|\n",
      "+-----------+------------------------------------------------------------------------+\n",
      "\n",
      "----------- Info categorici cluster n°: 4 --------\n",
      "<<-- feature:job\n",
      "+-------------+------------------------------------------------------------------------+\n",
      "|          job|((CAST(count(1) AS DOUBLE) / CAST(804 AS DOUBLE)) * CAST(100 AS DOUBLE))|\n",
      "+-------------+------------------------------------------------------------------------+\n",
      "|   management|                                                       6.343283582089552|\n",
      "|      unknown|                                                      0.3731343283582089|\n",
      "|self-employed|                                                       4.353233830845771|\n",
      "|      student|                                                      10.199004975124378|\n",
      "|  blue-collar|                                                      10.199004975124378|\n",
      "| entrepreneur|                                                       2.736318407960199|\n",
      "|       admin.|                                                       37.18905472636816|\n",
      "|   technician|                                                      17.786069651741293|\n",
      "|     services|                                                       7.213930348258707|\n",
      "|    housemaid|                                                      0.8706467661691543|\n",
      "|   unemployed|                                                       2.736318407960199|\n",
      "+-------------+------------------------------------------------------------------------+\n",
      "\n",
      "<<-- feature:marital\n",
      "+--------+------------------------------------------------------------------------+\n",
      "| marital|((CAST(count(1) AS DOUBLE) / CAST(804 AS DOUBLE)) * CAST(100 AS DOUBLE))|\n",
      "+--------+------------------------------------------------------------------------+\n",
      "| unknown|                                                     0.24875621890547264|\n",
      "|divorced|                                                       5.223880597014925|\n",
      "| married|                                                      36.940298507462686|\n",
      "|  single|                                                       57.58706467661692|\n",
      "+--------+------------------------------------------------------------------------+\n",
      "\n",
      "<<-- feature:education\n",
      "+-------------------+------------------------------------------------------------------------+\n",
      "|          education|((CAST(count(1) AS DOUBLE) / CAST(804 AS DOUBLE)) * CAST(100 AS DOUBLE))|\n",
      "+-------------------+------------------------------------------------------------------------+\n",
      "|        high.school|                                                      23.383084577114428|\n",
      "|            unknown|                                                       3.482587064676617|\n",
      "|           basic.6y|                                                      2.4875621890547266|\n",
      "|professional.course|                                                      12.437810945273633|\n",
      "|  university.degree|                                                       46.89054726368159|\n",
      "|         illiterate|                                                     0.12437810945273632|\n",
      "|           basic.4y|                                                      1.8656716417910446|\n",
      "|           basic.9y|                                                       9.328358208955224|\n",
      "+-------------------+------------------------------------------------------------------------+\n",
      "\n",
      "<<-- feature:default\n",
      "+-------+------------------------------------------------------------------------+\n",
      "|default|((CAST(count(1) AS DOUBLE) / CAST(804 AS DOUBLE)) * CAST(100 AS DOUBLE))|\n",
      "+-------+------------------------------------------------------------------------+\n",
      "|unknown|                                                       4.975124378109453|\n",
      "|     no|                                                       95.02487562189054|\n",
      "+-------+------------------------------------------------------------------------+\n",
      "\n",
      "<<-- feature:housing\n",
      "+-------+------------------------------------------------------------------------+\n",
      "|housing|((CAST(count(1) AS DOUBLE) / CAST(804 AS DOUBLE)) * CAST(100 AS DOUBLE))|\n",
      "+-------+------------------------------------------------------------------------+\n",
      "|unknown|                                                      1.7412935323383085|\n",
      "|     no|                                                      45.149253731343286|\n",
      "|    yes|                                                       53.10945273631841|\n",
      "+-------+------------------------------------------------------------------------+\n",
      "\n",
      "<<-- feature:loan\n",
      "+-------+------------------------------------------------------------------------+\n",
      "|   loan|((CAST(count(1) AS DOUBLE) / CAST(804 AS DOUBLE)) * CAST(100 AS DOUBLE))|\n",
      "+-------+------------------------------------------------------------------------+\n",
      "|unknown|                                                      1.7412935323383085|\n",
      "|     no|                                                       84.32835820895522|\n",
      "|    yes|                                                      13.930348258706468|\n",
      "+-------+------------------------------------------------------------------------+\n",
      "\n",
      "<<-- feature:contact\n",
      "+---------+------------------------------------------------------------------------+\n",
      "|  contact|((CAST(count(1) AS DOUBLE) / CAST(804 AS DOUBLE)) * CAST(100 AS DOUBLE))|\n",
      "+---------+------------------------------------------------------------------------+\n",
      "| cellular|                                                       86.31840796019901|\n",
      "|telephone|                                                      13.681592039800993|\n",
      "+---------+------------------------------------------------------------------------+\n",
      "\n"
     ]
    },
    {
     "name": "stdout",
     "output_type": "stream",
     "text": [
      "<<-- feature:month\n",
      "+-----+------------------------------------------------------------------------+\n",
      "|month|((CAST(count(1) AS DOUBLE) / CAST(804 AS DOUBLE)) * CAST(100 AS DOUBLE))|\n",
      "+-----+------------------------------------------------------------------------+\n",
      "|  jun|                                                       15.17412935323383|\n",
      "|  aug|                                                       9.950248756218906|\n",
      "|  may|                                                      15.298507462686567|\n",
      "|  sep|                                                       4.975124378109453|\n",
      "|  mar|                                                      10.074626865671641|\n",
      "|  oct|                                                        8.45771144278607|\n",
      "|  jul|                                                      10.199004975124378|\n",
      "|  nov|                                                       7.835820895522389|\n",
      "|  apr|                                                       17.16417910447761|\n",
      "|  dec|                                                      0.8706467661691543|\n",
      "+-----+------------------------------------------------------------------------+\n",
      "\n",
      "<<-- feature:day_of_week\n",
      "+-----------+------------------------------------------------------------------------+\n",
      "|day_of_week|((CAST(count(1) AS DOUBLE) / CAST(804 AS DOUBLE)) * CAST(100 AS DOUBLE))|\n",
      "+-----------+------------------------------------------------------------------------+\n",
      "|        fri|                                                       18.53233830845771|\n",
      "|        thu|                                                      23.258706467661693|\n",
      "|        tue|                                                       21.26865671641791|\n",
      "|        wed|                                                      19.402985074626866|\n",
      "|        mon|                                                      17.537313432835823|\n",
      "+-----------+------------------------------------------------------------------------+\n",
      "\n",
      "----------- Info categorici cluster n°: 2 --------\n",
      "<<-- feature:job\n",
      "+-------------+------------------------------------------------------------------------+\n",
      "|          job|((CAST(count(1) AS DOUBLE) / CAST(567 AS DOUBLE)) * CAST(100 AS DOUBLE))|\n",
      "+-------------+------------------------------------------------------------------------+\n",
      "|   management|                                                       6.701940035273369|\n",
      "|      retired|                                                      0.1763668430335097|\n",
      "|      unknown|                                                      0.7054673721340388|\n",
      "|self-employed|                                                      3.1746031746031744|\n",
      "|      student|                                                       3.880070546737213|\n",
      "|  blue-collar|                                                       22.75132275132275|\n",
      "| entrepreneur|                                                      3.3509700176366843|\n",
      "|       admin.|                                                      25.220458553791886|\n",
      "|   technician|                                                      19.400352733686066|\n",
      "|     services|                                                       12.16931216931217|\n",
      "|    housemaid|                                                      0.8818342151675485|\n",
      "|   unemployed|                                                      1.5873015873015872|\n",
      "+-------------+------------------------------------------------------------------------+\n",
      "\n",
      "<<-- feature:marital\n",
      "+--------+------------------------------------------------------------------------+\n",
      "| marital|((CAST(count(1) AS DOUBLE) / CAST(567 AS DOUBLE)) * CAST(100 AS DOUBLE))|\n",
      "+--------+------------------------------------------------------------------------+\n",
      "| unknown|                                                      0.1763668430335097|\n",
      "|divorced|                                                       8.465608465608465|\n",
      "| married|                                                       47.97178130511463|\n",
      "|  single|                                                      43.386243386243386|\n",
      "+--------+------------------------------------------------------------------------+\n",
      "\n",
      "<<-- feature:education\n",
      "+-------------------+------------------------------------------------------------------------+\n",
      "|          education|((CAST(count(1) AS DOUBLE) / CAST(567 AS DOUBLE)) * CAST(100 AS DOUBLE))|\n",
      "+-------------------+------------------------------------------------------------------------+\n",
      "|        high.school|                                                      27.336860670194003|\n",
      "|            unknown|                                                      2.4691358024691357|\n",
      "|           basic.6y|                                                       7.231040564373897|\n",
      "|professional.course|                                                      13.227513227513226|\n",
      "|  university.degree|                                                       32.27513227513227|\n",
      "|           basic.4y|                                                      3.1746031746031744|\n",
      "|           basic.9y|                                                      14.285714285714285|\n",
      "+-------------------+------------------------------------------------------------------------+\n",
      "\n",
      "<<-- feature:default\n",
      "+-------+------------------------------------------------------------------------+\n",
      "|default|((CAST(count(1) AS DOUBLE) / CAST(567 AS DOUBLE)) * CAST(100 AS DOUBLE))|\n",
      "+-------+------------------------------------------------------------------------+\n",
      "|unknown|                                                      14.638447971781304|\n",
      "|     no|                                                        85.3615520282187|\n",
      "+-------+------------------------------------------------------------------------+\n",
      "\n",
      "<<-- feature:housing\n",
      "+-------+------------------------------------------------------------------------+\n",
      "|housing|((CAST(count(1) AS DOUBLE) / CAST(567 AS DOUBLE)) * CAST(100 AS DOUBLE))|\n",
      "+-------+------------------------------------------------------------------------+\n",
      "|unknown|                                                      1.9400352733686066|\n",
      "|     no|                                                      47.266313932980594|\n",
      "|    yes|                                                       50.79365079365079|\n",
      "+-------+------------------------------------------------------------------------+\n",
      "\n",
      "<<-- feature:loan\n",
      "+-------+------------------------------------------------------------------------+\n",
      "|   loan|((CAST(count(1) AS DOUBLE) / CAST(567 AS DOUBLE)) * CAST(100 AS DOUBLE))|\n",
      "+-------+------------------------------------------------------------------------+\n",
      "|unknown|                                                      1.9400352733686066|\n",
      "|     no|                                                       81.65784832451499|\n",
      "|    yes|                                                      16.402116402116402|\n",
      "+-------+------------------------------------------------------------------------+\n",
      "\n",
      "<<-- feature:contact\n",
      "+---------+------------------------------------------------------------------------+\n",
      "|  contact|((CAST(count(1) AS DOUBLE) / CAST(567 AS DOUBLE)) * CAST(100 AS DOUBLE))|\n",
      "+---------+------------------------------------------------------------------------+\n",
      "| cellular|                                                       70.01763668430335|\n",
      "|telephone|                                                       29.98236331569665|\n",
      "+---------+------------------------------------------------------------------------+\n",
      "\n",
      "<<-- feature:month\n",
      "+-----+------------------------------------------------------------------------+\n",
      "|month|((CAST(count(1) AS DOUBLE) / CAST(567 AS DOUBLE)) * CAST(100 AS DOUBLE))|\n",
      "+-----+------------------------------------------------------------------------+\n",
      "|  jun|                                                      12.345679012345679|\n",
      "|  aug|                                                      13.932980599647266|\n",
      "|  may|                                                       32.98059964726631|\n",
      "|  sep|                                                      0.8818342151675485|\n",
      "|  mar|                                                       1.763668430335097|\n",
      "|  oct|                                                      1.2345679012345678|\n",
      "|  jul|                                                       23.10405643738977|\n",
      "|  nov|                                                       6.878306878306878|\n",
      "|  apr|                                                       6.525573192239858|\n",
      "|  dec|                                                      0.3527336860670194|\n",
      "+-----+------------------------------------------------------------------------+\n",
      "\n"
     ]
    },
    {
     "name": "stdout",
     "output_type": "stream",
     "text": [
      "<<-- feature:day_of_week\n",
      "+-----------+------------------------------------------------------------------------+\n",
      "|day_of_week|((CAST(count(1) AS DOUBLE) / CAST(567 AS DOUBLE)) * CAST(100 AS DOUBLE))|\n",
      "+-----------+------------------------------------------------------------------------+\n",
      "|        fri|                                                      18.871252204585538|\n",
      "|        thu|                                                       22.22222222222222|\n",
      "|        tue|                                                      17.636684303350968|\n",
      "|        wed|                                                       22.39858906525573|\n",
      "|        mon|                                                      18.871252204585538|\n",
      "+-----------+------------------------------------------------------------------------+\n",
      "\n",
      "----------- Info categorici cluster n°: 0 --------\n",
      "<<-- feature:job\n",
      "+-------------+------------------------------------------------------------------------+\n",
      "|          job|((CAST(count(1) AS DOUBLE) / CAST(661 AS DOUBLE)) * CAST(100 AS DOUBLE))|\n",
      "+-------------+------------------------------------------------------------------------+\n",
      "|   management|                                                      10.892586989409985|\n",
      "|      retired|                                                      10.741301059001513|\n",
      "|      unknown|                                                       1.059001512859304|\n",
      "|self-employed|                                                       3.177004538577912|\n",
      "|      student|                                                     0.30257186081694404|\n",
      "|  blue-collar|                                                       16.64145234493192|\n",
      "| entrepreneur|                                                      3.3282904689863844|\n",
      "|       admin.|                                                      26.928895612708022|\n",
      "|   technician|                                                       14.22087745839637|\n",
      "|     services|                                                       5.597579425113464|\n",
      "|    housemaid|                                                      3.7821482602118004|\n",
      "|   unemployed|                                                      3.3282904689863844|\n",
      "+-------------+------------------------------------------------------------------------+\n",
      "\n",
      "<<-- feature:marital\n",
      "+--------+------------------------------------------------------------------------+\n",
      "| marital|((CAST(count(1) AS DOUBLE) / CAST(661 AS DOUBLE)) * CAST(100 AS DOUBLE))|\n",
      "+--------+------------------------------------------------------------------------+\n",
      "| unknown|                                                     0.30257186081694404|\n",
      "|divorced|                                                       15.73373676248109|\n",
      "| married|                                                       74.13010590015129|\n",
      "|  single|                                                       9.833585476550681|\n",
      "+--------+------------------------------------------------------------------------+\n",
      "\n",
      "<<-- feature:education\n",
      "+-------------------+------------------------------------------------------------------------+\n",
      "|          education|((CAST(count(1) AS DOUBLE) / CAST(661 AS DOUBLE)) * CAST(100 AS DOUBLE))|\n",
      "+-------------------+------------------------------------------------------------------------+\n",
      "|        high.school|                                                      20.423600605143722|\n",
      "|            unknown|                                                       6.051437216338881|\n",
      "|           basic.6y|                                                       4.236006051437216|\n",
      "|professional.course|                                                      11.951588502269288|\n",
      "|  university.degree|                                                       31.77004538577912|\n",
      "|         illiterate|                                                     0.15128593040847202|\n",
      "|           basic.4y|                                                      14.674735249621785|\n",
      "|           basic.9y|                                                      10.741301059001513|\n",
      "+-------------------+------------------------------------------------------------------------+\n",
      "\n",
      "<<-- feature:default\n",
      "+-------+------------------------------------------------------------------------+\n",
      "|default|((CAST(count(1) AS DOUBLE) / CAST(661 AS DOUBLE)) * CAST(100 AS DOUBLE))|\n",
      "+-------+------------------------------------------------------------------------+\n",
      "|unknown|                                                      15.128593040847202|\n",
      "|     no|                                                        84.8714069591528|\n",
      "+-------+------------------------------------------------------------------------+\n",
      "\n",
      "<<-- feature:housing\n",
      "+-------+------------------------------------------------------------------------+\n",
      "|housing|((CAST(count(1) AS DOUBLE) / CAST(661 AS DOUBLE)) * CAST(100 AS DOUBLE))|\n",
      "+-------+------------------------------------------------------------------------+\n",
      "|unknown|                                                        2.26928895612708|\n",
      "|     no|                                                       41.45234493192133|\n",
      "|    yes|                                                      56.278366111951584|\n",
      "+-------+------------------------------------------------------------------------+\n",
      "\n",
      "<<-- feature:loan\n",
      "+-------+------------------------------------------------------------------------+\n",
      "|   loan|((CAST(count(1) AS DOUBLE) / CAST(661 AS DOUBLE)) * CAST(100 AS DOUBLE))|\n",
      "+-------+------------------------------------------------------------------------+\n",
      "|unknown|                                                        2.26928895612708|\n",
      "|     no|                                                       83.66111951588502|\n",
      "|    yes|                                                      14.069591527987896|\n",
      "+-------+------------------------------------------------------------------------+\n",
      "\n",
      "<<-- feature:contact\n",
      "+---------+------------------------------------------------------------------------+\n",
      "|  contact|((CAST(count(1) AS DOUBLE) / CAST(661 AS DOUBLE)) * CAST(100 AS DOUBLE))|\n",
      "+---------+------------------------------------------------------------------------+\n",
      "| cellular|                                                        82.1482602118003|\n",
      "|telephone|                                                      17.851739788199698|\n",
      "+---------+------------------------------------------------------------------------+\n",
      "\n",
      "<<-- feature:month\n",
      "+-----+------------------------------------------------------------------------+\n",
      "|month|((CAST(count(1) AS DOUBLE) / CAST(661 AS DOUBLE)) * CAST(100 AS DOUBLE))|\n",
      "+-----+------------------------------------------------------------------------+\n",
      "|  jun|                                                      10.892586989409985|\n",
      "|  aug|                                                      16.792738275340394|\n",
      "|  may|                                                      20.423600605143722|\n",
      "|  sep|                                                       4.236006051437216|\n",
      "|  mar|                                                       3.479576399394856|\n",
      "|  oct|                                                        5.29500756429652|\n",
      "|  jul|                                                      15.431164901664147|\n",
      "|  nov|                                                        8.32072617246596|\n",
      "|  apr|                                                      12.405446293494705|\n",
      "|  dec|                                                       2.723146747352496|\n",
      "+-----+------------------------------------------------------------------------+\n",
      "\n",
      "<<-- feature:day_of_week\n",
      "+-----------+------------------------------------------------------------------------+\n",
      "|day_of_week|((CAST(count(1) AS DOUBLE) / CAST(661 AS DOUBLE)) * CAST(100 AS DOUBLE))|\n",
      "+-----------+------------------------------------------------------------------------+\n",
      "|        fri|                                                      19.667170953101362|\n",
      "|        thu|                                                      22.692889561270803|\n",
      "|        tue|                                                      16.944024205748864|\n",
      "|        wed|                                                         18.910741301059|\n",
      "|        mon|                                                       21.78517397881997|\n",
      "+-----------+------------------------------------------------------------------------+\n",
      "\n"
     ]
    }
   ],
   "source": [
    "for i in dist_clusters:\n",
    "    print(\"----------- Info categorici cluster n°: \" + str(i) + \" --------\")\n",
    "    for j in features_notnumeric:\n",
    "        dd[i].createOrReplaceTempView(\"tmp\")\n",
    "        tot_j = dd[i].select(j).count()\n",
    "        query = spark.sql(\"SELECT \"+str(j)+\", count(*)/\"+str(tot_j)+\" * 100 FROM tmp GROUP BY \"+ str(j))\n",
    "        print(\"<<-- feature:\"+ str(j))\n",
    "        query.show()"
   ]
  },
  {
   "cell_type": "code",
   "execution_count": null,
   "metadata": {},
   "outputs": [],
   "source": [
    "clusters = predictions.select(\"prediction\").collect()\n",
    "age = predictions.select(\"age\").collect()\n",
    "duration = predictions.select(\"duration\").collect()\n",
    "campaign= predictions.select(\"campaign\").collect()\n",
    "previous=predictions.select(\"previous\").collect()\n",
    "fig = go.Figure(data=\n",
    "                go.Parcoords(\n",
    "                    dimensions = list([\n",
    "                        dict(\n",
    "                            label = \"Age\", values = age),\n",
    "                        dict(\n",
    "                            label = \"Duration\", values = duration),\n",
    "                        dict(\n",
    "                            label = \"Campaign\", values = campaign),\n",
    "                        dict(\n",
    "                            label = \"Previous\", values = previous),\n",
    "                        dict(\n",
    "                            label = 'Clusters', values = clusters)\n",
    "                    ])\n",
    "                )\n",
    "        )\n",
    "fig.show()"
   ]
  },
  {
   "cell_type": "markdown",
   "metadata": {},
   "source": [
    "## Aggiunta dei record con target='no' ai clusters"
   ]
  },
  {
   "cell_type": "code",
   "execution_count": 35,
   "metadata": {},
   "outputs": [],
   "source": [
    "unlist = udf(lambda x: round(float(list(x)[0]),3), DoubleType())\n",
    "\n",
    "# Iterazione sulle colonne da normalizzare\n",
    "for i in features:\n",
    "    # VectorAssembler Transformation - Conversione da colonna a tipo vector\n",
    "    assembler = VectorAssembler(inputCols=[i],outputCol=i+\"_Vect\")\n",
    "\n",
    "    # MinMaxScaler Transformation\n",
    "    scaler = MinMaxScaler(inputCol=i+\"_Vect\", outputCol=i+\"_Scaled\")\n",
    "\n",
    "    # Pipeline of VectorAssembler and MinMaxScaler\n",
    "    pipeline = Pipeline(stages=[assembler, scaler])\n",
    "\n",
    "    # Fitting pipeline on dataframe\n",
    "    train = pipeline.fit(train).transform(train).withColumn(i+\"_Scaled\", unlist(i+\"_Scaled\")).drop(i+\"_Vect\")\n",
    "\n",
    "all_df = train.withColumnRenamed(\"features\",\"tt_features\")\n",
    "assembler = VectorAssembler().setInputCols(scaledF).setOutputCol(\"features\")\n",
    "all_df = assembler.transform(all_df)"
   ]
  },
  {
   "cell_type": "code",
   "execution_count": 36,
   "metadata": {},
   "outputs": [
    {
     "data": {
      "text/plain": [
       "28737"
      ]
     },
     "execution_count": 36,
     "metadata": {},
     "output_type": "execute_result"
    }
   ],
   "source": [
    "train.count()"
   ]
  },
  {
   "cell_type": "code",
   "execution_count": 37,
   "metadata": {},
   "outputs": [
    {
     "data": {
      "text/plain": [
       "DataFrame[age: int, job: string, marital: string, education: string, default: string, housing: string, loan: string, contact: string, month: string, day_of_week: string, duration: int, campaign: int, pdays: int, previous: int, poutcome: string, emp_var_rate: double, cons_price_idx: double, cons_conf_idx: double, euribor3m: double, nr_employed: double, y: double, age_Scaled: double, duration_Scaled: double, campaign_Scaled: double, previous_Scaled: double, features: vector]"
      ]
     },
     "execution_count": 37,
     "metadata": {},
     "output_type": "execute_result"
    }
   ],
   "source": [
    "all_df"
   ]
  },
  {
   "cell_type": "code",
   "execution_count": 38,
   "metadata": {},
   "outputs": [],
   "source": [
    "predictions = model.transform(all_df)"
   ]
  },
  {
   "cell_type": "markdown",
   "metadata": {},
   "source": [
    "- Conteggio elementi per ogni cluster"
   ]
  },
  {
   "cell_type": "code",
   "execution_count": 104,
   "metadata": {},
   "outputs": [],
   "source": [
    "predictions.createOrReplaceTempView(\"tmp\")"
   ]
  },
  {
   "cell_type": "code",
   "execution_count": 105,
   "metadata": {
    "scrolled": true
   },
   "outputs": [
    {
     "name": "stdout",
     "output_type": "stream",
     "text": [
      "+----------+--------+\n",
      "|prediction|count(1)|\n",
      "+----------+--------+\n",
      "|         1|     547|\n",
      "|         6|     207|\n",
      "|         3|     351|\n",
      "|         5|    2534|\n",
      "|         4|   14624|\n",
      "|         2|    1370|\n",
      "|         0|    9104|\n",
      "+----------+--------+\n",
      "\n"
     ]
    }
   ],
   "source": [
    "query = spark.sql(\"SELECT prediction, count(*) FROM tmp GROUP BY prediction\")\n",
    "query.show()"
   ]
  },
  {
   "cell_type": "code",
   "execution_count": 39,
   "metadata": {},
   "outputs": [
    {
     "data": {
      "text/plain": [
       "DataFrame[age: int, job: string, marital: string, education: string, default: string, housing: string, loan: string, contact: string, month: string, day_of_week: string, duration: int, campaign: int, pdays: int, previous: int, poutcome: string, emp_var_rate: double, cons_price_idx: double, cons_conf_idx: double, euribor3m: double, nr_employed: double, y: double, age_Scaled: double, duration_Scaled: double, campaign_Scaled: double, previous_Scaled: double, features: vector, prediction: int]"
      ]
     },
     "execution_count": 39,
     "metadata": {},
     "output_type": "execute_result"
    }
   ],
   "source": [
    "predictions"
   ]
  },
  {
   "cell_type": "code",
   "execution_count": 40,
   "metadata": {},
   "outputs": [],
   "source": [
    "predictions = predictions.drop(\"age_Scaled\", \"duration_Scaled\", \"campaign_Scaled\", \"previous_Scaled\")"
   ]
  },
  {
   "cell_type": "code",
   "execution_count": 41,
   "metadata": {},
   "outputs": [
    {
     "data": {
      "text/plain": [
       "DataFrame[age: int, job: string, marital: string, education: string, default: string, housing: string, loan: string, contact: string, month: string, day_of_week: string, duration: int, campaign: int, pdays: int, previous: int, poutcome: string, emp_var_rate: double, cons_price_idx: double, cons_conf_idx: double, euribor3m: double, nr_employed: double, y: double, features: vector, prediction: int]"
      ]
     },
     "execution_count": 41,
     "metadata": {},
     "output_type": "execute_result"
    }
   ],
   "source": [
    "predictions"
   ]
  },
  {
   "cell_type": "markdown",
   "metadata": {},
   "source": [
    "- Selezione Clusters: un dizionario della forma <cluster[i], dataframe[i]>"
   ]
  },
  {
   "cell_type": "code",
   "execution_count": 42,
   "metadata": {},
   "outputs": [
    {
     "data": {
      "text/plain": [
       "[1, 6, 3, 5, 4, 2, 0]"
      ]
     },
     "execution_count": 42,
     "metadata": {},
     "output_type": "execute_result"
    }
   ],
   "source": [
    "prediction_v = predictions.select(\"prediction\").distinct().rdd.map(lambda r: r[0]).collect()\n",
    "prediction_v"
   ]
  },
  {
   "cell_type": "code",
   "execution_count": 43,
   "metadata": {},
   "outputs": [],
   "source": [
    "def list_clusters(df, prediction):\n",
    "    ll= {}\n",
    "    for i in prediction:\n",
    "        ll[i] = df.filter(df[\"prediction\"]==i).select(df.columns[:-1])\n",
    "    return ll"
   ]
  },
  {
   "cell_type": "code",
   "execution_count": 45,
   "metadata": {},
   "outputs": [],
   "source": [
    "dataset_prima_della_divisione = predictions"
   ]
  },
  {
   "cell_type": "code",
   "execution_count": 44,
   "metadata": {},
   "outputs": [
    {
     "data": {
      "text/plain": [
       "{1: DataFrame[age: int, job: string, marital: string, education: string, default: string, housing: string, loan: string, contact: string, month: string, day_of_week: string, duration: int, campaign: int, pdays: int, previous: int, poutcome: string, emp_var_rate: double, cons_price_idx: double, cons_conf_idx: double, euribor3m: double, nr_employed: double, y: double, features: vector],\n",
       " 6: DataFrame[age: int, job: string, marital: string, education: string, default: string, housing: string, loan: string, contact: string, month: string, day_of_week: string, duration: int, campaign: int, pdays: int, previous: int, poutcome: string, emp_var_rate: double, cons_price_idx: double, cons_conf_idx: double, euribor3m: double, nr_employed: double, y: double, features: vector],\n",
       " 3: DataFrame[age: int, job: string, marital: string, education: string, default: string, housing: string, loan: string, contact: string, month: string, day_of_week: string, duration: int, campaign: int, pdays: int, previous: int, poutcome: string, emp_var_rate: double, cons_price_idx: double, cons_conf_idx: double, euribor3m: double, nr_employed: double, y: double, features: vector],\n",
       " 5: DataFrame[age: int, job: string, marital: string, education: string, default: string, housing: string, loan: string, contact: string, month: string, day_of_week: string, duration: int, campaign: int, pdays: int, previous: int, poutcome: string, emp_var_rate: double, cons_price_idx: double, cons_conf_idx: double, euribor3m: double, nr_employed: double, y: double, features: vector],\n",
       " 4: DataFrame[age: int, job: string, marital: string, education: string, default: string, housing: string, loan: string, contact: string, month: string, day_of_week: string, duration: int, campaign: int, pdays: int, previous: int, poutcome: string, emp_var_rate: double, cons_price_idx: double, cons_conf_idx: double, euribor3m: double, nr_employed: double, y: double, features: vector],\n",
       " 2: DataFrame[age: int, job: string, marital: string, education: string, default: string, housing: string, loan: string, contact: string, month: string, day_of_week: string, duration: int, campaign: int, pdays: int, previous: int, poutcome: string, emp_var_rate: double, cons_price_idx: double, cons_conf_idx: double, euribor3m: double, nr_employed: double, y: double, features: vector],\n",
       " 0: DataFrame[age: int, job: string, marital: string, education: string, default: string, housing: string, loan: string, contact: string, month: string, day_of_week: string, duration: int, campaign: int, pdays: int, previous: int, poutcome: string, emp_var_rate: double, cons_price_idx: double, cons_conf_idx: double, euribor3m: double, nr_employed: double, y: double, features: vector]}"
      ]
     },
     "execution_count": 44,
     "metadata": {},
     "output_type": "execute_result"
    }
   ],
   "source": [
    "clusters_df = list_clusters(predictions, prediction_v)\n",
    "clusters_df"
   ]
  },
  {
   "cell_type": "markdown",
   "metadata": {},
   "source": [
    "# Esecuzione del decision tree per ogni clusters dove:\n",
    "- clusters_df[i] è il training\n",
    "- test viene prima trasformato per avere le etichette di clusters e poi per ogni etichetta usare quell'insieme come test per il decision tree del cluster corrispondente"
   ]
  },
  {
   "cell_type": "markdown",
   "metadata": {},
   "source": [
    "- Sistemare il test per poter eseguire il clustering"
   ]
  },
  {
   "cell_type": "code",
   "execution_count": 46,
   "metadata": {},
   "outputs": [],
   "source": [
    "unlist = udf(lambda x: round(float(list(x)[0]),3), DoubleType())\n",
    "\n",
    "# Iterazione sulle colonne da normalizzare\n",
    "for i in features:\n",
    "    # VectorAssembler Transformation - Conversione da colonna a tipo vector\n",
    "    assembler = VectorAssembler(inputCols=[i],outputCol=i+\"_Vect\")\n",
    "\n",
    "    # MinMaxScaler Transformation\n",
    "    scaler = MinMaxScaler(inputCol=i+\"_Vect\", outputCol=i+\"_Scaled\")\n",
    "\n",
    "    # Pipeline of VectorAssembler and MinMaxScaler\n",
    "    pipeline = Pipeline(stages=[assembler, scaler])\n",
    "\n",
    "    # Fitting pipeline on dataframe\n",
    "    test = pipeline.fit(test).transform(test).withColumn(i+\"_Scaled\", unlist(i+\"_Scaled\")).drop(i+\"_Vect\")\n",
    "\n",
    "test_df = test.withColumnRenamed(\"features\",\"tt_features\")\n",
    "assembler = VectorAssembler().setInputCols(scaledF).setOutputCol(\"features\")\n",
    "test_df = assembler.transform(test_df)"
   ]
  },
  {
   "cell_type": "code",
   "execution_count": 47,
   "metadata": {},
   "outputs": [
    {
     "data": {
      "text/plain": [
       "DataFrame[age: int, job: string, marital: string, education: string, default: string, housing: string, loan: string, contact: string, month: string, day_of_week: string, duration: int, campaign: int, pdays: int, previous: int, poutcome: string, emp_var_rate: double, cons_price_idx: double, cons_conf_idx: double, euribor3m: double, nr_employed: double, y: double, age_Scaled: double, duration_Scaled: double, campaign_Scaled: double, previous_Scaled: double, features: vector]"
      ]
     },
     "execution_count": 47,
     "metadata": {},
     "output_type": "execute_result"
    }
   ],
   "source": [
    "test_df"
   ]
  },
  {
   "cell_type": "markdown",
   "metadata": {},
   "source": [
    "- Aggiunta delle predizioni al test"
   ]
  },
  {
   "cell_type": "code",
   "execution_count": 48,
   "metadata": {},
   "outputs": [],
   "source": [
    "predictions = model.transform(test_df)"
   ]
  },
  {
   "cell_type": "markdown",
   "metadata": {},
   "source": [
    "- Conteggio elementi del test per ogni cluster"
   ]
  },
  {
   "cell_type": "code",
   "execution_count": 122,
   "metadata": {},
   "outputs": [],
   "source": [
    "predictions.createOrReplaceTempView(\"tmp\")"
   ]
  },
  {
   "cell_type": "code",
   "execution_count": 123,
   "metadata": {
    "scrolled": true
   },
   "outputs": [
    {
     "name": "stdout",
     "output_type": "stream",
     "text": [
      "+----------+--------+\n",
      "|prediction|count(1)|\n",
      "+----------+--------+\n",
      "|         1|     216|\n",
      "|         6|     155|\n",
      "|         3|      58|\n",
      "|         5|    1115|\n",
      "|         4|    6991|\n",
      "|         2|     352|\n",
      "|         0|    3548|\n",
      "+----------+--------+\n",
      "\n"
     ]
    }
   ],
   "source": [
    "query = spark.sql(\"SELECT prediction, count(*) FROM tmp GROUP BY prediction\")\n",
    "query.show()"
   ]
  },
  {
   "cell_type": "markdown",
   "metadata": {},
   "source": [
    "- Creo i test per i clusters: \n",
    "- selezione Clusters: un dizionario della forma <cluster[i], dataframe[i]>"
   ]
  },
  {
   "cell_type": "code",
   "execution_count": 49,
   "metadata": {},
   "outputs": [],
   "source": [
    "predictions = predictions.drop(\"age_Scaled\", \"duration_Scaled\", \"campaign_Scaled\", \"previous_Scaled\")"
   ]
  },
  {
   "cell_type": "code",
   "execution_count": 50,
   "metadata": {},
   "outputs": [
    {
     "data": {
      "text/plain": [
       "DataFrame[age: int, job: string, marital: string, education: string, default: string, housing: string, loan: string, contact: string, month: string, day_of_week: string, duration: int, campaign: int, pdays: int, previous: int, poutcome: string, emp_var_rate: double, cons_price_idx: double, cons_conf_idx: double, euribor3m: double, nr_employed: double, y: double, features: vector, prediction: int]"
      ]
     },
     "execution_count": 50,
     "metadata": {},
     "output_type": "execute_result"
    }
   ],
   "source": [
    "predictions"
   ]
  },
  {
   "cell_type": "code",
   "execution_count": 51,
   "metadata": {},
   "outputs": [
    {
     "data": {
      "text/plain": [
       "[1, 6, 3, 5, 4, 2, 0]"
      ]
     },
     "execution_count": 51,
     "metadata": {},
     "output_type": "execute_result"
    }
   ],
   "source": [
    "prediction_v = predictions.select(\"prediction\").distinct().rdd.map(lambda r: r[0]).collect()\n",
    "prediction_v"
   ]
  },
  {
   "cell_type": "code",
   "execution_count": 52,
   "metadata": {},
   "outputs": [
    {
     "data": {
      "text/plain": [
       "{1: DataFrame[age: int, job: string, marital: string, education: string, default: string, housing: string, loan: string, contact: string, month: string, day_of_week: string, duration: int, campaign: int, pdays: int, previous: int, poutcome: string, emp_var_rate: double, cons_price_idx: double, cons_conf_idx: double, euribor3m: double, nr_employed: double, y: double, features: vector],\n",
       " 6: DataFrame[age: int, job: string, marital: string, education: string, default: string, housing: string, loan: string, contact: string, month: string, day_of_week: string, duration: int, campaign: int, pdays: int, previous: int, poutcome: string, emp_var_rate: double, cons_price_idx: double, cons_conf_idx: double, euribor3m: double, nr_employed: double, y: double, features: vector],\n",
       " 3: DataFrame[age: int, job: string, marital: string, education: string, default: string, housing: string, loan: string, contact: string, month: string, day_of_week: string, duration: int, campaign: int, pdays: int, previous: int, poutcome: string, emp_var_rate: double, cons_price_idx: double, cons_conf_idx: double, euribor3m: double, nr_employed: double, y: double, features: vector],\n",
       " 5: DataFrame[age: int, job: string, marital: string, education: string, default: string, housing: string, loan: string, contact: string, month: string, day_of_week: string, duration: int, campaign: int, pdays: int, previous: int, poutcome: string, emp_var_rate: double, cons_price_idx: double, cons_conf_idx: double, euribor3m: double, nr_employed: double, y: double, features: vector],\n",
       " 4: DataFrame[age: int, job: string, marital: string, education: string, default: string, housing: string, loan: string, contact: string, month: string, day_of_week: string, duration: int, campaign: int, pdays: int, previous: int, poutcome: string, emp_var_rate: double, cons_price_idx: double, cons_conf_idx: double, euribor3m: double, nr_employed: double, y: double, features: vector],\n",
       " 2: DataFrame[age: int, job: string, marital: string, education: string, default: string, housing: string, loan: string, contact: string, month: string, day_of_week: string, duration: int, campaign: int, pdays: int, previous: int, poutcome: string, emp_var_rate: double, cons_price_idx: double, cons_conf_idx: double, euribor3m: double, nr_employed: double, y: double, features: vector],\n",
       " 0: DataFrame[age: int, job: string, marital: string, education: string, default: string, housing: string, loan: string, contact: string, month: string, day_of_week: string, duration: int, campaign: int, pdays: int, previous: int, poutcome: string, emp_var_rate: double, cons_price_idx: double, cons_conf_idx: double, euribor3m: double, nr_employed: double, y: double, features: vector]}"
      ]
     },
     "execution_count": 52,
     "metadata": {},
     "output_type": "execute_result"
    }
   ],
   "source": [
    "def list_clusters(df, prediction):\n",
    "    ll= {}\n",
    "    for i in prediction:\n",
    "        ll[i] = df.filter(df[\"prediction\"]==i).select(df.columns[:-1])\n",
    "    return ll\n",
    "\n",
    "clusters_test_df = list_clusters(predictions, prediction_v)\n",
    "clusters_test_df"
   ]
  },
  {
   "cell_type": "markdown",
   "metadata": {},
   "source": [
    "# Scelta degli iperparametri per il decision Tree di ogni cluster in clusters_df"
   ]
  },
  {
   "cell_type": "code",
   "execution_count": 53,
   "metadata": {},
   "outputs": [],
   "source": [
    "features_numeric = [\"age\", \"duration\", \"campaign\", \"pdays\", \"previous\",\n",
    "                  \"emp_var_rate\", \"cons_price_idx\", \"cons_conf_idx\", \"euribor3m\",\n",
    "                  \"nr_employed\"]"
   ]
  },
  {
   "cell_type": "markdown",
   "metadata": {},
   "source": [
    "- 3Fold-CrossValidation"
   ]
  },
  {
   "cell_type": "code",
   "execution_count": 129,
   "metadata": {},
   "outputs": [],
   "source": [
    "def exec_crossEvalTree(df, prediction_v):\n",
    "    optimals = {}\n",
    "    for i in prediction_v:\n",
    "        # Assemblaggio del clusters\n",
    "        assembler = VectorAssembler().setInputCols(features_numeric).setOutputCol(\"features\")\n",
    "        tmp_df = assembler.transform(df[i])\n",
    "        train =tmp_df.withColumnRenamed(\"y\",\"label\")\n",
    "        # Training e test\n",
    "        \n",
    "        # Create initial Decision Tree Model\n",
    "        model = DecisionTreeClassifier(labelCol=\"label\", featuresCol=\"features\")\n",
    "        \n",
    "        # Create ParamGrid for Cross Validation\n",
    "        model_paramGrid = (ParamGridBuilder()\n",
    "               .addGrid(model.impurity, [\"entropy\", \"gini\"])\n",
    "               .addGrid(model.maxDepth, [2, 5, 10, 15])\n",
    "               .addGrid(model.maxBins, [2, 5, 10, 15]).build())\n",
    "        # Evaluate model\n",
    "        model_evaluator = BinaryClassificationEvaluator(rawPredictionCol=\"rawPrediction\")\n",
    "\n",
    "        # Create 3-fold CrossValidator\n",
    "        cross_model = CrossValidator(estimator = model,\n",
    "                              estimatorParamMaps = model_paramGrid,\n",
    "                              evaluator = model_evaluator,\n",
    "                              numFolds = 3)\n",
    "\n",
    "        # Run cross validations\n",
    "        fit_model = cross_model.fit(train)\n",
    "        print(fit_model)\n",
    "\n",
    "        \n",
    "        bestModel = fit_model.bestModel\n",
    "        extract_par = bestModel.extractParamMap()\n",
    "        best_parameters = {}\n",
    "        best_parameters[\"impurity\"] = extract_par[bestModel.getParam(\"impurity\")]\n",
    "        best_parameters[\"maxDepth\"] = extract_par[bestModel.getParam(\"maxDepth\")]\n",
    "        best_parameters[\"maxBins\"] = extract_par[bestModel.getParam(\"maxBins\")]\n",
    "        print(best_parameters)\n",
    "        optimals[i] = best_parameters\n",
    "        print(optimals)\n",
    "    return optimals"
   ]
  },
  {
   "cell_type": "code",
   "execution_count": 54,
   "metadata": {},
   "outputs": [],
   "source": [
    "for i in prediction_v:\n",
    "    clusters_df[i] =  clusters_df[i].drop(\"features\")"
   ]
  },
  {
   "cell_type": "code",
   "execution_count": 55,
   "metadata": {},
   "outputs": [
    {
     "data": {
      "text/plain": [
       "{1: DataFrame[age: int, job: string, marital: string, education: string, default: string, housing: string, loan: string, contact: string, month: string, day_of_week: string, duration: int, campaign: int, pdays: int, previous: int, poutcome: string, emp_var_rate: double, cons_price_idx: double, cons_conf_idx: double, euribor3m: double, nr_employed: double, y: double],\n",
       " 6: DataFrame[age: int, job: string, marital: string, education: string, default: string, housing: string, loan: string, contact: string, month: string, day_of_week: string, duration: int, campaign: int, pdays: int, previous: int, poutcome: string, emp_var_rate: double, cons_price_idx: double, cons_conf_idx: double, euribor3m: double, nr_employed: double, y: double],\n",
       " 3: DataFrame[age: int, job: string, marital: string, education: string, default: string, housing: string, loan: string, contact: string, month: string, day_of_week: string, duration: int, campaign: int, pdays: int, previous: int, poutcome: string, emp_var_rate: double, cons_price_idx: double, cons_conf_idx: double, euribor3m: double, nr_employed: double, y: double],\n",
       " 5: DataFrame[age: int, job: string, marital: string, education: string, default: string, housing: string, loan: string, contact: string, month: string, day_of_week: string, duration: int, campaign: int, pdays: int, previous: int, poutcome: string, emp_var_rate: double, cons_price_idx: double, cons_conf_idx: double, euribor3m: double, nr_employed: double, y: double],\n",
       " 4: DataFrame[age: int, job: string, marital: string, education: string, default: string, housing: string, loan: string, contact: string, month: string, day_of_week: string, duration: int, campaign: int, pdays: int, previous: int, poutcome: string, emp_var_rate: double, cons_price_idx: double, cons_conf_idx: double, euribor3m: double, nr_employed: double, y: double],\n",
       " 2: DataFrame[age: int, job: string, marital: string, education: string, default: string, housing: string, loan: string, contact: string, month: string, day_of_week: string, duration: int, campaign: int, pdays: int, previous: int, poutcome: string, emp_var_rate: double, cons_price_idx: double, cons_conf_idx: double, euribor3m: double, nr_employed: double, y: double],\n",
       " 0: DataFrame[age: int, job: string, marital: string, education: string, default: string, housing: string, loan: string, contact: string, month: string, day_of_week: string, duration: int, campaign: int, pdays: int, previous: int, poutcome: string, emp_var_rate: double, cons_price_idx: double, cons_conf_idx: double, euribor3m: double, nr_employed: double, y: double]}"
      ]
     },
     "execution_count": 55,
     "metadata": {},
     "output_type": "execute_result"
    }
   ],
   "source": [
    "clusters_df"
   ]
  },
  {
   "cell_type": "code",
   "execution_count": 135,
   "metadata": {},
   "outputs": [
    {
     "name": "stdout",
     "output_type": "stream",
     "text": [
      "CrossValidatorModel_b22dbde71d62\n",
      "{'impurity': 'entropy', 'maxDepth': 15, 'maxBins': 10}\n",
      "{1: {'impurity': 'entropy', 'maxDepth': 15, 'maxBins': 10}}\n",
      "CrossValidatorModel_7478737b6512\n",
      "{'impurity': 'entropy', 'maxDepth': 2, 'maxBins': 15}\n",
      "{1: {'impurity': 'entropy', 'maxDepth': 15, 'maxBins': 10}, 6: {'impurity': 'entropy', 'maxDepth': 2, 'maxBins': 15}}\n",
      "CrossValidatorModel_3fa9b5551fa8\n",
      "{'impurity': 'gini', 'maxDepth': 15, 'maxBins': 15}\n",
      "{1: {'impurity': 'entropy', 'maxDepth': 15, 'maxBins': 10}, 6: {'impurity': 'entropy', 'maxDepth': 2, 'maxBins': 15}, 3: {'impurity': 'gini', 'maxDepth': 15, 'maxBins': 15}}\n",
      "CrossValidatorModel_56f2e20a73b8\n",
      "{'impurity': 'entropy', 'maxDepth': 5, 'maxBins': 5}\n",
      "{1: {'impurity': 'entropy', 'maxDepth': 15, 'maxBins': 10}, 6: {'impurity': 'entropy', 'maxDepth': 2, 'maxBins': 15}, 3: {'impurity': 'gini', 'maxDepth': 15, 'maxBins': 15}, 5: {'impurity': 'entropy', 'maxDepth': 5, 'maxBins': 5}}\n",
      "CrossValidatorModel_093bc3d8a927\n",
      "{'impurity': 'entropy', 'maxDepth': 5, 'maxBins': 15}\n",
      "{1: {'impurity': 'entropy', 'maxDepth': 15, 'maxBins': 10}, 6: {'impurity': 'entropy', 'maxDepth': 2, 'maxBins': 15}, 3: {'impurity': 'gini', 'maxDepth': 15, 'maxBins': 15}, 5: {'impurity': 'entropy', 'maxDepth': 5, 'maxBins': 5}, 4: {'impurity': 'entropy', 'maxDepth': 5, 'maxBins': 15}}\n",
      "CrossValidatorModel_5b98c8b1a8bb\n",
      "{'impurity': 'entropy', 'maxDepth': 10, 'maxBins': 15}\n",
      "{1: {'impurity': 'entropy', 'maxDepth': 15, 'maxBins': 10}, 6: {'impurity': 'entropy', 'maxDepth': 2, 'maxBins': 15}, 3: {'impurity': 'gini', 'maxDepth': 15, 'maxBins': 15}, 5: {'impurity': 'entropy', 'maxDepth': 5, 'maxBins': 5}, 4: {'impurity': 'entropy', 'maxDepth': 5, 'maxBins': 15}, 2: {'impurity': 'entropy', 'maxDepth': 10, 'maxBins': 15}}\n",
      "CrossValidatorModel_5b2d173df49c\n",
      "{'impurity': 'entropy', 'maxDepth': 5, 'maxBins': 5}\n",
      "{1: {'impurity': 'entropy', 'maxDepth': 15, 'maxBins': 10}, 6: {'impurity': 'entropy', 'maxDepth': 2, 'maxBins': 15}, 3: {'impurity': 'gini', 'maxDepth': 15, 'maxBins': 15}, 5: {'impurity': 'entropy', 'maxDepth': 5, 'maxBins': 5}, 4: {'impurity': 'entropy', 'maxDepth': 5, 'maxBins': 15}, 2: {'impurity': 'entropy', 'maxDepth': 10, 'maxBins': 15}, 0: {'impurity': 'entropy', 'maxDepth': 5, 'maxBins': 5}}\n"
     ]
    }
   ],
   "source": [
    "optimals = exec_crossEvalTree(clusters_df, prediction_v)"
   ]
  },
  {
   "cell_type": "code",
   "execution_count": 136,
   "metadata": {
    "scrolled": true
   },
   "outputs": [
    {
     "data": {
      "text/plain": [
       "{1: {'impurity': 'entropy', 'maxDepth': 15, 'maxBins': 10},\n",
       " 6: {'impurity': 'entropy', 'maxDepth': 2, 'maxBins': 15},\n",
       " 3: {'impurity': 'gini', 'maxDepth': 15, 'maxBins': 15},\n",
       " 5: {'impurity': 'entropy', 'maxDepth': 5, 'maxBins': 5},\n",
       " 4: {'impurity': 'entropy', 'maxDepth': 5, 'maxBins': 15},\n",
       " 2: {'impurity': 'entropy', 'maxDepth': 10, 'maxBins': 15},\n",
       " 0: {'impurity': 'entropy', 'maxDepth': 5, 'maxBins': 5}}"
      ]
     },
     "execution_count": 136,
     "metadata": {},
     "output_type": "execute_result"
    }
   ],
   "source": [
    "optimals"
   ]
  },
  {
   "cell_type": "markdown",
   "metadata": {},
   "source": [
    "- Trasformiamo trainin e test in labeled point"
   ]
  },
  {
   "cell_type": "code",
   "execution_count": 146,
   "metadata": {},
   "outputs": [
    {
     "data": {
      "text/plain": [
       "DataFrame[age: int, job: string, marital: string, education: string, default: string, housing: string, loan: string, contact: string, month: string, day_of_week: string, duration: int, campaign: int, pdays: int, previous: int, poutcome: string, emp_var_rate: double, cons_price_idx: double, cons_conf_idx: double, euribor3m: double, nr_employed: double, y: double]"
      ]
     },
     "execution_count": 146,
     "metadata": {},
     "output_type": "execute_result"
    }
   ],
   "source": [
    "clusters_df[0]"
   ]
  },
  {
   "cell_type": "code",
   "execution_count": 57,
   "metadata": {},
   "outputs": [],
   "source": [
    "def splitted_trainTest(prediction_v, clusters_df, clusters_test_df):\n",
    "    splitted_clusters = {}\n",
    "    for i in prediction_v:\n",
    "        tr_i = clusters_df[i].rdd.map(lambda row: LabeledPoint(row[20], [row[0:1] + row[10:14] + row[15:20]]))\n",
    "        ts_i = clusters_test_df[i].rdd.map(lambda row: LabeledPoint(row[20], [row[0:1] + row[10:14] + row[15:20]]))\n",
    "        splitted_clusters[i] =[tr_i, ts_i] \n",
    "    return splitted_clusters"
   ]
  },
  {
   "cell_type": "code",
   "execution_count": 58,
   "metadata": {},
   "outputs": [],
   "source": [
    "splitted_clusters = splitted_trainTest(prediction_v, clusters_df, clusters_test_df)"
   ]
  },
  {
   "cell_type": "code",
   "execution_count": 59,
   "metadata": {},
   "outputs": [
    {
     "data": {
      "text/plain": [
       "{1: [PythonRDD[7932] at RDD at PythonRDD.scala:53,\n",
       "  PythonRDD[7933] at RDD at PythonRDD.scala:53],\n",
       " 6: [PythonRDD[7934] at RDD at PythonRDD.scala:53,\n",
       "  PythonRDD[7935] at RDD at PythonRDD.scala:53],\n",
       " 3: [PythonRDD[7936] at RDD at PythonRDD.scala:53,\n",
       "  PythonRDD[7937] at RDD at PythonRDD.scala:53],\n",
       " 5: [PythonRDD[7938] at RDD at PythonRDD.scala:53,\n",
       "  PythonRDD[7939] at RDD at PythonRDD.scala:53],\n",
       " 4: [PythonRDD[7940] at RDD at PythonRDD.scala:53,\n",
       "  PythonRDD[7941] at RDD at PythonRDD.scala:53],\n",
       " 2: [PythonRDD[7942] at RDD at PythonRDD.scala:53,\n",
       "  PythonRDD[7943] at RDD at PythonRDD.scala:53],\n",
       " 0: [PythonRDD[7944] at RDD at PythonRDD.scala:53,\n",
       "  PythonRDD[7945] at RDD at PythonRDD.scala:53]}"
      ]
     },
     "execution_count": 59,
     "metadata": {},
     "output_type": "execute_result"
    }
   ],
   "source": [
    "splitted_clusters"
   ]
  },
  {
   "cell_type": "code",
   "execution_count": 76,
   "metadata": {},
   "outputs": [],
   "source": [
    "def exec_clustersDT(df, prediction_v, optimals):\n",
    "    ll = []\n",
    "    for i in prediction_v:\n",
    "        cc = optimals[i]\n",
    "        train, test = df[i]\n",
    "        \n",
    "        # ---- \n",
    "        #       Parte per risolvere i problemi con la zip\n",
    "        c1 = train.coalesce(1, False)\n",
    "        c2 = test.coalesce(1, False)\n",
    "\n",
    "        c1_list = np.array(c1.collect())\n",
    "        c2_list = np.array(c2.collect())\n",
    "\n",
    "        train = sc.parallelize(c1_list, 15)\n",
    "        test = sc.parallelize(c2_list, 15)\n",
    "        \n",
    "        # ----\n",
    "        model = DT.trainClassifier(train, numClasses=2, \n",
    "                                             categoricalFeaturesInfo = {},\n",
    "                                            impurity = cc[\"impurity\"],\n",
    "                                            maxDepth=cc[\"maxDepth\"],\n",
    "                                            maxBins=cc[\"maxBins\"])\n",
    "        predictions = model.predict(test.map(lambda r: r.features))\n",
    "        # 2 - Etichette per performance\n",
    "        labels_ = predictions.zip(test.map(lambda r: r.label))\n",
    "        \n",
    "        ll.append(labels_)\n",
    "        print(\"Eseguito clusters \" + str(i))\n",
    "    return ll"
   ]
  },
  {
   "cell_type": "code",
   "execution_count": 77,
   "metadata": {
    "scrolled": true
   },
   "outputs": [
    {
     "name": "stdout",
     "output_type": "stream",
     "text": [
      "Eseguito clusters 1\n",
      "Eseguito clusters 6\n",
      "Eseguito clusters 3\n",
      "Eseguito clusters 5\n",
      "Eseguito clusters 4\n",
      "Eseguito clusters 2\n",
      "Eseguito clusters 0\n"
     ]
    }
   ],
   "source": [
    "ll = exec_clustersDT(splitted_clusters, prediction_v, optimals)"
   ]
  },
  {
   "cell_type": "markdown",
   "metadata": {},
   "source": [
    "- Unione di tutti gli rdd di labels per verificare i risultati"
   ]
  },
  {
   "cell_type": "code",
   "execution_count": 80,
   "metadata": {},
   "outputs": [],
   "source": [
    "ss = []\n",
    "for i in ll:\n",
    "    ss = ss + i.collect()"
   ]
  },
  {
   "cell_type": "code",
   "execution_count": 84,
   "metadata": {},
   "outputs": [],
   "source": [
    "res_tst =sc.parallelize(ss)"
   ]
  },
  {
   "cell_type": "code",
   "execution_count": 89,
   "metadata": {},
   "outputs": [
    {
     "name": "stdout",
     "output_type": "stream",
     "text": [
      "  Accuracy 0.908886208283072\n",
      "  F-1 Score         0.908886208283072\n",
      "  Precision (False) 0.9312857886517438\n",
      "  Precision (True) 0.6248624862486248\n",
      "  Recall (False)   0.9692099322799097\n",
      "  Recall (True)    0.4176470588235294\n",
      "  Confusion Matrix\n",
      "[[10734.   341.]\n",
      " [  792.   568.]]\n"
     ]
    },
    {
     "data": {
      "image/png": "[encoded data removed]",
      "text/plain": [
       "<Figure size 576x396 with 2 Axes>"
      ]
     },
     "metadata": {},
     "output_type": "display_data"
    }
   ],
   "source": [
    "performance(res_tst, \"Risultati totali decision tree sul clustering\")"
   ]
  },
  {
   "cell_type": "code",
   "execution_count": null,
   "metadata": {},
   "outputs": [],
   "source": []
  }
 ],
 "metadata": {
  "kernelspec": {
   "display_name": "Python 3",
   "language": "python",
   "name": "python3"
  },
  "language_info": {
   "codemirror_mode": {
    "name": "ipython",
    "version": 3
   },
   "file_extension": ".py",
   "mimetype": "text/x-python",
   "name": "python",
   "nbconvert_exporter": "python",
   "pygments_lexer": "ipython3",
   "version": "3.7.6"
  }
 },
 "nbformat": 4,
 "nbformat_minor": 4
}
