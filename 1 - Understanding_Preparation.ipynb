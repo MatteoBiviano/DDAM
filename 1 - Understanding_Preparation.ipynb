{
 "cells": [
  {
   "cell_type": "markdown",
   "metadata": {},
   "source": [
    "### Inizializzazione del contesto Spark"
   ]
  },
  {
   "cell_type": "code",
   "execution_count": 1,
   "metadata": {},
   "outputs": [],
   "source": [
    "import pyspark\n",
    "sc = pyspark.SparkContext()"
   ]
  },
  {
   "cell_type": "code",
   "execution_count": 2,
   "metadata": {},
   "outputs": [],
   "source": [
    "import matplotlib.pyplot as plt\n",
    "from collections import OrderedDict\n",
    "from pyspark.sql.functions import when, lit, avg, exp, col, UserDefinedFunction\n",
    "import seaborn as sns\n",
    "from pyspark.mllib.stat import Statistics\n",
    "import pandas as pd\n",
    "import pyspark.sql.functions as F\n",
    "import copy\n",
    "from pyspark.sql import Row, Column\n",
    "from plotnine import *\n",
    "from pyspark.sql.types import StringType, IntegerType\n",
    "import plotly.graph_objects as go\n",
    "import numpy as np"
   ]
  },
  {
   "cell_type": "markdown",
   "metadata": {},
   "source": [
    "### Istanziamo una sessione spark con il \"builder()\"\n",
    "- getOrCreate() Per accedere alla sessione spark corrente (o crearne una nuova se non ce ne sono attive)"
   ]
  },
  {
   "cell_type": "code",
   "execution_count": 3,
   "metadata": {},
   "outputs": [],
   "source": [
    "from pyspark.sql import SparkSession\n",
    "from pyspark.sql.types import StructType, StructField\n",
    "spark = SparkSession.builder \\\n",
    "    .config(\"spark.some.config.option\", \"some-value\") \\\n",
    "    .getOrCreate()"
   ]
  },
  {
   "cell_type": "markdown",
   "metadata": {},
   "source": [
    "### Path del File"
   ]
  },
  {
   "cell_type": "code",
   "execution_count": 4,
   "metadata": {},
   "outputs": [],
   "source": [
    "hdfs_path = \"hdfs://kddrtserver13.isti.cnr.it:9000/user/hpsa15/bank-additional-full.csv\""
   ]
  },
  {
   "cell_type": "markdown",
   "metadata": {},
   "source": [
    "### Lettura del csv come DataFrame - con inferenza schema automatica"
   ]
  },
  {
   "cell_type": "code",
   "execution_count": 5,
   "metadata": {},
   "outputs": [],
   "source": [
    "kdd_df = spark.read.options(inferSchema = True, delimiter = ';', header = True).csv(hdfs_path)"
   ]
  },
  {
   "cell_type": "code",
   "execution_count": 6,
   "metadata": {
    "scrolled": true
   },
   "outputs": [
    {
     "name": "stdout",
     "output_type": "stream",
     "text": [
      "root\n",
      " |-- age: integer (nullable = true)\n",
      " |-- job: string (nullable = true)\n",
      " |-- marital: string (nullable = true)\n",
      " |-- education: string (nullable = true)\n",
      " |-- default: string (nullable = true)\n",
      " |-- housing: string (nullable = true)\n",
      " |-- loan: string (nullable = true)\n",
      " |-- contact: string (nullable = true)\n",
      " |-- month: string (nullable = true)\n",
      " |-- day_of_week: string (nullable = true)\n",
      " |-- duration: integer (nullable = true)\n",
      " |-- campaign: integer (nullable = true)\n",
      " |-- pdays: integer (nullable = true)\n",
      " |-- previous: integer (nullable = true)\n",
      " |-- poutcome: string (nullable = true)\n",
      " |-- emp.var.rate: double (nullable = true)\n",
      " |-- cons.price.idx: double (nullable = true)\n",
      " |-- cons.conf.idx: double (nullable = true)\n",
      " |-- euribor3m: double (nullable = true)\n",
      " |-- nr.employed: double (nullable = true)\n",
      " |-- y: string (nullable = true)\n",
      "\n"
     ]
    }
   ],
   "source": [
    "kdd_df.printSchema()"
   ]
  },
  {
   "cell_type": "code",
   "execution_count": 7,
   "metadata": {},
   "outputs": [
    {
     "data": {
      "text/plain": [
       "[('age', 'int'),\n",
       " ('job', 'string'),\n",
       " ('marital', 'string'),\n",
       " ('education', 'string'),\n",
       " ('default', 'string'),\n",
       " ('housing', 'string'),\n",
       " ('loan', 'string'),\n",
       " ('contact', 'string'),\n",
       " ('month', 'string'),\n",
       " ('day_of_week', 'string'),\n",
       " ('duration', 'int'),\n",
       " ('campaign', 'int'),\n",
       " ('pdays', 'int'),\n",
       " ('previous', 'int'),\n",
       " ('poutcome', 'string'),\n",
       " ('emp.var.rate', 'double'),\n",
       " ('cons.price.idx', 'double'),\n",
       " ('cons.conf.idx', 'double'),\n",
       " ('euribor3m', 'double'),\n",
       " ('nr.employed', 'double'),\n",
       " ('y', 'string')]"
      ]
     },
     "execution_count": 7,
     "metadata": {},
     "output_type": "execute_result"
    }
   ],
   "source": [
    "kdd_df.dtypes"
   ]
  },
  {
   "cell_type": "code",
   "execution_count": 8,
   "metadata": {},
   "outputs": [],
   "source": [
    "kdd_df = kdd_df.withColumnRenamed(\"emp.var.rate\",\"emp_var_rate\").withColumnRenamed(\"cons.price.idx\",\"cons_price_idx\")\n",
    "kdd_df = kdd_df.withColumnRenamed(\"cons.conf.idx\",\"cons_conf_idx\").withColumnRenamed(\"nr.employed\",\"nr_employed\")"
   ]
  },
  {
   "cell_type": "code",
   "execution_count": 9,
   "metadata": {},
   "outputs": [
    {
     "data": {
      "text/plain": [
       "DataFrame[age: int, job: string, marital: string, education: string, default: string, housing: string, loan: string, contact: string, month: string, day_of_week: string, duration: int, campaign: int, pdays: int, previous: int, poutcome: string, emp_var_rate: double, cons_price_idx: double, cons_conf_idx: double, euribor3m: double, nr_employed: double, y: string]"
      ]
     },
     "execution_count": 9,
     "metadata": {},
     "output_type": "execute_result"
    }
   ],
   "source": [
    "kdd_df"
   ]
  },
  {
   "cell_type": "markdown",
   "metadata": {},
   "source": [
    "## Drop righe duplicate"
   ]
  },
  {
   "cell_type": "code",
   "execution_count": 10,
   "metadata": {},
   "outputs": [
    {
     "name": "stdout",
     "output_type": "stream",
     "text": [
      "Distinct count: 41176\n"
     ]
    }
   ],
   "source": [
    "not_duplicated_df = kdd_df.distinct()\n",
    "print(\"Distinct count: \" + str(not_duplicated_df.count()))"
   ]
  },
  {
   "cell_type": "markdown",
   "metadata": {},
   "source": [
    "### Lettura come RDD"
   ]
  },
  {
   "cell_type": "code",
   "execution_count": 12,
   "metadata": {},
   "outputs": [],
   "source": [
    "kdd_rdd = sc.textFile(hdfs_path)"
   ]
  },
  {
   "cell_type": "code",
   "execution_count": 13,
   "metadata": {},
   "outputs": [],
   "source": [
    "p = kdd_rdd.collect() "
   ]
  },
  {
   "cell_type": "code",
   "execution_count": 14,
   "metadata": {},
   "outputs": [
    {
     "data": {
      "text/plain": [
       "['\"age\";\"job\";\"marital\";\"education\";\"default\";\"housing\";\"loan\";\"contact\";\"month\";\"day_of_week\";\"duration\";\"campaign\";\"pdays\";\"previous\";\"poutcome\";\"emp.var.rate\";\"cons.price.idx\";\"cons.conf.idx\";\"euribor3m\";\"nr.employed\";\"y\"',\n",
       " '56;\"housemaid\";\"married\";\"basic.4y\";\"no\";\"no\";\"no\";\"telephone\";\"may\";\"mon\";261;1;999;0;\"nonexistent\";1.1;93.994;-36.4;4.857;5191;\"no\"',\n",
       " '57;\"services\";\"married\";\"high.school\";\"unknown\";\"no\";\"no\";\"telephone\";\"may\";\"mon\";149;1;999;0;\"nonexistent\";1.1;93.994;-36.4;4.857;5191;\"no\"',\n",
       " '37;\"services\";\"married\";\"high.school\";\"no\";\"yes\";\"no\";\"telephone\";\"may\";\"mon\";226;1;999;0;\"nonexistent\";1.1;93.994;-36.4;4.857;5191;\"no\"',\n",
       " '40;\"admin.\";\"married\";\"basic.6y\";\"no\";\"no\";\"no\";\"telephone\";\"may\";\"mon\";151;1;999;0;\"nonexistent\";1.1;93.994;-36.4;4.857;5191;\"no\"',\n",
       " '56;\"services\";\"married\";\"high.school\";\"no\";\"no\";\"yes\";\"telephone\";\"may\";\"mon\";307;1;999;0;\"nonexistent\";1.1;93.994;-36.4;4.857;5191;\"no\"',\n",
       " '45;\"services\";\"married\";\"basic.9y\";\"unknown\";\"no\";\"no\";\"telephone\";\"may\";\"mon\";198;1;999;0;\"nonexistent\";1.1;93.994;-36.4;4.857;5191;\"no\"',\n",
       " '59;\"admin.\";\"married\";\"professional.course\";\"no\";\"no\";\"no\";\"telephone\";\"may\";\"mon\";139;1;999;0;\"nonexistent\";1.1;93.994;-36.4;4.857;5191;\"no\"',\n",
       " '41;\"blue-collar\";\"married\";\"unknown\";\"unknown\";\"no\";\"no\";\"telephone\";\"may\";\"mon\";217;1;999;0;\"nonexistent\";1.1;93.994;-36.4;4.857;5191;\"no\"',\n",
       " '24;\"technician\";\"single\";\"professional.course\";\"no\";\"yes\";\"no\";\"telephone\";\"may\";\"mon\";380;1;999;0;\"nonexistent\";1.1;93.994;-36.4;4.857;5191;\"no\"',\n",
       " '25;\"services\";\"single\";\"high.school\";\"no\";\"yes\";\"no\";\"telephone\";\"may\";\"mon\";50;1;999;0;\"nonexistent\";1.1;93.994;-36.4;4.857;5191;\"no\"',\n",
       " '41;\"blue-collar\";\"married\";\"unknown\";\"unknown\";\"no\";\"no\";\"telephone\";\"may\";\"mon\";55;1;999;0;\"nonexistent\";1.1;93.994;-36.4;4.857;5191;\"no\"',\n",
       " '25;\"services\";\"single\";\"high.school\";\"no\";\"yes\";\"no\";\"telephone\";\"may\";\"mon\";222;1;999;0;\"nonexistent\";1.1;93.994;-36.4;4.857;5191;\"no\"',\n",
       " '29;\"blue-collar\";\"single\";\"high.school\";\"no\";\"no\";\"yes\";\"telephone\";\"may\";\"mon\";137;1;999;0;\"nonexistent\";1.1;93.994;-36.4;4.857;5191;\"no\"',\n",
       " '57;\"housemaid\";\"divorced\";\"basic.4y\";\"no\";\"yes\";\"no\";\"telephone\";\"may\";\"mon\";293;1;999;0;\"nonexistent\";1.1;93.994;-36.4;4.857;5191;\"no\"',\n",
       " '35;\"blue-collar\";\"married\";\"basic.6y\";\"no\";\"yes\";\"no\";\"telephone\";\"may\";\"mon\";146;1;999;0;\"nonexistent\";1.1;93.994;-36.4;4.857;5191;\"no\"',\n",
       " '54;\"retired\";\"married\";\"basic.9y\";\"unknown\";\"yes\";\"yes\";\"telephone\";\"may\";\"mon\";174;1;999;0;\"nonexistent\";1.1;93.994;-36.4;4.857;5191;\"no\"',\n",
       " '35;\"blue-collar\";\"married\";\"basic.6y\";\"no\";\"yes\";\"no\";\"telephone\";\"may\";\"mon\";312;1;999;0;\"nonexistent\";1.1;93.994;-36.4;4.857;5191;\"no\"',\n",
       " '46;\"blue-collar\";\"married\";\"basic.6y\";\"unknown\";\"yes\";\"yes\";\"telephone\";\"may\";\"mon\";440;1;999;0;\"nonexistent\";1.1;93.994;-36.4;4.857;5191;\"no\"',\n",
       " '50;\"blue-collar\";\"married\";\"basic.9y\";\"no\";\"yes\";\"yes\";\"telephone\";\"may\";\"mon\";353;1;999;0;\"nonexistent\";1.1;93.994;-36.4;4.857;5191;\"no\"',\n",
       " '39;\"management\";\"single\";\"basic.9y\";\"unknown\";\"no\";\"no\";\"telephone\";\"may\";\"mon\";195;1;999;0;\"nonexistent\";1.1;93.994;-36.4;4.857;5191;\"no\"',\n",
       " '30;\"unemployed\";\"married\";\"high.school\";\"no\";\"no\";\"no\";\"telephone\";\"may\";\"mon\";38;1;999;0;\"nonexistent\";1.1;93.994;-36.4;4.857;5191;\"no\"',\n",
       " '55;\"blue-collar\";\"married\";\"basic.4y\";\"unknown\";\"yes\";\"no\";\"telephone\";\"may\";\"mon\";262;1;999;0;\"nonexistent\";1.1;93.994;-36.4;4.857;5191;\"no\"',\n",
       " '55;\"retired\";\"single\";\"high.school\";\"no\";\"yes\";\"no\";\"telephone\";\"may\";\"mon\";342;1;999;0;\"nonexistent\";1.1;93.994;-36.4;4.857;5191;\"no\"',\n",
       " '41;\"technician\";\"single\";\"high.school\";\"no\";\"yes\";\"no\";\"telephone\";\"may\";\"mon\";181;1;999;0;\"nonexistent\";1.1;93.994;-36.4;4.857;5191;\"no\"',\n",
       " '37;\"admin.\";\"married\";\"high.school\";\"no\";\"yes\";\"no\";\"telephone\";\"may\";\"mon\";172;1;999;0;\"nonexistent\";1.1;93.994;-36.4;4.857;5191;\"no\"',\n",
       " '35;\"technician\";\"married\";\"university.degree\";\"no\";\"no\";\"yes\";\"telephone\";\"may\";\"mon\";99;1;999;0;\"nonexistent\";1.1;93.994;-36.4;4.857;5191;\"no\"',\n",
       " '59;\"technician\";\"married\";\"unknown\";\"no\";\"yes\";\"no\";\"telephone\";\"may\";\"mon\";93;1;999;0;\"nonexistent\";1.1;93.994;-36.4;4.857;5191;\"no\"',\n",
       " '39;\"self-employed\";\"married\";\"basic.9y\";\"unknown\";\"no\";\"no\";\"telephone\";\"may\";\"mon\";233;1;999;0;\"nonexistent\";1.1;93.994;-36.4;4.857;5191;\"no\"',\n",
       " '54;\"technician\";\"single\";\"university.degree\";\"unknown\";\"no\";\"no\";\"telephone\";\"may\";\"mon\";255;2;999;0;\"nonexistent\";1.1;93.994;-36.4;4.857;5191;\"no\"',\n",
       " '55;\"unknown\";\"married\";\"university.degree\";\"unknown\";\"unknown\";\"unknown\";\"telephone\";\"may\";\"mon\";362;1;999;0;\"nonexistent\";1.1;93.994;-36.4;4.857;5191;\"no\"',\n",
       " '46;\"admin.\";\"married\";\"unknown\";\"no\";\"no\";\"no\";\"telephone\";\"may\";\"mon\";348;1;999;0;\"nonexistent\";1.1;93.994;-36.4;4.857;5191;\"no\"',\n",
       " '59;\"technician\";\"married\";\"unknown\";\"no\";\"yes\";\"no\";\"telephone\";\"may\";\"mon\";386;1;999;0;\"nonexistent\";1.1;93.994;-36.4;4.857;5191;\"no\"',\n",
       " '49;\"blue-collar\";\"married\";\"unknown\";\"no\";\"no\";\"no\";\"telephone\";\"may\";\"mon\";73;1;999;0;\"nonexistent\";1.1;93.994;-36.4;4.857;5191;\"no\"',\n",
       " '54;\"management\";\"married\";\"basic.4y\";\"unknown\";\"yes\";\"no\";\"telephone\";\"may\";\"mon\";230;1;999;0;\"nonexistent\";1.1;93.994;-36.4;4.857;5191;\"no\"',\n",
       " '54;\"blue-collar\";\"divorced\";\"basic.4y\";\"no\";\"no\";\"no\";\"telephone\";\"may\";\"mon\";208;1;999;0;\"nonexistent\";1.1;93.994;-36.4;4.857;5191;\"no\"',\n",
       " '55;\"unknown\";\"married\";\"basic.4y\";\"unknown\";\"yes\";\"no\";\"telephone\";\"may\";\"mon\";336;1;999;0;\"nonexistent\";1.1;93.994;-36.4;4.857;5191;\"no\"',\n",
       " '34;\"services\";\"married\";\"high.school\";\"no\";\"no\";\"no\";\"telephone\";\"may\";\"mon\";365;1;999;0;\"nonexistent\";1.1;93.994;-36.4;4.857;5191;\"no\"',\n",
       " '52;\"technician\";\"married\";\"basic.9y\";\"no\";\"yes\";\"no\";\"telephone\";\"may\";\"mon\";1666;1;999;0;\"nonexistent\";1.1;93.994;-36.4;4.857;5191;\"no\"',\n",
       " '41;\"admin.\";\"married\";\"university.degree\";\"no\";\"yes\";\"no\";\"telephone\";\"may\";\"mon\";577;1;999;0;\"nonexistent\";1.1;93.994;-36.4;4.857;5191;\"no\"',\n",
       " '56;\"technician\";\"married\";\"basic.4y\";\"no\";\"yes\";\"no\";\"telephone\";\"may\";\"mon\";137;1;999;0;\"nonexistent\";1.1;93.994;-36.4;4.857;5191;\"no\"',\n",
       " '58;\"management\";\"unknown\";\"university.degree\";\"no\";\"yes\";\"no\";\"telephone\";\"may\";\"mon\";366;1;999;0;\"nonexistent\";1.1;93.994;-36.4;4.857;5191;\"no\"',\n",
       " '32;\"entrepreneur\";\"married\";\"high.school\";\"no\";\"yes\";\"no\";\"telephone\";\"may\";\"mon\";314;1;999;0;\"nonexistent\";1.1;93.994;-36.4;4.857;5191;\"no\"',\n",
       " '38;\"admin.\";\"single\";\"professional.course\";\"no\";\"no\";\"no\";\"telephone\";\"may\";\"mon\";160;1;999;0;\"nonexistent\";1.1;93.994;-36.4;4.857;5191;\"no\"',\n",
       " '57;\"admin.\";\"married\";\"university.degree\";\"no\";\"no\";\"yes\";\"telephone\";\"may\";\"mon\";212;1;999;0;\"nonexistent\";1.1;93.994;-36.4;4.857;5191;\"no\"',\n",
       " '44;\"admin.\";\"married\";\"university.degree\";\"unknown\";\"yes\";\"no\";\"telephone\";\"may\";\"mon\";188;1;999;0;\"nonexistent\";1.1;93.994;-36.4;4.857;5191;\"no\"',\n",
       " '42;\"technician\";\"single\";\"professional.course\";\"unknown\";\"no\";\"no\";\"telephone\";\"may\";\"mon\";22;1;999;0;\"nonexistent\";1.1;93.994;-36.4;4.857;5191;\"no\"',\n",
       " '57;\"admin.\";\"married\";\"university.degree\";\"no\";\"yes\";\"yes\";\"telephone\";\"may\";\"mon\";616;1;999;0;\"nonexistent\";1.1;93.994;-36.4;4.857;5191;\"no\"',\n",
       " '40;\"blue-collar\";\"married\";\"basic.9y\";\"no\";\"no\";\"yes\";\"telephone\";\"may\";\"mon\";178;1;999;0;\"nonexistent\";1.1;93.994;-36.4;4.857;5191;\"no\"',\n",
       " '35;\"admin.\";\"married\";\"university.degree\";\"no\";\"yes\";\"no\";\"telephone\";\"may\";\"mon\";355;1;999;0;\"nonexistent\";1.1;93.994;-36.4;4.857;5191;\"no\"',\n",
       " '45;\"blue-collar\";\"married\";\"basic.9y\";\"no\";\"yes\";\"no\";\"telephone\";\"may\";\"mon\";225;2;999;0;\"nonexistent\";1.1;93.994;-36.4;4.857;5191;\"no\"',\n",
       " '54;\"admin.\";\"married\";\"high.school\";\"no\";\"no\";\"no\";\"telephone\";\"may\";\"mon\";160;1;999;0;\"nonexistent\";1.1;93.994;-36.4;4.857;5191;\"no\"',\n",
       " '39;\"housemaid\";\"married\";\"basic.4y\";\"no\";\"no\";\"yes\";\"telephone\";\"may\";\"mon\";266;1;999;0;\"nonexistent\";1.1;93.994;-36.4;4.857;5191;\"no\"',\n",
       " '60;\"admin.\";\"married\";\"high.school\";\"no\";\"no\";\"no\";\"telephone\";\"may\";\"mon\";253;1;999;0;\"nonexistent\";1.1;93.994;-36.4;4.857;5191;\"no\"',\n",
       " '53;\"admin.\";\"single\";\"professional.course\";\"no\";\"no\";\"no\";\"telephone\";\"may\";\"mon\";179;1;999;0;\"nonexistent\";1.1;93.994;-36.4;4.857;5191;\"no\"',\n",
       " '55;\"blue-collar\";\"married\";\"basic.4y\";\"unknown\";\"no\";\"no\";\"telephone\";\"may\";\"mon\";269;2;999;0;\"nonexistent\";1.1;93.994;-36.4;4.857;5191;\"no\"',\n",
       " '55;\"technician\";\"married\";\"professional.course\";\"unknown\";\"yes\";\"no\";\"telephone\";\"may\";\"mon\";135;1;999;0;\"nonexistent\";1.1;93.994;-36.4;4.857;5191;\"no\"',\n",
       " '50;\"management\";\"married\";\"university.degree\";\"unknown\";\"no\";\"yes\";\"telephone\";\"may\";\"mon\";161;1;999;0;\"nonexistent\";1.1;93.994;-36.4;4.857;5191;\"no\"',\n",
       " '45;\"services\";\"married\";\"high.school\";\"unknown\";\"yes\";\"no\";\"telephone\";\"may\";\"mon\";787;1;999;0;\"nonexistent\";1.1;93.994;-36.4;4.857;5191;\"no\"',\n",
       " '55;\"unemployed\";\"married\";\"professional.course\";\"unknown\";\"yes\";\"yes\";\"telephone\";\"may\";\"mon\";145;1;999;0;\"nonexistent\";1.1;93.994;-36.4;4.857;5191;\"no\"',\n",
       " '25;\"technician\";\"single\";\"university.degree\";\"no\";\"yes\";\"no\";\"telephone\";\"may\";\"mon\";174;1;999;0;\"nonexistent\";1.1;93.994;-36.4;4.857;5191;\"no\"',\n",
       " '47;\"entrepreneur\";\"married\";\"university.degree\";\"unknown\";\"no\";\"no\";\"telephone\";\"may\";\"mon\";449;1;999;0;\"nonexistent\";1.1;93.994;-36.4;4.857;5191;\"no\"',\n",
       " '51;\"blue-collar\";\"married\";\"basic.9y\";\"no\";\"yes\";\"no\";\"telephone\";\"may\";\"mon\";812;1;999;0;\"nonexistent\";1.1;93.994;-36.4;4.857;5191;\"no\"',\n",
       " '42;\"blue-collar\";\"married\";\"basic.6y\";\"unknown\";\"yes\";\"no\";\"telephone\";\"may\";\"mon\";164;1;999;0;\"nonexistent\";1.1;93.994;-36.4;4.857;5191;\"no\"',\n",
       " '42;\"blue-collar\";\"married\";\"basic.6y\";\"unknown\";\"no\";\"no\";\"telephone\";\"may\";\"mon\";366;1;999;0;\"nonexistent\";1.1;93.994;-36.4;4.857;5191;\"no\"',\n",
       " '48;\"admin.\";\"married\";\"high.school\";\"no\";\"no\";\"no\";\"telephone\";\"may\";\"mon\";357;1;999;0;\"nonexistent\";1.1;93.994;-36.4;4.857;5191;\"no\"',\n",
       " '37;\"admin.\";\"married\";\"university.degree\";\"no\";\"no\";\"no\";\"telephone\";\"may\";\"mon\";232;1;999;0;\"nonexistent\";1.1;93.994;-36.4;4.857;5191;\"no\"',\n",
       " '44;\"blue-collar\";\"single\";\"basic.9y\";\"no\";\"yes\";\"no\";\"telephone\";\"may\";\"mon\";91;1;999;0;\"nonexistent\";1.1;93.994;-36.4;4.857;5191;\"no\"',\n",
       " '33;\"admin.\";\"married\";\"unknown\";\"no\";\"yes\";\"no\";\"telephone\";\"may\";\"mon\";273;1;999;0;\"nonexistent\";1.1;93.994;-36.4;4.857;5191;\"no\"',\n",
       " '56;\"admin.\";\"married\";\"basic.9y\";\"no\";\"yes\";\"no\";\"telephone\";\"may\";\"mon\";158;2;999;0;\"nonexistent\";1.1;93.994;-36.4;4.857;5191;\"no\"',\n",
       " '44;\"blue-collar\";\"single\";\"basic.4y\";\"unknown\";\"yes\";\"yes\";\"telephone\";\"may\";\"mon\";177;1;999;0;\"nonexistent\";1.1;93.994;-36.4;4.857;5191;\"no\"',\n",
       " '41;\"management\";\"married\";\"basic.6y\";\"no\";\"no\";\"no\";\"telephone\";\"may\";\"mon\";200;1;999;0;\"nonexistent\";1.1;93.994;-36.4;4.857;5191;\"no\"',\n",
       " '44;\"management\";\"divorced\";\"university.degree\";\"no\";\"yes\";\"no\";\"telephone\";\"may\";\"mon\";172;1;999;0;\"nonexistent\";1.1;93.994;-36.4;4.857;5191;\"no\"',\n",
       " '47;\"admin.\";\"married\";\"university.degree\";\"unknown\";\"yes\";\"no\";\"telephone\";\"may\";\"mon\";176;1;999;0;\"nonexistent\";1.1;93.994;-36.4;4.857;5191;\"no\"',\n",
       " '57;\"unknown\";\"married\";\"unknown\";\"unknown\";\"no\";\"no\";\"telephone\";\"may\";\"mon\";211;1;999;0;\"nonexistent\";1.1;93.994;-36.4;4.857;5191;\"no\"',\n",
       " '37;\"admin.\";\"married\";\"university.degree\";\"unknown\";\"yes\";\"no\";\"telephone\";\"may\";\"mon\";214;1;999;0;\"nonexistent\";1.1;93.994;-36.4;4.857;5191;\"no\"',\n",
       " '41;\"blue-collar\";\"divorced\";\"basic.4y\";\"unknown\";\"yes\";\"no\";\"telephone\";\"may\";\"mon\";1575;1;999;0;\"nonexistent\";1.1;93.994;-36.4;4.857;5191;\"yes\"',\n",
       " '55;\"technician\";\"married\";\"university.degree\";\"no\";\"no\";\"no\";\"telephone\";\"may\";\"mon\";349;1;999;0;\"nonexistent\";1.1;93.994;-36.4;4.857;5191;\"no\"',\n",
       " '33;\"services\";\"married\";\"high.school\";\"unknown\";\"yes\";\"no\";\"telephone\";\"may\";\"mon\";337;2;999;0;\"nonexistent\";1.1;93.994;-36.4;4.857;5191;\"no\"',\n",
       " '55;\"management\";\"married\";\"unknown\";\"unknown\";\"yes\";\"no\";\"telephone\";\"may\";\"mon\";272;1;999;0;\"nonexistent\";1.1;93.994;-36.4;4.857;5191;\"no\"',\n",
       " '42;\"blue-collar\";\"married\";\"basic.9y\";\"unknown\";\"no\";\"no\";\"telephone\";\"may\";\"mon\";208;1;999;0;\"nonexistent\";1.1;93.994;-36.4;4.857;5191;\"no\"',\n",
       " '50;\"blue-collar\";\"married\";\"basic.4y\";\"unknown\";\"yes\";\"no\";\"telephone\";\"may\";\"mon\";193;1;999;0;\"nonexistent\";1.1;93.994;-36.4;4.857;5191;\"no\"',\n",
       " '51;\"blue-collar\";\"married\";\"basic.4y\";\"unknown\";\"unknown\";\"unknown\";\"telephone\";\"may\";\"mon\";212;1;999;0;\"nonexistent\";1.1;93.994;-36.4;4.857;5191;\"no\"',\n",
       " '38;\"admin.\";\"married\";\"high.school\";\"unknown\";\"no\";\"no\";\"telephone\";\"may\";\"mon\";165;2;999;0;\"nonexistent\";1.1;93.994;-36.4;4.857;5191;\"no\"',\n",
       " '49;\"entrepreneur\";\"married\";\"university.degree\";\"unknown\";\"yes\";\"no\";\"telephone\";\"may\";\"mon\";1042;1;999;0;\"nonexistent\";1.1;93.994;-36.4;4.857;5191;\"yes\"',\n",
       " '38;\"technician\";\"single\";\"university.degree\";\"no\";\"no\";\"yes\";\"telephone\";\"may\";\"mon\";20;1;999;0;\"nonexistent\";1.1;93.994;-36.4;4.857;5191;\"no\"',\n",
       " '31;\"admin.\";\"divorced\";\"high.school\";\"no\";\"no\";\"no\";\"telephone\";\"may\";\"mon\";246;1;999;0;\"nonexistent\";1.1;93.994;-36.4;4.857;5191;\"no\"',\n",
       " '41;\"management\";\"married\";\"basic.6y\";\"no\";\"no\";\"no\";\"telephone\";\"may\";\"mon\";529;2;999;0;\"nonexistent\";1.1;93.994;-36.4;4.857;5191;\"no\"',\n",
       " '39;\"admin.\";\"married\";\"university.degree\";\"no\";\"yes\";\"yes\";\"telephone\";\"may\";\"mon\";192;1;999;0;\"nonexistent\";1.1;93.994;-36.4;4.857;5191;\"no\"',\n",
       " '49;\"technician\";\"married\";\"basic.9y\";\"no\";\"no\";\"no\";\"telephone\";\"may\";\"mon\";1467;1;999;0;\"nonexistent\";1.1;93.994;-36.4;4.857;5191;\"yes\"',\n",
       " '34;\"admin.\";\"married\";\"high.school\";\"no\";\"yes\";\"no\";\"telephone\";\"may\";\"mon\";188;2;999;0;\"nonexistent\";1.1;93.994;-36.4;4.857;5191;\"no\"',\n",
       " '35;\"admin.\";\"married\";\"university.degree\";\"no\";\"yes\";\"no\";\"telephone\";\"may\";\"mon\";180;2;999;0;\"nonexistent\";1.1;93.994;-36.4;4.857;5191;\"no\"',\n",
       " '57;\"unknown\";\"married\";\"unknown\";\"unknown\";\"yes\";\"no\";\"telephone\";\"may\";\"mon\";48;1;999;0;\"nonexistent\";1.1;93.994;-36.4;4.857;5191;\"no\"',\n",
       " '60;\"admin.\";\"married\";\"unknown\";\"unknown\";\"no\";\"yes\";\"telephone\";\"may\";\"mon\";213;2;999;0;\"nonexistent\";1.1;93.994;-36.4;4.857;5191;\"no\"',\n",
       " '33;\"unemployed\";\"married\";\"basic.9y\";\"no\";\"no\";\"no\";\"telephone\";\"may\";\"mon\";545;1;999;0;\"nonexistent\";1.1;93.994;-36.4;4.857;5191;\"no\"',\n",
       " '42;\"blue-collar\";\"married\";\"basic.6y\";\"no\";\"no\";\"yes\";\"telephone\";\"may\";\"mon\";583;1;999;0;\"nonexistent\";1.1;93.994;-36.4;4.857;5191;\"no\"',\n",
       " '45;\"services\";\"married\";\"professional.course\";\"no\";\"yes\";\"no\";\"telephone\";\"may\";\"mon\";221;1;999;0;\"nonexistent\";1.1;93.994;-36.4;4.857;5191;\"no\"',\n",
       " '42;\"management\";\"married\";\"university.degree\";\"no\";\"no\";\"no\";\"telephone\";\"may\";\"mon\";426;1;999;0;\"nonexistent\";1.1;93.994;-36.4;4.857;5191;\"no\"',\n",
       " '53;\"admin.\";\"divorced\";\"university.degree\";\"unknown\";\"no\";\"no\";\"telephone\";\"may\";\"mon\";287;1;999;0;\"nonexistent\";1.1;93.994;-36.4;4.857;5191;\"no\"',\n",
       " '37;\"technician\";\"single\";\"professional.course\";\"no\";\"no\";\"no\";\"telephone\";\"may\";\"mon\";197;1;999;0;\"nonexistent\";1.1;93.994;-36.4;4.857;5191;\"no\"',\n",
       " '44;\"blue-collar\";\"married\";\"basic.6y\";\"no\";\"no\";\"no\";\"telephone\";\"may\";\"mon\";257;1;999;0;\"nonexistent\";1.1;93.994;-36.4;4.857;5191;\"no\"',\n",
       " '54;\"services\";\"married\";\"unknown\";\"no\";\"yes\";\"no\";\"telephone\";\"may\";\"mon\";229;1;999;0;\"nonexistent\";1.1;93.994;-36.4;4.857;5191;\"no\"',\n",
       " '49;\"blue-collar\";\"married\";\"basic.4y\";\"no\";\"no\";\"no\";\"telephone\";\"may\";\"mon\";55;3;999;0;\"nonexistent\";1.1;93.994;-36.4;4.857;5191;\"no\"',\n",
       " '54;\"services\";\"married\";\"unknown\";\"no\";\"no\";\"no\";\"telephone\";\"may\";\"mon\";400;1;999;0;\"nonexistent\";1.1;93.994;-36.4;4.857;5191;\"no\"',\n",
       " '52;\"admin.\";\"divorced\";\"university.degree\";\"no\";\"no\";\"no\";\"telephone\";\"may\";\"mon\";197;1;999;0;\"nonexistent\";1.1;93.994;-36.4;4.857;5191;\"no\"',\n",
       " '52;\"admin.\";\"divorced\";\"university.degree\";\"no\";\"no\";\"no\";\"telephone\";\"may\";\"mon\";190;1;999;0;\"nonexistent\";1.1;93.994;-36.4;4.857;5191;\"no\"',\n",
       " '43;\"services\";\"single\";\"high.school\";\"unknown\";\"no\";\"no\";\"telephone\";\"may\";\"mon\";21;1;999;0;\"nonexistent\";1.1;93.994;-36.4;4.857;5191;\"no\"',\n",
       " '34;\"housemaid\";\"married\";\"basic.6y\";\"no\";\"yes\";\"no\";\"telephone\";\"may\";\"mon\";300;2;999;0;\"nonexistent\";1.1;93.994;-36.4;4.857;5191;\"no\"',\n",
       " '35;\"admin.\";\"married\";\"high.school\";\"no\";\"yes\";\"no\";\"telephone\";\"may\";\"mon\";123;2;999;0;\"nonexistent\";1.1;93.994;-36.4;4.857;5191;\"no\"',\n",
       " '42;\"entrepreneur\";\"married\";\"unknown\";\"unknown\";\"yes\";\"no\";\"telephone\";\"may\";\"mon\";293;1;999;0;\"nonexistent\";1.1;93.994;-36.4;4.857;5191;\"no\"',\n",
       " '43;\"technician\";\"married\";\"unknown\";\"unknown\";\"yes\";\"yes\";\"telephone\";\"may\";\"mon\";325;1;999;0;\"nonexistent\";1.1;93.994;-36.4;4.857;5191;\"no\"',\n",
       " '60;\"retired\";\"divorced\";\"university.degree\";\"unknown\";\"no\";\"no\";\"telephone\";\"may\";\"mon\";514;1;999;0;\"nonexistent\";1.1;93.994;-36.4;4.857;5191;\"no\"',\n",
       " '58;\"unemployed\";\"married\";\"basic.4y\";\"unknown\";\"no\";\"no\";\"telephone\";\"may\";\"mon\";849;2;999;0;\"nonexistent\";1.1;93.994;-36.4;4.857;5191;\"no\"',\n",
       " '35;\"services\";\"divorced\";\"high.school\";\"no\";\"yes\";\"no\";\"telephone\";\"may\";\"mon\";194;1;999;0;\"nonexistent\";1.1;93.994;-36.4;4.857;5191;\"no\"',\n",
       " '55;\"blue-collar\";\"married\";\"basic.9y\";\"unknown\";\"yes\";\"no\";\"telephone\";\"may\";\"mon\";212;2;999;0;\"nonexistent\";1.1;93.994;-36.4;4.857;5191;\"no\"',\n",
       " '37;\"management\";\"married\";\"university.degree\";\"no\";\"no\";\"no\";\"telephone\";\"may\";\"mon\";337;2;999;0;\"nonexistent\";1.1;93.994;-36.4;4.857;5191;\"no\"',\n",
       " '36;\"blue-collar\";\"married\";\"high.school\";\"no\";\"no\";\"no\";\"telephone\";\"may\";\"mon\";286;1;999;0;\"nonexistent\";1.1;93.994;-36.4;4.857;5191;\"no\"',\n",
       " '52;\"admin.\";\"divorced\";\"university.degree\";\"no\";\"no\";\"no\";\"telephone\";\"may\";\"mon\";247;2;999;0;\"nonexistent\";1.1;93.994;-36.4;4.857;5191;\"no\"',\n",
       " '57;\"blue-collar\";\"divorced\";\"unknown\";\"unknown\";\"yes\";\"no\";\"telephone\";\"may\";\"mon\";518;1;999;0;\"nonexistent\";1.1;93.994;-36.4;4.857;5191;\"no\"',\n",
       " '56;\"admin.\";\"married\";\"unknown\";\"no\";\"yes\";\"no\";\"telephone\";\"may\";\"mon\";364;1;999;0;\"nonexistent\";1.1;93.994;-36.4;4.857;5191;\"no\"',\n",
       " '48;\"blue-collar\";\"divorced\";\"basic.4y\";\"unknown\";\"yes\";\"no\";\"telephone\";\"may\";\"mon\";178;1;999;0;\"nonexistent\";1.1;93.994;-36.4;4.857;5191;\"no\"',\n",
       " '40;\"blue-collar\";\"married\";\"high.school\";\"unknown\";\"yes\";\"no\";\"telephone\";\"may\";\"mon\";98;1;999;0;\"nonexistent\";1.1;93.994;-36.4;4.857;5191;\"no\"',\n",
       " '49;\"blue-collar\";\"divorced\";\"high.school\";\"no\";\"no\";\"no\";\"telephone\";\"may\";\"mon\";439;1;999;0;\"nonexistent\";1.1;93.994;-36.4;4.857;5191;\"no\"',\n",
       " '41;\"services\";\"married\";\"high.school\";\"no\";\"no\";\"no\";\"telephone\";\"may\";\"mon\";139;1;999;0;\"nonexistent\";1.1;93.994;-36.4;4.857;5191;\"no\"',\n",
       " '45;\"technician\";\"married\";\"high.school\";\"no\";\"yes\";\"no\";\"telephone\";\"may\";\"mon\";79;1;999;0;\"nonexistent\";1.1;93.994;-36.4;4.857;5191;\"no\"',\n",
       " '32;\"admin.\";\"married\";\"university.degree\";\"no\";\"yes\";\"yes\";\"telephone\";\"may\";\"mon\";175;1;999;0;\"nonexistent\";1.1;93.994;-36.4;4.857;5191;\"no\"',\n",
       " '42;\"admin.\";\"married\";\"university.degree\";\"no\";\"no\";\"yes\";\"telephone\";\"may\";\"mon\";262;2;999;0;\"nonexistent\";1.1;93.994;-36.4;4.857;5191;\"no\"',\n",
       " '50;\"admin.\";\"married\";\"basic.6y\";\"no\";\"no\";\"no\";\"telephone\";\"may\";\"mon\";61;1;999;0;\"nonexistent\";1.1;93.994;-36.4;4.857;5191;\"no\"',\n",
       " '31;\"technician\";\"divorced\";\"professional.course\";\"no\";\"yes\";\"yes\";\"telephone\";\"may\";\"mon\";78;1;999;0;\"nonexistent\";1.1;93.994;-36.4;4.857;5191;\"no\"',\n",
       " '56;\"retired\";\"married\";\"basic.4y\";\"no\";\"yes\";\"no\";\"telephone\";\"may\";\"mon\";102;2;999;0;\"nonexistent\";1.1;93.994;-36.4;4.857;5191;\"no\"',\n",
       " '41;\"technician\";\"married\";\"professional.course\";\"unknown\";\"yes\";\"no\";\"telephone\";\"may\";\"mon\";579;1;999;0;\"nonexistent\";1.1;93.994;-36.4;4.857;5191;\"yes\"',\n",
       " '37;\"blue-collar\";\"married\";\"basic.6y\";\"no\";\"yes\";\"yes\";\"telephone\";\"may\";\"mon\";143;1;999;0;\"nonexistent\";1.1;93.994;-36.4;4.857;5191;\"no\"',\n",
       " '41;\"technician\";\"married\";\"professional.course\";\"unknown\";\"no\";\"no\";\"telephone\";\"may\";\"mon\";677;1;999;0;\"nonexistent\";1.1;93.994;-36.4;4.857;5191;\"no\"',\n",
       " '35;\"blue-collar\";\"married\";\"unknown\";\"no\";\"yes\";\"no\";\"telephone\";\"may\";\"mon\";267;1;999;0;\"nonexistent\";1.1;93.994;-36.4;4.857;5191;\"no\"',\n",
       " '37;\"blue-collar\";\"married\";\"basic.6y\";\"no\";\"yes\";\"no\";\"telephone\";\"may\";\"mon\";345;1;999;0;\"nonexistent\";1.1;93.994;-36.4;4.857;5191;\"no\"',\n",
       " '52;\"management\";\"married\";\"university.degree\";\"no\";\"no\";\"no\";\"telephone\";\"may\";\"mon\";185;1;999;0;\"nonexistent\";1.1;93.994;-36.4;4.857;5191;\"no\"',\n",
       " '39;\"management\";\"divorced\";\"university.degree\";\"no\";\"no\";\"no\";\"telephone\";\"may\";\"mon\";207;1;999;0;\"nonexistent\";1.1;93.994;-36.4;4.857;5191;\"no\"',\n",
       " '39;\"housemaid\";\"married\";\"basic.4y\";\"unknown\";\"no\";\"no\";\"telephone\";\"may\";\"mon\";69;2;999;0;\"nonexistent\";1.1;93.994;-36.4;4.857;5191;\"no\"',\n",
       " '56;\"blue-collar\";\"married\";\"basic.4y\";\"unknown\";\"no\";\"no\";\"telephone\";\"may\";\"mon\";100;2;999;0;\"nonexistent\";1.1;93.994;-36.4;4.857;5191;\"no\"',\n",
       " '34;\"services\";\"married\";\"high.school\";\"no\";\"yes\";\"no\";\"telephone\";\"may\";\"mon\";125;2;999;0;\"nonexistent\";1.1;93.994;-36.4;4.857;5191;\"no\"',\n",
       " '45;\"blue-collar\";\"married\";\"basic.9y\";\"unknown\";\"yes\";\"no\";\"telephone\";\"may\";\"mon\";461;1;999;0;\"nonexistent\";1.1;93.994;-36.4;4.857;5191;\"yes\"',\n",
       " '43;\"unemployed\";\"single\";\"university.degree\";\"no\";\"yes\";\"no\";\"telephone\";\"may\";\"mon\";240;1;999;0;\"nonexistent\";1.1;93.994;-36.4;4.857;5191;\"no\"',\n",
       " '56;\"management\";\"married\";\"unknown\";\"no\";\"yes\";\"no\";\"telephone\";\"may\";\"mon\";70;1;999;0;\"nonexistent\";1.1;93.994;-36.4;4.857;5191;\"no\"',\n",
       " '39;\"management\";\"married\";\"university.degree\";\"no\";\"yes\";\"no\";\"telephone\";\"may\";\"mon\";193;1;999;0;\"nonexistent\";1.1;93.994;-36.4;4.857;5191;\"no\"',\n",
       " '53;\"blue-collar\";\"married\";\"basic.4y\";\"no\";\"yes\";\"no\";\"telephone\";\"may\";\"mon\";136;1;999;0;\"nonexistent\";1.1;93.994;-36.4;4.857;5191;\"no\"',\n",
       " '38;\"unknown\";\"divorced\";\"high.school\";\"unknown\";\"yes\";\"no\";\"telephone\";\"may\";\"mon\";73;1;999;0;\"nonexistent\";1.1;93.994;-36.4;4.857;5191;\"no\"',\n",
       " '42;\"blue-collar\";\"married\";\"basic.4y\";\"unknown\";\"yes\";\"no\";\"telephone\";\"may\";\"mon\";528;1;999;0;\"nonexistent\";1.1;93.994;-36.4;4.857;5191;\"no\"',\n",
       " '42;\"blue-collar\";\"married\";\"basic.4y\";\"unknown\";\"no\";\"no\";\"telephone\";\"may\";\"mon\";541;1;999;0;\"nonexistent\";1.1;93.994;-36.4;4.857;5191;\"no\"',\n",
       " '35;\"admin.\";\"single\";\"high.school\";\"no\";\"yes\";\"no\";\"telephone\";\"may\";\"mon\";338;1;999;0;\"nonexistent\";1.1;93.994;-36.4;4.857;5191;\"no\"',\n",
       " '40;\"admin.\";\"married\";\"university.degree\";\"unknown\";\"yes\";\"no\";\"telephone\";\"may\";\"mon\";163;1;999;0;\"nonexistent\";1.1;93.994;-36.4;4.857;5191;\"no\"',\n",
       " '51;\"blue-collar\";\"married\";\"basic.4y\";\"no\";\"yes\";\"no\";\"telephone\";\"may\";\"mon\";87;1;999;0;\"nonexistent\";1.1;93.994;-36.4;4.857;5191;\"no\"',\n",
       " '60;\"blue-collar\";\"married\";\"basic.9y\";\"unknown\";\"no\";\"no\";\"telephone\";\"may\";\"mon\";301;1;999;0;\"nonexistent\";1.1;93.994;-36.4;4.857;5191;\"no\"',\n",
       " '56;\"entrepreneur\";\"married\";\"unknown\";\"unknown\";\"yes\";\"no\";\"telephone\";\"may\";\"mon\";46;1;999;0;\"nonexistent\";1.1;93.994;-36.4;4.857;5191;\"no\"',\n",
       " '39;\"services\";\"divorced\";\"high.school\";\"unknown\";\"yes\";\"no\";\"telephone\";\"may\";\"mon\";52;1;999;0;\"nonexistent\";1.1;93.994;-36.4;4.857;5191;\"no\"',\n",
       " '56;\"entrepreneur\";\"married\";\"unknown\";\"unknown\";\"no\";\"no\";\"telephone\";\"may\";\"mon\";204;1;999;0;\"nonexistent\";1.1;93.994;-36.4;4.857;5191;\"no\"',\n",
       " '40;\"blue-collar\";\"married\";\"unknown\";\"no\";\"yes\";\"yes\";\"telephone\";\"may\";\"mon\";155;1;999;0;\"nonexistent\";1.1;93.994;-36.4;4.857;5191;\"no\"',\n",
       " '36;\"blue-collar\";\"married\";\"basic.9y\";\"no\";\"yes\";\"yes\";\"telephone\";\"may\";\"mon\";98;1;999;0;\"nonexistent\";1.1;93.994;-36.4;4.857;5191;\"no\"',\n",
       " '51;\"blue-collar\";\"married\";\"unknown\";\"unknown\";\"yes\";\"no\";\"telephone\";\"may\";\"mon\";71;1;999;0;\"nonexistent\";1.1;93.994;-36.4;4.857;5191;\"no\"',\n",
       " '51;\"blue-collar\";\"married\";\"unknown\";\"unknown\";\"no\";\"no\";\"telephone\";\"may\";\"mon\";243;1;999;0;\"nonexistent\";1.1;93.994;-36.4;4.857;5191;\"no\"',\n",
       " '43;\"technician\";\"single\";\"professional.course\";\"no\";\"yes\";\"no\";\"telephone\";\"may\";\"mon\";186;2;999;0;\"nonexistent\";1.1;93.994;-36.4;4.857;5191;\"no\"',\n",
       " '59;\"services\";\"married\";\"high.school\";\"no\";\"no\";\"no\";\"telephone\";\"may\";\"mon\";579;2;999;0;\"nonexistent\";1.1;93.994;-36.4;4.857;5191;\"no\"',\n",
       " '24;\"management\";\"single\";\"university.degree\";\"no\";\"yes\";\"no\";\"telephone\";\"may\";\"mon\";165;2;999;0;\"nonexistent\";1.1;93.994;-36.4;4.857;5191;\"no\"',\n",
       " '37;\"blue-collar\";\"single\";\"basic.9y\";\"unknown\";\"yes\";\"yes\";\"telephone\";\"may\";\"mon\";163;2;999;0;\"nonexistent\";1.1;93.994;-36.4;4.857;5191;\"no\"',\n",
       " '40;\"blue-collar\";\"married\";\"basic.9y\";\"unknown\";\"no\";\"no\";\"telephone\";\"may\";\"mon\";46;1;999;0;\"nonexistent\";1.1;93.994;-36.4;4.857;5191;\"no\"',\n",
       " '42;\"blue-collar\";\"married\";\"basic.9y\";\"unknown\";\"no\";\"no\";\"telephone\";\"may\";\"mon\";559;3;999;0;\"nonexistent\";1.1;93.994;-36.4;4.857;5191;\"no\"',\n",
       " '39;\"services\";\"divorced\";\"high.school\";\"unknown\";\"no\";\"no\";\"telephone\";\"may\";\"mon\";2033;1;999;0;\"nonexistent\";1.1;93.994;-36.4;4.857;5191;\"no\"',\n",
       " '37;\"entrepreneur\";\"married\";\"basic.6y\";\"no\";\"no\";\"no\";\"telephone\";\"may\";\"mon\";85;1;999;0;\"nonexistent\";1.1;93.994;-36.4;4.857;5191;\"no\"',\n",
       " '38;\"services\";\"married\";\"high.school\";\"no\";\"yes\";\"yes\";\"telephone\";\"may\";\"mon\";506;1;999;0;\"nonexistent\";1.1;93.994;-36.4;4.857;5191;\"no\"',\n",
       " '56;\"admin.\";\"divorced\";\"unknown\";\"unknown\";\"no\";\"no\";\"telephone\";\"may\";\"mon\";114;2;999;0;\"nonexistent\";1.1;93.994;-36.4;4.857;5191;\"no\"',\n",
       " '40;\"blue-collar\";\"married\";\"unknown\";\"no\";\"no\";\"no\";\"telephone\";\"may\";\"mon\";114;2;999;0;\"nonexistent\";1.1;93.994;-36.4;4.857;5191;\"no\"',\n",
       " '54;\"management\";\"divorced\";\"university.degree\";\"no\";\"yes\";\"no\";\"telephone\";\"may\";\"mon\";843;2;999;0;\"nonexistent\";1.1;93.994;-36.4;4.857;5191;\"no\"',\n",
       " '43;\"blue-collar\";\"married\";\"high.school\";\"unknown\";\"no\";\"yes\";\"telephone\";\"may\";\"mon\";181;1;999;0;\"nonexistent\";1.1;93.994;-36.4;4.857;5191;\"no\"',\n",
       " '36;\"services\";\"married\";\"high.school\";\"unknown\";\"no\";\"no\";\"telephone\";\"may\";\"mon\";427;1;999;0;\"nonexistent\";1.1;93.994;-36.4;4.857;5191;\"no\"',\n",
       " '45;\"technician\";\"married\";\"university.degree\";\"no\";\"yes\";\"yes\";\"telephone\";\"may\";\"mon\";292;1;999;0;\"nonexistent\";1.1;93.994;-36.4;4.857;5191;\"no\"',\n",
       " '42;\"admin.\";\"single\";\"university.degree\";\"unknown\";\"no\";\"no\";\"telephone\";\"may\";\"mon\";192;1;999;0;\"nonexistent\";1.1;93.994;-36.4;4.857;5191;\"no\"',\n",
       " '43;\"services\";\"married\";\"high.school\";\"no\";\"no\";\"no\";\"telephone\";\"may\";\"mon\";93;3;999;0;\"nonexistent\";1.1;93.994;-36.4;4.857;5191;\"no\"',\n",
       " '46;\"management\";\"married\";\"basic.9y\";\"no\";\"no\";\"no\";\"telephone\";\"may\";\"mon\";128;2;999;0;\"nonexistent\";1.1;93.994;-36.4;4.857;5191;\"no\"',\n",
       " '44;\"services\";\"married\";\"high.school\";\"no\";\"yes\";\"yes\";\"telephone\";\"may\";\"mon\";107;1;999;0;\"nonexistent\";1.1;93.994;-36.4;4.857;5191;\"no\"',\n",
       " '51;\"admin.\";\"single\";\"basic.6y\";\"no\";\"no\";\"no\";\"telephone\";\"may\";\"mon\";303;2;999;0;\"nonexistent\";1.1;93.994;-36.4;4.857;5191;\"no\"',\n",
       " '28;\"services\";\"married\";\"high.school\";\"no\";\"yes\";\"no\";\"telephone\";\"may\";\"mon\";81;1;999;0;\"nonexistent\";1.1;93.994;-36.4;4.857;5191;\"no\"',\n",
       " '37;\"blue-collar\";\"married\";\"basic.9y\";\"no\";\"no\";\"no\";\"telephone\";\"may\";\"mon\";270;1;999;0;\"nonexistent\";1.1;93.994;-36.4;4.857;5191;\"no\"',\n",
       " '34;\"technician\";\"married\";\"high.school\";\"no\";\"no\";\"no\";\"telephone\";\"may\";\"mon\";228;1;999;0;\"nonexistent\";1.1;93.994;-36.4;4.857;5191;\"no\"',\n",
       " '46;\"blue-collar\";\"married\";\"basic.6y\";\"unknown\";\"yes\";\"no\";\"telephone\";\"may\";\"mon\";240;1;999;0;\"nonexistent\";1.1;93.994;-36.4;4.857;5191;\"no\"',\n",
       " '42;\"blue-collar\";\"married\";\"basic.9y\";\"no\";\"yes\";\"yes\";\"telephone\";\"may\";\"mon\";673;2;999;0;\"nonexistent\";1.1;93.994;-36.4;4.857;5191;\"yes\"',\n",
       " '36;\"admin.\";\"married\";\"university.degree\";\"no\";\"yes\";\"no\";\"telephone\";\"may\";\"mon\";233;3;999;0;\"nonexistent\";1.1;93.994;-36.4;4.857;5191;\"no\"',\n",
       " '54;\"blue-collar\";\"married\";\"basic.4y\";\"unknown\";\"no\";\"no\";\"telephone\";\"may\";\"mon\";102;1;999;0;\"nonexistent\";1.1;93.994;-36.4;4.857;5191;\"no\"',\n",
       " '57;\"management\";\"married\";\"university.degree\";\"no\";\"no\";\"no\";\"telephone\";\"may\";\"mon\";461;1;999;0;\"nonexistent\";1.1;93.994;-36.4;4.857;5191;\"no\"',\n",
       " '51;\"technician\";\"married\";\"basic.6y\";\"unknown\";\"no\";\"no\";\"telephone\";\"may\";\"mon\";250;1;999;0;\"nonexistent\";1.1;93.994;-36.4;4.857;5191;\"no\"',\n",
       " '54;\"retired\";\"married\";\"high.school\";\"unknown\";\"no\";\"no\";\"telephone\";\"may\";\"mon\";130;1;999;0;\"nonexistent\";1.1;93.994;-36.4;4.857;5191;\"no\"',\n",
       " '49;\"blue-collar\";\"married\";\"basic.4y\";\"unknown\";\"no\";\"no\";\"telephone\";\"may\";\"mon\";252;1;999;0;\"nonexistent\";1.1;93.994;-36.4;4.857;5191;\"no\"',\n",
       " '34;\"admin.\";\"married\";\"university.degree\";\"no\";\"yes\";\"no\";\"telephone\";\"may\";\"mon\";138;1;999;0;\"nonexistent\";1.1;93.994;-36.4;4.857;5191;\"no\"',\n",
       " '41;\"technician\";\"married\";\"professional.course\";\"no\";\"no\";\"no\";\"telephone\";\"may\";\"mon\";412;1;999;0;\"nonexistent\";1.1;93.994;-36.4;4.857;5191;\"no\"',\n",
       " '38;\"blue-collar\";\"single\";\"basic.9y\";\"no\";\"yes\";\"no\";\"telephone\";\"may\";\"mon\";179;2;999;0;\"nonexistent\";1.1;93.994;-36.4;4.857;5191;\"no\"',\n",
       " '45;\"management\";\"divorced\";\"university.degree\";\"no\";\"no\";\"no\";\"telephone\";\"may\";\"mon\";19;2;999;0;\"nonexistent\";1.1;93.994;-36.4;4.857;5191;\"no\"',\n",
       " '42;\"technician\";\"married\";\"university.degree\";\"no\";\"no\";\"no\";\"telephone\";\"may\";\"mon\";228;2;999;0;\"nonexistent\";1.1;93.994;-36.4;4.857;5191;\"no\"',\n",
       " '34;\"blue-collar\";\"single\";\"basic.9y\";\"unknown\";\"yes\";\"no\";\"telephone\";\"may\";\"mon\";55;1;999;0;\"nonexistent\";1.1;93.994;-36.4;4.857;5191;\"no\"',\n",
       " '48;\"blue-collar\";\"married\";\"basic.4y\";\"no\";\"yes\";\"no\";\"telephone\";\"may\";\"mon\";717;1;999;0;\"nonexistent\";1.1;93.994;-36.4;4.857;5191;\"no\"',\n",
       " '37;\"admin.\";\"married\";\"high.school\";\"unknown\";\"yes\";\"no\";\"telephone\";\"may\";\"mon\";313;1;999;0;\"nonexistent\";1.1;93.994;-36.4;4.857;5191;\"no\"',\n",
       " '34;\"blue-collar\";\"single\";\"basic.9y\";\"unknown\";\"no\";\"no\";\"telephone\";\"may\";\"mon\";289;1;999;0;\"nonexistent\";1.1;93.994;-36.4;4.857;5191;\"no\"',\n",
       " '40;\"admin.\";\"married\";\"basic.9y\";\"unknown\";\"yes\";\"no\";\"telephone\";\"may\";\"mon\";683;2;999;0;\"nonexistent\";1.1;93.994;-36.4;4.857;5191;\"no\"',\n",
       " '43;\"blue-collar\";\"married\";\"basic.6y\";\"no\";\"yes\";\"no\";\"telephone\";\"may\";\"mon\";1077;1;999;0;\"nonexistent\";1.1;93.994;-36.4;4.857;5191;\"no\"',\n",
       " '33;\"services\";\"married\";\"high.school\";\"no\";\"no\";\"no\";\"telephone\";\"may\";\"mon\";146;2;999;0;\"nonexistent\";1.1;93.994;-36.4;4.857;5191;\"no\"',\n",
       " '32;\"services\";\"single\";\"basic.6y\";\"no\";\"no\";\"no\";\"telephone\";\"may\";\"mon\";167;1;999;0;\"nonexistent\";1.1;93.994;-36.4;4.857;5191;\"no\"',\n",
       " '39;\"blue-collar\";\"married\";\"high.school\";\"no\";\"yes\";\"no\";\"telephone\";\"may\";\"mon\";356;2;999;0;\"nonexistent\";1.1;93.994;-36.4;4.857;5191;\"no\"',\n",
       " '43;\"admin.\";\"married\";\"unknown\";\"no\";\"no\";\"no\";\"telephone\";\"may\";\"mon\";277;1;999;0;\"nonexistent\";1.1;93.994;-36.4;4.857;5191;\"no\"',\n",
       " '44;\"blue-collar\";\"married\";\"basic.9y\";\"no\";\"yes\";\"no\";\"telephone\";\"may\";\"mon\";172;1;999;0;\"nonexistent\";1.1;93.994;-36.4;4.857;5191;\"no\"',\n",
       " '35;\"student\";\"single\";\"university.degree\";\"unknown\";\"no\";\"no\";\"telephone\";\"may\";\"mon\";218;1;999;0;\"nonexistent\";1.1;93.994;-36.4;4.857;5191;\"no\"',\n",
       " '35;\"student\";\"single\";\"university.degree\";\"unknown\";\"yes\";\"yes\";\"telephone\";\"may\";\"mon\";217;1;999;0;\"nonexistent\";1.1;93.994;-36.4;4.857;5191;\"no\"',\n",
       " '35;\"unemployed\";\"married\";\"professional.course\";\"no\";\"no\";\"no\";\"telephone\";\"may\";\"mon\";67;1;999;0;\"nonexistent\";1.1;93.994;-36.4;4.857;5191;\"no\"',\n",
       " '36;\"services\";\"single\";\"basic.4y\";\"no\";\"no\";\"no\";\"telephone\";\"may\";\"mon\";291;1;999;0;\"nonexistent\";1.1;93.994;-36.4;4.857;5191;\"no\"',\n",
       " '35;\"student\";\"single\";\"university.degree\";\"unknown\";\"yes\";\"no\";\"telephone\";\"may\";\"mon\";248;1;999;0;\"nonexistent\";1.1;93.994;-36.4;4.857;5191;\"no\"',\n",
       " '36;\"student\";\"single\";\"basic.9y\";\"no\";\"yes\";\"no\";\"telephone\";\"may\";\"mon\";256;1;999;0;\"nonexistent\";1.1;93.994;-36.4;4.857;5191;\"no\"',\n",
       " '55;\"housemaid\";\"divorced\";\"university.degree\";\"no\";\"no\";\"no\";\"telephone\";\"may\";\"mon\";286;1;999;0;\"nonexistent\";1.1;93.994;-36.4;4.857;5191;\"no\"',\n",
       " '59;\"admin.\";\"married\";\"university.degree\";\"no\";\"no\";\"no\";\"telephone\";\"may\";\"mon\";477;1;999;0;\"nonexistent\";1.1;93.994;-36.4;4.857;5191;\"no\"',\n",
       " '57;\"retired\";\"married\";\"unknown\";\"unknown\";\"no\";\"no\";\"telephone\";\"may\";\"mon\";611;2;999;0;\"nonexistent\";1.1;93.994;-36.4;4.857;5191;\"no\"',\n",
       " '39;\"blue-collar\";\"married\";\"professional.course\";\"unknown\";\"yes\";\"no\";\"telephone\";\"may\";\"mon\";471;1;999;0;\"nonexistent\";1.1;93.994;-36.4;4.857;5191;\"no\"',\n",
       " '39;\"housemaid\";\"married\";\"basic.4y\";\"unknown\";\"yes\";\"no\";\"telephone\";\"may\";\"mon\";381;2;999;0;\"nonexistent\";1.1;93.994;-36.4;4.857;5191;\"no\"',\n",
       " '30;\"blue-collar\";\"single\";\"unknown\";\"no\";\"yes\";\"no\";\"telephone\";\"may\";\"mon\";251;1;999;0;\"nonexistent\";1.1;93.994;-36.4;4.857;5191;\"no\"',\n",
       " '30;\"blue-collar\";\"single\";\"unknown\";\"no\";\"yes\";\"yes\";\"telephone\";\"may\";\"mon\";408;1;999;0;\"nonexistent\";1.1;93.994;-36.4;4.857;5191;\"no\"',\n",
       " '50;\"housemaid\";\"married\";\"basic.4y\";\"unknown\";\"no\";\"no\";\"telephone\";\"may\";\"mon\";287;1;999;0;\"nonexistent\";1.1;93.994;-36.4;4.857;5191;\"no\"',\n",
       " '40;\"services\";\"married\";\"high.school\";\"no\";\"no\";\"no\";\"telephone\";\"may\";\"mon\";322;3;999;0;\"nonexistent\";1.1;93.994;-36.4;4.857;5191;\"no\"',\n",
       " '35;\"admin.\";\"married\";\"high.school\";\"no\";\"yes\";\"no\";\"telephone\";\"may\";\"mon\";216;2;999;0;\"nonexistent\";1.1;93.994;-36.4;4.857;5191;\"no\"',\n",
       " '43;\"technician\";\"married\";\"unknown\";\"unknown\";\"no\";\"no\";\"telephone\";\"may\";\"mon\";366;2;999;0;\"nonexistent\";1.1;93.994;-36.4;4.857;5191;\"no\"',\n",
       " '36;\"services\";\"single\";\"basic.6y\";\"unknown\";\"yes\";\"no\";\"telephone\";\"may\";\"mon\";210;1;999;0;\"nonexistent\";1.1;93.994;-36.4;4.857;5191;\"no\"',\n",
       " '46;\"technician\";\"married\";\"basic.4y\";\"unknown\";\"yes\";\"no\";\"telephone\";\"may\";\"mon\";288;1;999;0;\"nonexistent\";1.1;93.994;-36.4;4.857;5191;\"no\"',\n",
       " '40;\"technician\";\"married\";\"basic.9y\";\"no\";\"no\";\"no\";\"telephone\";\"may\";\"mon\";168;1;999;0;\"nonexistent\";1.1;93.994;-36.4;4.857;5191;\"no\"',\n",
       " '58;\"retired\";\"married\";\"university.degree\";\"no\";\"no\";\"no\";\"telephone\";\"may\";\"mon\";132;1;999;0;\"nonexistent\";1.1;93.994;-36.4;4.857;5191;\"no\"',\n",
       " '42;\"technician\";\"married\";\"university.degree\";\"no\";\"no\";\"no\";\"telephone\";\"may\";\"mon\";64;2;999;0;\"nonexistent\";1.1;93.994;-36.4;4.857;5191;\"no\"',\n",
       " '35;\"admin.\";\"single\";\"university.degree\";\"no\";\"no\";\"no\";\"telephone\";\"may\";\"mon\";209;2;999;0;\"nonexistent\";1.1;93.994;-36.4;4.857;5191;\"no\"',\n",
       " '43;\"retired\";\"married\";\"basic.4y\";\"unknown\";\"no\";\"no\";\"telephone\";\"may\";\"mon\";410;3;999;0;\"nonexistent\";1.1;93.994;-36.4;4.857;5191;\"no\"',\n",
       " '45;\"blue-collar\";\"married\";\"basic.4y\";\"no\";\"yes\";\"yes\";\"telephone\";\"may\";\"mon\";177;1;999;0;\"nonexistent\";1.1;93.994;-36.4;4.857;5191;\"no\"',\n",
       " '39;\"admin.\";\"married\";\"professional.course\";\"no\";\"yes\";\"no\";\"telephone\";\"may\";\"mon\";580;2;999;0;\"nonexistent\";1.1;93.994;-36.4;4.857;5191;\"no\"',\n",
       " '50;\"services\";\"divorced\";\"professional.course\";\"no\";\"yes\";\"no\";\"telephone\";\"may\";\"mon\";165;1;999;0;\"nonexistent\";1.1;93.994;-36.4;4.857;5191;\"no\"',\n",
       " '32;\"management\";\"divorced\";\"basic.4y\";\"unknown\";\"yes\";\"no\";\"telephone\";\"may\";\"mon\";127;2;999;0;\"nonexistent\";1.1;93.994;-36.4;4.857;5191;\"no\"',\n",
       " '39;\"admin.\";\"married\";\"high.school\";\"unknown\";\"no\";\"no\";\"telephone\";\"may\";\"mon\";357;1;999;0;\"nonexistent\";1.1;93.994;-36.4;4.857;5191;\"no\"',\n",
       " '52;\"self-employed\";\"married\";\"university.degree\";\"unknown\";\"no\";\"no\";\"telephone\";\"may\";\"mon\";175;1;999;0;\"nonexistent\";1.1;93.994;-36.4;4.857;5191;\"no\"',\n",
       " '44;\"admin.\";\"married\";\"professional.course\";\"no\";\"yes\";\"no\";\"telephone\";\"may\";\"mon\";300;1;999;0;\"nonexistent\";1.1;93.994;-36.4;4.857;5191;\"no\"',\n",
       " '56;\"blue-collar\";\"married\";\"basic.4y\";\"no\";\"no\";\"no\";\"telephone\";\"may\";\"mon\";136;1;999;0;\"nonexistent\";1.1;93.994;-36.4;4.857;5191;\"no\"',\n",
       " '48;\"admin.\";\"married\";\"high.school\";\"no\";\"no\";\"no\";\"telephone\";\"may\";\"mon\";125;2;999;0;\"nonexistent\";1.1;93.994;-36.4;4.857;5191;\"no\"',\n",
       " '33;\"services\";\"married\";\"high.school\";\"unknown\";\"no\";\"yes\";\"telephone\";\"may\";\"mon\";189;2;999;0;\"nonexistent\";1.1;93.994;-36.4;4.857;5191;\"no\"',\n",
       " '43;\"management\";\"married\";\"university.degree\";\"unknown\";\"no\";\"yes\";\"telephone\";\"may\";\"mon\";213;3;999;0;\"nonexistent\";1.1;93.994;-36.4;4.857;5191;\"no\"',\n",
       " '57;\"retired\";\"married\";\"high.school\";\"no\";\"no\";\"no\";\"telephone\";\"may\";\"mon\";238;2;999;0;\"nonexistent\";1.1;93.994;-36.4;4.857;5191;\"no\"',\n",
       " '36;\"technician\";\"single\";\"professional.course\";\"no\";\"no\";\"no\";\"telephone\";\"may\";\"mon\";124;1;999;0;\"nonexistent\";1.1;93.994;-36.4;4.857;5191;\"no\"',\n",
       " '34;\"management\";\"married\";\"university.degree\";\"no\";\"yes\";\"no\";\"telephone\";\"may\";\"mon\";18;1;999;0;\"nonexistent\";1.1;93.994;-36.4;4.857;5191;\"no\"',\n",
       " '34;\"services\";\"single\";\"basic.9y\";\"no\";\"no\";\"no\";\"telephone\";\"may\";\"mon\";730;2;999;0;\"nonexistent\";1.1;93.994;-36.4;4.857;5191;\"no\"',\n",
       " '30;\"technician\";\"married\";\"university.degree\";\"unknown\";\"no\";\"no\";\"telephone\";\"may\";\"mon\";40;1;999;0;\"nonexistent\";1.1;93.994;-36.4;4.857;5191;\"no\"',\n",
       " '33;\"services\";\"divorced\";\"unknown\";\"no\";\"no\";\"no\";\"telephone\";\"may\";\"mon\";181;2;999;0;\"nonexistent\";1.1;93.994;-36.4;4.857;5191;\"no\"',\n",
       " '32;\"technician\";\"single\";\"professional.course\";\"no\";\"no\";\"no\";\"telephone\";\"may\";\"mon\";79;1;999;0;\"nonexistent\";1.1;93.994;-36.4;4.857;5191;\"no\"',\n",
       " '36;\"technician\";\"single\";\"high.school\";\"no\";\"yes\";\"no\";\"telephone\";\"may\";\"mon\";142;2;999;0;\"nonexistent\";1.1;93.994;-36.4;4.857;5191;\"no\"',\n",
       " '36;\"blue-collar\";\"single\";\"high.school\";\"no\";\"no\";\"yes\";\"telephone\";\"may\";\"mon\";389;1;999;0;\"nonexistent\";1.1;93.994;-36.4;4.857;5191;\"no\"',\n",
       " '33;\"services\";\"single\";\"high.school\";\"no\";\"no\";\"no\";\"telephone\";\"may\";\"mon\";702;1;999;0;\"nonexistent\";1.1;93.994;-36.4;4.857;5191;\"no\"',\n",
       " '40;\"technician\";\"divorced\";\"professional.course\";\"no\";\"no\";\"no\";\"telephone\";\"may\";\"mon\";151;1;999;0;\"nonexistent\";1.1;93.994;-36.4;4.857;5191;\"no\"',\n",
       " '41;\"blue-collar\";\"married\";\"basic.4y\";\"no\";\"yes\";\"no\";\"telephone\";\"may\";\"mon\";211;1;999;0;\"nonexistent\";1.1;93.994;-36.4;4.857;5191;\"no\"',\n",
       " '51;\"services\";\"married\";\"basic.6y\";\"no\";\"yes\";\"no\";\"telephone\";\"may\";\"mon\";117;1;999;0;\"nonexistent\";1.1;93.994;-36.4;4.857;5191;\"no\"',\n",
       " '36;\"technician\";\"married\";\"professional.course\";\"no\";\"yes\";\"no\";\"telephone\";\"may\";\"mon\";232;3;999;0;\"nonexistent\";1.1;93.994;-36.4;4.857;5191;\"no\"',\n",
       " '28;\"services\";\"married\";\"unknown\";\"no\";\"no\";\"no\";\"telephone\";\"may\";\"mon\";408;2;999;0;\"nonexistent\";1.1;93.994;-36.4;4.857;5191;\"no\"',\n",
       " '53;\"services\";\"married\";\"high.school\";\"no\";\"yes\";\"yes\";\"telephone\";\"may\";\"mon\";370;3;999;0;\"nonexistent\";1.1;93.994;-36.4;4.857;5191;\"no\"',\n",
       " '58;\"blue-collar\";\"married\";\"basic.9y\";\"unknown\";\"yes\";\"no\";\"telephone\";\"may\";\"mon\";179;2;999;0;\"nonexistent\";1.1;93.994;-36.4;4.857;5191;\"no\"',\n",
       " '45;\"management\";\"married\";\"basic.9y\";\"no\";\"no\";\"yes\";\"telephone\";\"may\";\"mon\";46;1;999;0;\"nonexistent\";1.1;93.994;-36.4;4.857;5191;\"no\"',\n",
       " '43;\"technician\";\"married\";\"unknown\";\"no\";\"yes\";\"no\";\"telephone\";\"may\";\"mon\";200;1;999;0;\"nonexistent\";1.1;93.994;-36.4;4.857;5191;\"no\"',\n",
       " '33;\"admin.\";\"married\";\"high.school\";\"no\";\"no\";\"yes\";\"telephone\";\"may\";\"mon\";50;1;999;0;\"nonexistent\";1.1;93.994;-36.4;4.857;5191;\"no\"',\n",
       " '33;\"admin.\";\"married\";\"high.school\";\"no\";\"no\";\"yes\";\"telephone\";\"may\";\"mon\";181;1;999;0;\"nonexistent\";1.1;93.994;-36.4;4.857;5191;\"no\"',\n",
       " '27;\"blue-collar\";\"single\";\"basic.6y\";\"no\";\"unknown\";\"unknown\";\"telephone\";\"may\";\"mon\";119;1;999;0;\"nonexistent\";1.1;93.994;-36.4;4.857;5191;\"no\"',\n",
       " '42;\"technician\";\"married\";\"high.school\";\"no\";\"no\";\"no\";\"telephone\";\"may\";\"mon\";361;1;999;0;\"nonexistent\";1.1;93.994;-36.4;4.857;5191;\"no\"',\n",
       " '43;\"admin.\";\"divorced\";\"basic.9y\";\"no\";\"no\";\"no\";\"telephone\";\"may\";\"mon\";73;3;999;0;\"nonexistent\";1.1;93.994;-36.4;4.857;5191;\"no\"',\n",
       " '42;\"admin.\";\"married\";\"university.degree\";\"no\";\"no\";\"no\";\"telephone\";\"may\";\"mon\";67;2;999;0;\"nonexistent\";1.1;93.994;-36.4;4.857;5191;\"no\"',\n",
       " '27;\"blue-collar\";\"single\";\"basic.6y\";\"no\";\"no\";\"no\";\"telephone\";\"may\";\"mon\";350;1;999;0;\"nonexistent\";1.1;93.994;-36.4;4.857;5191;\"no\"',\n",
       " '34;\"self-employed\";\"single\";\"university.degree\";\"no\";\"yes\";\"no\";\"telephone\";\"may\";\"mon\";150;2;999;0;\"nonexistent\";1.1;93.994;-36.4;4.857;5191;\"no\"',\n",
       " '31;\"student\";\"single\";\"university.degree\";\"unknown\";\"no\";\"no\";\"telephone\";\"may\";\"mon\";332;2;999;0;\"nonexistent\";1.1;93.994;-36.4;4.857;5191;\"no\"',\n",
       " '54;\"management\";\"divorced\";\"university.degree\";\"no\";\"no\";\"no\";\"telephone\";\"may\";\"mon\";611;2;999;0;\"nonexistent\";1.1;93.994;-36.4;4.857;5191;\"no\"',\n",
       " '40;\"self-employed\";\"married\";\"basic.4y\";\"unknown\";\"no\";\"no\";\"telephone\";\"may\";\"mon\";58;3;999;0;\"nonexistent\";1.1;93.994;-36.4;4.857;5191;\"no\"',\n",
       " '52;\"unemployed\";\"married\";\"high.school\";\"unknown\";\"yes\";\"no\";\"telephone\";\"may\";\"mon\";151;1;999;0;\"nonexistent\";1.1;93.994;-36.4;4.857;5191;\"no\"',\n",
       " '47;\"management\";\"divorced\";\"university.degree\";\"no\";\"no\";\"no\";\"telephone\";\"may\";\"mon\";89;2;999;0;\"nonexistent\";1.1;93.994;-36.4;4.857;5191;\"no\"',\n",
       " '49;\"housemaid\";\"married\";\"basic.9y\";\"unknown\";\"no\";\"no\";\"telephone\";\"may\";\"mon\";152;1;999;0;\"nonexistent\";1.1;93.994;-36.4;4.857;5191;\"no\"',\n",
       " '32;\"admin.\";\"single\";\"high.school\";\"no\";\"no\";\"no\";\"telephone\";\"may\";\"mon\";611;2;999;0;\"nonexistent\";1.1;93.994;-36.4;4.857;5191;\"no\"',\n",
       " '49;\"housemaid\";\"single\";\"high.school\";\"unknown\";\"yes\";\"yes\";\"telephone\";\"may\";\"mon\";110;2;999;0;\"nonexistent\";1.1;93.994;-36.4;4.857;5191;\"no\"',\n",
       " '50;\"blue-collar\";\"married\";\"basic.9y\";\"unknown\";\"no\";\"no\";\"telephone\";\"may\";\"mon\";463;1;999;0;\"nonexistent\";1.1;93.994;-36.4;4.857;5191;\"no\"',\n",
       " '34;\"services\";\"married\";\"high.school\";\"no\";\"no\";\"no\";\"telephone\";\"may\";\"mon\";962;1;999;0;\"nonexistent\";1.1;93.994;-36.4;4.857;5191;\"no\"',\n",
       " '55;\"blue-collar\";\"married\";\"basic.4y\";\"unknown\";\"no\";\"no\";\"telephone\";\"may\";\"mon\";102;2;999;0;\"nonexistent\";1.1;93.994;-36.4;4.857;5191;\"no\"',\n",
       " '47;\"technician\";\"single\";\"basic.9y\";\"no\";\"no\";\"no\";\"telephone\";\"may\";\"mon\";10;4;999;0;\"nonexistent\";1.1;93.994;-36.4;4.857;5191;\"no\"',\n",
       " '51;\"retired\";\"married\";\"professional.course\";\"no\";\"no\";\"no\";\"telephone\";\"may\";\"mon\";118;3;999;0;\"nonexistent\";1.1;93.994;-36.4;4.857;5191;\"no\"',\n",
       " '47;\"blue-collar\";\"married\";\"basic.6y\";\"no\";\"no\";\"no\";\"telephone\";\"may\";\"mon\";92;2;999;0;\"nonexistent\";1.1;93.994;-36.4;4.857;5191;\"no\"',\n",
       " '56;\"technician\";\"married\";\"basic.4y\";\"no\";\"yes\";\"no\";\"telephone\";\"may\";\"mon\";143;3;999;0;\"nonexistent\";1.1;93.994;-36.4;4.857;5191;\"no\"',\n",
       " '53;\"admin.\";\"married\";\"basic.9y\";\"no\";\"no\";\"no\";\"telephone\";\"may\";\"mon\";189;3;999;0;\"nonexistent\";1.1;93.994;-36.4;4.857;5191;\"no\"',\n",
       " '36;\"blue-collar\";\"married\";\"basic.9y\";\"no\";\"yes\";\"no\";\"telephone\";\"may\";\"mon\";75;2;999;0;\"nonexistent\";1.1;93.994;-36.4;4.857;5191;\"no\"',\n",
       " '42;\"blue-collar\";\"divorced\";\"basic.9y\";\"no\";\"yes\";\"no\";\"telephone\";\"may\";\"mon\";189;2;999;0;\"nonexistent\";1.1;93.994;-36.4;4.857;5191;\"no\"',\n",
       " '44;\"blue-collar\";\"divorced\";\"basic.6y\";\"no\";\"no\";\"no\";\"telephone\";\"may\";\"mon\";55;2;999;0;\"nonexistent\";1.1;93.994;-36.4;4.857;5191;\"no\"',\n",
       " '39;\"housemaid\";\"married\";\"basic.9y\";\"no\";\"yes\";\"no\";\"telephone\";\"may\";\"mon\";935;3;999;0;\"nonexistent\";1.1;93.994;-36.4;4.857;5191;\"yes\"',\n",
       " '37;\"admin.\";\"single\";\"high.school\";\"no\";\"yes\";\"yes\";\"telephone\";\"may\";\"mon\";56;2;999;0;\"nonexistent\";1.1;93.994;-36.4;4.857;5191;\"no\"',\n",
       " '60;\"blue-collar\";\"married\";\"unknown\";\"unknown\";\"yes\";\"no\";\"telephone\";\"may\";\"mon\";5;2;999;0;\"nonexistent\";1.1;93.994;-36.4;4.857;5191;\"no\"',\n",
       " '36;\"services\";\"married\";\"high.school\";\"no\";\"no\";\"no\";\"telephone\";\"may\";\"mon\";225;2;999;0;\"nonexistent\";1.1;93.994;-36.4;4.857;5191;\"no\"',\n",
       " '42;\"management\";\"divorced\";\"university.degree\";\"no\";\"yes\";\"no\";\"telephone\";\"may\";\"mon\";125;2;999;0;\"nonexistent\";1.1;93.994;-36.4;4.857;5191;\"no\"',\n",
       " '31;\"admin.\";\"married\";\"high.school\";\"no\";\"yes\";\"yes\";\"telephone\";\"may\";\"mon\";286;2;999;0;\"nonexistent\";1.1;93.994;-36.4;4.857;5191;\"no\"',\n",
       " '53;\"technician\";\"divorced\";\"professional.course\";\"unknown\";\"no\";\"yes\";\"telephone\";\"may\";\"mon\";206;2;999;0;\"nonexistent\";1.1;93.994;-36.4;4.857;5191;\"no\"',\n",
       " '45;\"blue-collar\";\"married\";\"basic.4y\";\"no\";\"yes\";\"no\";\"telephone\";\"may\";\"mon\";164;2;999;0;\"nonexistent\";1.1;93.994;-36.4;4.857;5191;\"no\"',\n",
       " '37;\"technician\";\"single\";\"professional.course\";\"no\";\"yes\";\"no\";\"telephone\";\"may\";\"mon\";98;2;999;0;\"nonexistent\";1.1;93.994;-36.4;4.857;5191;\"no\"',\n",
       " '47;\"self-employed\";\"married\";\"professional.course\";\"no\";\"no\";\"no\";\"telephone\";\"may\";\"mon\";446;2;999;0;\"nonexistent\";1.1;93.994;-36.4;4.857;5191;\"no\"',\n",
       " '49;\"blue-collar\";\"divorced\";\"high.school\";\"no\";\"no\";\"yes\";\"telephone\";\"may\";\"mon\";742;2;999;0;\"nonexistent\";1.1;93.994;-36.4;4.857;5191;\"no\"',\n",
       " '36;\"admin.\";\"married\";\"university.degree\";\"no\";\"yes\";\"no\";\"telephone\";\"may\";\"mon\";120;2;999;0;\"nonexistent\";1.1;93.994;-36.4;4.857;5191;\"no\"',\n",
       " '35;\"services\";\"divorced\";\"high.school\";\"no\";\"no\";\"no\";\"telephone\";\"may\";\"mon\";122;3;999;0;\"nonexistent\";1.1;93.994;-36.4;4.857;5191;\"no\"',\n",
       " '38;\"unknown\";\"married\";\"unknown\";\"unknown\";\"no\";\"no\";\"telephone\";\"may\";\"mon\";362;4;999;0;\"nonexistent\";1.1;93.994;-36.4;4.857;5191;\"no\"',\n",
       " '38;\"services\";\"single\";\"high.school\";\"unknown\";\"no\";\"no\";\"telephone\";\"may\";\"mon\";357;2;999;0;\"nonexistent\";1.1;93.994;-36.4;4.857;5191;\"no\"',\n",
       " '50;\"blue-collar\";\"divorced\";\"high.school\";\"unknown\";\"no\";\"yes\";\"telephone\";\"may\";\"mon\";200;2;999;0;\"nonexistent\";1.1;93.994;-36.4;4.857;5191;\"no\"',\n",
       " '59;\"retired\";\"married\";\"professional.course\";\"unknown\";\"no\";\"no\";\"telephone\";\"may\";\"mon\";107;2;999;0;\"nonexistent\";1.1;93.994;-36.4;4.857;5191;\"no\"',\n",
       " '43;\"unknown\";\"married\";\"unknown\";\"no\";\"yes\";\"no\";\"telephone\";\"may\";\"mon\";267;2;999;0;\"nonexistent\";1.1;93.994;-36.4;4.857;5191;\"no\"',\n",
       " '42;\"admin.\";\"married\";\"high.school\";\"no\";\"yes\";\"no\";\"telephone\";\"may\";\"mon\";248;2;999;0;\"nonexistent\";1.1;93.994;-36.4;4.857;5191;\"no\"',\n",
       " '40;\"admin.\";\"married\";\"basic.6y\";\"unknown\";\"yes\";\"no\";\"telephone\";\"may\";\"mon\";215;2;999;0;\"nonexistent\";1.1;93.994;-36.4;4.857;5191;\"no\"',\n",
       " '46;\"blue-collar\";\"married\";\"unknown\";\"unknown\";\"no\";\"no\";\"telephone\";\"may\";\"mon\";209;2;999;0;\"nonexistent\";1.1;93.994;-36.4;4.857;5191;\"no\"',\n",
       " '57;\"housemaid\";\"divorced\";\"basic.4y\";\"no\";\"yes\";\"yes\";\"telephone\";\"may\";\"mon\";205;2;999;0;\"nonexistent\";1.1;93.994;-36.4;4.857;5191;\"no\"',\n",
       " '42;\"admin.\";\"married\";\"university.degree\";\"no\";\"yes\";\"no\";\"telephone\";\"may\";\"mon\";261;3;999;0;\"nonexistent\";1.1;93.994;-36.4;4.857;5191;\"no\"',\n",
       " '41;\"blue-collar\";\"married\";\"basic.4y\";\"no\";\"yes\";\"no\";\"telephone\";\"may\";\"mon\";83;2;999;0;\"nonexistent\";1.1;93.994;-36.4;4.857;5191;\"no\"',\n",
       " '54;\"management\";\"divorced\";\"university.degree\";\"no\";\"yes\";\"no\";\"telephone\";\"may\";\"mon\";106;3;999;0;\"nonexistent\";1.1;93.994;-36.4;4.857;5191;\"no\"',\n",
       " '27;\"admin.\";\"single\";\"university.degree\";\"no\";\"no\";\"no\";\"telephone\";\"may\";\"mon\";106;2;999;0;\"nonexistent\";1.1;93.994;-36.4;4.857;5191;\"no\"',\n",
       " '36;\"admin.\";\"married\";\"high.school\";\"no\";\"no\";\"no\";\"telephone\";\"may\";\"mon\";108;2;999;0;\"nonexistent\";1.1;93.994;-36.4;4.857;5191;\"no\"',\n",
       " '58;\"blue-collar\";\"married\";\"professional.course\";\"unknown\";\"yes\";\"no\";\"telephone\";\"may\";\"mon\";214;2;999;0;\"nonexistent\";1.1;93.994;-36.4;4.857;5191;\"no\"',\n",
       " '40;\"management\";\"married\";\"university.degree\";\"unknown\";\"yes\";\"no\";\"telephone\";\"may\";\"mon\";358;2;999;0;\"nonexistent\";1.1;93.994;-36.4;4.857;5191;\"no\"',\n",
       " '34;\"admin.\";\"single\";\"basic.9y\";\"unknown\";\"no\";\"no\";\"telephone\";\"may\";\"mon\";453;2;999;0;\"nonexistent\";1.1;93.994;-36.4;4.857;5191;\"no\"',\n",
       " '33;\"admin.\";\"divorced\";\"high.school\";\"no\";\"no\";\"no\";\"telephone\";\"may\";\"mon\";364;2;999;0;\"nonexistent\";1.1;93.994;-36.4;4.857;5191;\"no\"',\n",
       " '56;\"retired\";\"married\";\"basic.6y\";\"no\";\"no\";\"no\";\"telephone\";\"may\";\"mon\";136;2;999;0;\"nonexistent\";1.1;93.994;-36.4;4.857;5191;\"no\"',\n",
       " '42;\"blue-collar\";\"married\";\"basic.9y\";\"no\";\"no\";\"no\";\"telephone\";\"may\";\"mon\";173;2;999;0;\"nonexistent\";1.1;93.994;-36.4;4.857;5191;\"no\"',\n",
       " '43;\"services\";\"married\";\"high.school\";\"no\";\"yes\";\"no\";\"telephone\";\"may\";\"mon\";241;2;999;0;\"nonexistent\";1.1;93.994;-36.4;4.857;5191;\"no\"',\n",
       " '54;\"management\";\"single\";\"basic.9y\";\"no\";\"yes\";\"no\";\"telephone\";\"may\";\"mon\";224;3;999;0;\"nonexistent\";1.1;93.994;-36.4;4.857;5191;\"no\"',\n",
       " '53;\"admin.\";\"single\";\"basic.6y\";\"no\";\"yes\";\"yes\";\"telephone\";\"may\";\"mon\";148;2;999;0;\"nonexistent\";1.1;93.994;-36.4;4.857;5191;\"no\"',\n",
       " '42;\"technician\";\"single\";\"unknown\";\"no\";\"no\";\"no\";\"telephone\";\"may\";\"mon\";230;2;999;0;\"nonexistent\";1.1;93.994;-36.4;4.857;5191;\"no\"',\n",
       " '40;\"services\";\"married\";\"basic.6y\";\"unknown\";\"no\";\"no\";\"telephone\";\"may\";\"mon\";199;3;999;0;\"nonexistent\";1.1;93.994;-36.4;4.857;5191;\"no\"',\n",
       " '54;\"technician\";\"married\";\"professional.course\";\"no\";\"yes\";\"yes\";\"telephone\";\"may\";\"mon\";196;2;999;0;\"nonexistent\";1.1;93.994;-36.4;4.857;5191;\"no\"',\n",
       " '40;\"housemaid\";\"single\";\"professional.course\";\"no\";\"no\";\"no\";\"telephone\";\"may\";\"mon\";111;4;999;0;\"nonexistent\";1.1;93.994;-36.4;4.857;5191;\"no\"',\n",
       " '26;\"admin.\";\"single\";\"university.degree\";\"no\";\"yes\";\"no\";\"telephone\";\"may\";\"mon\";231;3;999;0;\"nonexistent\";1.1;93.994;-36.4;4.857;5191;\"no\"',\n",
       " '33;\"admin.\";\"married\";\"high.school\";\"no\";\"no\";\"no\";\"telephone\";\"may\";\"mon\";316;3;999;0;\"nonexistent\";1.1;93.994;-36.4;4.857;5191;\"no\"',\n",
       " '35;\"blue-collar\";\"married\";\"basic.9y\";\"unknown\";\"no\";\"no\";\"telephone\";\"may\";\"mon\";240;2;999;0;\"nonexistent\";1.1;93.994;-36.4;4.857;5191;\"no\"',\n",
       " '36;\"admin.\";\"married\";\"high.school\";\"no\";\"no\";\"no\";\"telephone\";\"may\";\"mon\";669;3;999;0;\"nonexistent\";1.1;93.994;-36.4;4.857;5191;\"no\"',\n",
       " '29;\"services\";\"single\";\"high.school\";\"no\";\"yes\";\"no\";\"telephone\";\"may\";\"mon\";425;2;999;0;\"nonexistent\";1.1;93.994;-36.4;4.857;5191;\"no\"',\n",
       " '36;\"blue-collar\";\"married\";\"basic.9y\";\"no\";\"yes\";\"no\";\"telephone\";\"may\";\"mon\";121;2;999;0;\"nonexistent\";1.1;93.994;-36.4;4.857;5191;\"no\"',\n",
       " '35;\"management\";\"married\";\"high.school\";\"no\";\"yes\";\"no\";\"telephone\";\"may\";\"mon\";174;5;999;0;\"nonexistent\";1.1;93.994;-36.4;4.857;5191;\"no\"',\n",
       " '50;\"self-employed\";\"single\";\"university.degree\";\"no\";\"no\";\"yes\";\"telephone\";\"may\";\"mon\";88;5;999;0;\"nonexistent\";1.1;93.994;-36.4;4.857;5191;\"no\"',\n",
       " '46;\"services\";\"married\";\"high.school\";\"unknown\";\"yes\";\"no\";\"telephone\";\"may\";\"mon\";313;3;999;0;\"nonexistent\";1.1;93.994;-36.4;4.857;5191;\"no\"',\n",
       " '49;\"entrepreneur\";\"married\";\"high.school\";\"no\";\"yes\";\"no\";\"telephone\";\"may\";\"mon\";135;4;999;0;\"nonexistent\";1.1;93.994;-36.4;4.857;5191;\"no\"',\n",
       " '42;\"technician\";\"single\";\"professional.course\";\"unknown\";\"yes\";\"no\";\"telephone\";\"may\";\"mon\";152;2;999;0;\"nonexistent\";1.1;93.994;-36.4;4.857;5191;\"no\"',\n",
       " '36;\"blue-collar\";\"single\";\"high.school\";\"no\";\"yes\";\"yes\";\"telephone\";\"may\";\"mon\";402;3;999;0;\"nonexistent\";1.1;93.994;-36.4;4.857;5191;\"no\"',\n",
       " '55;\"blue-collar\";\"married\";\"basic.9y\";\"unknown\";\"yes\";\"no\";\"telephone\";\"may\";\"mon\";221;2;999;0;\"nonexistent\";1.1;93.994;-36.4;4.857;5191;\"no\"',\n",
       " '41;\"management\";\"married\";\"university.degree\";\"unknown\";\"no\";\"no\";\"telephone\";\"may\";\"mon\";213;2;999;0;\"nonexistent\";1.1;93.994;-36.4;4.857;5191;\"no\"',\n",
       " '57;\"management\";\"married\";\"professional.course\";\"unknown\";\"yes\";\"no\";\"telephone\";\"may\";\"mon\";144;3;999;0;\"nonexistent\";1.1;93.994;-36.4;4.857;5191;\"no\"',\n",
       " '32;\"services\";\"single\";\"high.school\";\"no\";\"yes\";\"no\";\"telephone\";\"may\";\"mon\";158;3;999;0;\"nonexistent\";1.1;93.994;-36.4;4.857;5191;\"no\"',\n",
       " '49;\"admin.\";\"married\";\"basic.9y\";\"no\";\"no\";\"no\";\"telephone\";\"may\";\"mon\";220;3;999;0;\"nonexistent\";1.1;93.994;-36.4;4.857;5191;\"no\"',\n",
       " '57;\"unknown\";\"married\";\"unknown\";\"unknown\";\"yes\";\"no\";\"telephone\";\"may\";\"mon\";325;2;999;0;\"nonexistent\";1.1;93.994;-36.4;4.857;5191;\"no\"',\n",
       " '58;\"blue-collar\";\"divorced\";\"basic.4y\";\"no\";\"yes\";\"no\";\"telephone\";\"may\";\"mon\";254;2;999;0;\"nonexistent\";1.1;93.994;-36.4;4.857;5191;\"no\"',\n",
       " '52;\"technician\";\"married\";\"high.school\";\"no\";\"yes\";\"no\";\"telephone\";\"may\";\"mon\";503;2;999;0;\"nonexistent\";1.1;93.994;-36.4;4.857;5191;\"no\"',\n",
       " '50;\"services\";\"divorced\";\"professional.course\";\"no\";\"no\";\"no\";\"telephone\";\"may\";\"mon\";680;2;999;0;\"nonexistent\";1.1;93.994;-36.4;4.857;5191;\"no\"',\n",
       " '41;\"blue-collar\";\"single\";\"basic.9y\";\"unknown\";\"yes\";\"no\";\"telephone\";\"may\";\"mon\";421;4;999;0;\"nonexistent\";1.1;93.994;-36.4;4.857;5191;\"no\"',\n",
       " '33;\"entrepreneur\";\"married\";\"university.degree\";\"no\";\"yes\";\"no\";\"telephone\";\"may\";\"mon\";130;3;999;0;\"nonexistent\";1.1;93.994;-36.4;4.857;5191;\"no\"',\n",
       " '57;\"blue-collar\";\"married\";\"basic.4y\";\"no\";\"no\";\"no\";\"telephone\";\"may\";\"mon\";164;2;999;0;\"nonexistent\";1.1;93.994;-36.4;4.857;5191;\"no\"',\n",
       " '48;\"blue-collar\";\"married\";\"basic.6y\";\"unknown\";\"no\";\"no\";\"telephone\";\"may\";\"mon\";174;3;999;0;\"nonexistent\";1.1;93.994;-36.4;4.857;5191;\"no\"',\n",
       " '55;\"technician\";\"married\";\"professional.course\";\"no\";\"no\";\"no\";\"telephone\";\"may\";\"mon\";113;2;999;0;\"nonexistent\";1.1;93.994;-36.4;4.857;5191;\"no\"',\n",
       " '38;\"management\";\"married\";\"university.degree\";\"no\";\"no\";\"no\";\"telephone\";\"may\";\"mon\";195;2;999;0;\"nonexistent\";1.1;93.994;-36.4;4.857;5191;\"no\"',\n",
       " '38;\"services\";\"married\";\"high.school\";\"no\";\"yes\";\"no\";\"telephone\";\"may\";\"mon\";347;3;999;0;\"nonexistent\";1.1;93.994;-36.4;4.857;5191;\"no\"',\n",
       " '53;\"admin.\";\"married\";\"university.degree\";\"no\";\"yes\";\"no\";\"telephone\";\"may\";\"mon\";208;2;999;0;\"nonexistent\";1.1;93.994;-36.4;4.857;5191;\"no\"',\n",
       " '43;\"unemployed\";\"single\";\"university.degree\";\"no\";\"no\";\"no\";\"telephone\";\"may\";\"mon\";404;4;999;0;\"nonexistent\";1.1;93.994;-36.4;4.857;5191;\"no\"',\n",
       " '36;\"blue-collar\";\"single\";\"high.school\";\"no\";\"no\";\"no\";\"telephone\";\"may\";\"mon\";396;2;999;0;\"nonexistent\";1.1;93.994;-36.4;4.857;5191;\"no\"',\n",
       " '32;\"blue-collar\";\"married\";\"basic.9y\";\"no\";\"no\";\"no\";\"telephone\";\"may\";\"mon\";98;2;999;0;\"nonexistent\";1.1;93.994;-36.4;4.857;5191;\"no\"',\n",
       " '33;\"services\";\"married\";\"basic.4y\";\"no\";\"no\";\"no\";\"telephone\";\"may\";\"mon\";229;3;999;0;\"nonexistent\";1.1;93.994;-36.4;4.857;5191;\"no\"',\n",
       " '58;\"entrepreneur\";\"married\";\"basic.4y\";\"no\";\"yes\";\"no\";\"telephone\";\"may\";\"mon\";350;2;999;0;\"nonexistent\";1.1;93.994;-36.4;4.857;5191;\"no\"',\n",
       " '40;\"unemployed\";\"divorced\";\"high.school\";\"unknown\";\"no\";\"no\";\"telephone\";\"may\";\"tue\";88;3;999;0;\"nonexistent\";1.1;93.994;-36.4;4.857;5191;\"no\"',\n",
       " '57;\"management\";\"married\";\"university.degree\";\"no\";\"yes\";\"no\";\"telephone\";\"may\";\"tue\";379;2;999;0;\"nonexistent\";1.1;93.994;-36.4;4.857;5191;\"no\"',\n",
       " '45;\"technician\";\"married\";\"high.school\";\"no\";\"yes\";\"no\";\"telephone\";\"may\";\"tue\";168;3;999;0;\"nonexistent\";1.1;93.994;-36.4;4.857;5191;\"no\"',\n",
       " '42;\"blue-collar\";\"married\";\"basic.4y\";\"unknown\";\"yes\";\"no\";\"telephone\";\"may\";\"tue\";190;3;999;0;\"nonexistent\";1.1;93.994;-36.4;4.857;5191;\"no\"',\n",
       " '46;\"admin.\";\"married\";\"university.degree\";\"no\";\"yes\";\"no\";\"telephone\";\"may\";\"tue\";158;1;999;0;\"nonexistent\";1.1;93.994;-36.4;4.857;5191;\"no\"',\n",
       " '36;\"technician\";\"married\";\"university.degree\";\"no\";\"no\";\"no\";\"telephone\";\"may\";\"tue\";210;1;999;0;\"nonexistent\";1.1;93.994;-36.4;4.857;5191;\"no\"',\n",
       " '41;\"self-employed\";\"married\";\"high.school\";\"no\";\"yes\";\"no\";\"telephone\";\"may\";\"tue\";102;1;999;0;\"nonexistent\";1.1;93.994;-36.4;4.857;5191;\"no\"',\n",
       " '57;\"admin.\";\"divorced\";\"basic.9y\";\"no\";\"no\";\"no\";\"telephone\";\"may\";\"tue\";306;1;999;0;\"nonexistent\";1.1;93.994;-36.4;4.857;5191;\"no\"',\n",
       " '49;\"blue-collar\";\"married\";\"basic.9y\";\"unknown\";\"yes\";\"no\";\"telephone\";\"may\";\"tue\";64;1;999;0;\"nonexistent\";1.1;93.994;-36.4;4.857;5191;\"no\"',\n",
       " '56;\"management\";\"divorced\";\"high.school\";\"no\";\"no\";\"no\";\"telephone\";\"may\";\"tue\";218;1;999;0;\"nonexistent\";1.1;93.994;-36.4;4.857;5191;\"no\"',\n",
       " '37;\"blue-collar\";\"married\";\"basic.9y\";\"no\";\"no\";\"no\";\"telephone\";\"may\";\"tue\";77;1;999;0;\"nonexistent\";1.1;93.994;-36.4;4.857;5191;\"no\"',\n",
       " '37;\"blue-collar\";\"married\";\"basic.9y\";\"no\";\"no\";\"yes\";\"telephone\";\"may\";\"tue\";54;1;999;0;\"nonexistent\";1.1;93.994;-36.4;4.857;5191;\"no\"',\n",
       " '46;\"admin.\";\"single\";\"high.school\";\"no\";\"yes\";\"no\";\"telephone\";\"may\";\"tue\";344;1;999;0;\"nonexistent\";1.1;93.994;-36.4;4.857;5191;\"no\"',\n",
       " '22;\"blue-collar\";\"single\";\"basic.9y\";\"no\";\"yes\";\"no\";\"telephone\";\"may\";\"tue\";195;1;999;0;\"nonexistent\";1.1;93.994;-36.4;4.857;5191;\"no\"',\n",
       " '43;\"services\";\"married\";\"high.school\";\"no\";\"no\";\"no\";\"telephone\";\"may\";\"tue\";202;1;999;0;\"nonexistent\";1.1;93.994;-36.4;4.857;5191;\"no\"',\n",
       " '49;\"blue-collar\";\"married\";\"unknown\";\"no\";\"no\";\"no\";\"telephone\";\"may\";\"tue\";286;1;999;0;\"nonexistent\";1.1;93.994;-36.4;4.857;5191;\"no\"',\n",
       " '41;\"technician\";\"married\";\"basic.6y\";\"no\";\"yes\";\"no\";\"telephone\";\"may\";\"tue\";278;1;999;0;\"nonexistent\";1.1;93.994;-36.4;4.857;5191;\"no\"',\n",
       " '38;\"admin.\";\"single\";\"university.degree\";\"no\";\"no\";\"no\";\"telephone\";\"may\";\"tue\";189;1;999;0;\"nonexistent\";1.1;93.994;-36.4;4.857;5191;\"no\"',\n",
       " '33;\"admin.\";\"married\";\"basic.9y\";\"no\";\"no\";\"no\";\"telephone\";\"may\";\"tue\";83;1;999;0;\"nonexistent\";1.1;93.994;-36.4;4.857;5191;\"no\"',\n",
       " '49;\"admin.\";\"married\";\"university.degree\";\"no\";\"yes\";\"yes\";\"telephone\";\"may\";\"tue\";18;1;999;0;\"nonexistent\";1.1;93.994;-36.4;4.857;5191;\"no\"',\n",
       " '30;\"blue-collar\";\"single\";\"unknown\";\"no\";\"no\";\"no\";\"telephone\";\"may\";\"tue\";184;2;999;0;\"nonexistent\";1.1;93.994;-36.4;4.857;5191;\"no\"',\n",
       " '33;\"admin.\";\"married\";\"basic.9y\";\"no\";\"yes\";\"no\";\"telephone\";\"may\";\"tue\";235;1;999;0;\"nonexistent\";1.1;93.994;-36.4;4.857;5191;\"no\"',\n",
       " '34;\"management\";\"single\";\"university.degree\";\"no\";\"no\";\"no\";\"telephone\";\"may\";\"tue\";290;1;999;0;\"nonexistent\";1.1;93.994;-36.4;4.857;5191;\"no\"',\n",
       " '30;\"student\";\"single\";\"unknown\";\"unknown\";\"no\";\"no\";\"telephone\";\"may\";\"tue\";133;1;999;0;\"nonexistent\";1.1;93.994;-36.4;4.857;5191;\"no\"',\n",
       " '59;\"management\";\"married\";\"basic.4y\";\"unknown\";\"yes\";\"yes\";\"telephone\";\"may\";\"tue\";318;1;999;0;\"nonexistent\";1.1;93.994;-36.4;4.857;5191;\"no\"',\n",
       " '59;\"management\";\"married\";\"basic.4y\";\"unknown\";\"unknown\";\"unknown\";\"telephone\";\"may\";\"tue\";437;1;999;0;\"nonexistent\";1.1;93.994;-36.4;4.857;5191;\"no\"',\n",
       " '41;\"self-employed\";\"married\";\"university.degree\";\"no\";\"no\";\"no\";\"telephone\";\"may\";\"tue\";402;1;999;0;\"nonexistent\";1.1;93.994;-36.4;4.857;5191;\"no\"',\n",
       " '48;\"housemaid\";\"married\";\"basic.6y\";\"unknown\";\"yes\";\"yes\";\"telephone\";\"may\";\"tue\";501;4;999;0;\"nonexistent\";1.1;93.994;-36.4;4.857;5191;\"no\"',\n",
       " '28;\"unknown\";\"single\";\"unknown\";\"unknown\";\"yes\";\"yes\";\"telephone\";\"may\";\"tue\";1201;1;999;0;\"nonexistent\";1.1;93.994;-36.4;4.857;5191;\"yes\"',\n",
       " '44;\"services\";\"married\";\"high.school\";\"no\";\"yes\";\"no\";\"telephone\";\"may\";\"tue\";1030;1;999;0;\"nonexistent\";1.1;93.994;-36.4;4.857;5191;\"yes\"',\n",
       " '59;\"retired\";\"unknown\";\"university.degree\";\"unknown\";\"no\";\"no\";\"telephone\";\"may\";\"tue\";253;1;999;0;\"nonexistent\";1.1;93.994;-36.4;4.857;5191;\"no\"',\n",
       " '50;\"management\";\"married\";\"high.school\";\"unknown\";\"no\";\"no\";\"telephone\";\"may\";\"tue\";149;1;999;0;\"nonexistent\";1.1;93.994;-36.4;4.857;5191;\"no\"',\n",
       " '35;\"admin.\";\"married\";\"university.degree\";\"no\";\"no\";\"no\";\"telephone\";\"may\";\"tue\";144;1;999;0;\"nonexistent\";1.1;93.994;-36.4;4.857;5191;\"no\"',\n",
       " '42;\"admin.\";\"married\";\"high.school\";\"no\";\"no\";\"no\";\"telephone\";\"may\";\"tue\";69;1;999;0;\"nonexistent\";1.1;93.994;-36.4;4.857;5191;\"no\"',\n",
       " '45;\"admin.\";\"married\";\"basic.9y\";\"no\";\"no\";\"no\";\"telephone\";\"may\";\"tue\";243;1;999;0;\"nonexistent\";1.1;93.994;-36.4;4.857;5191;\"no\"',\n",
       " '36;\"technician\";\"married\";\"professional.course\";\"no\";\"no\";\"no\";\"telephone\";\"may\";\"tue\";769;2;999;0;\"nonexistent\";1.1;93.994;-36.4;4.857;5191;\"no\"',\n",
       " '56;\"services\";\"married\";\"high.school\";\"unknown\";\"no\";\"no\";\"telephone\";\"may\";\"tue\";135;3;999;0;\"nonexistent\";1.1;93.994;-36.4;4.857;5191;\"no\"',\n",
       " '29;\"blue-collar\";\"divorced\";\"basic.4y\";\"no\";\"no\";\"no\";\"telephone\";\"may\";\"tue\";231;1;999;0;\"nonexistent\";1.1;93.994;-36.4;4.857;5191;\"no\"',\n",
       " '41;\"self-employed\";\"married\";\"university.degree\";\"no\";\"yes\";\"yes\";\"telephone\";\"may\";\"tue\";442;2;999;0;\"nonexistent\";1.1;93.994;-36.4;4.857;5191;\"no\"',\n",
       " '42;\"blue-collar\";\"married\";\"basic.9y\";\"unknown\";\"no\";\"no\";\"telephone\";\"may\";\"tue\";199;1;999;0;\"nonexistent\";1.1;93.994;-36.4;4.857;5191;\"no\"',\n",
       " '52;\"services\";\"single\";\"high.school\";\"no\";\"no\";\"no\";\"telephone\";\"may\";\"tue\";455;1;999;0;\"nonexistent\";1.1;93.994;-36.4;4.857;5191;\"no\"',\n",
       " '48;\"services\";\"married\";\"high.school\";\"unknown\";\"unknown\";\"unknown\";\"telephone\";\"may\";\"tue\";152;1;999;0;\"nonexistent\";1.1;93.994;-36.4;4.857;5191;\"no\"',\n",
       " '31;\"blue-collar\";\"married\";\"high.school\";\"unknown\";\"yes\";\"no\";\"telephone\";\"may\";\"tue\";124;1;999;0;\"nonexistent\";1.1;93.994;-36.4;4.857;5191;\"no\"',\n",
       " '43;\"unemployed\";\"married\";\"university.degree\";\"unknown\";\"yes\";\"no\";\"telephone\";\"may\";\"tue\";424;1;999;0;\"nonexistent\";1.1;93.994;-36.4;4.857;5191;\"no\"',\n",
       " '36;\"blue-collar\";\"married\";\"basic.4y\";\"unknown\";\"no\";\"no\";\"telephone\";\"may\";\"tue\";43;1;999;0;\"nonexistent\";1.1;93.994;-36.4;4.857;5191;\"no\"',\n",
       " '42;\"entrepreneur\";\"married\";\"university.degree\";\"no\";\"yes\";\"no\";\"telephone\";\"may\";\"tue\";154;1;999;0;\"nonexistent\";1.1;93.994;-36.4;4.857;5191;\"no\"',\n",
       " '52;\"services\";\"divorced\";\"basic.6y\";\"no\";\"no\";\"no\";\"telephone\";\"may\";\"tue\";393;1;999;0;\"nonexistent\";1.1;93.994;-36.4;4.857;5191;\"no\"',\n",
       " '39;\"admin.\";\"married\";\"high.school\";\"no\";\"yes\";\"no\";\"telephone\";\"may\";\"tue\";203;2;999;0;\"nonexistent\";1.1;93.994;-36.4;4.857;5191;\"no\"',\n",
       " '36;\"services\";\"married\";\"high.school\";\"no\";\"no\";\"yes\";\"telephone\";\"may\";\"tue\";140;2;999;0;\"nonexistent\";1.1;93.994;-36.4;4.857;5191;\"no\"',\n",
       " '42;\"blue-collar\";\"married\";\"basic.9y\";\"unknown\";\"yes\";\"no\";\"telephone\";\"may\";\"tue\";326;1;999;0;\"nonexistent\";1.1;93.994;-36.4;4.857;5191;\"no\"',\n",
       " '41;\"admin.\";\"married\";\"high.school\";\"no\";\"no\";\"no\";\"telephone\";\"may\";\"tue\";483;1;999;0;\"nonexistent\";1.1;93.994;-36.4;4.857;5191;\"no\"',\n",
       " '55;\"technician\";\"married\";\"basic.4y\";\"no\";\"no\";\"yes\";\"telephone\";\"may\";\"tue\";259;1;999;0;\"nonexistent\";1.1;93.994;-36.4;4.857;5191;\"no\"',\n",
       " '30;\"blue-collar\";\"married\";\"basic.9y\";\"no\";\"no\";\"no\";\"telephone\";\"may\";\"tue\";227;1;999;0;\"nonexistent\";1.1;93.994;-36.4;4.857;5191;\"no\"',\n",
       " '57;\"retired\";\"unknown\";\"basic.4y\";\"no\";\"no\";\"no\";\"telephone\";\"may\";\"tue\";673;1;999;0;\"nonexistent\";1.1;93.994;-36.4;4.857;5191;\"no\"',\n",
       " '45;\"entrepreneur\";\"married\";\"basic.4y\";\"unknown\";\"yes\";\"no\";\"telephone\";\"may\";\"tue\";576;1;999;0;\"nonexistent\";1.1;93.994;-36.4;4.857;5191;\"no\"',\n",
       " '51;\"blue-collar\";\"married\";\"basic.4y\";\"unknown\";\"yes\";\"yes\";\"telephone\";\"may\";\"tue\";180;2;999;0;\"nonexistent\";1.1;93.994;-36.4;4.857;5191;\"no\"',\n",
       " '39;\"self-employed\";\"single\";\"basic.9y\";\"unknown\";\"yes\";\"yes\";\"telephone\";\"may\";\"tue\";90;1;999;0;\"nonexistent\";1.1;93.994;-36.4;4.857;5191;\"no\"',\n",
       " '47;\"admin.\";\"married\";\"high.school\";\"unknown\";\"no\";\"no\";\"telephone\";\"may\";\"tue\";505;1;999;0;\"nonexistent\";1.1;93.994;-36.4;4.857;5191;\"no\"',\n",
       " '27;\"services\";\"married\";\"high.school\";\"no\";\"yes\";\"no\";\"telephone\";\"may\";\"tue\";245;1;999;0;\"nonexistent\";1.1;93.994;-36.4;4.857;5191;\"no\"',\n",
       " '34;\"technician\";\"single\";\"university.degree\";\"no\";\"yes\";\"no\";\"telephone\";\"may\";\"tue\";186;1;999;0;\"nonexistent\";1.1;93.994;-36.4;4.857;5191;\"no\"',\n",
       " '57;\"blue-collar\";\"married\";\"basic.4y\";\"unknown\";\"yes\";\"no\";\"telephone\";\"may\";\"tue\";208;1;999;0;\"nonexistent\";1.1;93.994;-36.4;4.857;5191;\"no\"',\n",
       " '43;\"entrepreneur\";\"married\";\"basic.4y\";\"no\";\"no\";\"no\";\"telephone\";\"may\";\"tue\";623;1;999;0;\"nonexistent\";1.1;93.994;-36.4;4.857;5191;\"no\"',\n",
       " '49;\"blue-collar\";\"married\";\"basic.4y\";\"unknown\";\"no\";\"no\";\"telephone\";\"may\";\"tue\";180;1;999;0;\"nonexistent\";1.1;93.994;-36.4;4.857;5191;\"no\"',\n",
       " '39;\"management\";\"married\";\"university.degree\";\"unknown\";\"no\";\"no\";\"telephone\";\"may\";\"tue\";496;3;999;0;\"nonexistent\";1.1;93.994;-36.4;4.857;5191;\"no\"',\n",
       " '38;\"blue-collar\";\"married\";\"basic.4y\";\"unknown\";\"yes\";\"no\";\"telephone\";\"may\";\"tue\";118;1;999;0;\"nonexistent\";1.1;93.994;-36.4;4.857;5191;\"no\"',\n",
       " '49;\"blue-collar\";\"married\";\"basic.9y\";\"no\";\"no\";\"no\";\"telephone\";\"may\";\"tue\";102;2;999;0;\"nonexistent\";1.1;93.994;-36.4;4.857;5191;\"no\"',\n",
       " '58;\"management\";\"married\";\"basic.6y\";\"no\";\"no\";\"no\";\"telephone\";\"may\";\"tue\";342;1;999;0;\"nonexistent\";1.1;93.994;-36.4;4.857;5191;\"no\"',\n",
       " '43;\"technician\";\"married\";\"professional.course\";\"no\";\"yes\";\"no\";\"telephone\";\"may\";\"tue\";225;1;999;0;\"nonexistent\";1.1;93.994;-36.4;4.857;5191;\"no\"',\n",
       " '50;\"unknown\";\"married\";\"unknown\";\"unknown\";\"yes\";\"no\";\"telephone\";\"may\";\"tue\";185;3;999;0;\"nonexistent\";1.1;93.994;-36.4;4.857;5191;\"no\"',\n",
       " '31;\"services\";\"married\";\"high.school\";\"unknown\";\"no\";\"no\";\"telephone\";\"may\";\"tue\";276;1;999;0;\"nonexistent\";1.1;93.994;-36.4;4.857;5191;\"no\"',\n",
       " '43;\"self-employed\";\"divorced\";\"university.degree\";\"no\";\"no\";\"no\";\"telephone\";\"may\";\"tue\";87;1;999;0;\"nonexistent\";1.1;93.994;-36.4;4.857;5191;\"no\"',\n",
       " '43;\"self-employed\";\"married\";\"basic.9y\";\"unknown\";\"no\";\"no\";\"telephone\";\"may\";\"tue\";744;1;999;0;\"nonexistent\";1.1;93.994;-36.4;4.857;5191;\"no\"',\n",
       " '30;\"self-employed\";\"single\";\"university.degree\";\"no\";\"yes\";\"no\";\"telephone\";\"may\";\"tue\";262;1;999;0;\"nonexistent\";1.1;93.994;-36.4;4.857;5191;\"no\"',\n",
       " '27;\"services\";\"single\";\"professional.course\";\"no\";\"yes\";\"yes\";\"telephone\";\"may\";\"tue\";271;1;999;0;\"nonexistent\";1.1;93.994;-36.4;4.857;5191;\"no\"',\n",
       " '51;\"services\";\"married\";\"unknown\";\"unknown\";\"no\";\"no\";\"telephone\";\"may\";\"tue\";141;1;999;0;\"nonexistent\";1.1;93.994;-36.4;4.857;5191;\"no\"',\n",
       " '37;\"technician\";\"married\";\"professional.course\";\"no\";\"yes\";\"no\";\"telephone\";\"may\";\"tue\";198;2;999;0;\"nonexistent\";1.1;93.994;-36.4;4.857;5191;\"no\"',\n",
       " '46;\"housemaid\";\"married\";\"basic.9y\";\"no\";\"yes\";\"no\";\"telephone\";\"may\";\"tue\";150;1;999;0;\"nonexistent\";1.1;93.994;-36.4;4.857;5191;\"no\"',\n",
       " '35;\"blue-collar\";\"married\";\"professional.course\";\"no\";\"no\";\"no\";\"telephone\";\"may\";\"tue\";241;1;999;0;\"nonexistent\";1.1;93.994;-36.4;4.857;5191;\"no\"',\n",
       " '47;\"admin.\";\"divorced\";\"university.degree\";\"no\";\"no\";\"no\";\"telephone\";\"may\";\"tue\";196;1;999;0;\"nonexistent\";1.1;93.994;-36.4;4.857;5191;\"no\"',\n",
       " '46;\"management\";\"married\";\"unknown\";\"no\";\"yes\";\"no\";\"telephone\";\"may\";\"tue\";149;1;999;0;\"nonexistent\";1.1;93.994;-36.4;4.857;5191;\"no\"',\n",
       " '40;\"technician\";\"married\";\"professional.course\";\"unknown\";\"no\";\"yes\";\"telephone\";\"may\";\"tue\";264;1;999;0;\"nonexistent\";1.1;93.994;-36.4;4.857;5191;\"no\"',\n",
       " '26;\"housemaid\";\"married\";\"university.degree\";\"no\";\"no\";\"no\";\"telephone\";\"may\";\"tue\";246;1;999;0;\"nonexistent\";1.1;93.994;-36.4;4.857;5191;\"no\"',\n",
       " '32;\"blue-collar\";\"divorced\";\"basic.9y\";\"unknown\";\"no\";\"no\";\"telephone\";\"may\";\"tue\";309;2;999;0;\"nonexistent\";1.1;93.994;-36.4;4.857;5191;\"no\"',\n",
       " '45;\"management\";\"married\";\"university.degree\";\"no\";\"yes\";\"no\";\"telephone\";\"may\";\"tue\";140;1;999;0;\"nonexistent\";1.1;93.994;-36.4;4.857;5191;\"no\"',\n",
       " '34;\"admin.\";\"married\";\"basic.9y\";\"no\";\"no\";\"no\";\"telephone\";\"may\";\"tue\";175;1;999;0;\"nonexistent\";1.1;93.994;-36.4;4.857;5191;\"no\"',\n",
       " '47;\"blue-collar\";\"married\";\"unknown\";\"unknown\";\"no\";\"no\";\"telephone\";\"may\";\"tue\";136;1;999;0;\"nonexistent\";1.1;93.994;-36.4;4.857;5191;\"no\"',\n",
       " '42;\"technician\";\"married\";\"professional.course\";\"no\";\"no\";\"no\";\"telephone\";\"may\";\"tue\";1623;1;999;0;\"nonexistent\";1.1;93.994;-36.4;4.857;5191;\"yes\"',\n",
       " '57;\"technician\";\"married\";\"basic.4y\";\"unknown\";\"no\";\"yes\";\"telephone\";\"may\";\"tue\";50;1;999;0;\"nonexistent\";1.1;93.994;-36.4;4.857;5191;\"no\"',\n",
       " '57;\"technician\";\"married\";\"basic.4y\";\"unknown\";\"no\";\"no\";\"telephone\";\"may\";\"tue\";101;1;999;0;\"nonexistent\";1.1;93.994;-36.4;4.857;5191;\"no\"',\n",
       " '38;\"blue-collar\";\"married\";\"basic.4y\";\"no\";\"no\";\"yes\";\"telephone\";\"may\";\"tue\";144;1;999;0;\"nonexistent\";1.1;93.994;-36.4;4.857;5191;\"no\"',\n",
       " '57;\"technician\";\"married\";\"basic.4y\";\"unknown\";\"no\";\"no\";\"telephone\";\"may\";\"tue\";238;1;999;0;\"nonexistent\";1.1;93.994;-36.4;4.857;5191;\"no\"',\n",
       " '28;\"student\";\"single\";\"basic.9y\";\"unknown\";\"yes\";\"no\";\"telephone\";\"may\";\"tue\";354;1;999;0;\"nonexistent\";1.1;93.994;-36.4;4.857;5191;\"no\"',\n",
       " '60;\"management\";\"married\";\"university.degree\";\"no\";\"no\";\"no\";\"telephone\";\"may\";\"tue\";451;2;999;0;\"nonexistent\";1.1;93.994;-36.4;4.857;5191;\"no\"',\n",
       " '48;\"admin.\";\"married\";\"university.degree\";\"no\";\"yes\";\"no\";\"telephone\";\"may\";\"tue\";159;1;999;0;\"nonexistent\";1.1;93.994;-36.4;4.857;5191;\"no\"',\n",
       " '47;\"technician\";\"married\";\"professional.course\";\"no\";\"yes\";\"no\";\"telephone\";\"may\";\"tue\";170;1;999;0;\"nonexistent\";1.1;93.994;-36.4;4.857;5191;\"no\"',\n",
       " '40;\"admin.\";\"married\";\"high.school\";\"no\";\"no\";\"no\";\"telephone\";\"may\";\"tue\";243;1;999;0;\"nonexistent\";1.1;93.994;-36.4;4.857;5191;\"no\"',\n",
       " '51;\"management\";\"married\";\"professional.course\";\"unknown\";\"yes\";\"no\";\"telephone\";\"may\";\"tue\";141;2;999;0;\"nonexistent\";1.1;93.994;-36.4;4.857;5191;\"no\"',\n",
       " '48;\"unemployed\";\"single\";\"basic.4y\";\"no\";\"yes\";\"no\";\"telephone\";\"may\";\"tue\";112;1;999;0;\"nonexistent\";1.1;93.994;-36.4;4.857;5191;\"no\"',\n",
       " '54;\"housemaid\";\"married\";\"basic.4y\";\"no\";\"no\";\"no\";\"telephone\";\"may\";\"tue\";262;2;999;0;\"nonexistent\";1.1;93.994;-36.4;4.857;5191;\"no\"',\n",
       " '40;\"blue-collar\";\"married\";\"basic.6y\";\"no\";\"no\";\"yes\";\"telephone\";\"may\";\"tue\";53;1;999;0;\"nonexistent\";1.1;93.994;-36.4;4.857;5191;\"no\"',\n",
       " '44;\"admin.\";\"single\";\"basic.9y\";\"unknown\";\"no\";\"no\";\"telephone\";\"may\";\"tue\";134;1;999;0;\"nonexistent\";1.1;93.994;-36.4;4.857;5191;\"no\"',\n",
       " '42;\"technician\";\"divorced\";\"high.school\";\"no\";\"no\";\"no\";\"telephone\";\"may\";\"tue\";204;4;999;0;\"nonexistent\";1.1;93.994;-36.4;4.857;5191;\"no\"',\n",
       " '52;\"self-employed\";\"married\";\"university.degree\";\"no\";\"yes\";\"no\";\"telephone\";\"may\";\"tue\";678;1;999;0;\"nonexistent\";1.1;93.994;-36.4;4.857;5191;\"no\"',\n",
       " '31;\"blue-collar\";\"single\";\"basic.9y\";\"no\";\"yes\";\"no\";\"telephone\";\"may\";\"tue\";182;1;999;0;\"nonexistent\";1.1;93.994;-36.4;4.857;5191;\"no\"',\n",
       " '32;\"services\";\"married\";\"high.school\";\"no\";\"no\";\"no\";\"telephone\";\"may\";\"tue\";162;1;999;0;\"nonexistent\";1.1;93.994;-36.4;4.857;5191;\"no\"',\n",
       " '44;\"admin.\";\"married\";\"high.school\";\"no\";\"yes\";\"yes\";\"telephone\";\"may\";\"tue\";177;1;999;0;\"nonexistent\";1.1;93.994;-36.4;4.857;5191;\"no\"',\n",
       " '39;\"management\";\"married\";\"basic.6y\";\"unknown\";\"no\";\"no\";\"telephone\";\"may\";\"tue\";27;1;999;0;\"nonexistent\";1.1;93.994;-36.4;4.857;5191;\"no\"',\n",
       " '57;\"management\";\"married\";\"professional.course\";\"unknown\";\"yes\";\"no\";\"telephone\";\"may\";\"tue\";699;3;999;0;\"nonexistent\";1.1;93.994;-36.4;4.857;5191;\"no\"',\n",
       " '52;\"admin.\";\"married\";\"basic.4y\";\"no\";\"yes\";\"no\";\"telephone\";\"may\";\"tue\";358;1;999;0;\"nonexistent\";1.1;93.994;-36.4;4.857;5191;\"no\"',\n",
       " '42;\"management\";\"married\";\"university.degree\";\"no\";\"no\";\"no\";\"telephone\";\"may\";\"tue\";1677;1;999;0;\"nonexistent\";1.1;93.994;-36.4;4.857;5191;\"yes\"',\n",
       " '42;\"technician\";\"single\";\"professional.course\";\"unknown\";\"unknown\";\"unknown\";\"telephone\";\"may\";\"tue\";529;1;999;0;\"nonexistent\";1.1;93.994;-36.4;4.857;5191;\"no\"',\n",
       " '43;\"management\";\"married\";\"professional.course\";\"no\";\"yes\";\"no\";\"telephone\";\"may\";\"tue\";310;1;999;0;\"nonexistent\";1.1;93.994;-36.4;4.857;5191;\"no\"',\n",
       " '31;\"admin.\";\"divorced\";\"high.school\";\"no\";\"no\";\"no\";\"telephone\";\"may\";\"tue\";47;1;999;0;\"nonexistent\";1.1;93.994;-36.4;4.857;5191;\"no\"',\n",
       " '29;\"admin.\";\"married\";\"university.degree\";\"unknown\";\"yes\";\"no\";\"telephone\";\"may\";\"tue\";379;1;999;0;\"nonexistent\";1.1;93.994;-36.4;4.857;5191;\"no\"',\n",
       " '57;\"blue-collar\";\"divorced\";\"basic.4y\";\"no\";\"no\";\"no\";\"telephone\";\"may\";\"tue\";30;2;999;0;\"nonexistent\";1.1;93.994;-36.4;4.857;5191;\"no\"',\n",
       " '44;\"blue-collar\";\"married\";\"basic.9y\";\"unknown\";\"no\";\"no\";\"telephone\";\"may\";\"tue\";472;1;999;0;\"nonexistent\";1.1;93.994;-36.4;4.857;5191;\"no\"',\n",
       " '59;\"unknown\";\"married\";\"unknown\";\"unknown\";\"no\";\"no\";\"telephone\";\"may\";\"tue\";113;1;999;0;\"nonexistent\";1.1;93.994;-36.4;4.857;5191;\"no\"',\n",
       " '39;\"blue-collar\";\"married\";\"basic.4y\";\"unknown\";\"no\";\"no\";\"telephone\";\"may\";\"tue\";114;1;999;0;\"nonexistent\";1.1;93.994;-36.4;4.857;5191;\"no\"',\n",
       " '57;\"retired\";\"married\";\"university.degree\";\"no\";\"no\";\"no\";\"telephone\";\"may\";\"tue\";116;1;999;0;\"nonexistent\";1.1;93.994;-36.4;4.857;5191;\"no\"',\n",
       " '41;\"management\";\"married\";\"unknown\";\"unknown\";\"no\";\"no\";\"telephone\";\"may\";\"tue\";448;1;999;0;\"nonexistent\";1.1;93.994;-36.4;4.857;5191;\"no\"',\n",
       " '37;\"technician\";\"single\";\"high.school\";\"unknown\";\"no\";\"yes\";\"telephone\";\"may\";\"tue\";264;1;999;0;\"nonexistent\";1.1;93.994;-36.4;4.857;5191;\"no\"',\n",
       " '38;\"services\";\"married\";\"high.school\";\"no\";\"yes\";\"no\";\"telephone\";\"may\";\"tue\";169;1;999;0;\"nonexistent\";1.1;93.994;-36.4;4.857;5191;\"no\"',\n",
       " '42;\"retired\";\"married\";\"basic.4y\";\"no\";\"no\";\"no\";\"telephone\";\"may\";\"tue\";145;1;999;0;\"nonexistent\";1.1;93.994;-36.4;4.857;5191;\"no\"',\n",
       " '49;\"unknown\";\"married\";\"unknown\";\"unknown\";\"yes\";\"no\";\"telephone\";\"may\";\"tue\";288;1;999;0;\"nonexistent\";1.1;93.994;-36.4;4.857;5191;\"no\"',\n",
       " '54;\"management\";\"married\";\"basic.6y\";\"unknown\";\"yes\";\"yes\";\"telephone\";\"may\";\"tue\";381;1;999;0;\"nonexistent\";1.1;93.994;-36.4;4.857;5191;\"no\"',\n",
       " '36;\"admin.\";\"married\";\"university.degree\";\"no\";\"unknown\";\"unknown\";\"telephone\";\"may\";\"tue\";176;2;999;0;\"nonexistent\";1.1;93.994;-36.4;4.857;5191;\"no\"',\n",
       " '32;\"admin.\";\"single\";\"university.degree\";\"unknown\";\"no\";\"no\";\"telephone\";\"may\";\"tue\";215;1;999;0;\"nonexistent\";1.1;93.994;-36.4;4.857;5191;\"no\"',\n",
       " '35;\"technician\";\"married\";\"professional.course\";\"no\";\"yes\";\"no\";\"telephone\";\"may\";\"tue\";278;1;999;0;\"nonexistent\";1.1;93.994;-36.4;4.857;5191;\"no\"',\n",
       " '45;\"housemaid\";\"married\";\"professional.course\";\"unknown\";\"no\";\"no\";\"telephone\";\"may\";\"tue\";188;2;999;0;\"nonexistent\";1.1;93.994;-36.4;4.857;5191;\"no\"',\n",
       " '56;\"technician\";\"married\";\"unknown\";\"no\";\"yes\";\"no\";\"telephone\";\"may\";\"tue\";174;2;999;0;\"nonexistent\";1.1;93.994;-36.4;4.857;5191;\"no\"',\n",
       " '34;\"technician\";\"married\";\"university.degree\";\"no\";\"yes\";\"no\";\"telephone\";\"may\";\"tue\";226;2;999;0;\"nonexistent\";1.1;93.994;-36.4;4.857;5191;\"no\"',\n",
       " '41;\"unemployed\";\"married\";\"basic.9y\";\"unknown\";\"no\";\"no\";\"telephone\";\"may\";\"tue\";111;2;999;0;\"nonexistent\";1.1;93.994;-36.4;4.857;5191;\"no\"',\n",
       " '41;\"services\";\"married\";\"basic.9y\";\"no\";\"no\";\"no\";\"telephone\";\"may\";\"tue\";157;2;999;0;\"nonexistent\";1.1;93.994;-36.4;4.857;5191;\"no\"',\n",
       " '36;\"blue-collar\";\"married\";\"basic.9y\";\"unknown\";\"no\";\"no\";\"telephone\";\"may\";\"tue\";46;1;999;0;\"nonexistent\";1.1;93.994;-36.4;4.857;5191;\"no\"',\n",
       " '32;\"admin.\";\"single\";\"university.degree\";\"unknown\";\"unknown\";\"unknown\";\"telephone\";\"may\";\"tue\";49;1;999;0;\"nonexistent\";1.1;93.994;-36.4;4.857;5191;\"no\"',\n",
       " '31;\"services\";\"married\";\"high.school\";\"unknown\";\"unknown\";\"unknown\";\"telephone\";\"may\";\"tue\";374;1;999;0;\"nonexistent\";1.1;93.994;-36.4;4.857;5191;\"no\"',\n",
       " '38;\"technician\";\"married\";\"professional.course\";\"no\";\"yes\";\"no\";\"telephone\";\"may\";\"tue\";349;1;999;0;\"nonexistent\";1.1;93.994;-36.4;4.857;5191;\"no\"',\n",
       " '35;\"admin.\";\"divorced\";\"university.degree\";\"unknown\";\"yes\";\"no\";\"telephone\";\"may\";\"tue\";325;1;999;0;\"nonexistent\";1.1;93.994;-36.4;4.857;5191;\"no\"',\n",
       " '53;\"admin.\";\"married\";\"professional.course\";\"no\";\"yes\";\"no\";\"telephone\";\"may\";\"tue\";233;2;999;0;\"nonexistent\";1.1;93.994;-36.4;4.857;5191;\"no\"',\n",
       " '51;\"admin.\";\"married\";\"basic.6y\";\"unknown\";\"yes\";\"no\";\"telephone\";\"may\";\"tue\";531;1;999;0;\"nonexistent\";1.1;93.994;-36.4;4.857;5191;\"no\"',\n",
       " '56;\"entrepreneur\";\"married\";\"university.degree\";\"unknown\";\"no\";\"no\";\"telephone\";\"may\";\"tue\";153;1;999;0;\"nonexistent\";1.1;93.994;-36.4;4.857;5191;\"no\"',\n",
       " '33;\"admin.\";\"married\";\"basic.9y\";\"no\";\"unknown\";\"unknown\";\"telephone\";\"may\";\"tue\";80;1;999;0;\"nonexistent\";1.1;93.994;-36.4;4.857;5191;\"no\"',\n",
       " '33;\"admin.\";\"married\";\"basic.9y\";\"no\";\"no\";\"no\";\"telephone\";\"may\";\"tue\";198;1;999;0;\"nonexistent\";1.1;93.994;-36.4;4.857;5191;\"no\"',\n",
       " '51;\"services\";\"divorced\";\"high.school\";\"unknown\";\"yes\";\"no\";\"telephone\";\"may\";\"tue\";568;1;999;0;\"nonexistent\";1.1;93.994;-36.4;4.857;5191;\"no\"',\n",
       " '39;\"services\";\"married\";\"high.school\";\"unknown\";\"yes\";\"no\";\"telephone\";\"may\";\"tue\";918;1;999;0;\"nonexistent\";1.1;93.994;-36.4;4.857;5191;\"yes\"',\n",
       " '45;\"entrepreneur\";\"married\";\"university.degree\";\"no\";\"no\";\"no\";\"telephone\";\"may\";\"tue\";82;1;999;0;\"nonexistent\";1.1;93.994;-36.4;4.857;5191;\"no\"',\n",
       " '40;\"technician\";\"single\";\"university.degree\";\"no\";\"no\";\"no\";\"telephone\";\"may\";\"tue\";198;3;999;0;\"nonexistent\";1.1;93.994;-36.4;4.857;5191;\"no\"',\n",
       " '60;\"unknown\";\"single\";\"unknown\";\"unknown\";\"yes\";\"no\";\"telephone\";\"may\";\"tue\";211;1;999;0;\"nonexistent\";1.1;93.994;-36.4;4.857;5191;\"no\"',\n",
       " '33;\"technician\";\"married\";\"university.degree\";\"no\";\"yes\";\"no\";\"telephone\";\"may\";\"tue\";120;1;999;0;\"nonexistent\";1.1;93.994;-36.4;4.857;5191;\"no\"',\n",
       " '47;\"blue-collar\";\"married\";\"high.school\";\"unknown\";\"yes\";\"no\";\"telephone\";\"may\";\"tue\";269;1;999;0;\"nonexistent\";1.1;93.994;-36.4;4.857;5191;\"no\"',\n",
       " '48;\"blue-collar\";\"married\";\"basic.4y\";\"no\";\"no\";\"no\";\"telephone\";\"may\";\"tue\";128;1;999;0;\"nonexistent\";1.1;93.994;-36.4;4.857;5191;\"no\"',\n",
       " '43;\"entrepreneur\";\"married\";\"high.school\";\"no\";\"no\";\"no\";\"telephone\";\"may\";\"tue\";166;2;999;0;\"nonexistent\";1.1;93.994;-36.4;4.857;5191;\"no\"',\n",
       " '37;\"management\";\"married\";\"university.degree\";\"no\";\"yes\";\"no\";\"telephone\";\"may\";\"tue\";211;1;999;0;\"nonexistent\";1.1;93.994;-36.4;4.857;5191;\"no\"',\n",
       " '50;\"services\";\"married\";\"basic.9y\";\"no\";\"yes\";\"yes\";\"telephone\";\"may\";\"tue\";369;1;999;0;\"nonexistent\";1.1;93.994;-36.4;4.857;5191;\"no\"',\n",
       " '59;\"entrepreneur\";\"married\";\"high.school\";\"no\";\"yes\";\"no\";\"telephone\";\"may\";\"tue\";91;1;999;0;\"nonexistent\";1.1;93.994;-36.4;4.857;5191;\"no\"',\n",
       " '32;\"technician\";\"married\";\"unknown\";\"unknown\";\"yes\";\"no\";\"telephone\";\"may\";\"tue\";267;2;999;0;\"nonexistent\";1.1;93.994;-36.4;4.857;5191;\"no\"',\n",
       " '42;\"housemaid\";\"single\";\"basic.4y\";\"unknown\";\"yes\";\"no\";\"telephone\";\"may\";\"tue\";198;1;999;0;\"nonexistent\";1.1;93.994;-36.4;4.857;5191;\"no\"',\n",
       " '52;\"blue-collar\";\"married\";\"basic.4y\";\"no\";\"no\";\"no\";\"telephone\";\"may\";\"tue\";371;2;999;0;\"nonexistent\";1.1;93.994;-36.4;4.857;5191;\"no\"',\n",
       " '42;\"blue-collar\";\"married\";\"unknown\";\"unknown\";\"no\";\"no\";\"telephone\";\"may\";\"tue\";288;2;999;0;\"nonexistent\";1.1;93.994;-36.4;4.857;5191;\"no\"',\n",
       " '42;\"admin.\";\"married\";\"unknown\";\"no\";\"no\";\"no\";\"telephone\";\"may\";\"tue\";221;1;999;0;\"nonexistent\";1.1;93.994;-36.4;4.857;5191;\"no\"',\n",
       " '40;\"management\";\"married\";\"basic.9y\";\"unknown\";\"unknown\";\"unknown\";\"telephone\";\"may\";\"tue\";427;1;999;0;\"nonexistent\";1.1;93.994;-36.4;4.857;5191;\"no\"',\n",
       " '38;\"blue-collar\";\"married\";\"basic.9y\";\"no\";\"no\";\"no\";\"telephone\";\"may\";\"tue\";310;1;999;0;\"nonexistent\";1.1;93.994;-36.4;4.857;5191;\"no\"',\n",
       " '39;\"blue-collar\";\"married\";\"basic.6y\";\"no\";\"yes\";\"no\";\"telephone\";\"may\";\"tue\";158;1;999;0;\"nonexistent\";1.1;93.994;-36.4;4.857;5191;\"no\"',\n",
       " '39;\"blue-collar\";\"married\";\"basic.6y\";\"no\";\"no\";\"no\";\"telephone\";\"may\";\"tue\";198;1;999;0;\"nonexistent\";1.1;93.994;-36.4;4.857;5191;\"no\"',\n",
       " '38;\"admin.\";\"married\";\"high.school\";\"no\";\"no\";\"no\";\"telephone\";\"may\";\"tue\";145;1;999;0;\"nonexistent\";1.1;93.994;-36.4;4.857;5191;\"no\"',\n",
       " '47;\"admin.\";\"single\";\"unknown\";\"unknown\";\"yes\";\"no\";\"telephone\";\"may\";\"tue\";247;1;999;0;\"nonexistent\";1.1;93.994;-36.4;4.857;5191;\"no\"',\n",
       " '30;\"services\";\"single\";\"high.school\";\"no\";\"no\";\"no\";\"telephone\";\"may\";\"tue\";102;1;999;0;\"nonexistent\";1.1;93.994;-36.4;4.857;5191;\"no\"',\n",
       " '38;\"admin.\";\"divorced\";\"high.school\";\"no\";\"yes\";\"yes\";\"telephone\";\"may\";\"tue\";179;2;999;0;\"nonexistent\";1.1;93.994;-36.4;4.857;5191;\"no\"',\n",
       " '39;\"technician\";\"divorced\";\"university.degree\";\"no\";\"no\";\"no\";\"telephone\";\"may\";\"tue\";73;1;999;0;\"nonexistent\";1.1;93.994;-36.4;4.857;5191;\"no\"',\n",
       " '44;\"admin.\";\"married\";\"high.school\";\"no\";\"no\";\"no\";\"telephone\";\"may\";\"tue\";263;2;999;0;\"nonexistent\";1.1;93.994;-36.4;4.857;5191;\"no\"',\n",
       " '36;\"admin.\";\"married\";\"high.school\";\"no\";\"no\";\"no\";\"telephone\";\"may\";\"tue\";342;2;999;0;\"nonexistent\";1.1;93.994;-36.4;4.857;5191;\"no\"',\n",
       " '41;\"services\";\"married\";\"high.school\";\"unknown\";\"yes\";\"yes\";\"telephone\";\"may\";\"tue\";41;1;999;0;\"nonexistent\";1.1;93.994;-36.4;4.857;5191;\"no\"',\n",
       " '41;\"blue-collar\";\"married\";\"basic.6y\";\"no\";\"no\";\"no\";\"telephone\";\"may\";\"tue\";13;1;999;0;\"nonexistent\";1.1;93.994;-36.4;4.857;5191;\"no\"',\n",
       " '35;\"blue-collar\";\"married\";\"basic.9y\";\"no\";\"no\";\"no\";\"telephone\";\"may\";\"tue\";79;2;999;0;\"nonexistent\";1.1;93.994;-36.4;4.857;5191;\"no\"',\n",
       " '41;\"technician\";\"married\";\"high.school\";\"no\";\"no\";\"no\";\"telephone\";\"may\";\"tue\";358;1;999;0;\"nonexistent\";1.1;93.994;-36.4;4.857;5191;\"no\"',\n",
       " '36;\"services\";\"married\";\"high.school\";\"unknown\";\"no\";\"no\";\"telephone\";\"may\";\"tue\";162;1;999;0;\"nonexistent\";1.1;93.994;-36.4;4.857;5191;\"no\"',\n",
       " '35;\"admin.\";\"single\";\"high.school\";\"no\";\"yes\";\"yes\";\"telephone\";\"may\";\"tue\";150;1;999;0;\"nonexistent\";1.1;93.994;-36.4;4.857;5191;\"no\"',\n",
       " '33;\"blue-collar\";\"single\";\"basic.4y\";\"unknown\";\"no\";\"no\";\"telephone\";\"may\";\"tue\";26;1;999;0;\"nonexistent\";1.1;93.994;-36.4;4.857;5191;\"no\"',\n",
       " '38;\"admin.\";\"single\";\"basic.6y\";\"unknown\";\"no\";\"no\";\"telephone\";\"may\";\"tue\";250;1;999;0;\"nonexistent\";1.1;93.994;-36.4;4.857;5191;\"no\"',\n",
       " '33;\"self-employed\";\"married\";\"university.degree\";\"no\";\"no\";\"no\";\"telephone\";\"may\";\"tue\";792;1;999;0;\"nonexistent\";1.1;93.994;-36.4;4.857;5191;\"no\"',\n",
       " '55;\"self-employed\";\"married\";\"unknown\";\"unknown\";\"no\";\"no\";\"telephone\";\"may\";\"tue\";146;1;999;0;\"nonexistent\";1.1;93.994;-36.4;4.857;5191;\"no\"',\n",
       " '36;\"blue-collar\";\"single\";\"basic.9y\";\"unknown\";\"no\";\"no\";\"telephone\";\"may\";\"tue\";440;1;999;0;\"nonexistent\";1.1;93.994;-36.4;4.857;5191;\"no\"',\n",
       " '57;\"technician\";\"married\";\"professional.course\";\"unknown\";\"no\";\"yes\";\"telephone\";\"may\";\"tue\";289;1;999;0;\"nonexistent\";1.1;93.994;-36.4;4.857;5191;\"no\"',\n",
       " '32;\"entrepreneur\";\"single\";\"university.degree\";\"no\";\"yes\";\"no\";\"telephone\";\"may\";\"tue\";242;2;999;0;\"nonexistent\";1.1;93.994;-36.4;4.857;5191;\"no\"',\n",
       " '30;\"self-employed\";\"single\";\"high.school\";\"no\";\"yes\";\"no\";\"telephone\";\"may\";\"tue\";123;1;999;0;\"nonexistent\";1.1;93.994;-36.4;4.857;5191;\"no\"',\n",
       " '43;\"admin.\";\"married\";\"professional.course\";\"no\";\"yes\";\"yes\";\"telephone\";\"may\";\"tue\";161;2;999;0;\"nonexistent\";1.1;93.994;-36.4;4.857;5191;\"no\"',\n",
       " '46;\"admin.\";\"married\";\"university.degree\";\"no\";\"no\";\"no\";\"telephone\";\"may\";\"tue\";268;2;999;0;\"nonexistent\";1.1;93.994;-36.4;4.857;5191;\"no\"',\n",
       " '35;\"admin.\";\"divorced\";\"high.school\";\"no\";\"no\";\"yes\";\"telephone\";\"may\";\"tue\";259;2;999;0;\"nonexistent\";1.1;93.994;-36.4;4.857;5191;\"no\"',\n",
       " '34;\"admin.\";\"single\";\"university.degree\";\"no\";\"yes\";\"yes\";\"telephone\";\"may\";\"tue\";26;1;999;0;\"nonexistent\";1.1;93.994;-36.4;4.857;5191;\"no\"',\n",
       " '50;\"blue-collar\";\"married\";\"basic.4y\";\"unknown\";\"unknown\";\"unknown\";\"telephone\";\"may\";\"tue\";153;1;999;0;\"nonexistent\";1.1;93.994;-36.4;4.857;5191;\"no\"',\n",
       " '39;\"admin.\";\"single\";\"university.degree\";\"no\";\"no\";\"no\";\"telephone\";\"may\";\"tue\";424;2;999;0;\"nonexistent\";1.1;93.994;-36.4;4.857;5191;\"no\"',\n",
       " '39;\"blue-collar\";\"married\";\"basic.9y\";\"unknown\";\"no\";\"no\";\"telephone\";\"may\";\"tue\";375;1;999;0;\"nonexistent\";1.1;93.994;-36.4;4.857;5191;\"no\"',\n",
       " '42;\"entrepreneur\";\"married\";\"basic.6y\";\"no\";\"no\";\"no\";\"telephone\";\"may\";\"tue\";179;2;999;0;\"nonexistent\";1.1;93.994;-36.4;4.857;5191;\"no\"',\n",
       " '57;\"retired\";\"married\";\"university.degree\";\"no\";\"yes\";\"no\";\"telephone\";\"may\";\"tue\";383;1;999;0;\"nonexistent\";1.1;93.994;-36.4;4.857;5191;\"no\"',\n",
       " '45;\"blue-collar\";\"married\";\"basic.4y\";\"unknown\";\"no\";\"no\";\"telephone\";\"may\";\"tue\";440;1;999;0;\"nonexistent\";1.1;93.994;-36.4;4.857;5191;\"no\"',\n",
       " '40;\"technician\";\"married\";\"basic.4y\";\"no\";\"no\";\"yes\";\"telephone\";\"may\";\"tue\";195;1;999;0;\"nonexistent\";1.1;93.994;-36.4;4.857;5191;\"no\"',\n",
       " '42;\"blue-collar\";\"married\";\"high.school\";\"no\";\"no\";\"yes\";\"telephone\";\"may\";\"tue\";1297;3;999;0;\"nonexistent\";1.1;93.994;-36.4;4.857;5191;\"yes\"',\n",
       " '40;\"technician\";\"married\";\"basic.4y\";\"no\";\"no\";\"no\";\"telephone\";\"may\";\"tue\";217;1;999;0;\"nonexistent\";1.1;93.994;-36.4;4.857;5191;\"no\"',\n",
       " '38;\"blue-collar\";\"single\";\"basic.4y\";\"unknown\";\"no\";\"no\";\"telephone\";\"may\";\"tue\";87;1;999;0;\"nonexistent\";1.1;93.994;-36.4;4.857;5191;\"no\"',\n",
       " '39;\"blue-collar\";\"married\";\"basic.6y\";\"unknown\";\"yes\";\"yes\";\"telephone\";\"may\";\"tue\";427;1;999;0;\"nonexistent\";1.1;93.994;-36.4;4.857;5191;\"no\"',\n",
       " '41;\"blue-collar\";\"married\";\"basic.4y\";\"no\";\"no\";\"no\";\"telephone\";\"may\";\"tue\";189;1;999;0;\"nonexistent\";1.1;93.994;-36.4;4.857;5191;\"no\"',\n",
       " '39;\"blue-collar\";\"married\";\"basic.6y\";\"unknown\";\"yes\";\"no\";\"telephone\";\"may\";\"tue\";502;1;999;0;\"nonexistent\";1.1;93.994;-36.4;4.857;5191;\"no\"',\n",
       " '41;\"blue-collar\";\"married\";\"basic.4y\";\"no\";\"yes\";\"yes\";\"telephone\";\"may\";\"tue\";260;1;999;0;\"nonexistent\";1.1;93.994;-36.4;4.857;5191;\"no\"',\n",
       " '45;\"admin.\";\"married\";\"university.degree\";\"unknown\";\"no\";\"no\";\"telephone\";\"may\";\"tue\";209;1;999;0;\"nonexistent\";1.1;93.994;-36.4;4.857;5191;\"no\"',\n",
       " '35;\"admin.\";\"divorced\";\"university.degree\";\"no\";\"unknown\";\"unknown\";\"telephone\";\"may\";\"tue\";179;1;999;0;\"nonexistent\";1.1;93.994;-36.4;4.857;5191;\"no\"',\n",
       " '35;\"admin.\";\"married\";\"basic.6y\";\"no\";\"yes\";\"no\";\"telephone\";\"may\";\"tue\";179;1;999;0;\"nonexistent\";1.1;93.994;-36.4;4.857;5191;\"no\"',\n",
       " '49;\"blue-collar\";\"married\";\"high.school\";\"unknown\";\"no\";\"no\";\"telephone\";\"may\";\"tue\";69;1;999;0;\"nonexistent\";1.1;93.994;-36.4;4.857;5191;\"no\"',\n",
       " '36;\"technician\";\"married\";\"unknown\";\"no\";\"no\";\"no\";\"telephone\";\"may\";\"tue\";105;2;999;0;\"nonexistent\";1.1;93.994;-36.4;4.857;5191;\"no\"',\n",
       " '23;\"admin.\";\"single\";\"university.degree\";\"no\";\"no\";\"no\";\"telephone\";\"may\";\"tue\";266;3;999;0;\"nonexistent\";1.1;93.994;-36.4;4.857;5191;\"no\"',\n",
       " '43;\"unemployed\";\"married\";\"university.degree\";\"unknown\";\"unknown\";\"unknown\";\"telephone\";\"may\";\"tue\";87;2;999;0;\"nonexistent\";1.1;93.994;-36.4;4.857;5191;\"no\"',\n",
       " '49;\"entrepreneur\";\"married\";\"professional.course\";\"no\";\"unknown\";\"unknown\";\"telephone\";\"may\";\"tue\";524;2;999;0;\"nonexistent\";1.1;93.994;-36.4;4.857;5191;\"no\"',\n",
       " '36;\"technician\";\"married\";\"professional.course\";\"no\";\"unknown\";\"unknown\";\"telephone\";\"may\";\"tue\";155;2;999;0;\"nonexistent\";1.1;93.994;-36.4;4.857;5191;\"no\"',\n",
       " '51;\"blue-collar\";\"married\";\"basic.9y\";\"unknown\";\"yes\";\"no\";\"telephone\";\"may\";\"tue\";162;2;999;0;\"nonexistent\";1.1;93.994;-36.4;4.857;5191;\"no\"',\n",
       " '56;\"retired\";\"married\";\"basic.4y\";\"unknown\";\"yes\";\"yes\";\"telephone\";\"may\";\"tue\";316;4;999;0;\"nonexistent\";1.1;93.994;-36.4;4.857;5191;\"no\"',\n",
       " '45;\"housemaid\";\"married\";\"high.school\";\"no\";\"no\";\"no\";\"telephone\";\"may\";\"tue\";352;2;999;0;\"nonexistent\";1.1;93.994;-36.4;4.857;5191;\"no\"',\n",
       " '42;\"admin.\";\"married\";\"high.school\";\"no\";\"no\";\"no\";\"telephone\";\"may\";\"tue\";695;3;999;0;\"nonexistent\";1.1;93.994;-36.4;4.857;5191;\"no\"',\n",
       " '41;\"admin.\";\"divorced\";\"high.school\";\"no\";\"no\";\"no\";\"telephone\";\"may\";\"tue\";76;4;999;0;\"nonexistent\";1.1;93.994;-36.4;4.857;5191;\"no\"',\n",
       " '32;\"services\";\"married\";\"high.school\";\"unknown\";\"no\";\"yes\";\"telephone\";\"may\";\"tue\";535;2;999;0;\"nonexistent\";1.1;93.994;-36.4;4.857;5191;\"no\"',\n",
       " '46;\"management\";\"married\";\"university.degree\";\"no\";\"no\";\"no\";\"telephone\";\"may\";\"tue\";310;2;999;0;\"nonexistent\";1.1;93.994;-36.4;4.857;5191;\"no\"',\n",
       " '37;\"blue-collar\";\"married\";\"unknown\";\"no\";\"no\";\"no\";\"telephone\";\"may\";\"tue\";390;3;999;0;\"nonexistent\";1.1;93.994;-36.4;4.857;5191;\"no\"',\n",
       " '53;\"management\";\"married\";\"university.degree\";\"unknown\";\"no\";\"no\";\"telephone\";\"may\";\"tue\";369;1;999;0;\"nonexistent\";1.1;93.994;-36.4;4.857;5191;\"no\"',\n",
       " '30;\"blue-collar\";\"married\";\"basic.4y\";\"no\";\"no\";\"no\";\"telephone\";\"may\";\"tue\";112;2;999;0;\"nonexistent\";1.1;93.994;-36.4;4.857;5191;\"no\"',\n",
       " '45;\"unknown\";\"married\";\"unknown\";\"unknown\";\"no\";\"no\";\"telephone\";\"may\";\"tue\";79;1;999;0;\"nonexistent\";1.1;93.994;-36.4;4.857;5191;\"no\"',\n",
       " '24;\"technician\";\"single\";\"professional.course\";\"no\";\"no\";\"yes\";\"telephone\";\"may\";\"tue\";140;2;999;0;\"nonexistent\";1.1;93.994;-36.4;4.857;5191;\"no\"',\n",
       " '45;\"unknown\";\"married\";\"unknown\";\"unknown\";\"no\";\"no\";\"telephone\";\"may\";\"tue\";315;1;999;0;\"nonexistent\";1.1;93.994;-36.4;4.857;5191;\"no\"',\n",
       " '34;\"admin.\";\"single\";\"university.degree\";\"no\";\"no\";\"yes\";\"telephone\";\"may\";\"tue\";262;2;999;0;\"nonexistent\";1.1;93.994;-36.4;4.857;5191;\"no\"',\n",
       " '41;\"management\";\"married\";\"university.degree\";\"unknown\";\"no\";\"no\";\"telephone\";\"may\";\"tue\";174;2;999;0;\"nonexistent\";1.1;93.994;-36.4;4.857;5191;\"no\"',\n",
       " '59;\"blue-collar\";\"married\";\"basic.4y\";\"no\";\"yes\";\"no\";\"telephone\";\"may\";\"tue\";424;2;999;0;\"nonexistent\";1.1;93.994;-36.4;4.857;5191;\"no\"',\n",
       " '45;\"blue-collar\";\"married\";\"basic.4y\";\"unknown\";\"no\";\"no\";\"telephone\";\"may\";\"tue\";135;1;999;0;\"nonexistent\";1.1;93.994;-36.4;4.857;5191;\"no\"',\n",
       " '54;\"blue-collar\";\"married\";\"basic.6y\";\"unknown\";\"no\";\"no\";\"telephone\";\"may\";\"tue\";36;5;999;0;\"nonexistent\";1.1;93.994;-36.4;4.857;5191;\"no\"',\n",
       " '32;\"technician\";\"married\";\"professional.course\";\"no\";\"no\";\"no\";\"telephone\";\"may\";\"tue\";1906;3;999;0;\"nonexistent\";1.1;93.994;-36.4;4.857;5191;\"no\"',\n",
       " '33;\"technician\";\"married\";\"professional.course\";\"no\";\"yes\";\"no\";\"telephone\";\"may\";\"tue\";219;2;999;0;\"nonexistent\";1.1;93.994;-36.4;4.857;5191;\"no\"',\n",
       " '32;\"admin.\";\"married\";\"university.degree\";\"no\";\"no\";\"no\";\"telephone\";\"may\";\"tue\";135;1;999;0;\"nonexistent\";1.1;93.994;-36.4;4.857;5191;\"no\"',\n",
       " '34;\"services\";\"single\";\"high.school\";\"no\";\"unknown\";\"unknown\";\"telephone\";\"may\";\"tue\";147;2;999;0;\"nonexistent\";1.1;93.994;-36.4;4.857;5191;\"no\"',\n",
       " '46;\"management\";\"married\";\"university.degree\";\"no\";\"no\";\"no\";\"telephone\";\"may\";\"tue\";407;2;999;0;\"nonexistent\";1.1;93.994;-36.4;4.857;5191;\"no\"',\n",
       " '57;\"technician\";\"married\";\"professional.course\";\"no\";\"yes\";\"no\";\"telephone\";\"may\";\"tue\";402;4;999;0;\"nonexistent\";1.1;93.994;-36.4;4.857;5191;\"no\"',\n",
       " '42;\"technician\";\"married\";\"basic.9y\";\"no\";\"no\";\"no\";\"telephone\";\"may\";\"tue\";209;1;999;0;\"nonexistent\";1.1;93.994;-36.4;4.857;5191;\"no\"',\n",
       " '48;\"admin.\";\"married\";\"professional.course\";\"no\";\"yes\";\"no\";\"telephone\";\"may\";\"tue\";92;2;999;0;\"nonexistent\";1.1;93.994;-36.4;4.857;5191;\"no\"',\n",
       " '58;\"admin.\";\"divorced\";\"university.degree\";\"unknown\";\"yes\";\"no\";\"telephone\";\"may\";\"tue\";208;1;999;0;\"nonexistent\";1.1;93.994;-36.4;4.857;5191;\"no\"',\n",
       " '34;\"services\";\"married\";\"high.school\";\"no\";\"no\";\"no\";\"telephone\";\"may\";\"tue\";193;1;999;0;\"nonexistent\";1.1;93.994;-36.4;4.857;5191;\"no\"',\n",
       " '32;\"admin.\";\"single\";\"university.degree\";\"no\";\"yes\";\"yes\";\"telephone\";\"may\";\"tue\";65;1;999;0;\"nonexistent\";1.1;93.994;-36.4;4.857;5191;\"no\"',\n",
       " '48;\"blue-collar\";\"married\";\"basic.9y\";\"no\";\"no\";\"no\";\"telephone\";\"may\";\"tue\";284;2;999;0;\"nonexistent\";1.1;93.994;-36.4;4.857;5191;\"no\"',\n",
       " '47;\"blue-collar\";\"married\";\"basic.9y\";\"no\";\"no\";\"no\";\"telephone\";\"may\";\"tue\";285;1;999;0;\"nonexistent\";1.1;93.994;-36.4;4.857;5191;\"no\"',\n",
       " '31;\"services\";\"married\";\"high.school\";\"unknown\";\"no\";\"no\";\"telephone\";\"may\";\"tue\";231;1;999;0;\"nonexistent\";1.1;93.994;-36.4;4.857;5191;\"no\"',\n",
       " '32;\"admin.\";\"single\";\"university.degree\";\"no\";\"yes\";\"no\";\"telephone\";\"may\";\"tue\";278;1;999;0;\"nonexistent\";1.1;93.994;-36.4;4.857;5191;\"no\"',\n",
       " '32;\"admin.\";\"single\";\"university.degree\";\"no\";\"no\";\"no\";\"telephone\";\"may\";\"tue\";389;1;999;0;\"nonexistent\";1.1;93.994;-36.4;4.857;5191;\"no\"',\n",
       " '36;\"services\";\"married\";\"high.school\";\"no\";\"no\";\"no\";\"telephone\";\"may\";\"tue\";158;1;999;0;\"nonexistent\";1.1;93.994;-36.4;4.857;5191;\"no\"',\n",
       " '53;\"blue-collar\";\"married\";\"basic.4y\";\"unknown\";\"no\";\"yes\";\"telephone\";\"may\";\"tue\";78;2;999;0;\"nonexistent\";1.1;93.994;-36.4;4.857;5191;\"no\"',\n",
       " '37;\"blue-collar\";\"married\";\"basic.9y\";\"unknown\";\"no\";\"no\";\"telephone\";\"may\";\"tue\";258;5;999;0;\"nonexistent\";1.1;93.994;-36.4;4.857;5191;\"no\"',\n",
       " '50;\"services\";\"married\";\"high.school\";\"no\";\"no\";\"no\";\"telephone\";\"may\";\"tue\";87;1;999;0;\"nonexistent\";1.1;93.994;-36.4;4.857;5191;\"no\"',\n",
       " '46;\"blue-collar\";\"married\";\"basic.6y\";\"no\";\"yes\";\"no\";\"telephone\";\"may\";\"tue\";147;2;999;0;\"nonexistent\";1.1;93.994;-36.4;4.857;5191;\"no\"',\n",
       " '41;\"admin.\";\"married\";\"high.school\";\"no\";\"no\";\"no\";\"telephone\";\"may\";\"tue\";635;1;999;0;\"nonexistent\";1.1;93.994;-36.4;4.857;5191;\"no\"',\n",
       " '43;\"blue-collar\";\"single\";\"basic.4y\";\"no\";\"no\";\"no\";\"telephone\";\"may\";\"tue\";289;1;999;0;\"nonexistent\";1.1;93.994;-36.4;4.857;5191;\"no\"',\n",
       " '51;\"management\";\"married\";\"university.degree\";\"no\";\"yes\";\"no\";\"telephone\";\"may\";\"tue\";170;3;999;0;\"nonexistent\";1.1;93.994;-36.4;4.857;5191;\"no\"',\n",
       " '38;\"admin.\";\"married\";\"university.degree\";\"no\";\"yes\";\"no\";\"telephone\";\"may\";\"tue\";802;1;999;0;\"nonexistent\";1.1;93.994;-36.4;4.857;5191;\"no\"',\n",
       " '41;\"technician\";\"married\";\"basic.6y\";\"no\";\"yes\";\"no\";\"telephone\";\"may\";\"tue\";381;2;999;0;\"nonexistent\";1.1;93.994;-36.4;4.857;5191;\"no\"',\n",
       " '39;\"services\";\"married\";\"high.school\";\"unknown\";\"no\";\"no\";\"telephone\";\"may\";\"tue\";218;4;999;0;\"nonexistent\";1.1;93.994;-36.4;4.857;5191;\"no\"',\n",
       " '52;\"blue-collar\";\"married\";\"basic.4y\";\"no\";\"no\";\"no\";\"telephone\";\"may\";\"tue\";57;2;999;0;\"nonexistent\";1.1;93.994;-36.4;4.857;5191;\"no\"',\n",
       " '37;\"technician\";\"married\";\"professional.course\";\"no\";\"yes\";\"no\";\"telephone\";\"may\";\"tue\";304;2;999;0;\"nonexistent\";1.1;93.994;-36.4;4.857;5191;\"no\"',\n",
       " '41;\"admin.\";\"married\";\"basic.9y\";\"no\";\"yes\";\"no\";\"telephone\";\"may\";\"tue\";241;3;999;0;\"nonexistent\";1.1;93.994;-36.4;4.857;5191;\"no\"',\n",
       " '46;\"admin.\";\"divorced\";\"university.degree\";\"no\";\"yes\";\"yes\";\"telephone\";\"may\";\"tue\";230;1;999;0;\"nonexistent\";1.1;93.994;-36.4;4.857;5191;\"no\"',\n",
       " '47;\"technician\";\"married\";\"professional.course\";\"no\";\"no\";\"no\";\"telephone\";\"may\";\"tue\";79;4;999;0;\"nonexistent\";1.1;93.994;-36.4;4.857;5191;\"no\"',\n",
       " '35;\"technician\";\"married\";\"professional.course\";\"no\";\"no\";\"no\";\"telephone\";\"may\";\"tue\";262;3;999;0;\"nonexistent\";1.1;93.994;-36.4;4.857;5191;\"no\"',\n",
       " '38;\"services\";\"married\";\"high.school\";\"unknown\";\"no\";\"no\";\"telephone\";\"may\";\"tue\";392;2;999;0;\"nonexistent\";1.1;93.994;-36.4;4.857;5191;\"no\"',\n",
       " '30;\"blue-collar\";\"single\";\"unknown\";\"no\";\"yes\";\"yes\";\"telephone\";\"may\";\"tue\";201;2;999;0;\"nonexistent\";1.1;93.994;-36.4;4.857;5191;\"no\"',\n",
       " '46;\"blue-collar\";\"married\";\"basic.9y\";\"no\";\"yes\";\"no\";\"telephone\";\"may\";\"tue\";145;1;999;0;\"nonexistent\";1.1;93.994;-36.4;4.857;5191;\"no\"',\n",
       " '30;\"technician\";\"married\";\"professional.course\";\"no\";\"no\";\"no\";\"telephone\";\"may\";\"tue\";252;1;999;0;\"nonexistent\";1.1;93.994;-36.4;4.857;5191;\"no\"',\n",
       " '35;\"services\";\"single\";\"basic.4y\";\"no\";\"no\";\"no\";\"telephone\";\"may\";\"tue\";329;1;999;0;\"nonexistent\";1.1;93.994;-36.4;4.857;5191;\"no\"',\n",
       " '58;\"admin.\";\"married\";\"unknown\";\"unknown\";\"yes\";\"no\";\"telephone\";\"may\";\"tue\";328;2;999;0;\"nonexistent\";1.1;93.994;-36.4;4.857;5191;\"no\"',\n",
       " '40;\"technician\";\"married\";\"professional.course\";\"no\";\"no\";\"no\";\"telephone\";\"may\";\"tue\";191;2;999;0;\"nonexistent\";1.1;93.994;-36.4;4.857;5191;\"no\"',\n",
       " '34;\"technician\";\"married\";\"university.degree\";\"no\";\"no\";\"no\";\"telephone\";\"may\";\"tue\";116;2;999;0;\"nonexistent\";1.1;93.994;-36.4;4.857;5191;\"no\"',\n",
       " '30;\"admin.\";\"single\";\"university.degree\";\"no\";\"no\";\"no\";\"telephone\";\"may\";\"tue\";246;1;999;0;\"nonexistent\";1.1;93.994;-36.4;4.857;5191;\"no\"',\n",
       " '38;\"services\";\"married\";\"basic.6y\";\"no\";\"no\";\"no\";\"telephone\";\"may\";\"tue\";532;2;999;0;\"nonexistent\";1.1;93.994;-36.4;4.857;5191;\"no\"',\n",
       " '55;\"management\";\"single\";\"basic.4y\";\"no\";\"no\";\"no\";\"telephone\";\"may\";\"tue\";293;1;999;0;\"nonexistent\";1.1;93.994;-36.4;4.857;5191;\"no\"',\n",
       " '55;\"management\";\"married\";\"university.degree\";\"unknown\";\"yes\";\"no\";\"telephone\";\"may\";\"tue\";416;3;999;0;\"nonexistent\";1.1;93.994;-36.4;4.857;5191;\"no\"',\n",
       " '45;\"technician\";\"single\";\"professional.course\";\"no\";\"yes\";\"no\";\"telephone\";\"may\";\"tue\";37;2;999;0;\"nonexistent\";1.1;93.994;-36.4;4.857;5191;\"no\"',\n",
       " '36;\"admin.\";\"married\";\"university.degree\";\"no\";\"yes\";\"yes\";\"telephone\";\"may\";\"tue\";132;2;999;0;\"nonexistent\";1.1;93.994;-36.4;4.857;5191;\"no\"',\n",
       " '32;\"admin.\";\"single\";\"university.degree\";\"no\";\"no\";\"no\";\"telephone\";\"may\";\"tue\";530;2;999;0;\"nonexistent\";1.1;93.994;-36.4;4.857;5191;\"no\"',\n",
       " '35;\"technician\";\"married\";\"unknown\";\"unknown\";\"yes\";\"no\";\"telephone\";\"may\";\"tue\";175;3;999;0;\"nonexistent\";1.1;93.994;-36.4;4.857;5191;\"no\"',\n",
       " '55;\"management\";\"divorced\";\"university.degree\";\"no\";\"yes\";\"no\";\"telephone\";\"may\";\"tue\";90;5;999;0;\"nonexistent\";1.1;93.994;-36.4;4.857;5191;\"no\"',\n",
       " '49;\"housemaid\";\"married\";\"basic.4y\";\"unknown\";\"unknown\";\"unknown\";\"telephone\";\"may\";\"tue\";524;2;999;0;\"nonexistent\";1.1;93.994;-36.4;4.857;5191;\"no\"',\n",
       " '29;\"admin.\";\"married\";\"high.school\";\"no\";\"yes\";\"no\";\"telephone\";\"may\";\"tue\";29;3;999;0;\"nonexistent\";1.1;93.994;-36.4;4.857;5191;\"no\"',\n",
       " '34;\"blue-collar\";\"married\";\"basic.4y\";\"no\";\"yes\";\"no\";\"telephone\";\"may\";\"tue\";311;2;999;0;\"nonexistent\";1.1;93.994;-36.4;4.857;5191;\"no\"',\n",
       " '54;\"retired\";\"married\";\"high.school\";\"unknown\";\"yes\";\"no\";\"telephone\";\"may\";\"tue\";412;1;999;0;\"nonexistent\";1.1;93.994;-36.4;4.857;5191;\"no\"',\n",
       " '36;\"technician\";\"single\";\"professional.course\";\"no\";\"no\";\"no\";\"telephone\";\"may\";\"tue\";211;2;999;0;\"nonexistent\";1.1;93.994;-36.4;4.857;5191;\"no\"',\n",
       " '30;\"management\";\"single\";\"university.degree\";\"no\";\"yes\";\"no\";\"telephone\";\"may\";\"tue\";312;3;999;0;\"nonexistent\";1.1;93.994;-36.4;4.857;5191;\"no\"',\n",
       " '33;\"housemaid\";\"divorced\";\"university.degree\";\"no\";\"no\";\"no\";\"telephone\";\"may\";\"tue\";392;1;999;0;\"nonexistent\";1.1;93.994;-36.4;4.857;5191;\"no\"',\n",
       " '37;\"blue-collar\";\"married\";\"high.school\";\"no\";\"no\";\"no\";\"telephone\";\"may\";\"tue\";191;1;999;0;\"nonexistent\";1.1;93.994;-36.4;4.857;5191;\"no\"',\n",
       " '36;\"technician\";\"married\";\"basic.9y\";\"unknown\";\"yes\";\"no\";\"telephone\";\"may\";\"tue\";284;2;999;0;\"nonexistent\";1.1;93.994;-36.4;4.857;5191;\"no\"',\n",
       " '33;\"blue-collar\";\"married\";\"high.school\";\"no\";\"no\";\"no\";\"telephone\";\"may\";\"tue\";328;1;999;0;\"nonexistent\";1.1;93.994;-36.4;4.857;5191;\"no\"',\n",
       " '32;\"housemaid\";\"married\";\"high.school\";\"no\";\"yes\";\"no\";\"telephone\";\"may\";\"tue\";100;1;999;0;\"nonexistent\";1.1;93.994;-36.4;4.857;5191;\"no\"',\n",
       " '32;\"housemaid\";\"married\";\"high.school\";\"no\";\"no\";\"no\";\"telephone\";\"may\";\"tue\";226;1;999;0;\"nonexistent\";1.1;93.994;-36.4;4.857;5191;\"no\"',\n",
       " '50;\"blue-collar\";\"married\";\"basic.4y\";\"unknown\";\"yes\";\"no\";\"telephone\";\"may\";\"tue\";507;1;999;0;\"nonexistent\";1.1;93.994;-36.4;4.857;5191;\"no\"',\n",
       " '39;\"blue-collar\";\"married\";\"basic.9y\";\"no\";\"no\";\"yes\";\"telephone\";\"may\";\"tue\";333;2;999;0;\"nonexistent\";1.1;93.994;-36.4;4.857;5191;\"no\"',\n",
       " '51;\"blue-collar\";\"divorced\";\"unknown\";\"unknown\";\"yes\";\"yes\";\"telephone\";\"may\";\"tue\";128;2;999;0;\"nonexistent\";1.1;93.994;-36.4;4.857;5191;\"no\"',\n",
       " '33;\"services\";\"married\";\"high.school\";\"no\";\"no\";\"no\";\"telephone\";\"may\";\"tue\";322;2;999;0;\"nonexistent\";1.1;93.994;-36.4;4.857;5191;\"no\"',\n",
       " '33;\"services\";\"married\";\"basic.4y\";\"no\";\"no\";\"no\";\"telephone\";\"may\";\"tue\";202;4;999;0;\"nonexistent\";1.1;93.994;-36.4;4.857;5191;\"no\"',\n",
       " '56;\"management\";\"married\";\"university.degree\";\"unknown\";\"no\";\"yes\";\"telephone\";\"may\";\"tue\";92;2;999;0;\"nonexistent\";1.1;93.994;-36.4;4.857;5191;\"no\"',\n",
       " '39;\"management\";\"divorced\";\"university.degree\";\"unknown\";\"yes\";\"no\";\"telephone\";\"may\";\"tue\";205;2;999;0;\"nonexistent\";1.1;93.994;-36.4;4.857;5191;\"no\"',\n",
       " '33;\"self-employed\";\"single\";\"university.degree\";\"no\";\"no\";\"no\";\"telephone\";\"may\";\"tue\";739;3;999;0;\"nonexistent\";1.1;93.994;-36.4;4.857;5191;\"no\"',\n",
       " '59;\"retired\";\"divorced\";\"basic.4y\";\"unknown\";\"no\";\"no\";\"telephone\";\"may\";\"tue\";273;2;999;0;\"nonexistent\";1.1;93.994;-36.4;4.857;5191;\"no\"',\n",
       " '42;\"admin.\";\"single\";\"unknown\";\"no\";\"yes\";\"no\";\"telephone\";\"may\";\"tue\";339;3;999;0;\"nonexistent\";1.1;93.994;-36.4;4.857;5191;\"no\"',\n",
       " '43;\"services\";\"married\";\"high.school\";\"no\";\"no\";\"yes\";\"telephone\";\"may\";\"tue\";262;1;999;0;\"nonexistent\";1.1;93.994;-36.4;4.857;5191;\"no\"',\n",
       " '35;\"admin.\";\"married\";\"university.degree\";\"no\";\"unknown\";\"unknown\";\"telephone\";\"may\";\"tue\";308;3;999;0;\"nonexistent\";1.1;93.994;-36.4;4.857;5191;\"no\"',\n",
       " '46;\"blue-collar\";\"married\";\"basic.6y\";\"unknown\";\"yes\";\"no\";\"telephone\";\"may\";\"tue\";467;2;999;0;\"nonexistent\";1.1;93.994;-36.4;4.857;5191;\"no\"',\n",
       " '27;\"technician\";\"married\";\"basic.9y\";\"no\";\"no\";\"yes\";\"telephone\";\"may\";\"tue\";245;2;999;0;\"nonexistent\";1.1;93.994;-36.4;4.857;5191;\"no\"',\n",
       " '47;\"admin.\";\"divorced\";\"university.degree\";\"no\";\"yes\";\"no\";\"telephone\";\"may\";\"tue\";160;3;999;0;\"nonexistent\";1.1;93.994;-36.4;4.857;5191;\"no\"',\n",
       " '31;\"admin.\";\"single\";\"university.degree\";\"no\";\"no\";\"no\";\"telephone\";\"may\";\"tue\";189;2;999;0;\"nonexistent\";1.1;93.994;-36.4;4.857;5191;\"no\"',\n",
       " '32;\"blue-collar\";\"married\";\"basic.9y\";\"no\";\"yes\";\"no\";\"telephone\";\"may\";\"tue\";477;1;999;0;\"nonexistent\";1.1;93.994;-36.4;4.857;5191;\"no\"',\n",
       " '54;\"admin.\";\"married\";\"high.school\";\"no\";\"no\";\"no\";\"telephone\";\"may\";\"tue\";65;3;999;0;\"nonexistent\";1.1;93.994;-36.4;4.857;5191;\"no\"',\n",
       " '56;\"management\";\"married\";\"university.degree\";\"unknown\";\"no\";\"no\";\"telephone\";\"may\";\"tue\";191;1;999;0;\"nonexistent\";1.1;93.994;-36.4;4.857;5191;\"no\"',\n",
       " '48;\"services\";\"single\";\"high.school\";\"unknown\";\"yes\";\"no\";\"telephone\";\"may\";\"tue\";196;2;999;0;\"nonexistent\";1.1;93.994;-36.4;4.857;5191;\"no\"',\n",
       " '44;\"admin.\";\"married\";\"high.school\";\"no\";\"yes\";\"no\";\"telephone\";\"may\";\"tue\";221;2;999;0;\"nonexistent\";1.1;93.994;-36.4;4.857;5191;\"no\"',\n",
       " '46;\"admin.\";\"married\";\"high.school\";\"no\";\"no\";\"yes\";\"telephone\";\"may\";\"tue\";197;2;999;0;\"nonexistent\";1.1;93.994;-36.4;4.857;5191;\"no\"',\n",
       " '45;\"services\";\"married\";\"high.school\";\"no\";\"yes\";\"no\";\"telephone\";\"may\";\"tue\";178;2;999;0;\"nonexistent\";1.1;93.994;-36.4;4.857;5191;\"no\"',\n",
       " '43;\"admin.\";\"married\";\"professional.course\";\"no\";\"no\";\"yes\";\"telephone\";\"may\";\"tue\";221;2;999;0;\"nonexistent\";1.1;93.994;-36.4;4.857;5191;\"no\"',\n",
       " '40;\"admin.\";\"single\";\"high.school\";\"unknown\";\"no\";\"no\";\"telephone\";\"may\";\"tue\";64;2;999;0;\"nonexistent\";1.1;93.994;-36.4;4.857;5191;\"no\"',\n",
       " '56;\"management\";\"married\";\"university.degree\";\"no\";\"yes\";\"no\";\"telephone\";\"may\";\"tue\";75;2;999;0;\"nonexistent\";1.1;93.994;-36.4;4.857;5191;\"no\"',\n",
       " '47;\"entrepreneur\";\"married\";\"professional.course\";\"no\";\"no\";\"no\";\"telephone\";\"may\";\"tue\";400;2;999;0;\"nonexistent\";1.1;93.994;-36.4;4.857;5191;\"no\"',\n",
       " '39;\"management\";\"divorced\";\"university.degree\";\"unknown\";\"yes\";\"no\";\"telephone\";\"may\";\"tue\";378;3;999;0;\"nonexistent\";1.1;93.994;-36.4;4.857;5191;\"no\"',\n",
       " '48;\"technician\";\"married\";\"basic.4y\";\"unknown\";\"no\";\"no\";\"telephone\";\"may\";\"tue\";118;2;999;0;\"nonexistent\";1.1;93.994;-36.4;4.857;5191;\"no\"',\n",
       " '45;\"housemaid\";\"married\";\"professional.course\";\"unknown\";\"yes\";\"no\";\"telephone\";\"may\";\"tue\";1597;2;999;0;\"nonexistent\";1.1;93.994;-36.4;4.857;5191;\"yes\"',\n",
       " '36;\"self-employed\";\"married\";\"university.degree\";\"no\";\"no\";\"no\";\"telephone\";\"may\";\"tue\";346;2;999;0;\"nonexistent\";1.1;93.994;-36.4;4.857;5191;\"no\"',\n",
       " '49;\"management\";\"married\";\"professional.course\";\"unknown\";\"yes\";\"no\";\"telephone\";\"may\";\"tue\";107;2;999;0;\"nonexistent\";1.1;93.994;-36.4;4.857;5191;\"no\"',\n",
       " '46;\"services\";\"married\";\"high.school\";\"no\";\"no\";\"no\";\"telephone\";\"may\";\"tue\";60;3;999;0;\"nonexistent\";1.1;93.994;-36.4;4.857;5191;\"no\"',\n",
       " '38;\"blue-collar\";\"married\";\"basic.9y\";\"no\";\"yes\";\"no\";\"telephone\";\"may\";\"tue\";276;2;999;0;\"nonexistent\";1.1;93.994;-36.4;4.857;5191;\"no\"',\n",
       " '50;\"housemaid\";\"married\";\"basic.4y\";\"unknown\";\"yes\";\"no\";\"telephone\";\"may\";\"tue\";176;2;999;0;\"nonexistent\";1.1;93.994;-36.4;4.857;5191;\"no\"',\n",
       " '27;\"admin.\";\"single\";\"high.school\";\"no\";\"yes\";\"no\";\"telephone\";\"may\";\"tue\";390;2;999;0;\"nonexistent\";1.1;93.994;-36.4;4.857;5191;\"no\"',\n",
       " '40;\"technician\";\"married\";\"professional.course\";\"unknown\";\"yes\";\"no\";\"telephone\";\"may\";\"tue\";251;3;999;0;\"nonexistent\";1.1;93.994;-36.4;4.857;5191;\"no\"',\n",
       " '46;\"management\";\"married\";\"university.degree\";\"no\";\"yes\";\"no\";\"telephone\";\"may\";\"tue\";716;2;999;0;\"nonexistent\";1.1;93.994;-36.4;4.857;5191;\"no\"',\n",
       " '40;\"admin.\";\"divorced\";\"university.degree\";\"no\";\"yes\";\"no\";\"telephone\";\"may\";\"tue\";189;3;999;0;\"nonexistent\";1.1;93.994;-36.4;4.857;5191;\"no\"',\n",
       " '33;\"management\";\"single\";\"university.degree\";\"no\";\"no\";\"no\";\"telephone\";\"may\";\"tue\";125;2;999;0;\"nonexistent\";1.1;93.994;-36.4;4.857;5191;\"no\"',\n",
       " '54;\"retired\";\"married\";\"high.school\";\"no\";\"yes\";\"no\";\"telephone\";\"may\";\"tue\";234;2;999;0;\"nonexistent\";1.1;93.994;-36.4;4.857;5191;\"no\"',\n",
       " '52;\"blue-collar\";\"married\";\"basic.4y\";\"unknown\";\"yes\";\"no\";\"telephone\";\"may\";\"tue\";79;2;999;0;\"nonexistent\";1.1;93.994;-36.4;4.857;5191;\"no\"',\n",
       " '53;\"admin.\";\"married\";\"university.degree\";\"unknown\";\"yes\";\"no\";\"telephone\";\"may\";\"tue\";13;6;999;0;\"nonexistent\";1.1;93.994;-36.4;4.857;5191;\"no\"',\n",
       " '49;\"services\";\"married\";\"high.school\";\"unknown\";\"no\";\"no\";\"telephone\";\"may\";\"tue\";296;3;999;0;\"nonexistent\";1.1;93.994;-36.4;4.857;5191;\"no\"',\n",
       " '42;\"blue-collar\";\"married\";\"basic.4y\";\"unknown\";\"no\";\"no\";\"telephone\";\"may\";\"tue\";114;2;999;0;\"nonexistent\";1.1;93.994;-36.4;4.857;5191;\"no\"',\n",
       " '49;\"housemaid\";\"married\";\"basic.4y\";\"no\";\"no\";\"no\";\"telephone\";\"may\";\"tue\";283;3;999;0;\"nonexistent\";1.1;93.994;-36.4;4.857;5191;\"no\"',\n",
       " '40;\"entrepreneur\";\"married\";\"basic.9y\";\"no\";\"no\";\"no\";\"telephone\";\"may\";\"tue\";109;2;999;0;\"nonexistent\";1.1;93.994;-36.4;4.857;5191;\"no\"',\n",
       " '59;\"admin.\";\"married\";\"university.degree\";\"unknown\";\"no\";\"no\";\"telephone\";\"may\";\"tue\";132;2;999;0;\"nonexistent\";1.1;93.994;-36.4;4.857;5191;\"no\"',\n",
       " '51;\"self-employed\";\"married\";\"basic.9y\";\"no\";\"yes\";\"no\";\"telephone\";\"may\";\"tue\";144;2;999;0;\"nonexistent\";1.1;93.994;-36.4;4.857;5191;\"no\"',\n",
       " '57;\"housemaid\";\"married\";\"basic.6y\";\"unknown\";\"yes\";\"no\";\"telephone\";\"may\";\"tue\";121;2;999;0;\"nonexistent\";1.1;93.994;-36.4;4.857;5191;\"no\"',\n",
       " '38;\"self-employed\";\"divorced\";\"basic.9y\";\"no\";\"yes\";\"no\";\"telephone\";\"may\";\"tue\";95;3;999;0;\"nonexistent\";1.1;93.994;-36.4;4.857;5191;\"no\"',\n",
       " '52;\"self-employed\";\"married\";\"university.degree\";\"no\";\"no\";\"no\";\"telephone\";\"may\";\"tue\";31;3;999;0;\"nonexistent\";1.1;93.994;-36.4;4.857;5191;\"no\"',\n",
       " '26;\"unemployed\";\"single\";\"basic.9y\";\"no\";\"yes\";\"no\";\"telephone\";\"may\";\"tue\";112;3;999;0;\"nonexistent\";1.1;93.994;-36.4;4.857;5191;\"no\"',\n",
       " '35;\"admin.\";\"married\";\"university.degree\";\"no\";\"yes\";\"yes\";\"telephone\";\"may\";\"tue\";161;2;999;0;\"nonexistent\";1.1;93.994;-36.4;4.857;5191;\"no\"',\n",
       " '51;\"admin.\";\"married\";\"university.degree\";\"no\";\"no\";\"no\";\"telephone\";\"may\";\"tue\";87;4;999;0;\"nonexistent\";1.1;93.994;-36.4;4.857;5191;\"no\"',\n",
       " '43;\"blue-collar\";\"married\";\"basic.4y\";\"unknown\";\"yes\";\"yes\";\"telephone\";\"may\";\"tue\";593;2;999;0;\"nonexistent\";1.1;93.994;-36.4;4.857;5191;\"no\"',\n",
       " '42;\"admin.\";\"married\";\"high.school\";\"unknown\";\"yes\";\"no\";\"telephone\";\"may\";\"tue\";99;2;999;0;\"nonexistent\";1.1;93.994;-36.4;4.857;5191;\"no\"',\n",
       " '60;\"retired\";\"divorced\";\"university.degree\";\"unknown\";\"yes\";\"no\";\"telephone\";\"may\";\"tue\";198;2;999;0;\"nonexistent\";1.1;93.994;-36.4;4.857;5191;\"no\"',\n",
       " '36;\"blue-collar\";\"married\";\"basic.9y\";\"no\";\"yes\";\"no\";\"telephone\";\"may\";\"tue\";285;2;999;0;\"nonexistent\";1.1;93.994;-36.4;4.857;5191;\"no\"',\n",
       " '57;\"management\";\"married\";\"university.degree\";\"unknown\";\"no\";\"no\";\"telephone\";\"may\";\"tue\";190;3;999;0;\"nonexistent\";1.1;93.994;-36.4;4.857;5191;\"no\"',\n",
       " '35;\"student\";\"single\";\"university.degree\";\"unknown\";\"no\";\"no\";\"telephone\";\"may\";\"tue\";172;5;999;0;\"nonexistent\";1.1;93.994;-36.4;4.857;5191;\"no\"',\n",
       " '30;\"admin.\";\"married\";\"university.degree\";\"no\";\"no\";\"no\";\"telephone\";\"may\";\"tue\";178;2;999;0;\"nonexistent\";1.1;93.994;-36.4;4.857;5191;\"no\"',\n",
       " '43;\"services\";\"married\";\"high.school\";\"no\";\"no\";\"no\";\"telephone\";\"may\";\"tue\";174;2;999;0;\"nonexistent\";1.1;93.994;-36.4;4.857;5191;\"no\"',\n",
       " '40;\"technician\";\"married\";\"basic.9y\";\"no\";\"no\";\"no\";\"telephone\";\"may\";\"tue\";631;2;999;0;\"nonexistent\";1.1;93.994;-36.4;4.857;5191;\"no\"',\n",
       " '45;\"technician\";\"married\";\"university.degree\";\"no\";\"no\";\"no\";\"telephone\";\"may\";\"tue\";152;3;999;0;\"nonexistent\";1.1;93.994;-36.4;4.857;5191;\"no\"',\n",
       " '56;\"retired\";\"married\";\"high.school\";\"no\";\"no\";\"no\";\"telephone\";\"may\";\"tue\";176;5;999;0;\"nonexistent\";1.1;93.994;-36.4;4.857;5191;\"no\"',\n",
       " '46;\"services\";\"married\";\"basic.6y\";\"no\";\"no\";\"no\";\"telephone\";\"may\";\"tue\";32;3;999;0;\"nonexistent\";1.1;93.994;-36.4;4.857;5191;\"no\"',\n",
       " '41;\"blue-collar\";\"married\";\"basic.4y\";\"no\";\"yes\";\"no\";\"telephone\";\"may\";\"tue\";1529;2;999;0;\"nonexistent\";1.1;93.994;-36.4;4.857;5191;\"no\"',\n",
       " '42;\"admin.\";\"married\";\"university.degree\";\"no\";\"yes\";\"no\";\"telephone\";\"may\";\"tue\";254;2;999;0;\"nonexistent\";1.1;93.994;-36.4;4.857;5191;\"no\"',\n",
       " '56;\"blue-collar\";\"married\";\"basic.4y\";\"no\";\"no\";\"no\";\"telephone\";\"may\";\"tue\";214;2;999;0;\"nonexistent\";1.1;93.994;-36.4;4.857;5191;\"no\"',\n",
       " '43;\"entrepreneur\";\"married\";\"basic.4y\";\"no\";\"yes\";\"no\";\"telephone\";\"may\";\"tue\";147;3;999;0;\"nonexistent\";1.1;93.994;-36.4;4.857;5191;\"no\"',\n",
       " '34;\"blue-collar\";\"married\";\"basic.4y\";\"no\";\"no\";\"no\";\"telephone\";\"may\";\"tue\";800;4;999;0;\"nonexistent\";1.1;93.994;-36.4;4.857;5191;\"no\"',\n",
       " '38;\"services\";\"married\";\"high.school\";\"no\";\"yes\";\"no\";\"telephone\";\"may\";\"tue\";106;2;999;0;\"nonexistent\";1.1;93.994;-36.4;4.857;5191;\"no\"',\n",
       " '40;\"technician\";\"married\";\"basic.9y\";\"no\";\"no\";\"no\";\"telephone\";\"may\";\"tue\";135;2;999;0;\"nonexistent\";1.1;93.994;-36.4;4.857;5191;\"no\"',\n",
       " '38;\"admin.\";\"married\";\"high.school\";\"no\";\"no\";\"no\";\"telephone\";\"may\";\"tue\";112;4;999;0;\"nonexistent\";1.1;93.994;-36.4;4.857;5191;\"no\"',\n",
       " '48;\"entrepreneur\";\"married\";\"university.degree\";\"no\";\"yes\";\"no\";\"telephone\";\"may\";\"tue\";222;2;999;0;\"nonexistent\";1.1;93.994;-36.4;4.857;5191;\"no\"',\n",
       " '27;\"blue-collar\";\"married\";\"basic.9y\";\"unknown\";\"yes\";\"no\";\"telephone\";\"may\";\"tue\";314;3;999;0;\"nonexistent\";1.1;93.994;-36.4;4.857;5191;\"no\"',\n",
       " '24;\"technician\";\"single\";\"professional.course\";\"no\";\"no\";\"no\";\"telephone\";\"may\";\"tue\";421;2;999;0;\"nonexistent\";1.1;93.994;-36.4;4.857;5191;\"no\"',\n",
       " '47;\"admin.\";\"single\";\"unknown\";\"unknown\";\"yes\";\"yes\";\"telephone\";\"may\";\"tue\";410;2;999;0;\"nonexistent\";1.1;93.994;-36.4;4.857;5191;\"no\"',\n",
       " '48;\"blue-collar\";\"married\";\"professional.course\";\"unknown\";\"no\";\"no\";\"telephone\";\"may\";\"tue\";207;3;999;0;\"nonexistent\";1.1;93.994;-36.4;4.857;5191;\"no\"',\n",
       " '31;\"admin.\";\"single\";\"high.school\";\"no\";\"yes\";\"yes\";\"telephone\";\"may\";\"tue\";239;2;999;0;\"nonexistent\";1.1;93.994;-36.4;4.857;5191;\"no\"',\n",
       " '39;\"self-employed\";\"single\";\"basic.4y\";\"unknown\";\"yes\";\"no\";\"telephone\";\"may\";\"tue\";83;4;999;0;\"nonexistent\";1.1;93.994;-36.4;4.857;5191;\"no\"',\n",
       " '41;\"technician\";\"single\";\"university.degree\";\"unknown\";\"no\";\"no\";\"telephone\";\"may\";\"tue\";160;3;999;0;\"nonexistent\";1.1;93.994;-36.4;4.857;5191;\"no\"',\n",
       " '49;\"blue-collar\";\"married\";\"basic.4y\";\"unknown\";\"yes\";\"no\";\"telephone\";\"may\";\"tue\";42;3;999;0;\"nonexistent\";1.1;93.994;-36.4;4.857;5191;\"no\"',\n",
       " '56;\"retired\";\"married\";\"basic.4y\";\"no\";\"no\";\"no\";\"telephone\";\"may\";\"tue\";55;2;999;0;\"nonexistent\";1.1;93.994;-36.4;4.857;5191;\"no\"',\n",
       " '49;\"admin.\";\"married\";\"high.school\";\"no\";\"no\";\"no\";\"telephone\";\"may\";\"tue\";157;2;999;0;\"nonexistent\";1.1;93.994;-36.4;4.857;5191;\"no\"',\n",
       " '47;\"unemployed\";\"divorced\";\"university.degree\";\"no\";\"no\";\"no\";\"telephone\";\"may\";\"tue\";303;3;999;0;\"nonexistent\";1.1;93.994;-36.4;4.857;5191;\"no\"',\n",
       " '44;\"blue-collar\";\"married\";\"unknown\";\"unknown\";\"yes\";\"no\";\"telephone\";\"may\";\"tue\";336;3;999;0;\"nonexistent\";1.1;93.994;-36.4;4.857;5191;\"no\"',\n",
       " '48;\"admin.\";\"divorced\";\"high.school\";\"no\";\"no\";\"no\";\"telephone\";\"may\";\"tue\";233;2;999;0;\"nonexistent\";1.1;93.994;-36.4;4.857;5191;\"no\"',\n",
       " '55;\"housemaid\";\"married\";\"basic.4y\";\"no\";\"yes\";\"yes\";\"telephone\";\"may\";\"tue\";211;2;999;0;\"nonexistent\";1.1;93.994;-36.4;4.857;5191;\"no\"',\n",
       " '59;\"management\";\"married\";\"basic.4y\";\"unknown\";\"yes\";\"no\";\"telephone\";\"may\";\"tue\";88;5;999;0;\"nonexistent\";1.1;93.994;-36.4;4.857;5191;\"no\"',\n",
       " '44;\"technician\";\"single\";\"professional.course\";\"no\";\"yes\";\"yes\";\"telephone\";\"may\";\"tue\";139;2;999;0;\"nonexistent\";1.1;93.994;-36.4;4.857;5191;\"no\"',\n",
       " '46;\"blue-collar\";\"married\";\"basic.9y\";\"no\";\"no\";\"yes\";\"telephone\";\"may\";\"tue\";329;3;999;0;\"nonexistent\";1.1;93.994;-36.4;4.857;5191;\"no\"',\n",
       " '39;\"blue-collar\";\"divorced\";\"basic.6y\";\"unknown\";\"yes\";\"no\";\"telephone\";\"may\";\"tue\";305;2;999;0;\"nonexistent\";1.1;93.994;-36.4;4.857;5191;\"no\"',\n",
       " '38;\"unemployed\";\"married\";\"basic.4y\";\"unknown\";\"yes\";\"yes\";\"telephone\";\"may\";\"tue\";206;2;999;0;\"nonexistent\";1.1;93.994;-36.4;4.857;5191;\"no\"',\n",
       " '36;\"services\";\"married\";\"high.school\";\"no\";\"yes\";\"no\";\"telephone\";\"may\";\"tue\";128;2;999;0;\"nonexistent\";1.1;93.994;-36.4;4.857;5191;\"no\"',\n",
       " '29;\"admin.\";\"single\";\"university.degree\";\"no\";\"no\";\"no\";\"telephone\";\"may\";\"tue\";122;3;999;0;\"nonexistent\";1.1;93.994;-36.4;4.857;5191;\"no\"',\n",
       " '31;\"technician\";\"single\";\"professional.course\";\"no\";\"yes\";\"no\";\"telephone\";\"may\";\"tue\";343;3;999;0;\"nonexistent\";1.1;93.994;-36.4;4.857;5191;\"no\"',\n",
       " '30;\"services\";\"divorced\";\"basic.9y\";\"no\";\"no\";\"yes\";\"telephone\";\"may\";\"tue\";126;2;999;0;\"nonexistent\";1.1;93.994;-36.4;4.857;5191;\"no\"',\n",
       " '36;\"blue-collar\";\"married\";\"basic.4y\";\"no\";\"yes\";\"no\";\"telephone\";\"may\";\"tue\";249;3;999;0;\"nonexistent\";1.1;93.994;-36.4;4.857;5191;\"no\"',\n",
       " '60;\"blue-collar\";\"married\";\"professional.course\";\"no\";\"no\";\"no\";\"telephone\";\"may\";\"tue\";59;3;999;0;\"nonexistent\";1.1;93.994;-36.4;4.857;5191;\"no\"',\n",
       " '36;\"admin.\";\"married\";\"university.degree\";\"no\";\"yes\";\"no\";\"telephone\";\"may\";\"tue\";166;3;999;0;\"nonexistent\";1.1;93.994;-36.4;4.857;5191;\"no\"',\n",
       " '32;\"services\";\"married\";\"high.school\";\"no\";\"no\";\"no\";\"telephone\";\"may\";\"tue\";190;3;999;0;\"nonexistent\";1.1;93.994;-36.4;4.857;5191;\"no\"',\n",
       " '39;\"blue-collar\";\"married\";\"basic.9y\";\"unknown\";\"yes\";\"no\";\"telephone\";\"may\";\"tue\";216;2;999;0;\"nonexistent\";1.1;93.994;-36.4;4.857;5191;\"no\"',\n",
       " '30;\"services\";\"married\";\"university.degree\";\"no\";\"yes\";\"no\";\"telephone\";\"may\";\"wed\";51;3;999;0;\"nonexistent\";1.1;93.994;-36.4;4.856;5191;\"no\"',\n",
       " '39;\"blue-collar\";\"married\";\"basic.4y\";\"unknown\";\"no\";\"no\";\"telephone\";\"may\";\"wed\";169;3;999;0;\"nonexistent\";1.1;93.994;-36.4;4.856;5191;\"no\"',\n",
       " '37;\"blue-collar\";\"married\";\"basic.9y\";\"unknown\";\"yes\";\"no\";\"telephone\";\"may\";\"wed\";148;3;999;0;\"nonexistent\";1.1;93.994;-36.4;4.856;5191;\"no\"',\n",
       " '39;\"blue-collar\";\"married\";\"professional.course\";\"unknown\";\"yes\";\"no\";\"telephone\";\"may\";\"wed\";132;3;999;0;\"nonexistent\";1.1;93.994;-36.4;4.856;5191;\"no\"',\n",
       " '46;\"blue-collar\";\"married\";\"basic.4y\";\"no\";\"no\";\"no\";\"telephone\";\"may\";\"wed\";117;3;999;0;\"nonexistent\";1.1;93.994;-36.4;4.856;5191;\"no\"',\n",
       " '43;\"unemployed\";\"married\";\"basic.4y\";\"no\";\"no\";\"no\";\"telephone\";\"may\";\"wed\";275;4;999;0;\"nonexistent\";1.1;93.994;-36.4;4.856;5191;\"no\"',\n",
       " '37;\"services\";\"married\";\"high.school\";\"no\";\"yes\";\"no\";\"telephone\";\"may\";\"wed\";124;2;999;0;\"nonexistent\";1.1;93.994;-36.4;4.856;5191;\"no\"',\n",
       " '30;\"technician\";\"married\";\"university.degree\";\"unknown\";\"no\";\"no\";\"telephone\";\"may\";\"wed\";118;3;999;0;\"nonexistent\";1.1;93.994;-36.4;4.856;5191;\"no\"',\n",
       " '38;\"technician\";\"married\";\"professional.course\";\"no\";\"no\";\"no\";\"telephone\";\"may\";\"wed\";479;2;999;0;\"nonexistent\";1.1;93.994;-36.4;4.856;5191;\"no\"',\n",
       " '31;\"technician\";\"married\";\"university.degree\";\"no\";\"yes\";\"no\";\"telephone\";\"may\";\"wed\";285;3;999;0;\"nonexistent\";1.1;93.994;-36.4;4.856;5191;\"no\"',\n",
       " '44;\"admin.\";\"married\";\"university.degree\";\"no\";\"no\";\"no\";\"telephone\";\"may\";\"wed\";322;2;999;0;\"nonexistent\";1.1;93.994;-36.4;4.856;5191;\"no\"',\n",
       " '44;\"self-employed\";\"married\";\"university.degree\";\"unknown\";\"no\";\"no\";\"telephone\";\"may\";\"wed\";202;2;999;0;\"nonexistent\";1.1;93.994;-36.4;4.856;5191;\"no\"',\n",
       " '38;\"technician\";\"married\";\"unknown\";\"unknown\";\"unknown\";\"unknown\";\"telephone\";\"may\";\"wed\";162;2;999;0;\"nonexistent\";1.1;93.994;-36.4;4.856;5191;\"no\"',\n",
       " '30;\"student\";\"single\";\"high.school\";\"unknown\";\"no\";\"no\";\"telephone\";\"may\";\"wed\";216;3;999;0;\"nonexistent\";1.1;93.994;-36.4;4.856;5191;\"no\"',\n",
       " '37;\"blue-collar\";\"married\";\"basic.4y\";\"unknown\";\"unknown\";\"unknown\";\"telephone\";\"may\";\"wed\";195;2;999;0;\"nonexistent\";1.1;93.994;-36.4;4.856;5191;\"no\"',\n",
       " '54;\"housemaid\";\"divorced\";\"unknown\";\"no\";\"yes\";\"no\";\"telephone\";\"may\";\"wed\";96;2;999;0;\"nonexistent\";1.1;93.994;-36.4;4.856;5191;\"no\"',\n",
       " '41;\"management\";\"married\";\"unknown\";\"unknown\";\"yes\";\"no\";\"telephone\";\"may\";\"wed\";149;2;999;0;\"nonexistent\";1.1;93.994;-36.4;4.856;5191;\"no\"',\n",
       " '43;\"technician\";\"married\";\"professional.course\";\"no\";\"no\";\"no\";\"telephone\";\"may\";\"wed\";720;2;999;0;\"nonexistent\";1.1;93.994;-36.4;4.856;5191;\"no\"',\n",
       " '38;\"housemaid\";\"married\";\"basic.9y\";\"no\";\"no\";\"no\";\"telephone\";\"may\";\"wed\";92;2;999;0;\"nonexistent\";1.1;93.994;-36.4;4.856;5191;\"no\"',\n",
       " '41;\"blue-collar\";\"married\";\"basic.4y\";\"no\";\"yes\";\"no\";\"telephone\";\"may\";\"wed\";188;2;999;0;\"nonexistent\";1.1;93.994;-36.4;4.856;5191;\"no\"',\n",
       " '38;\"blue-collar\";\"single\";\"unknown\";\"unknown\";\"no\";\"yes\";\"telephone\";\"may\";\"wed\";70;2;999;0;\"nonexistent\";1.1;93.994;-36.4;4.856;5191;\"no\"',\n",
       " '33;\"blue-collar\";\"married\";\"basic.9y\";\"no\";\"unknown\";\"unknown\";\"telephone\";\"may\";\"wed\";141;3;999;0;\"nonexistent\";1.1;93.994;-36.4;4.856;5191;\"no\"',\n",
       " '32;\"admin.\";\"married\";\"high.school\";\"no\";\"yes\";\"no\";\"telephone\";\"may\";\"wed\";395;2;999;0;\"nonexistent\";1.1;93.994;-36.4;4.856;5191;\"no\"',\n",
       " '30;\"services\";\"married\";\"high.school\";\"unknown\";\"no\";\"no\";\"telephone\";\"may\";\"wed\";629;2;999;0;\"nonexistent\";1.1;93.994;-36.4;4.856;5191;\"no\"',\n",
       " '43;\"technician\";\"married\";\"basic.6y\";\"no\";\"yes\";\"no\";\"telephone\";\"may\";\"wed\";261;3;999;0;\"nonexistent\";1.1;93.994;-36.4;4.856;5191;\"no\"',\n",
       " '30;\"services\";\"married\";\"high.school\";\"unknown\";\"yes\";\"no\";\"telephone\";\"may\";\"wed\";502;1;999;0;\"nonexistent\";1.1;93.994;-36.4;4.856;5191;\"no\"',\n",
       " '36;\"technician\";\"divorced\";\"professional.course\";\"no\";\"no\";\"no\";\"telephone\";\"may\";\"wed\";446;1;999;0;\"nonexistent\";1.1;93.994;-36.4;4.856;5191;\"no\"',\n",
       " '38;\"blue-collar\";\"married\";\"basic.6y\";\"no\";\"unknown\";\"unknown\";\"telephone\";\"may\";\"wed\";131;3;999;0;\"nonexistent\";1.1;93.994;-36.4;4.856;5191;\"no\"',\n",
       " '35;\"blue-collar\";\"single\";\"basic.6y\";\"no\";\"yes\";\"no\";\"telephone\";\"may\";\"wed\";198;3;999;0;\"nonexistent\";1.1;93.994;-36.4;4.856;5191;\"no\"',\n",
       " '50;\"self-employed\";\"married\";\"university.degree\";\"no\";\"no\";\"no\";\"telephone\";\"may\";\"wed\";312;1;999;0;\"nonexistent\";1.1;93.994;-36.4;4.856;5191;\"no\"',\n",
       " '38;\"blue-collar\";\"married\";\"basic.9y\";\"no\";\"yes\";\"no\";\"telephone\";\"may\";\"wed\";275;6;999;0;\"nonexistent\";1.1;93.994;-36.4;4.856;5191;\"no\"',\n",
       " '58;\"admin.\";\"married\";\"basic.4y\";\"unknown\";\"no\";\"yes\";\"telephone\";\"may\";\"wed\";120;2;999;0;\"nonexistent\";1.1;93.994;-36.4;4.856;5191;\"no\"',\n",
       " '50;\"technician\";\"married\";\"professional.course\";\"no\";\"yes\";\"no\";\"telephone\";\"may\";\"wed\";333;4;999;0;\"nonexistent\";1.1;93.994;-36.4;4.856;5191;\"no\"',\n",
       " '33;\"blue-collar\";\"single\";\"basic.9y\";\"unknown\";\"no\";\"no\";\"telephone\";\"may\";\"wed\";113;1;999;0;\"nonexistent\";1.1;93.994;-36.4;4.856;5191;\"no\"',\n",
       " '33;\"blue-collar\";\"single\";\"basic.9y\";\"unknown\";\"unknown\";\"unknown\";\"telephone\";\"may\";\"wed\";150;1;999;0;\"nonexistent\";1.1;93.994;-36.4;4.856;5191;\"no\"',\n",
       " '44;\"management\";\"single\";\"university.degree\";\"unknown\";\"yes\";\"yes\";\"telephone\";\"may\";\"wed\";91;1;999;0;\"nonexistent\";1.1;93.994;-36.4;4.856;5191;\"no\"',\n",
       " '31;\"management\";\"married\";\"high.school\";\"no\";\"no\";\"no\";\"telephone\";\"may\";\"wed\";296;1;999;0;\"nonexistent\";1.1;93.994;-36.4;4.856;5191;\"no\"',\n",
       " '40;\"entrepreneur\";\"married\";\"basic.9y\";\"no\";\"no\";\"no\";\"telephone\";\"may\";\"wed\";128;3;999;0;\"nonexistent\";1.1;93.994;-36.4;4.856;5191;\"no\"',\n",
       " '28;\"unknown\";\"single\";\"basic.9y\";\"unknown\";\"no\";\"no\";\"telephone\";\"may\";\"wed\";298;1;999;0;\"nonexistent\";1.1;93.994;-36.4;4.856;5191;\"no\"',\n",
       " '36;\"services\";\"single\";\"unknown\";\"no\";\"yes\";\"no\";\"telephone\";\"may\";\"wed\";326;1;999;0;\"nonexistent\";1.1;93.994;-36.4;4.856;5191;\"no\"',\n",
       " '44;\"blue-collar\";\"single\";\"high.school\";\"no\";\"no\";\"no\";\"telephone\";\"may\";\"wed\";292;1;999;0;\"nonexistent\";1.1;93.994;-36.4;4.856;5191;\"no\"',\n",
       " '38;\"blue-collar\";\"divorced\";\"unknown\";\"no\";\"yes\";\"no\";\"telephone\";\"may\";\"wed\";215;1;999;0;\"nonexistent\";1.1;93.994;-36.4;4.856;5191;\"no\"',\n",
       " '33;\"blue-collar\";\"married\";\"basic.9y\";\"no\";\"unknown\";\"unknown\";\"telephone\";\"may\";\"wed\";97;1;999;0;\"nonexistent\";1.1;93.994;-36.4;4.856;5191;\"no\"',\n",
       " '39;\"blue-collar\";\"divorced\";\"basic.6y\";\"unknown\";\"yes\";\"yes\";\"telephone\";\"may\";\"wed\";32;1;999;0;\"nonexistent\";1.1;93.994;-36.4;4.856;5191;\"no\"',\n",
       " '47;\"blue-collar\";\"single\";\"basic.4y\";\"unknown\";\"yes\";\"no\";\"telephone\";\"may\";\"wed\";162;1;999;0;\"nonexistent\";1.1;93.994;-36.4;4.856;5191;\"no\"',\n",
       " '47;\"services\";\"divorced\";\"high.school\";\"no\";\"no\";\"no\";\"telephone\";\"may\";\"wed\";421;1;999;0;\"nonexistent\";1.1;93.994;-36.4;4.856;5191;\"no\"',\n",
       " '35;\"entrepreneur\";\"single\";\"professional.course\";\"no\";\"no\";\"no\";\"telephone\";\"may\";\"wed\";268;1;999;0;\"nonexistent\";1.1;93.994;-36.4;4.856;5191;\"no\"',\n",
       " '42;\"admin.\";\"divorced\";\"university.degree\";\"no\";\"no\";\"no\";\"telephone\";\"may\";\"wed\";232;1;999;0;\"nonexistent\";1.1;93.994;-36.4;4.856;5191;\"no\"',\n",
       " '36;\"admin.\";\"married\";\"high.school\";\"no\";\"no\";\"no\";\"telephone\";\"may\";\"wed\";152;3;999;0;\"nonexistent\";1.1;93.994;-36.4;4.856;5191;\"no\"',\n",
       " '35;\"technician\";\"married\";\"basic.6y\";\"no\";\"no\";\"no\";\"telephone\";\"may\";\"wed\";104;2;999;0;\"nonexistent\";1.1;93.994;-36.4;4.856;5191;\"no\"',\n",
       " '36;\"services\";\"single\";\"unknown\";\"no\";\"yes\";\"no\";\"telephone\";\"may\";\"wed\";852;1;999;0;\"nonexistent\";1.1;93.994;-36.4;4.856;5191;\"no\"',\n",
       " '56;\"entrepreneur\";\"married\";\"university.degree\";\"unknown\";\"yes\";\"no\";\"telephone\";\"may\";\"wed\";159;2;999;0;\"nonexistent\";1.1;93.994;-36.4;4.856;5191;\"no\"',\n",
       " '26;\"admin.\";\"single\";\"high.school\";\"no\";\"no\";\"no\";\"telephone\";\"may\";\"wed\";416;2;999;0;\"nonexistent\";1.1;93.994;-36.4;4.856;5191;\"no\"',\n",
       " '31;\"admin.\";\"single\";\"university.degree\";\"no\";\"yes\";\"yes\";\"telephone\";\"may\";\"wed\";174;1;999;0;\"nonexistent\";1.1;93.994;-36.4;4.856;5191;\"no\"',\n",
       " '57;\"self-employed\";\"single\";\"high.school\";\"unknown\";\"no\";\"no\";\"telephone\";\"may\";\"wed\";139;1;999;0;\"nonexistent\";1.1;93.994;-36.4;4.856;5191;\"no\"',\n",
       " '39;\"services\";\"married\";\"high.school\";\"no\";\"no\";\"no\";\"telephone\";\"may\";\"wed\";193;1;999;0;\"nonexistent\";1.1;93.994;-36.4;4.856;5191;\"no\"',\n",
       " '43;\"blue-collar\";\"married\";\"high.school\";\"no\";\"yes\";\"no\";\"telephone\";\"may\";\"wed\";294;1;999;0;\"nonexistent\";1.1;93.994;-36.4;4.856;5191;\"no\"',\n",
       " '50;\"admin.\";\"married\";\"university.degree\";\"no\";\"no\";\"no\";\"telephone\";\"may\";\"wed\";102;1;999;0;\"nonexistent\";1.1;93.994;-36.4;4.856;5191;\"no\"',\n",
       " '52;\"blue-collar\";\"single\";\"high.school\";\"unknown\";\"unknown\";\"unknown\";\"telephone\";\"may\";\"wed\";124;1;999;0;\"nonexistent\";1.1;93.994;-36.4;4.856;5191;\"no\"',\n",
       " '39;\"blue-collar\";\"divorced\";\"basic.9y\";\"no\";\"no\";\"no\";\"telephone\";\"may\";\"wed\";143;1;999;0;\"nonexistent\";1.1;93.994;-36.4;4.856;5191;\"no\"',\n",
       " '44;\"technician\";\"single\";\"unknown\";\"unknown\";\"yes\";\"no\";\"telephone\";\"may\";\"wed\";231;1;999;0;\"nonexistent\";1.1;93.994;-36.4;4.856;5191;\"no\"',\n",
       " '36;\"housemaid\";\"married\";\"basic.4y\";\"no\";\"yes\";\"no\";\"telephone\";\"may\";\"wed\";128;1;999;0;\"nonexistent\";1.1;93.994;-36.4;4.856;5191;\"no\"',\n",
       " '54;\"management\";\"married\";\"high.school\";\"unknown\";\"yes\";\"no\";\"telephone\";\"may\";\"wed\";74;1;999;0;\"nonexistent\";1.1;93.994;-36.4;4.856;5191;\"no\"',\n",
       " '27;\"admin.\";\"single\";\"basic.9y\";\"no\";\"yes\";\"no\";\"telephone\";\"may\";\"wed\";105;2;999;0;\"nonexistent\";1.1;93.994;-36.4;4.856;5191;\"no\"',\n",
       " '31;\"admin.\";\"single\";\"university.degree\";\"no\";\"no\";\"no\";\"telephone\";\"may\";\"wed\";992;1;999;0;\"nonexistent\";1.1;93.994;-36.4;4.856;5191;\"yes\"',\n",
       " '31;\"admin.\";\"married\";\"university.degree\";\"unknown\";\"no\";\"no\";\"telephone\";\"may\";\"wed\";168;1;999;0;\"nonexistent\";1.1;93.994;-36.4;4.856;5191;\"no\"',\n",
       " '28;\"blue-collar\";\"married\";\"basic.6y\";\"no\";\"no\";\"no\";\"telephone\";\"may\";\"wed\";250;1;999;0;\"nonexistent\";1.1;93.994;-36.4;4.856;5191;\"no\"',\n",
       " '31;\"management\";\"single\";\"university.degree\";\"no\";\"yes\";\"no\";\"telephone\";\"may\";\"wed\";254;1;999;0;\"nonexistent\";1.1;93.994;-36.4;4.856;5191;\"no\"',\n",
       " '30;\"management\";\"divorced\";\"high.school\";\"no\";\"no\";\"yes\";\"telephone\";\"may\";\"wed\";149;1;999;0;\"nonexistent\";1.1;93.994;-36.4;4.856;5191;\"no\"',\n",
       " '52;\"technician\";\"married\";\"professional.course\";\"no\";\"yes\";\"no\";\"telephone\";\"may\";\"wed\";133;2;999;0;\"nonexistent\";1.1;93.994;-36.4;4.856;5191;\"no\"',\n",
       " '37;\"technician\";\"divorced\";\"professional.course\";\"no\";\"no\";\"no\";\"telephone\";\"may\";\"wed\";374;1;999;0;\"nonexistent\";1.1;93.994;-36.4;4.856;5191;\"no\"',\n",
       " '30;\"services\";\"married\";\"university.degree\";\"no\";\"yes\";\"no\";\"telephone\";\"may\";\"wed\";425;6;999;0;\"nonexistent\";1.1;93.994;-36.4;4.856;5191;\"no\"',\n",
       " '45;\"blue-collar\";\"married\";\"basic.9y\";\"unknown\";\"yes\";\"yes\";\"telephone\";\"may\";\"wed\";207;1;999;0;\"nonexistent\";1.1;93.994;-36.4;4.856;5191;\"no\"',\n",
       " '54;\"technician\";\"married\";\"university.degree\";\"no\";\"yes\";\"no\";\"telephone\";\"may\";\"wed\";464;1;999;0;\"nonexistent\";1.1;93.994;-36.4;4.856;5191;\"no\"',\n",
       " '49;\"entrepreneur\";\"married\";\"basic.9y\";\"no\";\"yes\";\"no\";\"telephone\";\"may\";\"wed\";439;1;999;0;\"nonexistent\";1.1;93.994;-36.4;4.856;5191;\"no\"',\n",
       " '44;\"admin.\";\"married\";\"high.school\";\"no\";\"no\";\"no\";\"telephone\";\"may\";\"wed\";83;3;999;0;\"nonexistent\";1.1;93.994;-36.4;4.856;5191;\"no\"',\n",
       " '28;\"student\";\"single\";\"basic.9y\";\"unknown\";\"yes\";\"yes\";\"telephone\";\"may\";\"wed\";732;2;999;0;\"nonexistent\";1.1;93.994;-36.4;4.856;5191;\"yes\"',\n",
       " '53;\"technician\";\"married\";\"high.school\";\"no\";\"yes\";\"no\";\"telephone\";\"may\";\"wed\";149;1;999;0;\"nonexistent\";1.1;93.994;-36.4;4.856;5191;\"no\"',\n",
       " '45;\"blue-collar\";\"married\";\"basic.9y\";\"unknown\";\"yes\";\"no\";\"telephone\";\"may\";\"wed\";142;1;999;0;\"nonexistent\";1.1;93.994;-36.4;4.856;5191;\"no\"',\n",
       " '45;\"blue-collar\";\"married\";\"basic.9y\";\"unknown\";\"no\";\"no\";\"telephone\";\"may\";\"wed\";121;1;999;0;\"nonexistent\";1.1;93.994;-36.4;4.856;5191;\"no\"',\n",
       " '51;\"admin.\";\"married\";\"high.school\";\"unknown\";\"yes\";\"no\";\"telephone\";\"may\";\"wed\";359;1;999;0;\"nonexistent\";1.1;93.994;-36.4;4.856;5191;\"no\"',\n",
       " '41;\"blue-collar\";\"married\";\"basic.9y\";\"unknown\";\"yes\";\"no\";\"telephone\";\"may\";\"wed\";112;1;999;0;\"nonexistent\";1.1;93.994;-36.4;4.856;5191;\"no\"',\n",
       " '43;\"technician\";\"married\";\"professional.course\";\"no\";\"yes\";\"no\";\"telephone\";\"may\";\"wed\";274;4;999;0;\"nonexistent\";1.1;93.994;-36.4;4.856;5191;\"no\"',\n",
       " '31;\"admin.\";\"single\";\"university.degree\";\"no\";\"yes\";\"no\";\"telephone\";\"may\";\"wed\";325;2;999;0;\"nonexistent\";1.1;93.994;-36.4;4.856;5191;\"no\"',\n",
       " '39;\"admin.\";\"single\";\"unknown\";\"no\";\"yes\";\"no\";\"telephone\";\"may\";\"wed\";1521;1;999;0;\"nonexistent\";1.1;93.994;-36.4;4.856;5191;\"no\"',\n",
       " '38;\"technician\";\"married\";\"professional.course\";\"no\";\"no\";\"no\";\"telephone\";\"may\";\"wed\";216;1;999;0;\"nonexistent\";1.1;93.994;-36.4;4.856;5191;\"no\"',\n",
       " '50;\"entrepreneur\";\"married\";\"basic.9y\";\"no\";\"yes\";\"yes\";\"telephone\";\"may\";\"wed\";161;1;999;0;\"nonexistent\";1.1;93.994;-36.4;4.856;5191;\"no\"',\n",
       " '53;\"admin.\";\"single\";\"university.degree\";\"unknown\";\"yes\";\"no\";\"telephone\";\"may\";\"wed\";122;2;999;0;\"nonexistent\";1.1;93.994;-36.4;4.856;5191;\"no\"',\n",
       " '44;\"admin.\";\"divorced\";\"high.school\";\"unknown\";\"yes\";\"no\";\"telephone\";\"may\";\"wed\";800;1;999;0;\"nonexistent\";1.1;93.994;-36.4;4.856;5191;\"no\"',\n",
       " '53;\"blue-collar\";\"married\";\"basic.9y\";\"unknown\";\"yes\";\"yes\";\"telephone\";\"may\";\"wed\";615;1;999;0;\"nonexistent\";1.1;93.994;-36.4;4.856;5191;\"no\"',\n",
       " '24;\"services\";\"single\";\"high.school\";\"no\";\"no\";\"no\";\"telephone\";\"may\";\"wed\";111;1;999;0;\"nonexistent\";1.1;93.994;-36.4;4.856;5191;\"no\"',\n",
       " '34;\"admin.\";\"single\";\"high.school\";\"no\";\"yes\";\"no\";\"telephone\";\"may\";\"wed\";359;1;999;0;\"nonexistent\";1.1;93.994;-36.4;4.856;5191;\"no\"',\n",
       " '40;\"technician\";\"married\";\"professional.course\";\"no\";\"yes\";\"no\";\"telephone\";\"may\";\"wed\";327;3;999;0;\"nonexistent\";1.1;93.994;-36.4;4.856;5191;\"no\"',\n",
       " '57;\"management\";\"divorced\";\"university.degree\";\"no\";\"yes\";\"no\";\"telephone\";\"may\";\"wed\";236;1;999;0;\"nonexistent\";1.1;93.994;-36.4;4.856;5191;\"no\"',\n",
       " '43;\"blue-collar\";\"married\";\"basic.4y\";\"unknown\";\"yes\";\"no\";\"telephone\";\"may\";\"wed\";227;1;999;0;\"nonexistent\";1.1;93.994;-36.4;4.856;5191;\"no\"',\n",
       " '31;\"blue-collar\";\"married\";\"basic.6y\";\"unknown\";\"no\";\"no\";\"telephone\";\"may\";\"wed\";109;1;999;0;\"nonexistent\";1.1;93.994;-36.4;4.856;5191;\"no\"',\n",
       " '31;\"services\";\"married\";\"basic.6y\";\"no\";\"yes\";\"no\";\"telephone\";\"may\";\"wed\";492;2;999;0;\"nonexistent\";1.1;93.994;-36.4;4.856;5191;\"no\"',\n",
       " '31;\"blue-collar\";\"married\";\"basic.6y\";\"unknown\";\"yes\";\"no\";\"telephone\";\"may\";\"wed\";298;1;999;0;\"nonexistent\";1.1;93.994;-36.4;4.856;5191;\"no\"',\n",
       " '45;\"housemaid\";\"married\";\"basic.4y\";\"unknown\";\"yes\";\"no\";\"telephone\";\"may\";\"wed\";83;2;999;0;\"nonexistent\";1.1;93.994;-36.4;4.856;5191;\"no\"',\n",
       " '38;\"admin.\";\"married\";\"university.degree\";\"no\";\"no\";\"no\";\"telephone\";\"may\";\"wed\";241;2;999;0;\"nonexistent\";1.1;93.994;-36.4;4.856;5191;\"no\"',\n",
       " '41;\"entrepreneur\";\"married\";\"university.degree\";\"no\";\"yes\";\"no\";\"telephone\";\"may\";\"wed\";1138;1;999;0;\"nonexistent\";1.1;93.994;-36.4;4.856;5191;\"yes\"',\n",
       " '47;\"blue-collar\";\"married\";\"professional.course\";\"unknown\";\"yes\";\"no\";\"telephone\";\"may\";\"wed\";131;1;999;0;\"nonexistent\";1.1;93.994;-36.4;4.856;5191;\"no\"',\n",
       " '42;\"blue-collar\";\"married\";\"basic.6y\";\"no\";\"no\";\"no\";\"telephone\";\"may\";\"wed\";123;1;999;0;\"nonexistent\";1.1;93.994;-36.4;4.856;5191;\"no\"',\n",
       " '35;\"blue-collar\";\"single\";\"unknown\";\"no\";\"yes\";\"no\";\"telephone\";\"may\";\"wed\";125;1;999;0;\"nonexistent\";1.1;93.994;-36.4;4.856;5191;\"no\"',\n",
       " '40;\"management\";\"married\";\"university.degree\";\"no\";\"yes\";\"no\";\"telephone\";\"may\";\"wed\";295;2;999;0;\"nonexistent\";1.1;93.994;-36.4;4.856;5191;\"no\"',\n",
       " '42;\"blue-collar\";\"married\";\"basic.6y\";\"no\";\"no\";\"no\";\"telephone\";\"may\";\"wed\";287;1;999;0;\"nonexistent\";1.1;93.994;-36.4;4.856;5191;\"no\"',\n",
       " '34;\"technician\";\"married\";\"professional.course\";\"unknown\";\"yes\";\"no\";\"telephone\";\"may\";\"wed\";109;1;999;0;\"nonexistent\";1.1;93.994;-36.4;4.856;5191;\"no\"',\n",
       " '48;\"admin.\";\"single\";\"university.degree\";\"no\";\"yes\";\"no\";\"telephone\";\"may\";\"wed\";140;2;999;0;\"nonexistent\";1.1;93.994;-36.4;4.856;5191;\"no\"',\n",
       " '35;\"blue-collar\";\"married\";\"unknown\";\"no\";\"yes\";\"yes\";\"telephone\";\"may\";\"wed\";52;1;999;0;\"nonexistent\";1.1;93.994;-36.4;4.856;5191;\"no\"',\n",
       " '33;\"blue-collar\";\"married\";\"high.school\";\"no\";\"yes\";\"no\";\"telephone\";\"may\";\"wed\";233;1;999;0;\"nonexistent\";1.1;93.994;-36.4;4.856;5191;\"no\"',\n",
       " '37;\"technician\";\"married\";\"professional.course\";\"no\";\"yes\";\"no\";\"telephone\";\"may\";\"wed\";254;1;999;0;\"nonexistent\";1.1;93.994;-36.4;4.856;5191;\"no\"',\n",
       " '43;\"technician\";\"married\";\"professional.course\";\"no\";\"yes\";\"no\";\"telephone\";\"may\";\"wed\";255;1;999;0;\"nonexistent\";1.1;93.994;-36.4;4.856;5191;\"no\"',\n",
       " '42;\"admin.\";\"single\";\"unknown\";\"unknown\";\"no\";\"no\";\"telephone\";\"may\";\"wed\";126;1;999;0;\"nonexistent\";1.1;93.994;-36.4;4.856;5191;\"no\"',\n",
       " '46;\"admin.\";\"divorced\";\"university.degree\";\"no\";\"yes\";\"no\";\"telephone\";\"may\";\"wed\";184;2;999;0;\"nonexistent\";1.1;93.994;-36.4;4.856;5191;\"no\"',\n",
       " '37;\"blue-collar\";\"single\";\"basic.9y\";\"unknown\";\"yes\";\"no\";\"telephone\";\"may\";\"wed\";591;1;999;0;\"nonexistent\";1.1;93.994;-36.4;4.856;5191;\"yes\"',\n",
       " '40;\"blue-collar\";\"married\";\"high.school\";\"no\";\"yes\";\"no\";\"telephone\";\"may\";\"wed\";294;1;999;0;\"nonexistent\";1.1;93.994;-36.4;4.856;5191;\"no\"',\n",
       " '40;\"blue-collar\";\"married\";\"high.school\";\"no\";\"yes\";\"no\";\"telephone\";\"may\";\"wed\";285;1;999;0;\"nonexistent\";1.1;93.994;-36.4;4.856;5191;\"no\"',\n",
       " '59;\"entrepreneur\";\"divorced\";\"high.school\";\"unknown\";\"yes\";\"no\";\"telephone\";\"may\";\"wed\";173;1;999;0;\"nonexistent\";1.1;93.994;-36.4;4.856;5191;\"no\"',\n",
       " '43;\"technician\";\"single\";\"university.degree\";\"no\";\"no\";\"no\";\"telephone\";\"may\";\"wed\";336;1;999;0;\"nonexistent\";1.1;93.994;-36.4;4.856;5191;\"no\"',\n",
       " '44;\"blue-collar\";\"married\";\"basic.6y\";\"no\";\"yes\";\"yes\";\"telephone\";\"may\";\"wed\";344;1;999;0;\"nonexistent\";1.1;93.994;-36.4;4.856;5191;\"no\"',\n",
       " '44;\"blue-collar\";\"married\";\"basic.4y\";\"no\";\"yes\";\"no\";\"telephone\";\"may\";\"wed\";786;1;999;0;\"nonexistent\";1.1;93.994;-36.4;4.856;5191;\"yes\"',\n",
       " '41;\"admin.\";\"married\";\"university.degree\";\"no\";\"yes\";\"no\";\"telephone\";\"may\";\"wed\";153;1;999;0;\"nonexistent\";1.1;93.994;-36.4;4.856;5191;\"no\"',\n",
       " '28;\"unknown\";\"single\";\"basic.9y\";\"unknown\";\"yes\";\"no\";\"telephone\";\"may\";\"wed\";99;2;999;0;\"nonexistent\";1.1;93.994;-36.4;4.856;5191;\"no\"',\n",
       " '48;\"services\";\"married\";\"high.school\";\"unknown\";\"yes\";\"no\";\"telephone\";\"may\";\"wed\";243;1;999;0;\"nonexistent\";1.1;93.994;-36.4;4.856;5191;\"no\"',\n",
       " '31;\"admin.\";\"single\";\"high.school\";\"no\";\"yes\";\"no\";\"telephone\";\"may\";\"wed\";260;1;999;0;\"nonexistent\";1.1;93.994;-36.4;4.856;5191;\"no\"',\n",
       " '27;\"blue-collar\";\"married\";\"basic.9y\";\"no\";\"yes\";\"no\";\"telephone\";\"may\";\"wed\";164;2;999;0;\"nonexistent\";1.1;93.994;-36.4;4.856;5191;\"no\"',\n",
       " '43;\"technician\";\"single\";\"university.degree\";\"no\";\"yes\";\"no\";\"telephone\";\"may\";\"wed\";255;2;999;0;\"nonexistent\";1.1;93.994;-36.4;4.856;5191;\"no\"',\n",
       " '47;\"retired\";\"married\";\"basic.4y\";\"unknown\";\"yes\";\"no\";\"telephone\";\"may\";\"wed\";47;1;999;0;\"nonexistent\";1.1;93.994;-36.4;4.856;5191;\"no\"',\n",
       " '40;\"blue-collar\";\"divorced\";\"unknown\";\"no\";\"yes\";\"no\";\"telephone\";\"may\";\"wed\";110;2;999;0;\"nonexistent\";1.1;93.994;-36.4;4.856;5191;\"no\"',\n",
       " '43;\"unknown\";\"married\";\"high.school\";\"unknown\";\"no\";\"no\";\"telephone\";\"may\";\"wed\";463;1;999;0;\"nonexistent\";1.1;93.994;-36.4;4.856;5191;\"no\"',\n",
       " '29;\"technician\";\"married\";\"professional.course\";\"no\";\"yes\";\"no\";\"telephone\";\"may\";\"wed\";192;1;999;0;\"nonexistent\";1.1;93.994;-36.4;4.856;5191;\"no\"',\n",
       " '54;\"admin.\";\"married\";\"university.degree\";\"no\";\"no\";\"no\";\"telephone\";\"may\";\"wed\";388;7;999;0;\"nonexistent\";1.1;93.994;-36.4;4.856;5191;\"no\"',\n",
       " '36;\"technician\";\"married\";\"professional.course\";\"no\";\"no\";\"no\";\"telephone\";\"may\";\"wed\";221;1;999;0;\"nonexistent\";1.1;93.994;-36.4;4.856;5191;\"no\"',\n",
       " '30;\"admin.\";\"single\";\"university.degree\";\"no\";\"no\";\"no\";\"telephone\";\"may\";\"wed\";25;1;999;0;\"nonexistent\";1.1;93.994;-36.4;4.856;5191;\"no\"',\n",
       " '38;\"services\";\"single\";\"unknown\";\"unknown\";\"yes\";\"no\";\"telephone\";\"may\";\"wed\";256;6;999;0;\"nonexistent\";1.1;93.994;-36.4;4.856;5191;\"no\"',\n",
       " '39;\"blue-collar\";\"married\";\"basic.6y\";\"no\";\"no\";\"no\";\"telephone\";\"may\";\"wed\";104;1;999;0;\"nonexistent\";1.1;93.994;-36.4;4.856;5191;\"no\"',\n",
       " '33;\"blue-collar\";\"married\";\"basic.9y\";\"no\";\"no\";\"no\";\"telephone\";\"may\";\"wed\";283;2;999;0;\"nonexistent\";1.1;93.994;-36.4;4.856;5191;\"no\"',\n",
       " '39;\"retired\";\"single\";\"high.school\";\"no\";\"yes\";\"no\";\"telephone\";\"may\";\"wed\";448;1;999;0;\"nonexistent\";1.1;93.994;-36.4;4.856;5191;\"no\"',\n",
       " '38;\"technician\";\"single\";\"professional.course\";\"no\";\"no\";\"no\";\"telephone\";\"may\";\"wed\";127;1;999;0;\"nonexistent\";1.1;93.994;-36.4;4.856;5191;\"no\"',\n",
       " '44;\"admin.\";\"married\";\"high.school\";\"no\";\"yes\";\"no\";\"telephone\";\"may\";\"wed\";378;1;999;0;\"nonexistent\";1.1;93.994;-36.4;4.856;5191;\"no\"',\n",
       " '33;\"blue-collar\";\"married\";\"basic.9y\";\"no\";\"yes\";\"no\";\"telephone\";\"may\";\"wed\";67;1;999;0;\"nonexistent\";1.1;93.994;-36.4;4.856;5191;\"no\"',\n",
       " '37;\"blue-collar\";\"married\";\"basic.6y\";\"no\";\"no\";\"no\";\"telephone\";\"may\";\"wed\";221;2;999;0;\"nonexistent\";1.1;93.994;-36.4;4.856;5191;\"no\"',\n",
       " '32;\"management\";\"married\";\"basic.6y\";\"no\";\"no\";\"no\";\"telephone\";\"may\";\"wed\";150;1;999;0;\"nonexistent\";1.1;93.994;-36.4;4.856;5191;\"no\"',\n",
       " '46;\"technician\";\"married\";\"professional.course\";\"no\";\"yes\";\"no\";\"telephone\";\"may\";\"wed\";144;2;999;0;\"nonexistent\";1.1;93.994;-36.4;4.856;5191;\"no\"',\n",
       " '34;\"technician\";\"divorced\";\"professional.course\";\"no\";\"yes\";\"no\";\"telephone\";\"may\";\"wed\";296;2;999;0;\"nonexistent\";1.1;93.994;-36.4;4.856;5191;\"no\"',\n",
       " '52;\"technician\";\"married\";\"basic.4y\";\"unknown\";\"no\";\"no\";\"telephone\";\"may\";\"wed\";161;1;999;0;\"nonexistent\";1.1;93.994;-36.4;4.856;5191;\"no\"',\n",
       " '46;\"blue-collar\";\"married\";\"basic.6y\";\"unknown\";\"no\";\"no\";\"telephone\";\"may\";\"wed\";401;2;999;0;\"nonexistent\";1.1;93.994;-36.4;4.856;5191;\"no\"',\n",
       " '57;\"management\";\"divorced\";\"university.degree\";\"no\";\"unknown\";\"unknown\";\"telephone\";\"may\";\"wed\";435;2;999;0;\"nonexistent\";1.1;93.994;-36.4;4.856;5191;\"no\"',\n",
       " '52;\"technician\";\"married\";\"basic.4y\";\"unknown\";\"no\";\"yes\";\"telephone\";\"may\";\"wed\";388;1;999;0;\"nonexistent\";1.1;93.994;-36.4;4.856;5191;\"no\"',\n",
       " '32;\"technician\";\"single\";\"professional.course\";\"no\";\"no\";\"no\";\"telephone\";\"may\";\"wed\";245;1;999;0;\"nonexistent\";1.1;93.994;-36.4;4.856;5191;\"no\"',\n",
       " '31;\"blue-collar\";\"single\";\"basic.9y\";\"no\";\"no\";\"no\";\"telephone\";\"may\";\"wed\";143;1;999;0;\"nonexistent\";1.1;93.994;-36.4;4.856;5191;\"no\"',\n",
       " '46;\"admin.\";\"divorced\";\"basic.9y\";\"unknown\";\"no\";\"no\";\"telephone\";\"may\";\"wed\";423;1;999;0;\"nonexistent\";1.1;93.994;-36.4;4.856;5191;\"no\"',\n",
       " '59;\"services\";\"divorced\";\"high.school\";\"no\";\"no\";\"no\";\"telephone\";\"may\";\"wed\";231;1;999;0;\"nonexistent\";1.1;93.994;-36.4;4.856;5191;\"no\"',\n",
       " '38;\"blue-collar\";\"married\";\"unknown\";\"unknown\";\"no\";\"yes\";\"telephone\";\"may\";\"wed\";181;1;999;0;\"nonexistent\";1.1;93.994;-36.4;4.856;5191;\"no\"',\n",
       " '42;\"blue-collar\";\"divorced\";\"basic.6y\";\"unknown\";\"yes\";\"no\";\"telephone\";\"may\";\"wed\";107;1;999;0;\"nonexistent\";1.1;93.994;-36.4;4.856;5191;\"no\"',\n",
       " '40;\"blue-collar\";\"married\";\"basic.4y\";\"no\";\"no\";\"no\";\"telephone\";\"may\";\"wed\";227;1;999;0;\"nonexistent\";1.1;93.994;-36.4;4.856;5191;\"no\"',\n",
       " '46;\"admin.\";\"married\";\"professional.course\";\"no\";\"no\";\"no\";\"telephone\";\"may\";\"wed\";69;1;999;0;\"nonexistent\";1.1;93.994;-36.4;4.856;5191;\"no\"',\n",
       " '35;\"admin.\";\"single\";\"high.school\";\"no\";\"no\";\"no\";\"telephone\";\"may\";\"wed\";799;1;999;0;\"nonexistent\";1.1;93.994;-36.4;4.856;5191;\"no\"',\n",
       " '28;\"blue-collar\";\"married\";\"basic.9y\";\"no\";\"no\";\"yes\";\"telephone\";\"may\";\"wed\";109;1;999;0;\"nonexistent\";1.1;93.994;-36.4;4.856;5191;\"no\"',\n",
       " '47;\"services\";\"married\";\"high.school\";\"unknown\";\"yes\";\"no\";\"telephone\";\"may\";\"wed\";127;1;999;0;\"nonexistent\";1.1;93.994;-36.4;4.856;5191;\"no\"',\n",
       " '35;\"blue-collar\";\"married\";\"basic.4y\";\"no\";\"yes\";\"no\";\"telephone\";\"may\";\"wed\";45;1;999;0;\"nonexistent\";1.1;93.994;-36.4;4.856;5191;\"no\"',\n",
       " '48;\"retired\";\"married\";\"basic.9y\";\"no\";\"yes\";\"no\";\"telephone\";\"may\";\"wed\";120;1;999;0;\"nonexistent\";1.1;93.994;-36.4;4.856;5191;\"no\"',\n",
       " '40;\"blue-collar\";\"married\";\"basic.6y\";\"unknown\";\"yes\";\"no\";\"telephone\";\"may\";\"wed\";68;3;999;0;\"nonexistent\";1.1;93.994;-36.4;4.856;5191;\"no\"',\n",
       " '32;\"services\";\"single\";\"high.school\";\"no\";\"yes\";\"no\";\"telephone\";\"may\";\"wed\";180;2;999;0;\"nonexistent\";1.1;93.994;-36.4;4.856;5191;\"no\"',\n",
       " '59;\"retired\";\"divorced\";\"basic.4y\";\"no\";\"yes\";\"no\";\"telephone\";\"may\";\"wed\";112;3;999;0;\"nonexistent\";1.1;93.994;-36.4;4.856;5191;\"no\"',\n",
       " '48;\"entrepreneur\";\"married\";\"basic.9y\";\"unknown\";\"no\";\"no\";\"telephone\";\"may\";\"wed\";444;1;999;0;\"nonexistent\";1.1;93.994;-36.4;4.856;5191;\"no\"',\n",
       " '45;\"blue-collar\";\"married\";\"basic.9y\";\"unknown\";\"yes\";\"no\";\"telephone\";\"may\";\"wed\";246;2;999;0;\"nonexistent\";1.1;93.994;-36.4;4.856;5191;\"no\"',\n",
       " '49;\"blue-collar\";\"single\";\"basic.6y\";\"no\";\"yes\";\"no\";\"telephone\";\"may\";\"wed\";148;4;999;0;\"nonexistent\";1.1;93.994;-36.4;4.856;5191;\"no\"',\n",
       " '51;\"admin.\";\"married\";\"university.degree\";\"no\";\"yes\";\"no\";\"telephone\";\"may\";\"wed\";223;3;999;0;\"nonexistent\";1.1;93.994;-36.4;4.856;5191;\"no\"',\n",
       " '38;\"technician\";\"single\";\"university.degree\";\"no\";\"yes\";\"no\";\"telephone\";\"may\";\"wed\";566;2;999;0;\"nonexistent\";1.1;93.994;-36.4;4.856;5191;\"no\"',\n",
       " '53;\"technician\";\"married\";\"high.school\";\"no\";\"yes\";\"no\";\"telephone\";\"may\";\"wed\";274;2;999;0;\"nonexistent\";1.1;93.994;-36.4;4.856;5191;\"no\"',\n",
       " '49;\"blue-collar\";\"married\";\"basic.9y\";\"no\";\"yes\";\"no\";\"telephone\";\"may\";\"wed\";49;3;999;0;\"nonexistent\";1.1;93.994;-36.4;4.856;5191;\"no\"',\n",
       " '31;\"blue-collar\";\"married\";\"basic.9y\";\"no\";\"yes\";\"yes\";\"telephone\";\"may\";\"wed\";97;2;999;0;\"nonexistent\";1.1;93.994;-36.4;4.856;5191;\"no\"',\n",
       " '36;\"services\";\"married\";\"high.school\";\"unknown\";\"yes\";\"no\";\"telephone\";\"may\";\"wed\";376;2;999;0;\"nonexistent\";1.1;93.994;-36.4;4.856;5191;\"no\"',\n",
       " '54;\"retired\";\"married\";\"basic.4y\";\"unknown\";\"yes\";\"no\";\"telephone\";\"may\";\"wed\";421;2;999;0;\"nonexistent\";1.1;93.994;-36.4;4.856;5191;\"no\"',\n",
       " '29;\"admin.\";\"single\";\"high.school\";\"no\";\"yes\";\"no\";\"telephone\";\"may\";\"wed\";511;2;999;0;\"nonexistent\";1.1;93.994;-36.4;4.856;5191;\"no\"',\n",
       " '31;\"blue-collar\";\"married\";\"basic.6y\";\"unknown\";\"yes\";\"no\";\"telephone\";\"may\";\"wed\";121;2;999;0;\"nonexistent\";1.1;93.994;-36.4;4.856;5191;\"no\"',\n",
       " '35;\"admin.\";\"married\";\"high.school\";\"no\";\"yes\";\"no\";\"telephone\";\"may\";\"wed\";157;2;999;0;\"nonexistent\";1.1;93.994;-36.4;4.856;5191;\"no\"',\n",
       " '38;\"blue-collar\";\"married\";\"basic.9y\";\"no\";\"no\";\"no\";\"telephone\";\"may\";\"wed\";101;1;999;0;\"nonexistent\";1.1;93.994;-36.4;4.856;5191;\"no\"',\n",
       " '54;\"management\";\"married\";\"high.school\";\"unknown\";\"yes\";\"yes\";\"telephone\";\"may\";\"wed\";328;2;999;0;\"nonexistent\";1.1;93.994;-36.4;4.856;5191;\"no\"',\n",
       " '48;\"admin.\";\"married\";\"basic.9y\";\"unknown\";\"no\";\"no\";\"telephone\";\"may\";\"wed\";19;1;999;0;\"nonexistent\";1.1;93.994;-36.4;4.856;5191;\"no\"',\n",
       " '48;\"management\";\"divorced\";\"university.degree\";\"no\";\"yes\";\"no\";\"telephone\";\"may\";\"wed\";866;2;999;0;\"nonexistent\";1.1;93.994;-36.4;4.856;5191;\"no\"',\n",
       " '32;\"admin.\";\"single\";\"university.degree\";\"unknown\";\"yes\";\"no\";\"telephone\";\"may\";\"wed\";229;3;999;0;\"nonexistent\";1.1;93.994;-36.4;4.856;5191;\"no\"',\n",
       " '34;\"technician\";\"married\";\"professional.course\";\"unknown\";\"yes\";\"no\";\"telephone\";\"may\";\"wed\";154;2;999;0;\"nonexistent\";1.1;93.994;-36.4;4.856;5191;\"no\"',\n",
       " '49;\"technician\";\"single\";\"university.degree\";\"unknown\";\"yes\";\"no\";\"telephone\";\"may\";\"wed\";56;1;999;0;\"nonexistent\";1.1;93.994;-36.4;4.856;5191;\"no\"',\n",
       " '44;\"blue-collar\";\"married\";\"basic.9y\";\"unknown\";\"unknown\";\"unknown\";\"telephone\";\"may\";\"wed\";199;1;999;0;\"nonexistent\";1.1;93.994;-36.4;4.856;5191;\"no\"',\n",
       " '42;\"services\";\"divorced\";\"high.school\";\"unknown\";\"no\";\"no\";\"telephone\";\"may\";\"wed\";117;1;999;0;\"nonexistent\";1.1;93.994;-36.4;4.856;5191;\"no\"',\n",
       " '55;\"blue-collar\";\"married\";\"basic.4y\";\"unknown\";\"no\";\"no\";\"telephone\";\"may\";\"wed\";1581;2;999;0;\"nonexistent\";1.1;93.994;-36.4;4.856;5191;\"no\"',\n",
       " '42;\"services\";\"divorced\";\"high.school\";\"unknown\";\"no\";\"no\";\"telephone\";\"may\";\"wed\";185;1;999;0;\"nonexistent\";1.1;93.994;-36.4;4.856;5191;\"no\"',\n",
       " '44;\"admin.\";\"married\";\"university.degree\";\"unknown\";\"no\";\"no\";\"telephone\";\"may\";\"wed\";202;1;999;0;\"nonexistent\";1.1;93.994;-36.4;4.856;5191;\"no\"',\n",
       " '51;\"blue-collar\";\"married\";\"basic.9y\";\"no\";\"no\";\"no\";\"telephone\";\"may\";\"wed\";279;1;999;0;\"nonexistent\";1.1;93.994;-36.4;4.856;5191;\"no\"',\n",
       " '43;\"blue-collar\";\"married\";\"basic.4y\";\"unknown\";\"yes\";\"no\";\"telephone\";\"may\";\"wed\";180;5;999;0;\"nonexistent\";1.1;93.994;-36.4;4.856;5191;\"no\"',\n",
       " '52;\"technician\";\"married\";\"high.school\";\"no\";\"yes\";\"no\";\"telephone\";\"may\";\"wed\";530;2;999;0;\"nonexistent\";1.1;93.994;-36.4;4.856;5191;\"no\"',\n",
       " '45;\"blue-collar\";\"single\";\"basic.6y\";\"no\";\"yes\";\"no\";\"telephone\";\"may\";\"wed\";129;5;999;0;\"nonexistent\";1.1;93.994;-36.4;4.856;5191;\"no\"',\n",
       " '41;\"services\";\"divorced\";\"high.school\";\"no\";\"yes\";\"yes\";\"telephone\";\"may\";\"wed\";60;1;999;0;\"nonexistent\";1.1;93.994;-36.4;4.856;5191;\"no\"',\n",
       " '35;\"technician\";\"divorced\";\"unknown\";\"no\";\"yes\";\"yes\";\"telephone\";\"may\";\"wed\";432;1;999;0;\"nonexistent\";1.1;93.994;-36.4;4.856;5191;\"no\"',\n",
       " '41;\"services\";\"divorced\";\"high.school\";\"no\";\"no\";\"yes\";\"telephone\";\"may\";\"wed\";516;1;999;0;\"nonexistent\";1.1;93.994;-36.4;4.856;5191;\"no\"',\n",
       " '46;\"management\";\"married\";\"basic.9y\";\"no\";\"no\";\"no\";\"telephone\";\"may\";\"wed\";617;1;999;0;\"nonexistent\";1.1;93.994;-36.4;4.856;5191;\"no\"',\n",
       " '36;\"housemaid\";\"divorced\";\"basic.9y\";\"unknown\";\"no\";\"no\";\"telephone\";\"may\";\"wed\";179;2;999;0;\"nonexistent\";1.1;93.994;-36.4;4.856;5191;\"no\"',\n",
       " '29;\"technician\";\"married\";\"professional.course\";\"no\";\"no\";\"no\";\"telephone\";\"may\";\"wed\";125;2;999;0;\"nonexistent\";1.1;93.994;-36.4;4.856;5191;\"no\"',\n",
       " '47;\"services\";\"married\";\"unknown\";\"no\";\"no\";\"no\";\"telephone\";\"may\";\"wed\";262;2;999;0;\"nonexistent\";1.1;93.994;-36.4;4.856;5191;\"no\"',\n",
       " '43;\"blue-collar\";\"married\";\"basic.4y\";\"unknown\";\"yes\";\"no\";\"telephone\";\"may\";\"wed\";396;2;999;0;\"nonexistent\";1.1;93.994;-36.4;4.856;5191;\"no\"',\n",
       " '38;\"blue-collar\";\"single\";\"basic.9y\";\"unknown\";\"no\";\"no\";\"telephone\";\"may\";\"wed\";294;2;999;0;\"nonexistent\";1.1;93.994;-36.4;4.856;5191;\"no\"',\n",
       " '44;\"blue-collar\";\"married\";\"basic.4y\";\"no\";\"yes\";\"no\";\"telephone\";\"may\";\"wed\";171;2;999;0;\"nonexistent\";1.1;93.994;-36.4;4.856;5191;\"no\"',\n",
       " '29;\"services\";\"married\";\"high.school\";\"no\";\"no\";\"no\";\"telephone\";\"may\";\"wed\";614;2;999;0;\"nonexistent\";1.1;93.994;-36.4;4.856;5191;\"no\"',\n",
       " '58;\"unknown\";\"married\";\"unknown\";\"unknown\";\"no\";\"no\";\"telephone\";\"may\";\"wed\";118;3;999;0;\"nonexistent\";1.1;93.994;-36.4;4.856;5191;\"no\"',\n",
       " '48;\"blue-collar\";\"married\";\"professional.course\";\"no\";\"no\";\"yes\";\"telephone\";\"may\";\"wed\";485;4;999;0;\"nonexistent\";1.1;93.994;-36.4;4.856;5191;\"no\"',\n",
       " '46;\"blue-collar\";\"married\";\"basic.9y\";\"unknown\";\"no\";\"no\";\"telephone\";\"may\";\"wed\";406;2;999;0;\"nonexistent\";1.1;93.994;-36.4;4.856;5191;\"no\"',\n",
       " '31;\"blue-collar\";\"married\";\"basic.4y\";\"no\";\"yes\";\"no\";\"telephone\";\"may\";\"wed\";287;1;999;0;\"nonexistent\";1.1;93.994;-36.4;4.856;5191;\"no\"',\n",
       " '47;\"services\";\"married\";\"unknown\";\"no\";\"no\";\"no\";\"telephone\";\"may\";\"wed\";216;2;999;0;\"nonexistent\";1.1;93.994;-36.4;4.856;5191;\"no\"',\n",
       " '44;\"admin.\";\"married\";\"university.degree\";\"no\";\"yes\";\"no\";\"telephone\";\"may\";\"wed\";37;2;999;0;\"nonexistent\";1.1;93.994;-36.4;4.856;5191;\"no\"',\n",
       " '31;\"blue-collar\";\"married\";\"basic.4y\";\"no\";\"yes\";\"no\";\"telephone\";\"may\";\"wed\";650;1;999;0;\"nonexistent\";1.1;93.994;-36.4;4.856;5191;\"no\"',\n",
       " '38;\"unemployed\";\"divorced\";\"professional.course\";\"no\";\"no\";\"no\";\"telephone\";\"may\";\"wed\";590;3;999;0;\"nonexistent\";1.1;93.994;-36.4;4.856;5191;\"no\"',\n",
       " '33;\"admin.\";\"married\";\"university.degree\";\"no\";\"no\";\"no\";\"telephone\";\"may\";\"wed\";55;1;999;0;\"nonexistent\";1.1;93.994;-36.4;4.856;5191;\"no\"',\n",
       " '53;\"blue-collar\";\"married\";\"basic.9y\";\"no\";\"yes\";\"no\";\"telephone\";\"may\";\"wed\";166;1;999;0;\"nonexistent\";1.1;93.994;-36.4;4.856;5191;\"no\"',\n",
       " '33;\"management\";\"single\";\"unknown\";\"no\";\"yes\";\"no\";\"telephone\";\"may\";\"wed\";371;2;999;0;\"nonexistent\";1.1;93.994;-36.4;4.856;5191;\"no\"',\n",
       " '33;\"self-employed\";\"married\";\"basic.9y\";\"no\";\"yes\";\"no\";\"telephone\";\"may\";\"wed\";48;1;999;0;\"nonexistent\";1.1;93.994;-36.4;4.856;5191;\"no\"',\n",
       " '37;\"admin.\";\"divorced\";\"university.degree\";\"no\";\"yes\";\"no\";\"telephone\";\"may\";\"wed\";72;1;999;0;\"nonexistent\";1.1;93.994;-36.4;4.856;5191;\"no\"',\n",
       " '55;\"blue-collar\";\"married\";\"basic.9y\";\"no\";\"yes\";\"no\";\"telephone\";\"may\";\"wed\";55;1;999;0;\"nonexistent\";1.1;93.994;-36.4;4.856;5191;\"no\"',\n",
       " '41;\"admin.\";\"single\";\"basic.6y\";\"no\";\"unknown\";\"unknown\";\"telephone\";\"may\";\"wed\";92;1;999;0;\"nonexistent\";1.1;93.994;-36.4;4.856;5191;\"no\"',\n",
       " '46;\"blue-collar\";\"married\";\"basic.6y\";\"unknown\";\"yes\";\"no\";\"telephone\";\"may\";\"wed\";196;2;999;0;\"nonexistent\";1.1;93.994;-36.4;4.856;5191;\"no\"',\n",
       " '32;\"entrepreneur\";\"divorced\";\"university.degree\";\"no\";\"no\";\"no\";\"telephone\";\"may\";\"wed\";96;1;999;0;\"nonexistent\";1.1;93.994;-36.4;4.856;5191;\"no\"',\n",
       " '48;\"blue-collar\";\"married\";\"high.school\";\"no\";\"no\";\"no\";\"telephone\";\"may\";\"wed\";144;1;999;0;\"nonexistent\";1.1;93.994;-36.4;4.856;5191;\"no\"',\n",
       " '34;\"entrepreneur\";\"married\";\"basic.4y\";\"no\";\"yes\";\"no\";\"telephone\";\"may\";\"wed\";474;1;999;0;\"nonexistent\";1.1;93.994;-36.4;4.856;5191;\"no\"',\n",
       " '35;\"admin.\";\"single\";\"university.degree\";\"no\";\"no\";\"no\";\"telephone\";\"may\";\"wed\";559;1;999;0;\"nonexistent\";1.1;93.994;-36.4;4.856;5191;\"no\"',\n",
       " '55;\"blue-collar\";\"married\";\"basic.4y\";\"no\";\"yes\";\"yes\";\"telephone\";\"may\";\"wed\";1101;1;999;0;\"nonexistent\";1.1;93.994;-36.4;4.856;5191;\"no\"',\n",
       " '45;\"entrepreneur\";\"single\";\"university.degree\";\"no\";\"unknown\";\"unknown\";\"telephone\";\"may\";\"wed\";229;3;999;0;\"nonexistent\";1.1;93.994;-36.4;4.856;5191;\"no\"',\n",
       " '48;\"management\";\"divorced\";\"university.degree\";\"no\";\"no\";\"no\";\"telephone\";\"may\";\"wed\";236;2;999;0;\"nonexistent\";1.1;93.994;-36.4;4.856;5191;\"no\"',\n",
       " '34;\"blue-collar\";\"married\";\"basic.6y\";\"no\";\"yes\";\"no\";\"telephone\";\"may\";\"wed\";164;1;999;0;\"nonexistent\";1.1;93.994;-36.4;4.856;5191;\"no\"',\n",
       " '46;\"admin.\";\"divorced\";\"university.degree\";\"unknown\";\"no\";\"no\";\"telephone\";\"may\";\"wed\";93;1;999;0;\"nonexistent\";1.1;93.994;-36.4;4.856;5191;\"no\"',\n",
       " '34;\"blue-collar\";\"married\";\"basic.6y\";\"no\";\"yes\";\"no\";\"telephone\";\"may\";\"wed\";123;1;999;0;\"nonexistent\";1.1;93.994;-36.4;4.856;5191;\"no\"',\n",
       " '51;\"unemployed\";\"married\";\"professional.course\";\"unknown\";\"no\";\"no\";\"telephone\";\"may\";\"wed\";912;2;999;0;\"nonexistent\";1.1;93.994;-36.4;4.856;5191;\"no\"',\n",
       " '37;\"admin.\";\"married\";\"university.degree\";\"no\";\"no\";\"no\";\"telephone\";\"may\";\"wed\";209;2;999;0;\"nonexistent\";1.1;93.994;-36.4;4.856;5191;\"no\"',\n",
       " '54;\"housemaid\";\"divorced\";\"basic.4y\";\"no\";\"no\";\"no\";\"telephone\";\"may\";\"wed\";485;1;999;0;\"nonexistent\";1.1;93.994;-36.4;4.856;5191;\"no\"',\n",
       " '45;\"services\";\"married\";\"high.school\";\"unknown\";\"yes\";\"no\";\"telephone\";\"may\";\"wed\";206;2;999;0;\"nonexistent\";1.1;93.994;-36.4;4.856;5191;\"no\"',\n",
       " '39;\"services\";\"single\";\"high.school\";\"no\";\"unknown\";\"unknown\";\"telephone\";\"may\";\"wed\";239;2;999;0;\"nonexistent\";1.1;93.994;-36.4;4.856;5191;\"no\"',\n",
       " '39;\"blue-collar\";\"married\";\"basic.9y\";\"no\";\"no\";\"no\";\"telephone\";\"may\";\"wed\";311;1;999;0;\"nonexistent\";1.1;93.994;-36.4;4.856;5191;\"no\"',\n",
       " '39;\"technician\";\"single\";\"basic.6y\";\"unknown\";\"no\";\"no\";\"telephone\";\"may\";\"wed\";362;1;999;0;\"nonexistent\";1.1;93.994;-36.4;4.856;5191;\"no\"',\n",
       " '39;\"services\";\"married\";\"basic.9y\";\"no\";\"no\";\"no\";\"telephone\";\"may\";\"wed\";274;1;999;0;\"nonexistent\";1.1;93.994;-36.4;4.856;5191;\"no\"',\n",
       " '32;\"entrepreneur\";\"married\";\"basic.6y\";\"no\";\"yes\";\"no\";\"telephone\";\"may\";\"wed\";163;1;999;0;\"nonexistent\";1.1;93.994;-36.4;4.856;5191;\"no\"',\n",
       " '41;\"services\";\"single\";\"high.school\";\"no\";\"yes\";\"yes\";\"telephone\";\"may\";\"wed\";345;1;999;0;\"nonexistent\";1.1;93.994;-36.4;4.856;5191;\"no\"',\n",
       " '59;\"housemaid\";\"married\";\"basic.6y\";\"no\";\"yes\";\"no\";\"telephone\";\"may\";\"wed\";329;1;999;0;\"nonexistent\";1.1;93.994;-36.4;4.856;5191;\"no\"',\n",
       " '57;\"technician\";\"married\";\"basic.9y\";\"no\";\"yes\";\"no\";\"telephone\";\"may\";\"wed\";68;1;999;0;\"nonexistent\";1.1;93.994;-36.4;4.856;5191;\"no\"',\n",
       " ...]"
      ]
     },
     "execution_count": 14,
     "metadata": {},
     "output_type": "execute_result"
    }
   ],
   "source": [
    "p"
   ]
  },
  {
   "cell_type": "markdown",
   "metadata": {},
   "source": [
    "### 1) Azioni sull'RDD"
   ]
  },
  {
   "cell_type": "markdown",
   "metadata": {},
   "source": [
    "- Conteggio del numero di record dataset originale"
   ]
  },
  {
   "cell_type": "code",
   "execution_count": 15,
   "metadata": {},
   "outputs": [
    {
     "data": {
      "text/plain": [
       "41188"
      ]
     },
     "execution_count": 15,
     "metadata": {},
     "output_type": "execute_result"
    }
   ],
   "source": [
    "#la prima riga è l'header\n",
    "kdd_rdd.count()-1 "
   ]
  },
  {
   "cell_type": "markdown",
   "metadata": {},
   "source": [
    "- Separazione dall'header dataset nuovo"
   ]
  },
  {
   "cell_type": "code",
   "execution_count": 16,
   "metadata": {},
   "outputs": [],
   "source": [
    "kdd_rdd_header = kdd_rdd.first()\n",
    "# Sostituiamo \".\" con \"_\" perchè potrebbe dare problemi\n",
    "kdd_rdd_header = kdd_rdd_header.replace(\".\", \"_\")"
   ]
  },
  {
   "cell_type": "code",
   "execution_count": 17,
   "metadata": {},
   "outputs": [],
   "source": [
    "firs_feature = kdd_rdd_header.split(\";\")[0]"
   ]
  },
  {
   "cell_type": "code",
   "execution_count": 18,
   "metadata": {},
   "outputs": [],
   "source": [
    "kdd_rdd_no_header = kdd_rdd.filter(lambda row: firs_feature not in row)"
   ]
  },
  {
   "cell_type": "code",
   "execution_count": 19,
   "metadata": {},
   "outputs": [
    {
     "data": {
      "text/plain": [
       "['56;\"housemaid\";\"married\";\"basic.4y\";\"no\";\"no\";\"no\";\"telephone\";\"may\";\"mon\";261;1;999;0;\"nonexistent\";1.1;93.994;-36.4;4.857;5191;\"no\"',\n",
       " '57;\"services\";\"married\";\"high.school\";\"unknown\";\"no\";\"no\";\"telephone\";\"may\";\"mon\";149;1;999;0;\"nonexistent\";1.1;93.994;-36.4;4.857;5191;\"no\"',\n",
       " '37;\"services\";\"married\";\"high.school\";\"no\";\"yes\";\"no\";\"telephone\";\"may\";\"mon\";226;1;999;0;\"nonexistent\";1.1;93.994;-36.4;4.857;5191;\"no\"',\n",
       " '40;\"admin.\";\"married\";\"basic.6y\";\"no\";\"no\";\"no\";\"telephone\";\"may\";\"mon\";151;1;999;0;\"nonexistent\";1.1;93.994;-36.4;4.857;5191;\"no\"',\n",
       " '56;\"services\";\"married\";\"high.school\";\"no\";\"no\";\"yes\";\"telephone\";\"may\";\"mon\";307;1;999;0;\"nonexistent\";1.1;93.994;-36.4;4.857;5191;\"no\"',\n",
       " '45;\"services\";\"married\";\"basic.9y\";\"unknown\";\"no\";\"no\";\"telephone\";\"may\";\"mon\";198;1;999;0;\"nonexistent\";1.1;93.994;-36.4;4.857;5191;\"no\"',\n",
       " '59;\"admin.\";\"married\";\"professional.course\";\"no\";\"no\";\"no\";\"telephone\";\"may\";\"mon\";139;1;999;0;\"nonexistent\";1.1;93.994;-36.4;4.857;5191;\"no\"',\n",
       " '41;\"blue-collar\";\"married\";\"unknown\";\"unknown\";\"no\";\"no\";\"telephone\";\"may\";\"mon\";217;1;999;0;\"nonexistent\";1.1;93.994;-36.4;4.857;5191;\"no\"',\n",
       " '24;\"technician\";\"single\";\"professional.course\";\"no\";\"yes\";\"no\";\"telephone\";\"may\";\"mon\";380;1;999;0;\"nonexistent\";1.1;93.994;-36.4;4.857;5191;\"no\"',\n",
       " '25;\"services\";\"single\";\"high.school\";\"no\";\"yes\";\"no\";\"telephone\";\"may\";\"mon\";50;1;999;0;\"nonexistent\";1.1;93.994;-36.4;4.857;5191;\"no\"',\n",
       " '41;\"blue-collar\";\"married\";\"unknown\";\"unknown\";\"no\";\"no\";\"telephone\";\"may\";\"mon\";55;1;999;0;\"nonexistent\";1.1;93.994;-36.4;4.857;5191;\"no\"',\n",
       " '25;\"services\";\"single\";\"high.school\";\"no\";\"yes\";\"no\";\"telephone\";\"may\";\"mon\";222;1;999;0;\"nonexistent\";1.1;93.994;-36.4;4.857;5191;\"no\"',\n",
       " '29;\"blue-collar\";\"single\";\"high.school\";\"no\";\"no\";\"yes\";\"telephone\";\"may\";\"mon\";137;1;999;0;\"nonexistent\";1.1;93.994;-36.4;4.857;5191;\"no\"',\n",
       " '57;\"housemaid\";\"divorced\";\"basic.4y\";\"no\";\"yes\";\"no\";\"telephone\";\"may\";\"mon\";293;1;999;0;\"nonexistent\";1.1;93.994;-36.4;4.857;5191;\"no\"',\n",
       " '35;\"blue-collar\";\"married\";\"basic.6y\";\"no\";\"yes\";\"no\";\"telephone\";\"may\";\"mon\";146;1;999;0;\"nonexistent\";1.1;93.994;-36.4;4.857;5191;\"no\"',\n",
       " '54;\"retired\";\"married\";\"basic.9y\";\"unknown\";\"yes\";\"yes\";\"telephone\";\"may\";\"mon\";174;1;999;0;\"nonexistent\";1.1;93.994;-36.4;4.857;5191;\"no\"',\n",
       " '35;\"blue-collar\";\"married\";\"basic.6y\";\"no\";\"yes\";\"no\";\"telephone\";\"may\";\"mon\";312;1;999;0;\"nonexistent\";1.1;93.994;-36.4;4.857;5191;\"no\"',\n",
       " '46;\"blue-collar\";\"married\";\"basic.6y\";\"unknown\";\"yes\";\"yes\";\"telephone\";\"may\";\"mon\";440;1;999;0;\"nonexistent\";1.1;93.994;-36.4;4.857;5191;\"no\"',\n",
       " '50;\"blue-collar\";\"married\";\"basic.9y\";\"no\";\"yes\";\"yes\";\"telephone\";\"may\";\"mon\";353;1;999;0;\"nonexistent\";1.1;93.994;-36.4;4.857;5191;\"no\"',\n",
       " '39;\"management\";\"single\";\"basic.9y\";\"unknown\";\"no\";\"no\";\"telephone\";\"may\";\"mon\";195;1;999;0;\"nonexistent\";1.1;93.994;-36.4;4.857;5191;\"no\"',\n",
       " '30;\"unemployed\";\"married\";\"high.school\";\"no\";\"no\";\"no\";\"telephone\";\"may\";\"mon\";38;1;999;0;\"nonexistent\";1.1;93.994;-36.4;4.857;5191;\"no\"',\n",
       " '55;\"blue-collar\";\"married\";\"basic.4y\";\"unknown\";\"yes\";\"no\";\"telephone\";\"may\";\"mon\";262;1;999;0;\"nonexistent\";1.1;93.994;-36.4;4.857;5191;\"no\"',\n",
       " '55;\"retired\";\"single\";\"high.school\";\"no\";\"yes\";\"no\";\"telephone\";\"may\";\"mon\";342;1;999;0;\"nonexistent\";1.1;93.994;-36.4;4.857;5191;\"no\"',\n",
       " '41;\"technician\";\"single\";\"high.school\";\"no\";\"yes\";\"no\";\"telephone\";\"may\";\"mon\";181;1;999;0;\"nonexistent\";1.1;93.994;-36.4;4.857;5191;\"no\"',\n",
       " '37;\"admin.\";\"married\";\"high.school\";\"no\";\"yes\";\"no\";\"telephone\";\"may\";\"mon\";172;1;999;0;\"nonexistent\";1.1;93.994;-36.4;4.857;5191;\"no\"',\n",
       " '35;\"technician\";\"married\";\"university.degree\";\"no\";\"no\";\"yes\";\"telephone\";\"may\";\"mon\";99;1;999;0;\"nonexistent\";1.1;93.994;-36.4;4.857;5191;\"no\"',\n",
       " '59;\"technician\";\"married\";\"unknown\";\"no\";\"yes\";\"no\";\"telephone\";\"may\";\"mon\";93;1;999;0;\"nonexistent\";1.1;93.994;-36.4;4.857;5191;\"no\"',\n",
       " '39;\"self-employed\";\"married\";\"basic.9y\";\"unknown\";\"no\";\"no\";\"telephone\";\"may\";\"mon\";233;1;999;0;\"nonexistent\";1.1;93.994;-36.4;4.857;5191;\"no\"',\n",
       " '54;\"technician\";\"single\";\"university.degree\";\"unknown\";\"no\";\"no\";\"telephone\";\"may\";\"mon\";255;2;999;0;\"nonexistent\";1.1;93.994;-36.4;4.857;5191;\"no\"',\n",
       " '55;\"unknown\";\"married\";\"university.degree\";\"unknown\";\"unknown\";\"unknown\";\"telephone\";\"may\";\"mon\";362;1;999;0;\"nonexistent\";1.1;93.994;-36.4;4.857;5191;\"no\"',\n",
       " '46;\"admin.\";\"married\";\"unknown\";\"no\";\"no\";\"no\";\"telephone\";\"may\";\"mon\";348;1;999;0;\"nonexistent\";1.1;93.994;-36.4;4.857;5191;\"no\"',\n",
       " '59;\"technician\";\"married\";\"unknown\";\"no\";\"yes\";\"no\";\"telephone\";\"may\";\"mon\";386;1;999;0;\"nonexistent\";1.1;93.994;-36.4;4.857;5191;\"no\"',\n",
       " '49;\"blue-collar\";\"married\";\"unknown\";\"no\";\"no\";\"no\";\"telephone\";\"may\";\"mon\";73;1;999;0;\"nonexistent\";1.1;93.994;-36.4;4.857;5191;\"no\"',\n",
       " '54;\"management\";\"married\";\"basic.4y\";\"unknown\";\"yes\";\"no\";\"telephone\";\"may\";\"mon\";230;1;999;0;\"nonexistent\";1.1;93.994;-36.4;4.857;5191;\"no\"',\n",
       " '54;\"blue-collar\";\"divorced\";\"basic.4y\";\"no\";\"no\";\"no\";\"telephone\";\"may\";\"mon\";208;1;999;0;\"nonexistent\";1.1;93.994;-36.4;4.857;5191;\"no\"',\n",
       " '55;\"unknown\";\"married\";\"basic.4y\";\"unknown\";\"yes\";\"no\";\"telephone\";\"may\";\"mon\";336;1;999;0;\"nonexistent\";1.1;93.994;-36.4;4.857;5191;\"no\"',\n",
       " '34;\"services\";\"married\";\"high.school\";\"no\";\"no\";\"no\";\"telephone\";\"may\";\"mon\";365;1;999;0;\"nonexistent\";1.1;93.994;-36.4;4.857;5191;\"no\"',\n",
       " '52;\"technician\";\"married\";\"basic.9y\";\"no\";\"yes\";\"no\";\"telephone\";\"may\";\"mon\";1666;1;999;0;\"nonexistent\";1.1;93.994;-36.4;4.857;5191;\"no\"',\n",
       " '41;\"admin.\";\"married\";\"university.degree\";\"no\";\"yes\";\"no\";\"telephone\";\"may\";\"mon\";577;1;999;0;\"nonexistent\";1.1;93.994;-36.4;4.857;5191;\"no\"',\n",
       " '56;\"technician\";\"married\";\"basic.4y\";\"no\";\"yes\";\"no\";\"telephone\";\"may\";\"mon\";137;1;999;0;\"nonexistent\";1.1;93.994;-36.4;4.857;5191;\"no\"',\n",
       " '58;\"management\";\"unknown\";\"university.degree\";\"no\";\"yes\";\"no\";\"telephone\";\"may\";\"mon\";366;1;999;0;\"nonexistent\";1.1;93.994;-36.4;4.857;5191;\"no\"',\n",
       " '32;\"entrepreneur\";\"married\";\"high.school\";\"no\";\"yes\";\"no\";\"telephone\";\"may\";\"mon\";314;1;999;0;\"nonexistent\";1.1;93.994;-36.4;4.857;5191;\"no\"',\n",
       " '38;\"admin.\";\"single\";\"professional.course\";\"no\";\"no\";\"no\";\"telephone\";\"may\";\"mon\";160;1;999;0;\"nonexistent\";1.1;93.994;-36.4;4.857;5191;\"no\"',\n",
       " '57;\"admin.\";\"married\";\"university.degree\";\"no\";\"no\";\"yes\";\"telephone\";\"may\";\"mon\";212;1;999;0;\"nonexistent\";1.1;93.994;-36.4;4.857;5191;\"no\"',\n",
       " '44;\"admin.\";\"married\";\"university.degree\";\"unknown\";\"yes\";\"no\";\"telephone\";\"may\";\"mon\";188;1;999;0;\"nonexistent\";1.1;93.994;-36.4;4.857;5191;\"no\"',\n",
       " '42;\"technician\";\"single\";\"professional.course\";\"unknown\";\"no\";\"no\";\"telephone\";\"may\";\"mon\";22;1;999;0;\"nonexistent\";1.1;93.994;-36.4;4.857;5191;\"no\"',\n",
       " '57;\"admin.\";\"married\";\"university.degree\";\"no\";\"yes\";\"yes\";\"telephone\";\"may\";\"mon\";616;1;999;0;\"nonexistent\";1.1;93.994;-36.4;4.857;5191;\"no\"',\n",
       " '40;\"blue-collar\";\"married\";\"basic.9y\";\"no\";\"no\";\"yes\";\"telephone\";\"may\";\"mon\";178;1;999;0;\"nonexistent\";1.1;93.994;-36.4;4.857;5191;\"no\"',\n",
       " '35;\"admin.\";\"married\";\"university.degree\";\"no\";\"yes\";\"no\";\"telephone\";\"may\";\"mon\";355;1;999;0;\"nonexistent\";1.1;93.994;-36.4;4.857;5191;\"no\"',\n",
       " '45;\"blue-collar\";\"married\";\"basic.9y\";\"no\";\"yes\";\"no\";\"telephone\";\"may\";\"mon\";225;2;999;0;\"nonexistent\";1.1;93.994;-36.4;4.857;5191;\"no\"',\n",
       " '54;\"admin.\";\"married\";\"high.school\";\"no\";\"no\";\"no\";\"telephone\";\"may\";\"mon\";160;1;999;0;\"nonexistent\";1.1;93.994;-36.4;4.857;5191;\"no\"',\n",
       " '39;\"housemaid\";\"married\";\"basic.4y\";\"no\";\"no\";\"yes\";\"telephone\";\"may\";\"mon\";266;1;999;0;\"nonexistent\";1.1;93.994;-36.4;4.857;5191;\"no\"',\n",
       " '60;\"admin.\";\"married\";\"high.school\";\"no\";\"no\";\"no\";\"telephone\";\"may\";\"mon\";253;1;999;0;\"nonexistent\";1.1;93.994;-36.4;4.857;5191;\"no\"',\n",
       " '53;\"admin.\";\"single\";\"professional.course\";\"no\";\"no\";\"no\";\"telephone\";\"may\";\"mon\";179;1;999;0;\"nonexistent\";1.1;93.994;-36.4;4.857;5191;\"no\"',\n",
       " '55;\"blue-collar\";\"married\";\"basic.4y\";\"unknown\";\"no\";\"no\";\"telephone\";\"may\";\"mon\";269;2;999;0;\"nonexistent\";1.1;93.994;-36.4;4.857;5191;\"no\"',\n",
       " '55;\"technician\";\"married\";\"professional.course\";\"unknown\";\"yes\";\"no\";\"telephone\";\"may\";\"mon\";135;1;999;0;\"nonexistent\";1.1;93.994;-36.4;4.857;5191;\"no\"',\n",
       " '50;\"management\";\"married\";\"university.degree\";\"unknown\";\"no\";\"yes\";\"telephone\";\"may\";\"mon\";161;1;999;0;\"nonexistent\";1.1;93.994;-36.4;4.857;5191;\"no\"',\n",
       " '45;\"services\";\"married\";\"high.school\";\"unknown\";\"yes\";\"no\";\"telephone\";\"may\";\"mon\";787;1;999;0;\"nonexistent\";1.1;93.994;-36.4;4.857;5191;\"no\"',\n",
       " '55;\"unemployed\";\"married\";\"professional.course\";\"unknown\";\"yes\";\"yes\";\"telephone\";\"may\";\"mon\";145;1;999;0;\"nonexistent\";1.1;93.994;-36.4;4.857;5191;\"no\"',\n",
       " '25;\"technician\";\"single\";\"university.degree\";\"no\";\"yes\";\"no\";\"telephone\";\"may\";\"mon\";174;1;999;0;\"nonexistent\";1.1;93.994;-36.4;4.857;5191;\"no\"',\n",
       " '47;\"entrepreneur\";\"married\";\"university.degree\";\"unknown\";\"no\";\"no\";\"telephone\";\"may\";\"mon\";449;1;999;0;\"nonexistent\";1.1;93.994;-36.4;4.857;5191;\"no\"',\n",
       " '51;\"blue-collar\";\"married\";\"basic.9y\";\"no\";\"yes\";\"no\";\"telephone\";\"may\";\"mon\";812;1;999;0;\"nonexistent\";1.1;93.994;-36.4;4.857;5191;\"no\"',\n",
       " '42;\"blue-collar\";\"married\";\"basic.6y\";\"unknown\";\"yes\";\"no\";\"telephone\";\"may\";\"mon\";164;1;999;0;\"nonexistent\";1.1;93.994;-36.4;4.857;5191;\"no\"',\n",
       " '42;\"blue-collar\";\"married\";\"basic.6y\";\"unknown\";\"no\";\"no\";\"telephone\";\"may\";\"mon\";366;1;999;0;\"nonexistent\";1.1;93.994;-36.4;4.857;5191;\"no\"',\n",
       " '48;\"admin.\";\"married\";\"high.school\";\"no\";\"no\";\"no\";\"telephone\";\"may\";\"mon\";357;1;999;0;\"nonexistent\";1.1;93.994;-36.4;4.857;5191;\"no\"',\n",
       " '37;\"admin.\";\"married\";\"university.degree\";\"no\";\"no\";\"no\";\"telephone\";\"may\";\"mon\";232;1;999;0;\"nonexistent\";1.1;93.994;-36.4;4.857;5191;\"no\"',\n",
       " '44;\"blue-collar\";\"single\";\"basic.9y\";\"no\";\"yes\";\"no\";\"telephone\";\"may\";\"mon\";91;1;999;0;\"nonexistent\";1.1;93.994;-36.4;4.857;5191;\"no\"',\n",
       " '33;\"admin.\";\"married\";\"unknown\";\"no\";\"yes\";\"no\";\"telephone\";\"may\";\"mon\";273;1;999;0;\"nonexistent\";1.1;93.994;-36.4;4.857;5191;\"no\"',\n",
       " '56;\"admin.\";\"married\";\"basic.9y\";\"no\";\"yes\";\"no\";\"telephone\";\"may\";\"mon\";158;2;999;0;\"nonexistent\";1.1;93.994;-36.4;4.857;5191;\"no\"',\n",
       " '44;\"blue-collar\";\"single\";\"basic.4y\";\"unknown\";\"yes\";\"yes\";\"telephone\";\"may\";\"mon\";177;1;999;0;\"nonexistent\";1.1;93.994;-36.4;4.857;5191;\"no\"',\n",
       " '41;\"management\";\"married\";\"basic.6y\";\"no\";\"no\";\"no\";\"telephone\";\"may\";\"mon\";200;1;999;0;\"nonexistent\";1.1;93.994;-36.4;4.857;5191;\"no\"',\n",
       " '44;\"management\";\"divorced\";\"university.degree\";\"no\";\"yes\";\"no\";\"telephone\";\"may\";\"mon\";172;1;999;0;\"nonexistent\";1.1;93.994;-36.4;4.857;5191;\"no\"',\n",
       " '47;\"admin.\";\"married\";\"university.degree\";\"unknown\";\"yes\";\"no\";\"telephone\";\"may\";\"mon\";176;1;999;0;\"nonexistent\";1.1;93.994;-36.4;4.857;5191;\"no\"',\n",
       " '57;\"unknown\";\"married\";\"unknown\";\"unknown\";\"no\";\"no\";\"telephone\";\"may\";\"mon\";211;1;999;0;\"nonexistent\";1.1;93.994;-36.4;4.857;5191;\"no\"',\n",
       " '37;\"admin.\";\"married\";\"university.degree\";\"unknown\";\"yes\";\"no\";\"telephone\";\"may\";\"mon\";214;1;999;0;\"nonexistent\";1.1;93.994;-36.4;4.857;5191;\"no\"',\n",
       " '41;\"blue-collar\";\"divorced\";\"basic.4y\";\"unknown\";\"yes\";\"no\";\"telephone\";\"may\";\"mon\";1575;1;999;0;\"nonexistent\";1.1;93.994;-36.4;4.857;5191;\"yes\"',\n",
       " '55;\"technician\";\"married\";\"university.degree\";\"no\";\"no\";\"no\";\"telephone\";\"may\";\"mon\";349;1;999;0;\"nonexistent\";1.1;93.994;-36.4;4.857;5191;\"no\"',\n",
       " '33;\"services\";\"married\";\"high.school\";\"unknown\";\"yes\";\"no\";\"telephone\";\"may\";\"mon\";337;2;999;0;\"nonexistent\";1.1;93.994;-36.4;4.857;5191;\"no\"',\n",
       " '55;\"management\";\"married\";\"unknown\";\"unknown\";\"yes\";\"no\";\"telephone\";\"may\";\"mon\";272;1;999;0;\"nonexistent\";1.1;93.994;-36.4;4.857;5191;\"no\"',\n",
       " '42;\"blue-collar\";\"married\";\"basic.9y\";\"unknown\";\"no\";\"no\";\"telephone\";\"may\";\"mon\";208;1;999;0;\"nonexistent\";1.1;93.994;-36.4;4.857;5191;\"no\"',\n",
       " '50;\"blue-collar\";\"married\";\"basic.4y\";\"unknown\";\"yes\";\"no\";\"telephone\";\"may\";\"mon\";193;1;999;0;\"nonexistent\";1.1;93.994;-36.4;4.857;5191;\"no\"',\n",
       " '51;\"blue-collar\";\"married\";\"basic.4y\";\"unknown\";\"unknown\";\"unknown\";\"telephone\";\"may\";\"mon\";212;1;999;0;\"nonexistent\";1.1;93.994;-36.4;4.857;5191;\"no\"',\n",
       " '38;\"admin.\";\"married\";\"high.school\";\"unknown\";\"no\";\"no\";\"telephone\";\"may\";\"mon\";165;2;999;0;\"nonexistent\";1.1;93.994;-36.4;4.857;5191;\"no\"',\n",
       " '49;\"entrepreneur\";\"married\";\"university.degree\";\"unknown\";\"yes\";\"no\";\"telephone\";\"may\";\"mon\";1042;1;999;0;\"nonexistent\";1.1;93.994;-36.4;4.857;5191;\"yes\"',\n",
       " '38;\"technician\";\"single\";\"university.degree\";\"no\";\"no\";\"yes\";\"telephone\";\"may\";\"mon\";20;1;999;0;\"nonexistent\";1.1;93.994;-36.4;4.857;5191;\"no\"',\n",
       " '31;\"admin.\";\"divorced\";\"high.school\";\"no\";\"no\";\"no\";\"telephone\";\"may\";\"mon\";246;1;999;0;\"nonexistent\";1.1;93.994;-36.4;4.857;5191;\"no\"',\n",
       " '41;\"management\";\"married\";\"basic.6y\";\"no\";\"no\";\"no\";\"telephone\";\"may\";\"mon\";529;2;999;0;\"nonexistent\";1.1;93.994;-36.4;4.857;5191;\"no\"',\n",
       " '39;\"admin.\";\"married\";\"university.degree\";\"no\";\"yes\";\"yes\";\"telephone\";\"may\";\"mon\";192;1;999;0;\"nonexistent\";1.1;93.994;-36.4;4.857;5191;\"no\"',\n",
       " '49;\"technician\";\"married\";\"basic.9y\";\"no\";\"no\";\"no\";\"telephone\";\"may\";\"mon\";1467;1;999;0;\"nonexistent\";1.1;93.994;-36.4;4.857;5191;\"yes\"',\n",
       " '34;\"admin.\";\"married\";\"high.school\";\"no\";\"yes\";\"no\";\"telephone\";\"may\";\"mon\";188;2;999;0;\"nonexistent\";1.1;93.994;-36.4;4.857;5191;\"no\"',\n",
       " '35;\"admin.\";\"married\";\"university.degree\";\"no\";\"yes\";\"no\";\"telephone\";\"may\";\"mon\";180;2;999;0;\"nonexistent\";1.1;93.994;-36.4;4.857;5191;\"no\"',\n",
       " '57;\"unknown\";\"married\";\"unknown\";\"unknown\";\"yes\";\"no\";\"telephone\";\"may\";\"mon\";48;1;999;0;\"nonexistent\";1.1;93.994;-36.4;4.857;5191;\"no\"',\n",
       " '60;\"admin.\";\"married\";\"unknown\";\"unknown\";\"no\";\"yes\";\"telephone\";\"may\";\"mon\";213;2;999;0;\"nonexistent\";1.1;93.994;-36.4;4.857;5191;\"no\"',\n",
       " '33;\"unemployed\";\"married\";\"basic.9y\";\"no\";\"no\";\"no\";\"telephone\";\"may\";\"mon\";545;1;999;0;\"nonexistent\";1.1;93.994;-36.4;4.857;5191;\"no\"',\n",
       " '42;\"blue-collar\";\"married\";\"basic.6y\";\"no\";\"no\";\"yes\";\"telephone\";\"may\";\"mon\";583;1;999;0;\"nonexistent\";1.1;93.994;-36.4;4.857;5191;\"no\"',\n",
       " '45;\"services\";\"married\";\"professional.course\";\"no\";\"yes\";\"no\";\"telephone\";\"may\";\"mon\";221;1;999;0;\"nonexistent\";1.1;93.994;-36.4;4.857;5191;\"no\"',\n",
       " '42;\"management\";\"married\";\"university.degree\";\"no\";\"no\";\"no\";\"telephone\";\"may\";\"mon\";426;1;999;0;\"nonexistent\";1.1;93.994;-36.4;4.857;5191;\"no\"',\n",
       " '53;\"admin.\";\"divorced\";\"university.degree\";\"unknown\";\"no\";\"no\";\"telephone\";\"may\";\"mon\";287;1;999;0;\"nonexistent\";1.1;93.994;-36.4;4.857;5191;\"no\"',\n",
       " '37;\"technician\";\"single\";\"professional.course\";\"no\";\"no\";\"no\";\"telephone\";\"may\";\"mon\";197;1;999;0;\"nonexistent\";1.1;93.994;-36.4;4.857;5191;\"no\"',\n",
       " '44;\"blue-collar\";\"married\";\"basic.6y\";\"no\";\"no\";\"no\";\"telephone\";\"may\";\"mon\";257;1;999;0;\"nonexistent\";1.1;93.994;-36.4;4.857;5191;\"no\"',\n",
       " '54;\"services\";\"married\";\"unknown\";\"no\";\"yes\";\"no\";\"telephone\";\"may\";\"mon\";229;1;999;0;\"nonexistent\";1.1;93.994;-36.4;4.857;5191;\"no\"',\n",
       " '49;\"blue-collar\";\"married\";\"basic.4y\";\"no\";\"no\";\"no\";\"telephone\";\"may\";\"mon\";55;3;999;0;\"nonexistent\";1.1;93.994;-36.4;4.857;5191;\"no\"',\n",
       " '54;\"services\";\"married\";\"unknown\";\"no\";\"no\";\"no\";\"telephone\";\"may\";\"mon\";400;1;999;0;\"nonexistent\";1.1;93.994;-36.4;4.857;5191;\"no\"',\n",
       " '52;\"admin.\";\"divorced\";\"university.degree\";\"no\";\"no\";\"no\";\"telephone\";\"may\";\"mon\";197;1;999;0;\"nonexistent\";1.1;93.994;-36.4;4.857;5191;\"no\"',\n",
       " '52;\"admin.\";\"divorced\";\"university.degree\";\"no\";\"no\";\"no\";\"telephone\";\"may\";\"mon\";190;1;999;0;\"nonexistent\";1.1;93.994;-36.4;4.857;5191;\"no\"',\n",
       " '43;\"services\";\"single\";\"high.school\";\"unknown\";\"no\";\"no\";\"telephone\";\"may\";\"mon\";21;1;999;0;\"nonexistent\";1.1;93.994;-36.4;4.857;5191;\"no\"',\n",
       " '34;\"housemaid\";\"married\";\"basic.6y\";\"no\";\"yes\";\"no\";\"telephone\";\"may\";\"mon\";300;2;999;0;\"nonexistent\";1.1;93.994;-36.4;4.857;5191;\"no\"',\n",
       " '35;\"admin.\";\"married\";\"high.school\";\"no\";\"yes\";\"no\";\"telephone\";\"may\";\"mon\";123;2;999;0;\"nonexistent\";1.1;93.994;-36.4;4.857;5191;\"no\"',\n",
       " '42;\"entrepreneur\";\"married\";\"unknown\";\"unknown\";\"yes\";\"no\";\"telephone\";\"may\";\"mon\";293;1;999;0;\"nonexistent\";1.1;93.994;-36.4;4.857;5191;\"no\"',\n",
       " '43;\"technician\";\"married\";\"unknown\";\"unknown\";\"yes\";\"yes\";\"telephone\";\"may\";\"mon\";325;1;999;0;\"nonexistent\";1.1;93.994;-36.4;4.857;5191;\"no\"',\n",
       " '60;\"retired\";\"divorced\";\"university.degree\";\"unknown\";\"no\";\"no\";\"telephone\";\"may\";\"mon\";514;1;999;0;\"nonexistent\";1.1;93.994;-36.4;4.857;5191;\"no\"',\n",
       " '58;\"unemployed\";\"married\";\"basic.4y\";\"unknown\";\"no\";\"no\";\"telephone\";\"may\";\"mon\";849;2;999;0;\"nonexistent\";1.1;93.994;-36.4;4.857;5191;\"no\"',\n",
       " '35;\"services\";\"divorced\";\"high.school\";\"no\";\"yes\";\"no\";\"telephone\";\"may\";\"mon\";194;1;999;0;\"nonexistent\";1.1;93.994;-36.4;4.857;5191;\"no\"',\n",
       " '55;\"blue-collar\";\"married\";\"basic.9y\";\"unknown\";\"yes\";\"no\";\"telephone\";\"may\";\"mon\";212;2;999;0;\"nonexistent\";1.1;93.994;-36.4;4.857;5191;\"no\"',\n",
       " '37;\"management\";\"married\";\"university.degree\";\"no\";\"no\";\"no\";\"telephone\";\"may\";\"mon\";337;2;999;0;\"nonexistent\";1.1;93.994;-36.4;4.857;5191;\"no\"',\n",
       " '36;\"blue-collar\";\"married\";\"high.school\";\"no\";\"no\";\"no\";\"telephone\";\"may\";\"mon\";286;1;999;0;\"nonexistent\";1.1;93.994;-36.4;4.857;5191;\"no\"',\n",
       " '52;\"admin.\";\"divorced\";\"university.degree\";\"no\";\"no\";\"no\";\"telephone\";\"may\";\"mon\";247;2;999;0;\"nonexistent\";1.1;93.994;-36.4;4.857;5191;\"no\"',\n",
       " '57;\"blue-collar\";\"divorced\";\"unknown\";\"unknown\";\"yes\";\"no\";\"telephone\";\"may\";\"mon\";518;1;999;0;\"nonexistent\";1.1;93.994;-36.4;4.857;5191;\"no\"',\n",
       " '56;\"admin.\";\"married\";\"unknown\";\"no\";\"yes\";\"no\";\"telephone\";\"may\";\"mon\";364;1;999;0;\"nonexistent\";1.1;93.994;-36.4;4.857;5191;\"no\"',\n",
       " '48;\"blue-collar\";\"divorced\";\"basic.4y\";\"unknown\";\"yes\";\"no\";\"telephone\";\"may\";\"mon\";178;1;999;0;\"nonexistent\";1.1;93.994;-36.4;4.857;5191;\"no\"',\n",
       " '40;\"blue-collar\";\"married\";\"high.school\";\"unknown\";\"yes\";\"no\";\"telephone\";\"may\";\"mon\";98;1;999;0;\"nonexistent\";1.1;93.994;-36.4;4.857;5191;\"no\"',\n",
       " '49;\"blue-collar\";\"divorced\";\"high.school\";\"no\";\"no\";\"no\";\"telephone\";\"may\";\"mon\";439;1;999;0;\"nonexistent\";1.1;93.994;-36.4;4.857;5191;\"no\"',\n",
       " '41;\"services\";\"married\";\"high.school\";\"no\";\"no\";\"no\";\"telephone\";\"may\";\"mon\";139;1;999;0;\"nonexistent\";1.1;93.994;-36.4;4.857;5191;\"no\"',\n",
       " '45;\"technician\";\"married\";\"high.school\";\"no\";\"yes\";\"no\";\"telephone\";\"may\";\"mon\";79;1;999;0;\"nonexistent\";1.1;93.994;-36.4;4.857;5191;\"no\"',\n",
       " '32;\"admin.\";\"married\";\"university.degree\";\"no\";\"yes\";\"yes\";\"telephone\";\"may\";\"mon\";175;1;999;0;\"nonexistent\";1.1;93.994;-36.4;4.857;5191;\"no\"',\n",
       " '42;\"admin.\";\"married\";\"university.degree\";\"no\";\"no\";\"yes\";\"telephone\";\"may\";\"mon\";262;2;999;0;\"nonexistent\";1.1;93.994;-36.4;4.857;5191;\"no\"',\n",
       " '50;\"admin.\";\"married\";\"basic.6y\";\"no\";\"no\";\"no\";\"telephone\";\"may\";\"mon\";61;1;999;0;\"nonexistent\";1.1;93.994;-36.4;4.857;5191;\"no\"',\n",
       " '31;\"technician\";\"divorced\";\"professional.course\";\"no\";\"yes\";\"yes\";\"telephone\";\"may\";\"mon\";78;1;999;0;\"nonexistent\";1.1;93.994;-36.4;4.857;5191;\"no\"',\n",
       " '56;\"retired\";\"married\";\"basic.4y\";\"no\";\"yes\";\"no\";\"telephone\";\"may\";\"mon\";102;2;999;0;\"nonexistent\";1.1;93.994;-36.4;4.857;5191;\"no\"',\n",
       " '41;\"technician\";\"married\";\"professional.course\";\"unknown\";\"yes\";\"no\";\"telephone\";\"may\";\"mon\";579;1;999;0;\"nonexistent\";1.1;93.994;-36.4;4.857;5191;\"yes\"',\n",
       " '37;\"blue-collar\";\"married\";\"basic.6y\";\"no\";\"yes\";\"yes\";\"telephone\";\"may\";\"mon\";143;1;999;0;\"nonexistent\";1.1;93.994;-36.4;4.857;5191;\"no\"',\n",
       " '41;\"technician\";\"married\";\"professional.course\";\"unknown\";\"no\";\"no\";\"telephone\";\"may\";\"mon\";677;1;999;0;\"nonexistent\";1.1;93.994;-36.4;4.857;5191;\"no\"',\n",
       " '35;\"blue-collar\";\"married\";\"unknown\";\"no\";\"yes\";\"no\";\"telephone\";\"may\";\"mon\";267;1;999;0;\"nonexistent\";1.1;93.994;-36.4;4.857;5191;\"no\"',\n",
       " '37;\"blue-collar\";\"married\";\"basic.6y\";\"no\";\"yes\";\"no\";\"telephone\";\"may\";\"mon\";345;1;999;0;\"nonexistent\";1.1;93.994;-36.4;4.857;5191;\"no\"',\n",
       " '52;\"management\";\"married\";\"university.degree\";\"no\";\"no\";\"no\";\"telephone\";\"may\";\"mon\";185;1;999;0;\"nonexistent\";1.1;93.994;-36.4;4.857;5191;\"no\"',\n",
       " '39;\"management\";\"divorced\";\"university.degree\";\"no\";\"no\";\"no\";\"telephone\";\"may\";\"mon\";207;1;999;0;\"nonexistent\";1.1;93.994;-36.4;4.857;5191;\"no\"',\n",
       " '39;\"housemaid\";\"married\";\"basic.4y\";\"unknown\";\"no\";\"no\";\"telephone\";\"may\";\"mon\";69;2;999;0;\"nonexistent\";1.1;93.994;-36.4;4.857;5191;\"no\"',\n",
       " '56;\"blue-collar\";\"married\";\"basic.4y\";\"unknown\";\"no\";\"no\";\"telephone\";\"may\";\"mon\";100;2;999;0;\"nonexistent\";1.1;93.994;-36.4;4.857;5191;\"no\"',\n",
       " '34;\"services\";\"married\";\"high.school\";\"no\";\"yes\";\"no\";\"telephone\";\"may\";\"mon\";125;2;999;0;\"nonexistent\";1.1;93.994;-36.4;4.857;5191;\"no\"',\n",
       " '45;\"blue-collar\";\"married\";\"basic.9y\";\"unknown\";\"yes\";\"no\";\"telephone\";\"may\";\"mon\";461;1;999;0;\"nonexistent\";1.1;93.994;-36.4;4.857;5191;\"yes\"',\n",
       " '43;\"unemployed\";\"single\";\"university.degree\";\"no\";\"yes\";\"no\";\"telephone\";\"may\";\"mon\";240;1;999;0;\"nonexistent\";1.1;93.994;-36.4;4.857;5191;\"no\"',\n",
       " '56;\"management\";\"married\";\"unknown\";\"no\";\"yes\";\"no\";\"telephone\";\"may\";\"mon\";70;1;999;0;\"nonexistent\";1.1;93.994;-36.4;4.857;5191;\"no\"',\n",
       " '39;\"management\";\"married\";\"university.degree\";\"no\";\"yes\";\"no\";\"telephone\";\"may\";\"mon\";193;1;999;0;\"nonexistent\";1.1;93.994;-36.4;4.857;5191;\"no\"',\n",
       " '53;\"blue-collar\";\"married\";\"basic.4y\";\"no\";\"yes\";\"no\";\"telephone\";\"may\";\"mon\";136;1;999;0;\"nonexistent\";1.1;93.994;-36.4;4.857;5191;\"no\"',\n",
       " '38;\"unknown\";\"divorced\";\"high.school\";\"unknown\";\"yes\";\"no\";\"telephone\";\"may\";\"mon\";73;1;999;0;\"nonexistent\";1.1;93.994;-36.4;4.857;5191;\"no\"',\n",
       " '42;\"blue-collar\";\"married\";\"basic.4y\";\"unknown\";\"yes\";\"no\";\"telephone\";\"may\";\"mon\";528;1;999;0;\"nonexistent\";1.1;93.994;-36.4;4.857;5191;\"no\"',\n",
       " '42;\"blue-collar\";\"married\";\"basic.4y\";\"unknown\";\"no\";\"no\";\"telephone\";\"may\";\"mon\";541;1;999;0;\"nonexistent\";1.1;93.994;-36.4;4.857;5191;\"no\"',\n",
       " '35;\"admin.\";\"single\";\"high.school\";\"no\";\"yes\";\"no\";\"telephone\";\"may\";\"mon\";338;1;999;0;\"nonexistent\";1.1;93.994;-36.4;4.857;5191;\"no\"',\n",
       " '40;\"admin.\";\"married\";\"university.degree\";\"unknown\";\"yes\";\"no\";\"telephone\";\"may\";\"mon\";163;1;999;0;\"nonexistent\";1.1;93.994;-36.4;4.857;5191;\"no\"',\n",
       " '51;\"blue-collar\";\"married\";\"basic.4y\";\"no\";\"yes\";\"no\";\"telephone\";\"may\";\"mon\";87;1;999;0;\"nonexistent\";1.1;93.994;-36.4;4.857;5191;\"no\"',\n",
       " '60;\"blue-collar\";\"married\";\"basic.9y\";\"unknown\";\"no\";\"no\";\"telephone\";\"may\";\"mon\";301;1;999;0;\"nonexistent\";1.1;93.994;-36.4;4.857;5191;\"no\"',\n",
       " '56;\"entrepreneur\";\"married\";\"unknown\";\"unknown\";\"yes\";\"no\";\"telephone\";\"may\";\"mon\";46;1;999;0;\"nonexistent\";1.1;93.994;-36.4;4.857;5191;\"no\"',\n",
       " '39;\"services\";\"divorced\";\"high.school\";\"unknown\";\"yes\";\"no\";\"telephone\";\"may\";\"mon\";52;1;999;0;\"nonexistent\";1.1;93.994;-36.4;4.857;5191;\"no\"',\n",
       " '56;\"entrepreneur\";\"married\";\"unknown\";\"unknown\";\"no\";\"no\";\"telephone\";\"may\";\"mon\";204;1;999;0;\"nonexistent\";1.1;93.994;-36.4;4.857;5191;\"no\"',\n",
       " '40;\"blue-collar\";\"married\";\"unknown\";\"no\";\"yes\";\"yes\";\"telephone\";\"may\";\"mon\";155;1;999;0;\"nonexistent\";1.1;93.994;-36.4;4.857;5191;\"no\"',\n",
       " '36;\"blue-collar\";\"married\";\"basic.9y\";\"no\";\"yes\";\"yes\";\"telephone\";\"may\";\"mon\";98;1;999;0;\"nonexistent\";1.1;93.994;-36.4;4.857;5191;\"no\"',\n",
       " '51;\"blue-collar\";\"married\";\"unknown\";\"unknown\";\"yes\";\"no\";\"telephone\";\"may\";\"mon\";71;1;999;0;\"nonexistent\";1.1;93.994;-36.4;4.857;5191;\"no\"',\n",
       " '51;\"blue-collar\";\"married\";\"unknown\";\"unknown\";\"no\";\"no\";\"telephone\";\"may\";\"mon\";243;1;999;0;\"nonexistent\";1.1;93.994;-36.4;4.857;5191;\"no\"',\n",
       " '43;\"technician\";\"single\";\"professional.course\";\"no\";\"yes\";\"no\";\"telephone\";\"may\";\"mon\";186;2;999;0;\"nonexistent\";1.1;93.994;-36.4;4.857;5191;\"no\"',\n",
       " '59;\"services\";\"married\";\"high.school\";\"no\";\"no\";\"no\";\"telephone\";\"may\";\"mon\";579;2;999;0;\"nonexistent\";1.1;93.994;-36.4;4.857;5191;\"no\"',\n",
       " '24;\"management\";\"single\";\"university.degree\";\"no\";\"yes\";\"no\";\"telephone\";\"may\";\"mon\";165;2;999;0;\"nonexistent\";1.1;93.994;-36.4;4.857;5191;\"no\"',\n",
       " '37;\"blue-collar\";\"single\";\"basic.9y\";\"unknown\";\"yes\";\"yes\";\"telephone\";\"may\";\"mon\";163;2;999;0;\"nonexistent\";1.1;93.994;-36.4;4.857;5191;\"no\"',\n",
       " '40;\"blue-collar\";\"married\";\"basic.9y\";\"unknown\";\"no\";\"no\";\"telephone\";\"may\";\"mon\";46;1;999;0;\"nonexistent\";1.1;93.994;-36.4;4.857;5191;\"no\"',\n",
       " '42;\"blue-collar\";\"married\";\"basic.9y\";\"unknown\";\"no\";\"no\";\"telephone\";\"may\";\"mon\";559;3;999;0;\"nonexistent\";1.1;93.994;-36.4;4.857;5191;\"no\"',\n",
       " '39;\"services\";\"divorced\";\"high.school\";\"unknown\";\"no\";\"no\";\"telephone\";\"may\";\"mon\";2033;1;999;0;\"nonexistent\";1.1;93.994;-36.4;4.857;5191;\"no\"',\n",
       " '37;\"entrepreneur\";\"married\";\"basic.6y\";\"no\";\"no\";\"no\";\"telephone\";\"may\";\"mon\";85;1;999;0;\"nonexistent\";1.1;93.994;-36.4;4.857;5191;\"no\"',\n",
       " '38;\"services\";\"married\";\"high.school\";\"no\";\"yes\";\"yes\";\"telephone\";\"may\";\"mon\";506;1;999;0;\"nonexistent\";1.1;93.994;-36.4;4.857;5191;\"no\"',\n",
       " '56;\"admin.\";\"divorced\";\"unknown\";\"unknown\";\"no\";\"no\";\"telephone\";\"may\";\"mon\";114;2;999;0;\"nonexistent\";1.1;93.994;-36.4;4.857;5191;\"no\"',\n",
       " '40;\"blue-collar\";\"married\";\"unknown\";\"no\";\"no\";\"no\";\"telephone\";\"may\";\"mon\";114;2;999;0;\"nonexistent\";1.1;93.994;-36.4;4.857;5191;\"no\"',\n",
       " '54;\"management\";\"divorced\";\"university.degree\";\"no\";\"yes\";\"no\";\"telephone\";\"may\";\"mon\";843;2;999;0;\"nonexistent\";1.1;93.994;-36.4;4.857;5191;\"no\"',\n",
       " '43;\"blue-collar\";\"married\";\"high.school\";\"unknown\";\"no\";\"yes\";\"telephone\";\"may\";\"mon\";181;1;999;0;\"nonexistent\";1.1;93.994;-36.4;4.857;5191;\"no\"',\n",
       " '36;\"services\";\"married\";\"high.school\";\"unknown\";\"no\";\"no\";\"telephone\";\"may\";\"mon\";427;1;999;0;\"nonexistent\";1.1;93.994;-36.4;4.857;5191;\"no\"',\n",
       " '45;\"technician\";\"married\";\"university.degree\";\"no\";\"yes\";\"yes\";\"telephone\";\"may\";\"mon\";292;1;999;0;\"nonexistent\";1.1;93.994;-36.4;4.857;5191;\"no\"',\n",
       " '42;\"admin.\";\"single\";\"university.degree\";\"unknown\";\"no\";\"no\";\"telephone\";\"may\";\"mon\";192;1;999;0;\"nonexistent\";1.1;93.994;-36.4;4.857;5191;\"no\"',\n",
       " '43;\"services\";\"married\";\"high.school\";\"no\";\"no\";\"no\";\"telephone\";\"may\";\"mon\";93;3;999;0;\"nonexistent\";1.1;93.994;-36.4;4.857;5191;\"no\"',\n",
       " '46;\"management\";\"married\";\"basic.9y\";\"no\";\"no\";\"no\";\"telephone\";\"may\";\"mon\";128;2;999;0;\"nonexistent\";1.1;93.994;-36.4;4.857;5191;\"no\"',\n",
       " '44;\"services\";\"married\";\"high.school\";\"no\";\"yes\";\"yes\";\"telephone\";\"may\";\"mon\";107;1;999;0;\"nonexistent\";1.1;93.994;-36.4;4.857;5191;\"no\"',\n",
       " '51;\"admin.\";\"single\";\"basic.6y\";\"no\";\"no\";\"no\";\"telephone\";\"may\";\"mon\";303;2;999;0;\"nonexistent\";1.1;93.994;-36.4;4.857;5191;\"no\"',\n",
       " '28;\"services\";\"married\";\"high.school\";\"no\";\"yes\";\"no\";\"telephone\";\"may\";\"mon\";81;1;999;0;\"nonexistent\";1.1;93.994;-36.4;4.857;5191;\"no\"',\n",
       " '37;\"blue-collar\";\"married\";\"basic.9y\";\"no\";\"no\";\"no\";\"telephone\";\"may\";\"mon\";270;1;999;0;\"nonexistent\";1.1;93.994;-36.4;4.857;5191;\"no\"',\n",
       " '34;\"technician\";\"married\";\"high.school\";\"no\";\"no\";\"no\";\"telephone\";\"may\";\"mon\";228;1;999;0;\"nonexistent\";1.1;93.994;-36.4;4.857;5191;\"no\"',\n",
       " '46;\"blue-collar\";\"married\";\"basic.6y\";\"unknown\";\"yes\";\"no\";\"telephone\";\"may\";\"mon\";240;1;999;0;\"nonexistent\";1.1;93.994;-36.4;4.857;5191;\"no\"',\n",
       " '42;\"blue-collar\";\"married\";\"basic.9y\";\"no\";\"yes\";\"yes\";\"telephone\";\"may\";\"mon\";673;2;999;0;\"nonexistent\";1.1;93.994;-36.4;4.857;5191;\"yes\"',\n",
       " '36;\"admin.\";\"married\";\"university.degree\";\"no\";\"yes\";\"no\";\"telephone\";\"may\";\"mon\";233;3;999;0;\"nonexistent\";1.1;93.994;-36.4;4.857;5191;\"no\"',\n",
       " '54;\"blue-collar\";\"married\";\"basic.4y\";\"unknown\";\"no\";\"no\";\"telephone\";\"may\";\"mon\";102;1;999;0;\"nonexistent\";1.1;93.994;-36.4;4.857;5191;\"no\"',\n",
       " '57;\"management\";\"married\";\"university.degree\";\"no\";\"no\";\"no\";\"telephone\";\"may\";\"mon\";461;1;999;0;\"nonexistent\";1.1;93.994;-36.4;4.857;5191;\"no\"',\n",
       " '51;\"technician\";\"married\";\"basic.6y\";\"unknown\";\"no\";\"no\";\"telephone\";\"may\";\"mon\";250;1;999;0;\"nonexistent\";1.1;93.994;-36.4;4.857;5191;\"no\"',\n",
       " '54;\"retired\";\"married\";\"high.school\";\"unknown\";\"no\";\"no\";\"telephone\";\"may\";\"mon\";130;1;999;0;\"nonexistent\";1.1;93.994;-36.4;4.857;5191;\"no\"',\n",
       " '49;\"blue-collar\";\"married\";\"basic.4y\";\"unknown\";\"no\";\"no\";\"telephone\";\"may\";\"mon\";252;1;999;0;\"nonexistent\";1.1;93.994;-36.4;4.857;5191;\"no\"',\n",
       " '34;\"admin.\";\"married\";\"university.degree\";\"no\";\"yes\";\"no\";\"telephone\";\"may\";\"mon\";138;1;999;0;\"nonexistent\";1.1;93.994;-36.4;4.857;5191;\"no\"',\n",
       " '41;\"technician\";\"married\";\"professional.course\";\"no\";\"no\";\"no\";\"telephone\";\"may\";\"mon\";412;1;999;0;\"nonexistent\";1.1;93.994;-36.4;4.857;5191;\"no\"',\n",
       " '38;\"blue-collar\";\"single\";\"basic.9y\";\"no\";\"yes\";\"no\";\"telephone\";\"may\";\"mon\";179;2;999;0;\"nonexistent\";1.1;93.994;-36.4;4.857;5191;\"no\"',\n",
       " '45;\"management\";\"divorced\";\"university.degree\";\"no\";\"no\";\"no\";\"telephone\";\"may\";\"mon\";19;2;999;0;\"nonexistent\";1.1;93.994;-36.4;4.857;5191;\"no\"',\n",
       " '42;\"technician\";\"married\";\"university.degree\";\"no\";\"no\";\"no\";\"telephone\";\"may\";\"mon\";228;2;999;0;\"nonexistent\";1.1;93.994;-36.4;4.857;5191;\"no\"',\n",
       " '34;\"blue-collar\";\"single\";\"basic.9y\";\"unknown\";\"yes\";\"no\";\"telephone\";\"may\";\"mon\";55;1;999;0;\"nonexistent\";1.1;93.994;-36.4;4.857;5191;\"no\"',\n",
       " '48;\"blue-collar\";\"married\";\"basic.4y\";\"no\";\"yes\";\"no\";\"telephone\";\"may\";\"mon\";717;1;999;0;\"nonexistent\";1.1;93.994;-36.4;4.857;5191;\"no\"',\n",
       " '37;\"admin.\";\"married\";\"high.school\";\"unknown\";\"yes\";\"no\";\"telephone\";\"may\";\"mon\";313;1;999;0;\"nonexistent\";1.1;93.994;-36.4;4.857;5191;\"no\"',\n",
       " '34;\"blue-collar\";\"single\";\"basic.9y\";\"unknown\";\"no\";\"no\";\"telephone\";\"may\";\"mon\";289;1;999;0;\"nonexistent\";1.1;93.994;-36.4;4.857;5191;\"no\"',\n",
       " '40;\"admin.\";\"married\";\"basic.9y\";\"unknown\";\"yes\";\"no\";\"telephone\";\"may\";\"mon\";683;2;999;0;\"nonexistent\";1.1;93.994;-36.4;4.857;5191;\"no\"',\n",
       " '43;\"blue-collar\";\"married\";\"basic.6y\";\"no\";\"yes\";\"no\";\"telephone\";\"may\";\"mon\";1077;1;999;0;\"nonexistent\";1.1;93.994;-36.4;4.857;5191;\"no\"',\n",
       " '33;\"services\";\"married\";\"high.school\";\"no\";\"no\";\"no\";\"telephone\";\"may\";\"mon\";146;2;999;0;\"nonexistent\";1.1;93.994;-36.4;4.857;5191;\"no\"',\n",
       " '32;\"services\";\"single\";\"basic.6y\";\"no\";\"no\";\"no\";\"telephone\";\"may\";\"mon\";167;1;999;0;\"nonexistent\";1.1;93.994;-36.4;4.857;5191;\"no\"',\n",
       " '39;\"blue-collar\";\"married\";\"high.school\";\"no\";\"yes\";\"no\";\"telephone\";\"may\";\"mon\";356;2;999;0;\"nonexistent\";1.1;93.994;-36.4;4.857;5191;\"no\"',\n",
       " '43;\"admin.\";\"married\";\"unknown\";\"no\";\"no\";\"no\";\"telephone\";\"may\";\"mon\";277;1;999;0;\"nonexistent\";1.1;93.994;-36.4;4.857;5191;\"no\"',\n",
       " '44;\"blue-collar\";\"married\";\"basic.9y\";\"no\";\"yes\";\"no\";\"telephone\";\"may\";\"mon\";172;1;999;0;\"nonexistent\";1.1;93.994;-36.4;4.857;5191;\"no\"',\n",
       " '35;\"student\";\"single\";\"university.degree\";\"unknown\";\"no\";\"no\";\"telephone\";\"may\";\"mon\";218;1;999;0;\"nonexistent\";1.1;93.994;-36.4;4.857;5191;\"no\"',\n",
       " '35;\"student\";\"single\";\"university.degree\";\"unknown\";\"yes\";\"yes\";\"telephone\";\"may\";\"mon\";217;1;999;0;\"nonexistent\";1.1;93.994;-36.4;4.857;5191;\"no\"',\n",
       " '35;\"unemployed\";\"married\";\"professional.course\";\"no\";\"no\";\"no\";\"telephone\";\"may\";\"mon\";67;1;999;0;\"nonexistent\";1.1;93.994;-36.4;4.857;5191;\"no\"',\n",
       " '36;\"services\";\"single\";\"basic.4y\";\"no\";\"no\";\"no\";\"telephone\";\"may\";\"mon\";291;1;999;0;\"nonexistent\";1.1;93.994;-36.4;4.857;5191;\"no\"',\n",
       " '35;\"student\";\"single\";\"university.degree\";\"unknown\";\"yes\";\"no\";\"telephone\";\"may\";\"mon\";248;1;999;0;\"nonexistent\";1.1;93.994;-36.4;4.857;5191;\"no\"',\n",
       " '36;\"student\";\"single\";\"basic.9y\";\"no\";\"yes\";\"no\";\"telephone\";\"may\";\"mon\";256;1;999;0;\"nonexistent\";1.1;93.994;-36.4;4.857;5191;\"no\"',\n",
       " '55;\"housemaid\";\"divorced\";\"university.degree\";\"no\";\"no\";\"no\";\"telephone\";\"may\";\"mon\";286;1;999;0;\"nonexistent\";1.1;93.994;-36.4;4.857;5191;\"no\"',\n",
       " '59;\"admin.\";\"married\";\"university.degree\";\"no\";\"no\";\"no\";\"telephone\";\"may\";\"mon\";477;1;999;0;\"nonexistent\";1.1;93.994;-36.4;4.857;5191;\"no\"',\n",
       " '57;\"retired\";\"married\";\"unknown\";\"unknown\";\"no\";\"no\";\"telephone\";\"may\";\"mon\";611;2;999;0;\"nonexistent\";1.1;93.994;-36.4;4.857;5191;\"no\"',\n",
       " '39;\"blue-collar\";\"married\";\"professional.course\";\"unknown\";\"yes\";\"no\";\"telephone\";\"may\";\"mon\";471;1;999;0;\"nonexistent\";1.1;93.994;-36.4;4.857;5191;\"no\"',\n",
       " '39;\"housemaid\";\"married\";\"basic.4y\";\"unknown\";\"yes\";\"no\";\"telephone\";\"may\";\"mon\";381;2;999;0;\"nonexistent\";1.1;93.994;-36.4;4.857;5191;\"no\"',\n",
       " '30;\"blue-collar\";\"single\";\"unknown\";\"no\";\"yes\";\"no\";\"telephone\";\"may\";\"mon\";251;1;999;0;\"nonexistent\";1.1;93.994;-36.4;4.857;5191;\"no\"',\n",
       " '30;\"blue-collar\";\"single\";\"unknown\";\"no\";\"yes\";\"yes\";\"telephone\";\"may\";\"mon\";408;1;999;0;\"nonexistent\";1.1;93.994;-36.4;4.857;5191;\"no\"',\n",
       " '50;\"housemaid\";\"married\";\"basic.4y\";\"unknown\";\"no\";\"no\";\"telephone\";\"may\";\"mon\";287;1;999;0;\"nonexistent\";1.1;93.994;-36.4;4.857;5191;\"no\"',\n",
       " '40;\"services\";\"married\";\"high.school\";\"no\";\"no\";\"no\";\"telephone\";\"may\";\"mon\";322;3;999;0;\"nonexistent\";1.1;93.994;-36.4;4.857;5191;\"no\"',\n",
       " '35;\"admin.\";\"married\";\"high.school\";\"no\";\"yes\";\"no\";\"telephone\";\"may\";\"mon\";216;2;999;0;\"nonexistent\";1.1;93.994;-36.4;4.857;5191;\"no\"',\n",
       " '43;\"technician\";\"married\";\"unknown\";\"unknown\";\"no\";\"no\";\"telephone\";\"may\";\"mon\";366;2;999;0;\"nonexistent\";1.1;93.994;-36.4;4.857;5191;\"no\"',\n",
       " '36;\"services\";\"single\";\"basic.6y\";\"unknown\";\"yes\";\"no\";\"telephone\";\"may\";\"mon\";210;1;999;0;\"nonexistent\";1.1;93.994;-36.4;4.857;5191;\"no\"',\n",
       " '46;\"technician\";\"married\";\"basic.4y\";\"unknown\";\"yes\";\"no\";\"telephone\";\"may\";\"mon\";288;1;999;0;\"nonexistent\";1.1;93.994;-36.4;4.857;5191;\"no\"',\n",
       " '40;\"technician\";\"married\";\"basic.9y\";\"no\";\"no\";\"no\";\"telephone\";\"may\";\"mon\";168;1;999;0;\"nonexistent\";1.1;93.994;-36.4;4.857;5191;\"no\"',\n",
       " '58;\"retired\";\"married\";\"university.degree\";\"no\";\"no\";\"no\";\"telephone\";\"may\";\"mon\";132;1;999;0;\"nonexistent\";1.1;93.994;-36.4;4.857;5191;\"no\"',\n",
       " '42;\"technician\";\"married\";\"university.degree\";\"no\";\"no\";\"no\";\"telephone\";\"may\";\"mon\";64;2;999;0;\"nonexistent\";1.1;93.994;-36.4;4.857;5191;\"no\"',\n",
       " '35;\"admin.\";\"single\";\"university.degree\";\"no\";\"no\";\"no\";\"telephone\";\"may\";\"mon\";209;2;999;0;\"nonexistent\";1.1;93.994;-36.4;4.857;5191;\"no\"',\n",
       " '43;\"retired\";\"married\";\"basic.4y\";\"unknown\";\"no\";\"no\";\"telephone\";\"may\";\"mon\";410;3;999;0;\"nonexistent\";1.1;93.994;-36.4;4.857;5191;\"no\"',\n",
       " '45;\"blue-collar\";\"married\";\"basic.4y\";\"no\";\"yes\";\"yes\";\"telephone\";\"may\";\"mon\";177;1;999;0;\"nonexistent\";1.1;93.994;-36.4;4.857;5191;\"no\"',\n",
       " '39;\"admin.\";\"married\";\"professional.course\";\"no\";\"yes\";\"no\";\"telephone\";\"may\";\"mon\";580;2;999;0;\"nonexistent\";1.1;93.994;-36.4;4.857;5191;\"no\"',\n",
       " '50;\"services\";\"divorced\";\"professional.course\";\"no\";\"yes\";\"no\";\"telephone\";\"may\";\"mon\";165;1;999;0;\"nonexistent\";1.1;93.994;-36.4;4.857;5191;\"no\"',\n",
       " '32;\"management\";\"divorced\";\"basic.4y\";\"unknown\";\"yes\";\"no\";\"telephone\";\"may\";\"mon\";127;2;999;0;\"nonexistent\";1.1;93.994;-36.4;4.857;5191;\"no\"',\n",
       " '39;\"admin.\";\"married\";\"high.school\";\"unknown\";\"no\";\"no\";\"telephone\";\"may\";\"mon\";357;1;999;0;\"nonexistent\";1.1;93.994;-36.4;4.857;5191;\"no\"',\n",
       " '52;\"self-employed\";\"married\";\"university.degree\";\"unknown\";\"no\";\"no\";\"telephone\";\"may\";\"mon\";175;1;999;0;\"nonexistent\";1.1;93.994;-36.4;4.857;5191;\"no\"',\n",
       " '44;\"admin.\";\"married\";\"professional.course\";\"no\";\"yes\";\"no\";\"telephone\";\"may\";\"mon\";300;1;999;0;\"nonexistent\";1.1;93.994;-36.4;4.857;5191;\"no\"',\n",
       " '56;\"blue-collar\";\"married\";\"basic.4y\";\"no\";\"no\";\"no\";\"telephone\";\"may\";\"mon\";136;1;999;0;\"nonexistent\";1.1;93.994;-36.4;4.857;5191;\"no\"',\n",
       " '48;\"admin.\";\"married\";\"high.school\";\"no\";\"no\";\"no\";\"telephone\";\"may\";\"mon\";125;2;999;0;\"nonexistent\";1.1;93.994;-36.4;4.857;5191;\"no\"',\n",
       " '33;\"services\";\"married\";\"high.school\";\"unknown\";\"no\";\"yes\";\"telephone\";\"may\";\"mon\";189;2;999;0;\"nonexistent\";1.1;93.994;-36.4;4.857;5191;\"no\"',\n",
       " '43;\"management\";\"married\";\"university.degree\";\"unknown\";\"no\";\"yes\";\"telephone\";\"may\";\"mon\";213;3;999;0;\"nonexistent\";1.1;93.994;-36.4;4.857;5191;\"no\"',\n",
       " '57;\"retired\";\"married\";\"high.school\";\"no\";\"no\";\"no\";\"telephone\";\"may\";\"mon\";238;2;999;0;\"nonexistent\";1.1;93.994;-36.4;4.857;5191;\"no\"',\n",
       " '36;\"technician\";\"single\";\"professional.course\";\"no\";\"no\";\"no\";\"telephone\";\"may\";\"mon\";124;1;999;0;\"nonexistent\";1.1;93.994;-36.4;4.857;5191;\"no\"',\n",
       " '34;\"management\";\"married\";\"university.degree\";\"no\";\"yes\";\"no\";\"telephone\";\"may\";\"mon\";18;1;999;0;\"nonexistent\";1.1;93.994;-36.4;4.857;5191;\"no\"',\n",
       " '34;\"services\";\"single\";\"basic.9y\";\"no\";\"no\";\"no\";\"telephone\";\"may\";\"mon\";730;2;999;0;\"nonexistent\";1.1;93.994;-36.4;4.857;5191;\"no\"',\n",
       " '30;\"technician\";\"married\";\"university.degree\";\"unknown\";\"no\";\"no\";\"telephone\";\"may\";\"mon\";40;1;999;0;\"nonexistent\";1.1;93.994;-36.4;4.857;5191;\"no\"',\n",
       " '33;\"services\";\"divorced\";\"unknown\";\"no\";\"no\";\"no\";\"telephone\";\"may\";\"mon\";181;2;999;0;\"nonexistent\";1.1;93.994;-36.4;4.857;5191;\"no\"',\n",
       " '32;\"technician\";\"single\";\"professional.course\";\"no\";\"no\";\"no\";\"telephone\";\"may\";\"mon\";79;1;999;0;\"nonexistent\";1.1;93.994;-36.4;4.857;5191;\"no\"',\n",
       " '36;\"technician\";\"single\";\"high.school\";\"no\";\"yes\";\"no\";\"telephone\";\"may\";\"mon\";142;2;999;0;\"nonexistent\";1.1;93.994;-36.4;4.857;5191;\"no\"',\n",
       " '36;\"blue-collar\";\"single\";\"high.school\";\"no\";\"no\";\"yes\";\"telephone\";\"may\";\"mon\";389;1;999;0;\"nonexistent\";1.1;93.994;-36.4;4.857;5191;\"no\"',\n",
       " '33;\"services\";\"single\";\"high.school\";\"no\";\"no\";\"no\";\"telephone\";\"may\";\"mon\";702;1;999;0;\"nonexistent\";1.1;93.994;-36.4;4.857;5191;\"no\"',\n",
       " '40;\"technician\";\"divorced\";\"professional.course\";\"no\";\"no\";\"no\";\"telephone\";\"may\";\"mon\";151;1;999;0;\"nonexistent\";1.1;93.994;-36.4;4.857;5191;\"no\"',\n",
       " '41;\"blue-collar\";\"married\";\"basic.4y\";\"no\";\"yes\";\"no\";\"telephone\";\"may\";\"mon\";211;1;999;0;\"nonexistent\";1.1;93.994;-36.4;4.857;5191;\"no\"',\n",
       " '51;\"services\";\"married\";\"basic.6y\";\"no\";\"yes\";\"no\";\"telephone\";\"may\";\"mon\";117;1;999;0;\"nonexistent\";1.1;93.994;-36.4;4.857;5191;\"no\"',\n",
       " '36;\"technician\";\"married\";\"professional.course\";\"no\";\"yes\";\"no\";\"telephone\";\"may\";\"mon\";232;3;999;0;\"nonexistent\";1.1;93.994;-36.4;4.857;5191;\"no\"',\n",
       " '28;\"services\";\"married\";\"unknown\";\"no\";\"no\";\"no\";\"telephone\";\"may\";\"mon\";408;2;999;0;\"nonexistent\";1.1;93.994;-36.4;4.857;5191;\"no\"',\n",
       " '53;\"services\";\"married\";\"high.school\";\"no\";\"yes\";\"yes\";\"telephone\";\"may\";\"mon\";370;3;999;0;\"nonexistent\";1.1;93.994;-36.4;4.857;5191;\"no\"',\n",
       " '58;\"blue-collar\";\"married\";\"basic.9y\";\"unknown\";\"yes\";\"no\";\"telephone\";\"may\";\"mon\";179;2;999;0;\"nonexistent\";1.1;93.994;-36.4;4.857;5191;\"no\"',\n",
       " '45;\"management\";\"married\";\"basic.9y\";\"no\";\"no\";\"yes\";\"telephone\";\"may\";\"mon\";46;1;999;0;\"nonexistent\";1.1;93.994;-36.4;4.857;5191;\"no\"',\n",
       " '43;\"technician\";\"married\";\"unknown\";\"no\";\"yes\";\"no\";\"telephone\";\"may\";\"mon\";200;1;999;0;\"nonexistent\";1.1;93.994;-36.4;4.857;5191;\"no\"',\n",
       " '33;\"admin.\";\"married\";\"high.school\";\"no\";\"no\";\"yes\";\"telephone\";\"may\";\"mon\";50;1;999;0;\"nonexistent\";1.1;93.994;-36.4;4.857;5191;\"no\"',\n",
       " '33;\"admin.\";\"married\";\"high.school\";\"no\";\"no\";\"yes\";\"telephone\";\"may\";\"mon\";181;1;999;0;\"nonexistent\";1.1;93.994;-36.4;4.857;5191;\"no\"',\n",
       " '27;\"blue-collar\";\"single\";\"basic.6y\";\"no\";\"unknown\";\"unknown\";\"telephone\";\"may\";\"mon\";119;1;999;0;\"nonexistent\";1.1;93.994;-36.4;4.857;5191;\"no\"',\n",
       " '42;\"technician\";\"married\";\"high.school\";\"no\";\"no\";\"no\";\"telephone\";\"may\";\"mon\";361;1;999;0;\"nonexistent\";1.1;93.994;-36.4;4.857;5191;\"no\"',\n",
       " '43;\"admin.\";\"divorced\";\"basic.9y\";\"no\";\"no\";\"no\";\"telephone\";\"may\";\"mon\";73;3;999;0;\"nonexistent\";1.1;93.994;-36.4;4.857;5191;\"no\"',\n",
       " '42;\"admin.\";\"married\";\"university.degree\";\"no\";\"no\";\"no\";\"telephone\";\"may\";\"mon\";67;2;999;0;\"nonexistent\";1.1;93.994;-36.4;4.857;5191;\"no\"',\n",
       " '27;\"blue-collar\";\"single\";\"basic.6y\";\"no\";\"no\";\"no\";\"telephone\";\"may\";\"mon\";350;1;999;0;\"nonexistent\";1.1;93.994;-36.4;4.857;5191;\"no\"',\n",
       " '34;\"self-employed\";\"single\";\"university.degree\";\"no\";\"yes\";\"no\";\"telephone\";\"may\";\"mon\";150;2;999;0;\"nonexistent\";1.1;93.994;-36.4;4.857;5191;\"no\"',\n",
       " '31;\"student\";\"single\";\"university.degree\";\"unknown\";\"no\";\"no\";\"telephone\";\"may\";\"mon\";332;2;999;0;\"nonexistent\";1.1;93.994;-36.4;4.857;5191;\"no\"',\n",
       " '54;\"management\";\"divorced\";\"university.degree\";\"no\";\"no\";\"no\";\"telephone\";\"may\";\"mon\";611;2;999;0;\"nonexistent\";1.1;93.994;-36.4;4.857;5191;\"no\"',\n",
       " '40;\"self-employed\";\"married\";\"basic.4y\";\"unknown\";\"no\";\"no\";\"telephone\";\"may\";\"mon\";58;3;999;0;\"nonexistent\";1.1;93.994;-36.4;4.857;5191;\"no\"',\n",
       " '52;\"unemployed\";\"married\";\"high.school\";\"unknown\";\"yes\";\"no\";\"telephone\";\"may\";\"mon\";151;1;999;0;\"nonexistent\";1.1;93.994;-36.4;4.857;5191;\"no\"',\n",
       " '47;\"management\";\"divorced\";\"university.degree\";\"no\";\"no\";\"no\";\"telephone\";\"may\";\"mon\";89;2;999;0;\"nonexistent\";1.1;93.994;-36.4;4.857;5191;\"no\"',\n",
       " '49;\"housemaid\";\"married\";\"basic.9y\";\"unknown\";\"no\";\"no\";\"telephone\";\"may\";\"mon\";152;1;999;0;\"nonexistent\";1.1;93.994;-36.4;4.857;5191;\"no\"',\n",
       " '32;\"admin.\";\"single\";\"high.school\";\"no\";\"no\";\"no\";\"telephone\";\"may\";\"mon\";611;2;999;0;\"nonexistent\";1.1;93.994;-36.4;4.857;5191;\"no\"',\n",
       " '49;\"housemaid\";\"single\";\"high.school\";\"unknown\";\"yes\";\"yes\";\"telephone\";\"may\";\"mon\";110;2;999;0;\"nonexistent\";1.1;93.994;-36.4;4.857;5191;\"no\"',\n",
       " '50;\"blue-collar\";\"married\";\"basic.9y\";\"unknown\";\"no\";\"no\";\"telephone\";\"may\";\"mon\";463;1;999;0;\"nonexistent\";1.1;93.994;-36.4;4.857;5191;\"no\"',\n",
       " '34;\"services\";\"married\";\"high.school\";\"no\";\"no\";\"no\";\"telephone\";\"may\";\"mon\";962;1;999;0;\"nonexistent\";1.1;93.994;-36.4;4.857;5191;\"no\"',\n",
       " '55;\"blue-collar\";\"married\";\"basic.4y\";\"unknown\";\"no\";\"no\";\"telephone\";\"may\";\"mon\";102;2;999;0;\"nonexistent\";1.1;93.994;-36.4;4.857;5191;\"no\"',\n",
       " '47;\"technician\";\"single\";\"basic.9y\";\"no\";\"no\";\"no\";\"telephone\";\"may\";\"mon\";10;4;999;0;\"nonexistent\";1.1;93.994;-36.4;4.857;5191;\"no\"',\n",
       " '51;\"retired\";\"married\";\"professional.course\";\"no\";\"no\";\"no\";\"telephone\";\"may\";\"mon\";118;3;999;0;\"nonexistent\";1.1;93.994;-36.4;4.857;5191;\"no\"',\n",
       " '47;\"blue-collar\";\"married\";\"basic.6y\";\"no\";\"no\";\"no\";\"telephone\";\"may\";\"mon\";92;2;999;0;\"nonexistent\";1.1;93.994;-36.4;4.857;5191;\"no\"',\n",
       " '56;\"technician\";\"married\";\"basic.4y\";\"no\";\"yes\";\"no\";\"telephone\";\"may\";\"mon\";143;3;999;0;\"nonexistent\";1.1;93.994;-36.4;4.857;5191;\"no\"',\n",
       " '53;\"admin.\";\"married\";\"basic.9y\";\"no\";\"no\";\"no\";\"telephone\";\"may\";\"mon\";189;3;999;0;\"nonexistent\";1.1;93.994;-36.4;4.857;5191;\"no\"',\n",
       " '36;\"blue-collar\";\"married\";\"basic.9y\";\"no\";\"yes\";\"no\";\"telephone\";\"may\";\"mon\";75;2;999;0;\"nonexistent\";1.1;93.994;-36.4;4.857;5191;\"no\"',\n",
       " '42;\"blue-collar\";\"divorced\";\"basic.9y\";\"no\";\"yes\";\"no\";\"telephone\";\"may\";\"mon\";189;2;999;0;\"nonexistent\";1.1;93.994;-36.4;4.857;5191;\"no\"',\n",
       " '44;\"blue-collar\";\"divorced\";\"basic.6y\";\"no\";\"no\";\"no\";\"telephone\";\"may\";\"mon\";55;2;999;0;\"nonexistent\";1.1;93.994;-36.4;4.857;5191;\"no\"',\n",
       " '39;\"housemaid\";\"married\";\"basic.9y\";\"no\";\"yes\";\"no\";\"telephone\";\"may\";\"mon\";935;3;999;0;\"nonexistent\";1.1;93.994;-36.4;4.857;5191;\"yes\"',\n",
       " '37;\"admin.\";\"single\";\"high.school\";\"no\";\"yes\";\"yes\";\"telephone\";\"may\";\"mon\";56;2;999;0;\"nonexistent\";1.1;93.994;-36.4;4.857;5191;\"no\"',\n",
       " '60;\"blue-collar\";\"married\";\"unknown\";\"unknown\";\"yes\";\"no\";\"telephone\";\"may\";\"mon\";5;2;999;0;\"nonexistent\";1.1;93.994;-36.4;4.857;5191;\"no\"',\n",
       " '36;\"services\";\"married\";\"high.school\";\"no\";\"no\";\"no\";\"telephone\";\"may\";\"mon\";225;2;999;0;\"nonexistent\";1.1;93.994;-36.4;4.857;5191;\"no\"',\n",
       " '42;\"management\";\"divorced\";\"university.degree\";\"no\";\"yes\";\"no\";\"telephone\";\"may\";\"mon\";125;2;999;0;\"nonexistent\";1.1;93.994;-36.4;4.857;5191;\"no\"',\n",
       " '31;\"admin.\";\"married\";\"high.school\";\"no\";\"yes\";\"yes\";\"telephone\";\"may\";\"mon\";286;2;999;0;\"nonexistent\";1.1;93.994;-36.4;4.857;5191;\"no\"',\n",
       " '53;\"technician\";\"divorced\";\"professional.course\";\"unknown\";\"no\";\"yes\";\"telephone\";\"may\";\"mon\";206;2;999;0;\"nonexistent\";1.1;93.994;-36.4;4.857;5191;\"no\"',\n",
       " '45;\"blue-collar\";\"married\";\"basic.4y\";\"no\";\"yes\";\"no\";\"telephone\";\"may\";\"mon\";164;2;999;0;\"nonexistent\";1.1;93.994;-36.4;4.857;5191;\"no\"',\n",
       " '37;\"technician\";\"single\";\"professional.course\";\"no\";\"yes\";\"no\";\"telephone\";\"may\";\"mon\";98;2;999;0;\"nonexistent\";1.1;93.994;-36.4;4.857;5191;\"no\"',\n",
       " '47;\"self-employed\";\"married\";\"professional.course\";\"no\";\"no\";\"no\";\"telephone\";\"may\";\"mon\";446;2;999;0;\"nonexistent\";1.1;93.994;-36.4;4.857;5191;\"no\"',\n",
       " '49;\"blue-collar\";\"divorced\";\"high.school\";\"no\";\"no\";\"yes\";\"telephone\";\"may\";\"mon\";742;2;999;0;\"nonexistent\";1.1;93.994;-36.4;4.857;5191;\"no\"',\n",
       " '36;\"admin.\";\"married\";\"university.degree\";\"no\";\"yes\";\"no\";\"telephone\";\"may\";\"mon\";120;2;999;0;\"nonexistent\";1.1;93.994;-36.4;4.857;5191;\"no\"',\n",
       " '35;\"services\";\"divorced\";\"high.school\";\"no\";\"no\";\"no\";\"telephone\";\"may\";\"mon\";122;3;999;0;\"nonexistent\";1.1;93.994;-36.4;4.857;5191;\"no\"',\n",
       " '38;\"unknown\";\"married\";\"unknown\";\"unknown\";\"no\";\"no\";\"telephone\";\"may\";\"mon\";362;4;999;0;\"nonexistent\";1.1;93.994;-36.4;4.857;5191;\"no\"',\n",
       " '38;\"services\";\"single\";\"high.school\";\"unknown\";\"no\";\"no\";\"telephone\";\"may\";\"mon\";357;2;999;0;\"nonexistent\";1.1;93.994;-36.4;4.857;5191;\"no\"',\n",
       " '50;\"blue-collar\";\"divorced\";\"high.school\";\"unknown\";\"no\";\"yes\";\"telephone\";\"may\";\"mon\";200;2;999;0;\"nonexistent\";1.1;93.994;-36.4;4.857;5191;\"no\"',\n",
       " '59;\"retired\";\"married\";\"professional.course\";\"unknown\";\"no\";\"no\";\"telephone\";\"may\";\"mon\";107;2;999;0;\"nonexistent\";1.1;93.994;-36.4;4.857;5191;\"no\"',\n",
       " '43;\"unknown\";\"married\";\"unknown\";\"no\";\"yes\";\"no\";\"telephone\";\"may\";\"mon\";267;2;999;0;\"nonexistent\";1.1;93.994;-36.4;4.857;5191;\"no\"',\n",
       " '42;\"admin.\";\"married\";\"high.school\";\"no\";\"yes\";\"no\";\"telephone\";\"may\";\"mon\";248;2;999;0;\"nonexistent\";1.1;93.994;-36.4;4.857;5191;\"no\"',\n",
       " '40;\"admin.\";\"married\";\"basic.6y\";\"unknown\";\"yes\";\"no\";\"telephone\";\"may\";\"mon\";215;2;999;0;\"nonexistent\";1.1;93.994;-36.4;4.857;5191;\"no\"',\n",
       " '46;\"blue-collar\";\"married\";\"unknown\";\"unknown\";\"no\";\"no\";\"telephone\";\"may\";\"mon\";209;2;999;0;\"nonexistent\";1.1;93.994;-36.4;4.857;5191;\"no\"',\n",
       " '57;\"housemaid\";\"divorced\";\"basic.4y\";\"no\";\"yes\";\"yes\";\"telephone\";\"may\";\"mon\";205;2;999;0;\"nonexistent\";1.1;93.994;-36.4;4.857;5191;\"no\"',\n",
       " '42;\"admin.\";\"married\";\"university.degree\";\"no\";\"yes\";\"no\";\"telephone\";\"may\";\"mon\";261;3;999;0;\"nonexistent\";1.1;93.994;-36.4;4.857;5191;\"no\"',\n",
       " '41;\"blue-collar\";\"married\";\"basic.4y\";\"no\";\"yes\";\"no\";\"telephone\";\"may\";\"mon\";83;2;999;0;\"nonexistent\";1.1;93.994;-36.4;4.857;5191;\"no\"',\n",
       " '54;\"management\";\"divorced\";\"university.degree\";\"no\";\"yes\";\"no\";\"telephone\";\"may\";\"mon\";106;3;999;0;\"nonexistent\";1.1;93.994;-36.4;4.857;5191;\"no\"',\n",
       " '27;\"admin.\";\"single\";\"university.degree\";\"no\";\"no\";\"no\";\"telephone\";\"may\";\"mon\";106;2;999;0;\"nonexistent\";1.1;93.994;-36.4;4.857;5191;\"no\"',\n",
       " '36;\"admin.\";\"married\";\"high.school\";\"no\";\"no\";\"no\";\"telephone\";\"may\";\"mon\";108;2;999;0;\"nonexistent\";1.1;93.994;-36.4;4.857;5191;\"no\"',\n",
       " '58;\"blue-collar\";\"married\";\"professional.course\";\"unknown\";\"yes\";\"no\";\"telephone\";\"may\";\"mon\";214;2;999;0;\"nonexistent\";1.1;93.994;-36.4;4.857;5191;\"no\"',\n",
       " '40;\"management\";\"married\";\"university.degree\";\"unknown\";\"yes\";\"no\";\"telephone\";\"may\";\"mon\";358;2;999;0;\"nonexistent\";1.1;93.994;-36.4;4.857;5191;\"no\"',\n",
       " '34;\"admin.\";\"single\";\"basic.9y\";\"unknown\";\"no\";\"no\";\"telephone\";\"may\";\"mon\";453;2;999;0;\"nonexistent\";1.1;93.994;-36.4;4.857;5191;\"no\"',\n",
       " '33;\"admin.\";\"divorced\";\"high.school\";\"no\";\"no\";\"no\";\"telephone\";\"may\";\"mon\";364;2;999;0;\"nonexistent\";1.1;93.994;-36.4;4.857;5191;\"no\"',\n",
       " '56;\"retired\";\"married\";\"basic.6y\";\"no\";\"no\";\"no\";\"telephone\";\"may\";\"mon\";136;2;999;0;\"nonexistent\";1.1;93.994;-36.4;4.857;5191;\"no\"',\n",
       " '42;\"blue-collar\";\"married\";\"basic.9y\";\"no\";\"no\";\"no\";\"telephone\";\"may\";\"mon\";173;2;999;0;\"nonexistent\";1.1;93.994;-36.4;4.857;5191;\"no\"',\n",
       " '43;\"services\";\"married\";\"high.school\";\"no\";\"yes\";\"no\";\"telephone\";\"may\";\"mon\";241;2;999;0;\"nonexistent\";1.1;93.994;-36.4;4.857;5191;\"no\"',\n",
       " '54;\"management\";\"single\";\"basic.9y\";\"no\";\"yes\";\"no\";\"telephone\";\"may\";\"mon\";224;3;999;0;\"nonexistent\";1.1;93.994;-36.4;4.857;5191;\"no\"',\n",
       " '53;\"admin.\";\"single\";\"basic.6y\";\"no\";\"yes\";\"yes\";\"telephone\";\"may\";\"mon\";148;2;999;0;\"nonexistent\";1.1;93.994;-36.4;4.857;5191;\"no\"',\n",
       " '42;\"technician\";\"single\";\"unknown\";\"no\";\"no\";\"no\";\"telephone\";\"may\";\"mon\";230;2;999;0;\"nonexistent\";1.1;93.994;-36.4;4.857;5191;\"no\"',\n",
       " '40;\"services\";\"married\";\"basic.6y\";\"unknown\";\"no\";\"no\";\"telephone\";\"may\";\"mon\";199;3;999;0;\"nonexistent\";1.1;93.994;-36.4;4.857;5191;\"no\"',\n",
       " '54;\"technician\";\"married\";\"professional.course\";\"no\";\"yes\";\"yes\";\"telephone\";\"may\";\"mon\";196;2;999;0;\"nonexistent\";1.1;93.994;-36.4;4.857;5191;\"no\"',\n",
       " '40;\"housemaid\";\"single\";\"professional.course\";\"no\";\"no\";\"no\";\"telephone\";\"may\";\"mon\";111;4;999;0;\"nonexistent\";1.1;93.994;-36.4;4.857;5191;\"no\"',\n",
       " '26;\"admin.\";\"single\";\"university.degree\";\"no\";\"yes\";\"no\";\"telephone\";\"may\";\"mon\";231;3;999;0;\"nonexistent\";1.1;93.994;-36.4;4.857;5191;\"no\"',\n",
       " '33;\"admin.\";\"married\";\"high.school\";\"no\";\"no\";\"no\";\"telephone\";\"may\";\"mon\";316;3;999;0;\"nonexistent\";1.1;93.994;-36.4;4.857;5191;\"no\"',\n",
       " '35;\"blue-collar\";\"married\";\"basic.9y\";\"unknown\";\"no\";\"no\";\"telephone\";\"may\";\"mon\";240;2;999;0;\"nonexistent\";1.1;93.994;-36.4;4.857;5191;\"no\"',\n",
       " '36;\"admin.\";\"married\";\"high.school\";\"no\";\"no\";\"no\";\"telephone\";\"may\";\"mon\";669;3;999;0;\"nonexistent\";1.1;93.994;-36.4;4.857;5191;\"no\"',\n",
       " '29;\"services\";\"single\";\"high.school\";\"no\";\"yes\";\"no\";\"telephone\";\"may\";\"mon\";425;2;999;0;\"nonexistent\";1.1;93.994;-36.4;4.857;5191;\"no\"',\n",
       " '36;\"blue-collar\";\"married\";\"basic.9y\";\"no\";\"yes\";\"no\";\"telephone\";\"may\";\"mon\";121;2;999;0;\"nonexistent\";1.1;93.994;-36.4;4.857;5191;\"no\"',\n",
       " '35;\"management\";\"married\";\"high.school\";\"no\";\"yes\";\"no\";\"telephone\";\"may\";\"mon\";174;5;999;0;\"nonexistent\";1.1;93.994;-36.4;4.857;5191;\"no\"',\n",
       " '50;\"self-employed\";\"single\";\"university.degree\";\"no\";\"no\";\"yes\";\"telephone\";\"may\";\"mon\";88;5;999;0;\"nonexistent\";1.1;93.994;-36.4;4.857;5191;\"no\"',\n",
       " '46;\"services\";\"married\";\"high.school\";\"unknown\";\"yes\";\"no\";\"telephone\";\"may\";\"mon\";313;3;999;0;\"nonexistent\";1.1;93.994;-36.4;4.857;5191;\"no\"',\n",
       " '49;\"entrepreneur\";\"married\";\"high.school\";\"no\";\"yes\";\"no\";\"telephone\";\"may\";\"mon\";135;4;999;0;\"nonexistent\";1.1;93.994;-36.4;4.857;5191;\"no\"',\n",
       " '42;\"technician\";\"single\";\"professional.course\";\"unknown\";\"yes\";\"no\";\"telephone\";\"may\";\"mon\";152;2;999;0;\"nonexistent\";1.1;93.994;-36.4;4.857;5191;\"no\"',\n",
       " '36;\"blue-collar\";\"single\";\"high.school\";\"no\";\"yes\";\"yes\";\"telephone\";\"may\";\"mon\";402;3;999;0;\"nonexistent\";1.1;93.994;-36.4;4.857;5191;\"no\"',\n",
       " '55;\"blue-collar\";\"married\";\"basic.9y\";\"unknown\";\"yes\";\"no\";\"telephone\";\"may\";\"mon\";221;2;999;0;\"nonexistent\";1.1;93.994;-36.4;4.857;5191;\"no\"',\n",
       " '41;\"management\";\"married\";\"university.degree\";\"unknown\";\"no\";\"no\";\"telephone\";\"may\";\"mon\";213;2;999;0;\"nonexistent\";1.1;93.994;-36.4;4.857;5191;\"no\"',\n",
       " '57;\"management\";\"married\";\"professional.course\";\"unknown\";\"yes\";\"no\";\"telephone\";\"may\";\"mon\";144;3;999;0;\"nonexistent\";1.1;93.994;-36.4;4.857;5191;\"no\"',\n",
       " '32;\"services\";\"single\";\"high.school\";\"no\";\"yes\";\"no\";\"telephone\";\"may\";\"mon\";158;3;999;0;\"nonexistent\";1.1;93.994;-36.4;4.857;5191;\"no\"',\n",
       " '49;\"admin.\";\"married\";\"basic.9y\";\"no\";\"no\";\"no\";\"telephone\";\"may\";\"mon\";220;3;999;0;\"nonexistent\";1.1;93.994;-36.4;4.857;5191;\"no\"',\n",
       " '57;\"unknown\";\"married\";\"unknown\";\"unknown\";\"yes\";\"no\";\"telephone\";\"may\";\"mon\";325;2;999;0;\"nonexistent\";1.1;93.994;-36.4;4.857;5191;\"no\"',\n",
       " '58;\"blue-collar\";\"divorced\";\"basic.4y\";\"no\";\"yes\";\"no\";\"telephone\";\"may\";\"mon\";254;2;999;0;\"nonexistent\";1.1;93.994;-36.4;4.857;5191;\"no\"',\n",
       " '52;\"technician\";\"married\";\"high.school\";\"no\";\"yes\";\"no\";\"telephone\";\"may\";\"mon\";503;2;999;0;\"nonexistent\";1.1;93.994;-36.4;4.857;5191;\"no\"',\n",
       " '50;\"services\";\"divorced\";\"professional.course\";\"no\";\"no\";\"no\";\"telephone\";\"may\";\"mon\";680;2;999;0;\"nonexistent\";1.1;93.994;-36.4;4.857;5191;\"no\"',\n",
       " '41;\"blue-collar\";\"single\";\"basic.9y\";\"unknown\";\"yes\";\"no\";\"telephone\";\"may\";\"mon\";421;4;999;0;\"nonexistent\";1.1;93.994;-36.4;4.857;5191;\"no\"',\n",
       " '33;\"entrepreneur\";\"married\";\"university.degree\";\"no\";\"yes\";\"no\";\"telephone\";\"may\";\"mon\";130;3;999;0;\"nonexistent\";1.1;93.994;-36.4;4.857;5191;\"no\"',\n",
       " '57;\"blue-collar\";\"married\";\"basic.4y\";\"no\";\"no\";\"no\";\"telephone\";\"may\";\"mon\";164;2;999;0;\"nonexistent\";1.1;93.994;-36.4;4.857;5191;\"no\"',\n",
       " '48;\"blue-collar\";\"married\";\"basic.6y\";\"unknown\";\"no\";\"no\";\"telephone\";\"may\";\"mon\";174;3;999;0;\"nonexistent\";1.1;93.994;-36.4;4.857;5191;\"no\"',\n",
       " '55;\"technician\";\"married\";\"professional.course\";\"no\";\"no\";\"no\";\"telephone\";\"may\";\"mon\";113;2;999;0;\"nonexistent\";1.1;93.994;-36.4;4.857;5191;\"no\"',\n",
       " '38;\"management\";\"married\";\"university.degree\";\"no\";\"no\";\"no\";\"telephone\";\"may\";\"mon\";195;2;999;0;\"nonexistent\";1.1;93.994;-36.4;4.857;5191;\"no\"',\n",
       " '38;\"services\";\"married\";\"high.school\";\"no\";\"yes\";\"no\";\"telephone\";\"may\";\"mon\";347;3;999;0;\"nonexistent\";1.1;93.994;-36.4;4.857;5191;\"no\"',\n",
       " '53;\"admin.\";\"married\";\"university.degree\";\"no\";\"yes\";\"no\";\"telephone\";\"may\";\"mon\";208;2;999;0;\"nonexistent\";1.1;93.994;-36.4;4.857;5191;\"no\"',\n",
       " '43;\"unemployed\";\"single\";\"university.degree\";\"no\";\"no\";\"no\";\"telephone\";\"may\";\"mon\";404;4;999;0;\"nonexistent\";1.1;93.994;-36.4;4.857;5191;\"no\"',\n",
       " '36;\"blue-collar\";\"single\";\"high.school\";\"no\";\"no\";\"no\";\"telephone\";\"may\";\"mon\";396;2;999;0;\"nonexistent\";1.1;93.994;-36.4;4.857;5191;\"no\"',\n",
       " '32;\"blue-collar\";\"married\";\"basic.9y\";\"no\";\"no\";\"no\";\"telephone\";\"may\";\"mon\";98;2;999;0;\"nonexistent\";1.1;93.994;-36.4;4.857;5191;\"no\"',\n",
       " '33;\"services\";\"married\";\"basic.4y\";\"no\";\"no\";\"no\";\"telephone\";\"may\";\"mon\";229;3;999;0;\"nonexistent\";1.1;93.994;-36.4;4.857;5191;\"no\"',\n",
       " '58;\"entrepreneur\";\"married\";\"basic.4y\";\"no\";\"yes\";\"no\";\"telephone\";\"may\";\"mon\";350;2;999;0;\"nonexistent\";1.1;93.994;-36.4;4.857;5191;\"no\"',\n",
       " '40;\"unemployed\";\"divorced\";\"high.school\";\"unknown\";\"no\";\"no\";\"telephone\";\"may\";\"tue\";88;3;999;0;\"nonexistent\";1.1;93.994;-36.4;4.857;5191;\"no\"',\n",
       " '57;\"management\";\"married\";\"university.degree\";\"no\";\"yes\";\"no\";\"telephone\";\"may\";\"tue\";379;2;999;0;\"nonexistent\";1.1;93.994;-36.4;4.857;5191;\"no\"',\n",
       " '45;\"technician\";\"married\";\"high.school\";\"no\";\"yes\";\"no\";\"telephone\";\"may\";\"tue\";168;3;999;0;\"nonexistent\";1.1;93.994;-36.4;4.857;5191;\"no\"',\n",
       " '42;\"blue-collar\";\"married\";\"basic.4y\";\"unknown\";\"yes\";\"no\";\"telephone\";\"may\";\"tue\";190;3;999;0;\"nonexistent\";1.1;93.994;-36.4;4.857;5191;\"no\"',\n",
       " '46;\"admin.\";\"married\";\"university.degree\";\"no\";\"yes\";\"no\";\"telephone\";\"may\";\"tue\";158;1;999;0;\"nonexistent\";1.1;93.994;-36.4;4.857;5191;\"no\"',\n",
       " '36;\"technician\";\"married\";\"university.degree\";\"no\";\"no\";\"no\";\"telephone\";\"may\";\"tue\";210;1;999;0;\"nonexistent\";1.1;93.994;-36.4;4.857;5191;\"no\"',\n",
       " '41;\"self-employed\";\"married\";\"high.school\";\"no\";\"yes\";\"no\";\"telephone\";\"may\";\"tue\";102;1;999;0;\"nonexistent\";1.1;93.994;-36.4;4.857;5191;\"no\"',\n",
       " '57;\"admin.\";\"divorced\";\"basic.9y\";\"no\";\"no\";\"no\";\"telephone\";\"may\";\"tue\";306;1;999;0;\"nonexistent\";1.1;93.994;-36.4;4.857;5191;\"no\"',\n",
       " '49;\"blue-collar\";\"married\";\"basic.9y\";\"unknown\";\"yes\";\"no\";\"telephone\";\"may\";\"tue\";64;1;999;0;\"nonexistent\";1.1;93.994;-36.4;4.857;5191;\"no\"',\n",
       " '56;\"management\";\"divorced\";\"high.school\";\"no\";\"no\";\"no\";\"telephone\";\"may\";\"tue\";218;1;999;0;\"nonexistent\";1.1;93.994;-36.4;4.857;5191;\"no\"',\n",
       " '37;\"blue-collar\";\"married\";\"basic.9y\";\"no\";\"no\";\"no\";\"telephone\";\"may\";\"tue\";77;1;999;0;\"nonexistent\";1.1;93.994;-36.4;4.857;5191;\"no\"',\n",
       " '37;\"blue-collar\";\"married\";\"basic.9y\";\"no\";\"no\";\"yes\";\"telephone\";\"may\";\"tue\";54;1;999;0;\"nonexistent\";1.1;93.994;-36.4;4.857;5191;\"no\"',\n",
       " '46;\"admin.\";\"single\";\"high.school\";\"no\";\"yes\";\"no\";\"telephone\";\"may\";\"tue\";344;1;999;0;\"nonexistent\";1.1;93.994;-36.4;4.857;5191;\"no\"',\n",
       " '22;\"blue-collar\";\"single\";\"basic.9y\";\"no\";\"yes\";\"no\";\"telephone\";\"may\";\"tue\";195;1;999;0;\"nonexistent\";1.1;93.994;-36.4;4.857;5191;\"no\"',\n",
       " '43;\"services\";\"married\";\"high.school\";\"no\";\"no\";\"no\";\"telephone\";\"may\";\"tue\";202;1;999;0;\"nonexistent\";1.1;93.994;-36.4;4.857;5191;\"no\"',\n",
       " '49;\"blue-collar\";\"married\";\"unknown\";\"no\";\"no\";\"no\";\"telephone\";\"may\";\"tue\";286;1;999;0;\"nonexistent\";1.1;93.994;-36.4;4.857;5191;\"no\"',\n",
       " '41;\"technician\";\"married\";\"basic.6y\";\"no\";\"yes\";\"no\";\"telephone\";\"may\";\"tue\";278;1;999;0;\"nonexistent\";1.1;93.994;-36.4;4.857;5191;\"no\"',\n",
       " '38;\"admin.\";\"single\";\"university.degree\";\"no\";\"no\";\"no\";\"telephone\";\"may\";\"tue\";189;1;999;0;\"nonexistent\";1.1;93.994;-36.4;4.857;5191;\"no\"',\n",
       " '33;\"admin.\";\"married\";\"basic.9y\";\"no\";\"no\";\"no\";\"telephone\";\"may\";\"tue\";83;1;999;0;\"nonexistent\";1.1;93.994;-36.4;4.857;5191;\"no\"',\n",
       " '49;\"admin.\";\"married\";\"university.degree\";\"no\";\"yes\";\"yes\";\"telephone\";\"may\";\"tue\";18;1;999;0;\"nonexistent\";1.1;93.994;-36.4;4.857;5191;\"no\"',\n",
       " '30;\"blue-collar\";\"single\";\"unknown\";\"no\";\"no\";\"no\";\"telephone\";\"may\";\"tue\";184;2;999;0;\"nonexistent\";1.1;93.994;-36.4;4.857;5191;\"no\"',\n",
       " '33;\"admin.\";\"married\";\"basic.9y\";\"no\";\"yes\";\"no\";\"telephone\";\"may\";\"tue\";235;1;999;0;\"nonexistent\";1.1;93.994;-36.4;4.857;5191;\"no\"',\n",
       " '34;\"management\";\"single\";\"university.degree\";\"no\";\"no\";\"no\";\"telephone\";\"may\";\"tue\";290;1;999;0;\"nonexistent\";1.1;93.994;-36.4;4.857;5191;\"no\"',\n",
       " '30;\"student\";\"single\";\"unknown\";\"unknown\";\"no\";\"no\";\"telephone\";\"may\";\"tue\";133;1;999;0;\"nonexistent\";1.1;93.994;-36.4;4.857;5191;\"no\"',\n",
       " '59;\"management\";\"married\";\"basic.4y\";\"unknown\";\"yes\";\"yes\";\"telephone\";\"may\";\"tue\";318;1;999;0;\"nonexistent\";1.1;93.994;-36.4;4.857;5191;\"no\"',\n",
       " '59;\"management\";\"married\";\"basic.4y\";\"unknown\";\"unknown\";\"unknown\";\"telephone\";\"may\";\"tue\";437;1;999;0;\"nonexistent\";1.1;93.994;-36.4;4.857;5191;\"no\"',\n",
       " '41;\"self-employed\";\"married\";\"university.degree\";\"no\";\"no\";\"no\";\"telephone\";\"may\";\"tue\";402;1;999;0;\"nonexistent\";1.1;93.994;-36.4;4.857;5191;\"no\"',\n",
       " '48;\"housemaid\";\"married\";\"basic.6y\";\"unknown\";\"yes\";\"yes\";\"telephone\";\"may\";\"tue\";501;4;999;0;\"nonexistent\";1.1;93.994;-36.4;4.857;5191;\"no\"',\n",
       " '28;\"unknown\";\"single\";\"unknown\";\"unknown\";\"yes\";\"yes\";\"telephone\";\"may\";\"tue\";1201;1;999;0;\"nonexistent\";1.1;93.994;-36.4;4.857;5191;\"yes\"',\n",
       " '44;\"services\";\"married\";\"high.school\";\"no\";\"yes\";\"no\";\"telephone\";\"may\";\"tue\";1030;1;999;0;\"nonexistent\";1.1;93.994;-36.4;4.857;5191;\"yes\"',\n",
       " '59;\"retired\";\"unknown\";\"university.degree\";\"unknown\";\"no\";\"no\";\"telephone\";\"may\";\"tue\";253;1;999;0;\"nonexistent\";1.1;93.994;-36.4;4.857;5191;\"no\"',\n",
       " '50;\"management\";\"married\";\"high.school\";\"unknown\";\"no\";\"no\";\"telephone\";\"may\";\"tue\";149;1;999;0;\"nonexistent\";1.1;93.994;-36.4;4.857;5191;\"no\"',\n",
       " '35;\"admin.\";\"married\";\"university.degree\";\"no\";\"no\";\"no\";\"telephone\";\"may\";\"tue\";144;1;999;0;\"nonexistent\";1.1;93.994;-36.4;4.857;5191;\"no\"',\n",
       " '42;\"admin.\";\"married\";\"high.school\";\"no\";\"no\";\"no\";\"telephone\";\"may\";\"tue\";69;1;999;0;\"nonexistent\";1.1;93.994;-36.4;4.857;5191;\"no\"',\n",
       " '45;\"admin.\";\"married\";\"basic.9y\";\"no\";\"no\";\"no\";\"telephone\";\"may\";\"tue\";243;1;999;0;\"nonexistent\";1.1;93.994;-36.4;4.857;5191;\"no\"',\n",
       " '36;\"technician\";\"married\";\"professional.course\";\"no\";\"no\";\"no\";\"telephone\";\"may\";\"tue\";769;2;999;0;\"nonexistent\";1.1;93.994;-36.4;4.857;5191;\"no\"',\n",
       " '56;\"services\";\"married\";\"high.school\";\"unknown\";\"no\";\"no\";\"telephone\";\"may\";\"tue\";135;3;999;0;\"nonexistent\";1.1;93.994;-36.4;4.857;5191;\"no\"',\n",
       " '29;\"blue-collar\";\"divorced\";\"basic.4y\";\"no\";\"no\";\"no\";\"telephone\";\"may\";\"tue\";231;1;999;0;\"nonexistent\";1.1;93.994;-36.4;4.857;5191;\"no\"',\n",
       " '41;\"self-employed\";\"married\";\"university.degree\";\"no\";\"yes\";\"yes\";\"telephone\";\"may\";\"tue\";442;2;999;0;\"nonexistent\";1.1;93.994;-36.4;4.857;5191;\"no\"',\n",
       " '42;\"blue-collar\";\"married\";\"basic.9y\";\"unknown\";\"no\";\"no\";\"telephone\";\"may\";\"tue\";199;1;999;0;\"nonexistent\";1.1;93.994;-36.4;4.857;5191;\"no\"',\n",
       " '52;\"services\";\"single\";\"high.school\";\"no\";\"no\";\"no\";\"telephone\";\"may\";\"tue\";455;1;999;0;\"nonexistent\";1.1;93.994;-36.4;4.857;5191;\"no\"',\n",
       " '48;\"services\";\"married\";\"high.school\";\"unknown\";\"unknown\";\"unknown\";\"telephone\";\"may\";\"tue\";152;1;999;0;\"nonexistent\";1.1;93.994;-36.4;4.857;5191;\"no\"',\n",
       " '31;\"blue-collar\";\"married\";\"high.school\";\"unknown\";\"yes\";\"no\";\"telephone\";\"may\";\"tue\";124;1;999;0;\"nonexistent\";1.1;93.994;-36.4;4.857;5191;\"no\"',\n",
       " '43;\"unemployed\";\"married\";\"university.degree\";\"unknown\";\"yes\";\"no\";\"telephone\";\"may\";\"tue\";424;1;999;0;\"nonexistent\";1.1;93.994;-36.4;4.857;5191;\"no\"',\n",
       " '36;\"blue-collar\";\"married\";\"basic.4y\";\"unknown\";\"no\";\"no\";\"telephone\";\"may\";\"tue\";43;1;999;0;\"nonexistent\";1.1;93.994;-36.4;4.857;5191;\"no\"',\n",
       " '42;\"entrepreneur\";\"married\";\"university.degree\";\"no\";\"yes\";\"no\";\"telephone\";\"may\";\"tue\";154;1;999;0;\"nonexistent\";1.1;93.994;-36.4;4.857;5191;\"no\"',\n",
       " '52;\"services\";\"divorced\";\"basic.6y\";\"no\";\"no\";\"no\";\"telephone\";\"may\";\"tue\";393;1;999;0;\"nonexistent\";1.1;93.994;-36.4;4.857;5191;\"no\"',\n",
       " '39;\"admin.\";\"married\";\"high.school\";\"no\";\"yes\";\"no\";\"telephone\";\"may\";\"tue\";203;2;999;0;\"nonexistent\";1.1;93.994;-36.4;4.857;5191;\"no\"',\n",
       " '36;\"services\";\"married\";\"high.school\";\"no\";\"no\";\"yes\";\"telephone\";\"may\";\"tue\";140;2;999;0;\"nonexistent\";1.1;93.994;-36.4;4.857;5191;\"no\"',\n",
       " '42;\"blue-collar\";\"married\";\"basic.9y\";\"unknown\";\"yes\";\"no\";\"telephone\";\"may\";\"tue\";326;1;999;0;\"nonexistent\";1.1;93.994;-36.4;4.857;5191;\"no\"',\n",
       " '41;\"admin.\";\"married\";\"high.school\";\"no\";\"no\";\"no\";\"telephone\";\"may\";\"tue\";483;1;999;0;\"nonexistent\";1.1;93.994;-36.4;4.857;5191;\"no\"',\n",
       " '55;\"technician\";\"married\";\"basic.4y\";\"no\";\"no\";\"yes\";\"telephone\";\"may\";\"tue\";259;1;999;0;\"nonexistent\";1.1;93.994;-36.4;4.857;5191;\"no\"',\n",
       " '30;\"blue-collar\";\"married\";\"basic.9y\";\"no\";\"no\";\"no\";\"telephone\";\"may\";\"tue\";227;1;999;0;\"nonexistent\";1.1;93.994;-36.4;4.857;5191;\"no\"',\n",
       " '57;\"retired\";\"unknown\";\"basic.4y\";\"no\";\"no\";\"no\";\"telephone\";\"may\";\"tue\";673;1;999;0;\"nonexistent\";1.1;93.994;-36.4;4.857;5191;\"no\"',\n",
       " '45;\"entrepreneur\";\"married\";\"basic.4y\";\"unknown\";\"yes\";\"no\";\"telephone\";\"may\";\"tue\";576;1;999;0;\"nonexistent\";1.1;93.994;-36.4;4.857;5191;\"no\"',\n",
       " '51;\"blue-collar\";\"married\";\"basic.4y\";\"unknown\";\"yes\";\"yes\";\"telephone\";\"may\";\"tue\";180;2;999;0;\"nonexistent\";1.1;93.994;-36.4;4.857;5191;\"no\"',\n",
       " '39;\"self-employed\";\"single\";\"basic.9y\";\"unknown\";\"yes\";\"yes\";\"telephone\";\"may\";\"tue\";90;1;999;0;\"nonexistent\";1.1;93.994;-36.4;4.857;5191;\"no\"',\n",
       " '47;\"admin.\";\"married\";\"high.school\";\"unknown\";\"no\";\"no\";\"telephone\";\"may\";\"tue\";505;1;999;0;\"nonexistent\";1.1;93.994;-36.4;4.857;5191;\"no\"',\n",
       " '27;\"services\";\"married\";\"high.school\";\"no\";\"yes\";\"no\";\"telephone\";\"may\";\"tue\";245;1;999;0;\"nonexistent\";1.1;93.994;-36.4;4.857;5191;\"no\"',\n",
       " '34;\"technician\";\"single\";\"university.degree\";\"no\";\"yes\";\"no\";\"telephone\";\"may\";\"tue\";186;1;999;0;\"nonexistent\";1.1;93.994;-36.4;4.857;5191;\"no\"',\n",
       " '57;\"blue-collar\";\"married\";\"basic.4y\";\"unknown\";\"yes\";\"no\";\"telephone\";\"may\";\"tue\";208;1;999;0;\"nonexistent\";1.1;93.994;-36.4;4.857;5191;\"no\"',\n",
       " '43;\"entrepreneur\";\"married\";\"basic.4y\";\"no\";\"no\";\"no\";\"telephone\";\"may\";\"tue\";623;1;999;0;\"nonexistent\";1.1;93.994;-36.4;4.857;5191;\"no\"',\n",
       " '49;\"blue-collar\";\"married\";\"basic.4y\";\"unknown\";\"no\";\"no\";\"telephone\";\"may\";\"tue\";180;1;999;0;\"nonexistent\";1.1;93.994;-36.4;4.857;5191;\"no\"',\n",
       " '39;\"management\";\"married\";\"university.degree\";\"unknown\";\"no\";\"no\";\"telephone\";\"may\";\"tue\";496;3;999;0;\"nonexistent\";1.1;93.994;-36.4;4.857;5191;\"no\"',\n",
       " '38;\"blue-collar\";\"married\";\"basic.4y\";\"unknown\";\"yes\";\"no\";\"telephone\";\"may\";\"tue\";118;1;999;0;\"nonexistent\";1.1;93.994;-36.4;4.857;5191;\"no\"',\n",
       " '49;\"blue-collar\";\"married\";\"basic.9y\";\"no\";\"no\";\"no\";\"telephone\";\"may\";\"tue\";102;2;999;0;\"nonexistent\";1.1;93.994;-36.4;4.857;5191;\"no\"',\n",
       " '58;\"management\";\"married\";\"basic.6y\";\"no\";\"no\";\"no\";\"telephone\";\"may\";\"tue\";342;1;999;0;\"nonexistent\";1.1;93.994;-36.4;4.857;5191;\"no\"',\n",
       " '43;\"technician\";\"married\";\"professional.course\";\"no\";\"yes\";\"no\";\"telephone\";\"may\";\"tue\";225;1;999;0;\"nonexistent\";1.1;93.994;-36.4;4.857;5191;\"no\"',\n",
       " '50;\"unknown\";\"married\";\"unknown\";\"unknown\";\"yes\";\"no\";\"telephone\";\"may\";\"tue\";185;3;999;0;\"nonexistent\";1.1;93.994;-36.4;4.857;5191;\"no\"',\n",
       " '31;\"services\";\"married\";\"high.school\";\"unknown\";\"no\";\"no\";\"telephone\";\"may\";\"tue\";276;1;999;0;\"nonexistent\";1.1;93.994;-36.4;4.857;5191;\"no\"',\n",
       " '43;\"self-employed\";\"divorced\";\"university.degree\";\"no\";\"no\";\"no\";\"telephone\";\"may\";\"tue\";87;1;999;0;\"nonexistent\";1.1;93.994;-36.4;4.857;5191;\"no\"',\n",
       " '43;\"self-employed\";\"married\";\"basic.9y\";\"unknown\";\"no\";\"no\";\"telephone\";\"may\";\"tue\";744;1;999;0;\"nonexistent\";1.1;93.994;-36.4;4.857;5191;\"no\"',\n",
       " '30;\"self-employed\";\"single\";\"university.degree\";\"no\";\"yes\";\"no\";\"telephone\";\"may\";\"tue\";262;1;999;0;\"nonexistent\";1.1;93.994;-36.4;4.857;5191;\"no\"',\n",
       " '27;\"services\";\"single\";\"professional.course\";\"no\";\"yes\";\"yes\";\"telephone\";\"may\";\"tue\";271;1;999;0;\"nonexistent\";1.1;93.994;-36.4;4.857;5191;\"no\"',\n",
       " '51;\"services\";\"married\";\"unknown\";\"unknown\";\"no\";\"no\";\"telephone\";\"may\";\"tue\";141;1;999;0;\"nonexistent\";1.1;93.994;-36.4;4.857;5191;\"no\"',\n",
       " '37;\"technician\";\"married\";\"professional.course\";\"no\";\"yes\";\"no\";\"telephone\";\"may\";\"tue\";198;2;999;0;\"nonexistent\";1.1;93.994;-36.4;4.857;5191;\"no\"',\n",
       " '46;\"housemaid\";\"married\";\"basic.9y\";\"no\";\"yes\";\"no\";\"telephone\";\"may\";\"tue\";150;1;999;0;\"nonexistent\";1.1;93.994;-36.4;4.857;5191;\"no\"',\n",
       " '35;\"blue-collar\";\"married\";\"professional.course\";\"no\";\"no\";\"no\";\"telephone\";\"may\";\"tue\";241;1;999;0;\"nonexistent\";1.1;93.994;-36.4;4.857;5191;\"no\"',\n",
       " '47;\"admin.\";\"divorced\";\"university.degree\";\"no\";\"no\";\"no\";\"telephone\";\"may\";\"tue\";196;1;999;0;\"nonexistent\";1.1;93.994;-36.4;4.857;5191;\"no\"',\n",
       " '46;\"management\";\"married\";\"unknown\";\"no\";\"yes\";\"no\";\"telephone\";\"may\";\"tue\";149;1;999;0;\"nonexistent\";1.1;93.994;-36.4;4.857;5191;\"no\"',\n",
       " '40;\"technician\";\"married\";\"professional.course\";\"unknown\";\"no\";\"yes\";\"telephone\";\"may\";\"tue\";264;1;999;0;\"nonexistent\";1.1;93.994;-36.4;4.857;5191;\"no\"',\n",
       " '26;\"housemaid\";\"married\";\"university.degree\";\"no\";\"no\";\"no\";\"telephone\";\"may\";\"tue\";246;1;999;0;\"nonexistent\";1.1;93.994;-36.4;4.857;5191;\"no\"',\n",
       " '32;\"blue-collar\";\"divorced\";\"basic.9y\";\"unknown\";\"no\";\"no\";\"telephone\";\"may\";\"tue\";309;2;999;0;\"nonexistent\";1.1;93.994;-36.4;4.857;5191;\"no\"',\n",
       " '45;\"management\";\"married\";\"university.degree\";\"no\";\"yes\";\"no\";\"telephone\";\"may\";\"tue\";140;1;999;0;\"nonexistent\";1.1;93.994;-36.4;4.857;5191;\"no\"',\n",
       " '34;\"admin.\";\"married\";\"basic.9y\";\"no\";\"no\";\"no\";\"telephone\";\"may\";\"tue\";175;1;999;0;\"nonexistent\";1.1;93.994;-36.4;4.857;5191;\"no\"',\n",
       " '47;\"blue-collar\";\"married\";\"unknown\";\"unknown\";\"no\";\"no\";\"telephone\";\"may\";\"tue\";136;1;999;0;\"nonexistent\";1.1;93.994;-36.4;4.857;5191;\"no\"',\n",
       " '42;\"technician\";\"married\";\"professional.course\";\"no\";\"no\";\"no\";\"telephone\";\"may\";\"tue\";1623;1;999;0;\"nonexistent\";1.1;93.994;-36.4;4.857;5191;\"yes\"',\n",
       " '57;\"technician\";\"married\";\"basic.4y\";\"unknown\";\"no\";\"yes\";\"telephone\";\"may\";\"tue\";50;1;999;0;\"nonexistent\";1.1;93.994;-36.4;4.857;5191;\"no\"',\n",
       " '57;\"technician\";\"married\";\"basic.4y\";\"unknown\";\"no\";\"no\";\"telephone\";\"may\";\"tue\";101;1;999;0;\"nonexistent\";1.1;93.994;-36.4;4.857;5191;\"no\"',\n",
       " '38;\"blue-collar\";\"married\";\"basic.4y\";\"no\";\"no\";\"yes\";\"telephone\";\"may\";\"tue\";144;1;999;0;\"nonexistent\";1.1;93.994;-36.4;4.857;5191;\"no\"',\n",
       " '57;\"technician\";\"married\";\"basic.4y\";\"unknown\";\"no\";\"no\";\"telephone\";\"may\";\"tue\";238;1;999;0;\"nonexistent\";1.1;93.994;-36.4;4.857;5191;\"no\"',\n",
       " '28;\"student\";\"single\";\"basic.9y\";\"unknown\";\"yes\";\"no\";\"telephone\";\"may\";\"tue\";354;1;999;0;\"nonexistent\";1.1;93.994;-36.4;4.857;5191;\"no\"',\n",
       " '60;\"management\";\"married\";\"university.degree\";\"no\";\"no\";\"no\";\"telephone\";\"may\";\"tue\";451;2;999;0;\"nonexistent\";1.1;93.994;-36.4;4.857;5191;\"no\"',\n",
       " '48;\"admin.\";\"married\";\"university.degree\";\"no\";\"yes\";\"no\";\"telephone\";\"may\";\"tue\";159;1;999;0;\"nonexistent\";1.1;93.994;-36.4;4.857;5191;\"no\"',\n",
       " '47;\"technician\";\"married\";\"professional.course\";\"no\";\"yes\";\"no\";\"telephone\";\"may\";\"tue\";170;1;999;0;\"nonexistent\";1.1;93.994;-36.4;4.857;5191;\"no\"',\n",
       " '40;\"admin.\";\"married\";\"high.school\";\"no\";\"no\";\"no\";\"telephone\";\"may\";\"tue\";243;1;999;0;\"nonexistent\";1.1;93.994;-36.4;4.857;5191;\"no\"',\n",
       " '51;\"management\";\"married\";\"professional.course\";\"unknown\";\"yes\";\"no\";\"telephone\";\"may\";\"tue\";141;2;999;0;\"nonexistent\";1.1;93.994;-36.4;4.857;5191;\"no\"',\n",
       " '48;\"unemployed\";\"single\";\"basic.4y\";\"no\";\"yes\";\"no\";\"telephone\";\"may\";\"tue\";112;1;999;0;\"nonexistent\";1.1;93.994;-36.4;4.857;5191;\"no\"',\n",
       " '54;\"housemaid\";\"married\";\"basic.4y\";\"no\";\"no\";\"no\";\"telephone\";\"may\";\"tue\";262;2;999;0;\"nonexistent\";1.1;93.994;-36.4;4.857;5191;\"no\"',\n",
       " '40;\"blue-collar\";\"married\";\"basic.6y\";\"no\";\"no\";\"yes\";\"telephone\";\"may\";\"tue\";53;1;999;0;\"nonexistent\";1.1;93.994;-36.4;4.857;5191;\"no\"',\n",
       " '44;\"admin.\";\"single\";\"basic.9y\";\"unknown\";\"no\";\"no\";\"telephone\";\"may\";\"tue\";134;1;999;0;\"nonexistent\";1.1;93.994;-36.4;4.857;5191;\"no\"',\n",
       " '42;\"technician\";\"divorced\";\"high.school\";\"no\";\"no\";\"no\";\"telephone\";\"may\";\"tue\";204;4;999;0;\"nonexistent\";1.1;93.994;-36.4;4.857;5191;\"no\"',\n",
       " '52;\"self-employed\";\"married\";\"university.degree\";\"no\";\"yes\";\"no\";\"telephone\";\"may\";\"tue\";678;1;999;0;\"nonexistent\";1.1;93.994;-36.4;4.857;5191;\"no\"',\n",
       " '31;\"blue-collar\";\"single\";\"basic.9y\";\"no\";\"yes\";\"no\";\"telephone\";\"may\";\"tue\";182;1;999;0;\"nonexistent\";1.1;93.994;-36.4;4.857;5191;\"no\"',\n",
       " '32;\"services\";\"married\";\"high.school\";\"no\";\"no\";\"no\";\"telephone\";\"may\";\"tue\";162;1;999;0;\"nonexistent\";1.1;93.994;-36.4;4.857;5191;\"no\"',\n",
       " '44;\"admin.\";\"married\";\"high.school\";\"no\";\"yes\";\"yes\";\"telephone\";\"may\";\"tue\";177;1;999;0;\"nonexistent\";1.1;93.994;-36.4;4.857;5191;\"no\"',\n",
       " '39;\"management\";\"married\";\"basic.6y\";\"unknown\";\"no\";\"no\";\"telephone\";\"may\";\"tue\";27;1;999;0;\"nonexistent\";1.1;93.994;-36.4;4.857;5191;\"no\"',\n",
       " '57;\"management\";\"married\";\"professional.course\";\"unknown\";\"yes\";\"no\";\"telephone\";\"may\";\"tue\";699;3;999;0;\"nonexistent\";1.1;93.994;-36.4;4.857;5191;\"no\"',\n",
       " '52;\"admin.\";\"married\";\"basic.4y\";\"no\";\"yes\";\"no\";\"telephone\";\"may\";\"tue\";358;1;999;0;\"nonexistent\";1.1;93.994;-36.4;4.857;5191;\"no\"',\n",
       " '42;\"management\";\"married\";\"university.degree\";\"no\";\"no\";\"no\";\"telephone\";\"may\";\"tue\";1677;1;999;0;\"nonexistent\";1.1;93.994;-36.4;4.857;5191;\"yes\"',\n",
       " '42;\"technician\";\"single\";\"professional.course\";\"unknown\";\"unknown\";\"unknown\";\"telephone\";\"may\";\"tue\";529;1;999;0;\"nonexistent\";1.1;93.994;-36.4;4.857;5191;\"no\"',\n",
       " '43;\"management\";\"married\";\"professional.course\";\"no\";\"yes\";\"no\";\"telephone\";\"may\";\"tue\";310;1;999;0;\"nonexistent\";1.1;93.994;-36.4;4.857;5191;\"no\"',\n",
       " '31;\"admin.\";\"divorced\";\"high.school\";\"no\";\"no\";\"no\";\"telephone\";\"may\";\"tue\";47;1;999;0;\"nonexistent\";1.1;93.994;-36.4;4.857;5191;\"no\"',\n",
       " '29;\"admin.\";\"married\";\"university.degree\";\"unknown\";\"yes\";\"no\";\"telephone\";\"may\";\"tue\";379;1;999;0;\"nonexistent\";1.1;93.994;-36.4;4.857;5191;\"no\"',\n",
       " '57;\"blue-collar\";\"divorced\";\"basic.4y\";\"no\";\"no\";\"no\";\"telephone\";\"may\";\"tue\";30;2;999;0;\"nonexistent\";1.1;93.994;-36.4;4.857;5191;\"no\"',\n",
       " '44;\"blue-collar\";\"married\";\"basic.9y\";\"unknown\";\"no\";\"no\";\"telephone\";\"may\";\"tue\";472;1;999;0;\"nonexistent\";1.1;93.994;-36.4;4.857;5191;\"no\"',\n",
       " '59;\"unknown\";\"married\";\"unknown\";\"unknown\";\"no\";\"no\";\"telephone\";\"may\";\"tue\";113;1;999;0;\"nonexistent\";1.1;93.994;-36.4;4.857;5191;\"no\"',\n",
       " '39;\"blue-collar\";\"married\";\"basic.4y\";\"unknown\";\"no\";\"no\";\"telephone\";\"may\";\"tue\";114;1;999;0;\"nonexistent\";1.1;93.994;-36.4;4.857;5191;\"no\"',\n",
       " '57;\"retired\";\"married\";\"university.degree\";\"no\";\"no\";\"no\";\"telephone\";\"may\";\"tue\";116;1;999;0;\"nonexistent\";1.1;93.994;-36.4;4.857;5191;\"no\"',\n",
       " '41;\"management\";\"married\";\"unknown\";\"unknown\";\"no\";\"no\";\"telephone\";\"may\";\"tue\";448;1;999;0;\"nonexistent\";1.1;93.994;-36.4;4.857;5191;\"no\"',\n",
       " '37;\"technician\";\"single\";\"high.school\";\"unknown\";\"no\";\"yes\";\"telephone\";\"may\";\"tue\";264;1;999;0;\"nonexistent\";1.1;93.994;-36.4;4.857;5191;\"no\"',\n",
       " '38;\"services\";\"married\";\"high.school\";\"no\";\"yes\";\"no\";\"telephone\";\"may\";\"tue\";169;1;999;0;\"nonexistent\";1.1;93.994;-36.4;4.857;5191;\"no\"',\n",
       " '42;\"retired\";\"married\";\"basic.4y\";\"no\";\"no\";\"no\";\"telephone\";\"may\";\"tue\";145;1;999;0;\"nonexistent\";1.1;93.994;-36.4;4.857;5191;\"no\"',\n",
       " '49;\"unknown\";\"married\";\"unknown\";\"unknown\";\"yes\";\"no\";\"telephone\";\"may\";\"tue\";288;1;999;0;\"nonexistent\";1.1;93.994;-36.4;4.857;5191;\"no\"',\n",
       " '54;\"management\";\"married\";\"basic.6y\";\"unknown\";\"yes\";\"yes\";\"telephone\";\"may\";\"tue\";381;1;999;0;\"nonexistent\";1.1;93.994;-36.4;4.857;5191;\"no\"',\n",
       " '36;\"admin.\";\"married\";\"university.degree\";\"no\";\"unknown\";\"unknown\";\"telephone\";\"may\";\"tue\";176;2;999;0;\"nonexistent\";1.1;93.994;-36.4;4.857;5191;\"no\"',\n",
       " '32;\"admin.\";\"single\";\"university.degree\";\"unknown\";\"no\";\"no\";\"telephone\";\"may\";\"tue\";215;1;999;0;\"nonexistent\";1.1;93.994;-36.4;4.857;5191;\"no\"',\n",
       " '35;\"technician\";\"married\";\"professional.course\";\"no\";\"yes\";\"no\";\"telephone\";\"may\";\"tue\";278;1;999;0;\"nonexistent\";1.1;93.994;-36.4;4.857;5191;\"no\"',\n",
       " '45;\"housemaid\";\"married\";\"professional.course\";\"unknown\";\"no\";\"no\";\"telephone\";\"may\";\"tue\";188;2;999;0;\"nonexistent\";1.1;93.994;-36.4;4.857;5191;\"no\"',\n",
       " '56;\"technician\";\"married\";\"unknown\";\"no\";\"yes\";\"no\";\"telephone\";\"may\";\"tue\";174;2;999;0;\"nonexistent\";1.1;93.994;-36.4;4.857;5191;\"no\"',\n",
       " '34;\"technician\";\"married\";\"university.degree\";\"no\";\"yes\";\"no\";\"telephone\";\"may\";\"tue\";226;2;999;0;\"nonexistent\";1.1;93.994;-36.4;4.857;5191;\"no\"',\n",
       " '41;\"unemployed\";\"married\";\"basic.9y\";\"unknown\";\"no\";\"no\";\"telephone\";\"may\";\"tue\";111;2;999;0;\"nonexistent\";1.1;93.994;-36.4;4.857;5191;\"no\"',\n",
       " '41;\"services\";\"married\";\"basic.9y\";\"no\";\"no\";\"no\";\"telephone\";\"may\";\"tue\";157;2;999;0;\"nonexistent\";1.1;93.994;-36.4;4.857;5191;\"no\"',\n",
       " '36;\"blue-collar\";\"married\";\"basic.9y\";\"unknown\";\"no\";\"no\";\"telephone\";\"may\";\"tue\";46;1;999;0;\"nonexistent\";1.1;93.994;-36.4;4.857;5191;\"no\"',\n",
       " '32;\"admin.\";\"single\";\"university.degree\";\"unknown\";\"unknown\";\"unknown\";\"telephone\";\"may\";\"tue\";49;1;999;0;\"nonexistent\";1.1;93.994;-36.4;4.857;5191;\"no\"',\n",
       " '31;\"services\";\"married\";\"high.school\";\"unknown\";\"unknown\";\"unknown\";\"telephone\";\"may\";\"tue\";374;1;999;0;\"nonexistent\";1.1;93.994;-36.4;4.857;5191;\"no\"',\n",
       " '38;\"technician\";\"married\";\"professional.course\";\"no\";\"yes\";\"no\";\"telephone\";\"may\";\"tue\";349;1;999;0;\"nonexistent\";1.1;93.994;-36.4;4.857;5191;\"no\"',\n",
       " '35;\"admin.\";\"divorced\";\"university.degree\";\"unknown\";\"yes\";\"no\";\"telephone\";\"may\";\"tue\";325;1;999;0;\"nonexistent\";1.1;93.994;-36.4;4.857;5191;\"no\"',\n",
       " '53;\"admin.\";\"married\";\"professional.course\";\"no\";\"yes\";\"no\";\"telephone\";\"may\";\"tue\";233;2;999;0;\"nonexistent\";1.1;93.994;-36.4;4.857;5191;\"no\"',\n",
       " '51;\"admin.\";\"married\";\"basic.6y\";\"unknown\";\"yes\";\"no\";\"telephone\";\"may\";\"tue\";531;1;999;0;\"nonexistent\";1.1;93.994;-36.4;4.857;5191;\"no\"',\n",
       " '56;\"entrepreneur\";\"married\";\"university.degree\";\"unknown\";\"no\";\"no\";\"telephone\";\"may\";\"tue\";153;1;999;0;\"nonexistent\";1.1;93.994;-36.4;4.857;5191;\"no\"',\n",
       " '33;\"admin.\";\"married\";\"basic.9y\";\"no\";\"unknown\";\"unknown\";\"telephone\";\"may\";\"tue\";80;1;999;0;\"nonexistent\";1.1;93.994;-36.4;4.857;5191;\"no\"',\n",
       " '33;\"admin.\";\"married\";\"basic.9y\";\"no\";\"no\";\"no\";\"telephone\";\"may\";\"tue\";198;1;999;0;\"nonexistent\";1.1;93.994;-36.4;4.857;5191;\"no\"',\n",
       " '51;\"services\";\"divorced\";\"high.school\";\"unknown\";\"yes\";\"no\";\"telephone\";\"may\";\"tue\";568;1;999;0;\"nonexistent\";1.1;93.994;-36.4;4.857;5191;\"no\"',\n",
       " '39;\"services\";\"married\";\"high.school\";\"unknown\";\"yes\";\"no\";\"telephone\";\"may\";\"tue\";918;1;999;0;\"nonexistent\";1.1;93.994;-36.4;4.857;5191;\"yes\"',\n",
       " '45;\"entrepreneur\";\"married\";\"university.degree\";\"no\";\"no\";\"no\";\"telephone\";\"may\";\"tue\";82;1;999;0;\"nonexistent\";1.1;93.994;-36.4;4.857;5191;\"no\"',\n",
       " '40;\"technician\";\"single\";\"university.degree\";\"no\";\"no\";\"no\";\"telephone\";\"may\";\"tue\";198;3;999;0;\"nonexistent\";1.1;93.994;-36.4;4.857;5191;\"no\"',\n",
       " '60;\"unknown\";\"single\";\"unknown\";\"unknown\";\"yes\";\"no\";\"telephone\";\"may\";\"tue\";211;1;999;0;\"nonexistent\";1.1;93.994;-36.4;4.857;5191;\"no\"',\n",
       " '33;\"technician\";\"married\";\"university.degree\";\"no\";\"yes\";\"no\";\"telephone\";\"may\";\"tue\";120;1;999;0;\"nonexistent\";1.1;93.994;-36.4;4.857;5191;\"no\"',\n",
       " '47;\"blue-collar\";\"married\";\"high.school\";\"unknown\";\"yes\";\"no\";\"telephone\";\"may\";\"tue\";269;1;999;0;\"nonexistent\";1.1;93.994;-36.4;4.857;5191;\"no\"',\n",
       " '48;\"blue-collar\";\"married\";\"basic.4y\";\"no\";\"no\";\"no\";\"telephone\";\"may\";\"tue\";128;1;999;0;\"nonexistent\";1.1;93.994;-36.4;4.857;5191;\"no\"',\n",
       " '43;\"entrepreneur\";\"married\";\"high.school\";\"no\";\"no\";\"no\";\"telephone\";\"may\";\"tue\";166;2;999;0;\"nonexistent\";1.1;93.994;-36.4;4.857;5191;\"no\"',\n",
       " '37;\"management\";\"married\";\"university.degree\";\"no\";\"yes\";\"no\";\"telephone\";\"may\";\"tue\";211;1;999;0;\"nonexistent\";1.1;93.994;-36.4;4.857;5191;\"no\"',\n",
       " '50;\"services\";\"married\";\"basic.9y\";\"no\";\"yes\";\"yes\";\"telephone\";\"may\";\"tue\";369;1;999;0;\"nonexistent\";1.1;93.994;-36.4;4.857;5191;\"no\"',\n",
       " '59;\"entrepreneur\";\"married\";\"high.school\";\"no\";\"yes\";\"no\";\"telephone\";\"may\";\"tue\";91;1;999;0;\"nonexistent\";1.1;93.994;-36.4;4.857;5191;\"no\"',\n",
       " '32;\"technician\";\"married\";\"unknown\";\"unknown\";\"yes\";\"no\";\"telephone\";\"may\";\"tue\";267;2;999;0;\"nonexistent\";1.1;93.994;-36.4;4.857;5191;\"no\"',\n",
       " '42;\"housemaid\";\"single\";\"basic.4y\";\"unknown\";\"yes\";\"no\";\"telephone\";\"may\";\"tue\";198;1;999;0;\"nonexistent\";1.1;93.994;-36.4;4.857;5191;\"no\"',\n",
       " '52;\"blue-collar\";\"married\";\"basic.4y\";\"no\";\"no\";\"no\";\"telephone\";\"may\";\"tue\";371;2;999;0;\"nonexistent\";1.1;93.994;-36.4;4.857;5191;\"no\"',\n",
       " '42;\"blue-collar\";\"married\";\"unknown\";\"unknown\";\"no\";\"no\";\"telephone\";\"may\";\"tue\";288;2;999;0;\"nonexistent\";1.1;93.994;-36.4;4.857;5191;\"no\"',\n",
       " '42;\"admin.\";\"married\";\"unknown\";\"no\";\"no\";\"no\";\"telephone\";\"may\";\"tue\";221;1;999;0;\"nonexistent\";1.1;93.994;-36.4;4.857;5191;\"no\"',\n",
       " '40;\"management\";\"married\";\"basic.9y\";\"unknown\";\"unknown\";\"unknown\";\"telephone\";\"may\";\"tue\";427;1;999;0;\"nonexistent\";1.1;93.994;-36.4;4.857;5191;\"no\"',\n",
       " '38;\"blue-collar\";\"married\";\"basic.9y\";\"no\";\"no\";\"no\";\"telephone\";\"may\";\"tue\";310;1;999;0;\"nonexistent\";1.1;93.994;-36.4;4.857;5191;\"no\"',\n",
       " '39;\"blue-collar\";\"married\";\"basic.6y\";\"no\";\"yes\";\"no\";\"telephone\";\"may\";\"tue\";158;1;999;0;\"nonexistent\";1.1;93.994;-36.4;4.857;5191;\"no\"',\n",
       " '39;\"blue-collar\";\"married\";\"basic.6y\";\"no\";\"no\";\"no\";\"telephone\";\"may\";\"tue\";198;1;999;0;\"nonexistent\";1.1;93.994;-36.4;4.857;5191;\"no\"',\n",
       " '38;\"admin.\";\"married\";\"high.school\";\"no\";\"no\";\"no\";\"telephone\";\"may\";\"tue\";145;1;999;0;\"nonexistent\";1.1;93.994;-36.4;4.857;5191;\"no\"',\n",
       " '47;\"admin.\";\"single\";\"unknown\";\"unknown\";\"yes\";\"no\";\"telephone\";\"may\";\"tue\";247;1;999;0;\"nonexistent\";1.1;93.994;-36.4;4.857;5191;\"no\"',\n",
       " '30;\"services\";\"single\";\"high.school\";\"no\";\"no\";\"no\";\"telephone\";\"may\";\"tue\";102;1;999;0;\"nonexistent\";1.1;93.994;-36.4;4.857;5191;\"no\"',\n",
       " '38;\"admin.\";\"divorced\";\"high.school\";\"no\";\"yes\";\"yes\";\"telephone\";\"may\";\"tue\";179;2;999;0;\"nonexistent\";1.1;93.994;-36.4;4.857;5191;\"no\"',\n",
       " '39;\"technician\";\"divorced\";\"university.degree\";\"no\";\"no\";\"no\";\"telephone\";\"may\";\"tue\";73;1;999;0;\"nonexistent\";1.1;93.994;-36.4;4.857;5191;\"no\"',\n",
       " '44;\"admin.\";\"married\";\"high.school\";\"no\";\"no\";\"no\";\"telephone\";\"may\";\"tue\";263;2;999;0;\"nonexistent\";1.1;93.994;-36.4;4.857;5191;\"no\"',\n",
       " '36;\"admin.\";\"married\";\"high.school\";\"no\";\"no\";\"no\";\"telephone\";\"may\";\"tue\";342;2;999;0;\"nonexistent\";1.1;93.994;-36.4;4.857;5191;\"no\"',\n",
       " '41;\"services\";\"married\";\"high.school\";\"unknown\";\"yes\";\"yes\";\"telephone\";\"may\";\"tue\";41;1;999;0;\"nonexistent\";1.1;93.994;-36.4;4.857;5191;\"no\"',\n",
       " '41;\"blue-collar\";\"married\";\"basic.6y\";\"no\";\"no\";\"no\";\"telephone\";\"may\";\"tue\";13;1;999;0;\"nonexistent\";1.1;93.994;-36.4;4.857;5191;\"no\"',\n",
       " '35;\"blue-collar\";\"married\";\"basic.9y\";\"no\";\"no\";\"no\";\"telephone\";\"may\";\"tue\";79;2;999;0;\"nonexistent\";1.1;93.994;-36.4;4.857;5191;\"no\"',\n",
       " '41;\"technician\";\"married\";\"high.school\";\"no\";\"no\";\"no\";\"telephone\";\"may\";\"tue\";358;1;999;0;\"nonexistent\";1.1;93.994;-36.4;4.857;5191;\"no\"',\n",
       " '36;\"services\";\"married\";\"high.school\";\"unknown\";\"no\";\"no\";\"telephone\";\"may\";\"tue\";162;1;999;0;\"nonexistent\";1.1;93.994;-36.4;4.857;5191;\"no\"',\n",
       " '35;\"admin.\";\"single\";\"high.school\";\"no\";\"yes\";\"yes\";\"telephone\";\"may\";\"tue\";150;1;999;0;\"nonexistent\";1.1;93.994;-36.4;4.857;5191;\"no\"',\n",
       " '33;\"blue-collar\";\"single\";\"basic.4y\";\"unknown\";\"no\";\"no\";\"telephone\";\"may\";\"tue\";26;1;999;0;\"nonexistent\";1.1;93.994;-36.4;4.857;5191;\"no\"',\n",
       " '38;\"admin.\";\"single\";\"basic.6y\";\"unknown\";\"no\";\"no\";\"telephone\";\"may\";\"tue\";250;1;999;0;\"nonexistent\";1.1;93.994;-36.4;4.857;5191;\"no\"',\n",
       " '33;\"self-employed\";\"married\";\"university.degree\";\"no\";\"no\";\"no\";\"telephone\";\"may\";\"tue\";792;1;999;0;\"nonexistent\";1.1;93.994;-36.4;4.857;5191;\"no\"',\n",
       " '55;\"self-employed\";\"married\";\"unknown\";\"unknown\";\"no\";\"no\";\"telephone\";\"may\";\"tue\";146;1;999;0;\"nonexistent\";1.1;93.994;-36.4;4.857;5191;\"no\"',\n",
       " '36;\"blue-collar\";\"single\";\"basic.9y\";\"unknown\";\"no\";\"no\";\"telephone\";\"may\";\"tue\";440;1;999;0;\"nonexistent\";1.1;93.994;-36.4;4.857;5191;\"no\"',\n",
       " '57;\"technician\";\"married\";\"professional.course\";\"unknown\";\"no\";\"yes\";\"telephone\";\"may\";\"tue\";289;1;999;0;\"nonexistent\";1.1;93.994;-36.4;4.857;5191;\"no\"',\n",
       " '32;\"entrepreneur\";\"single\";\"university.degree\";\"no\";\"yes\";\"no\";\"telephone\";\"may\";\"tue\";242;2;999;0;\"nonexistent\";1.1;93.994;-36.4;4.857;5191;\"no\"',\n",
       " '30;\"self-employed\";\"single\";\"high.school\";\"no\";\"yes\";\"no\";\"telephone\";\"may\";\"tue\";123;1;999;0;\"nonexistent\";1.1;93.994;-36.4;4.857;5191;\"no\"',\n",
       " '43;\"admin.\";\"married\";\"professional.course\";\"no\";\"yes\";\"yes\";\"telephone\";\"may\";\"tue\";161;2;999;0;\"nonexistent\";1.1;93.994;-36.4;4.857;5191;\"no\"',\n",
       " '46;\"admin.\";\"married\";\"university.degree\";\"no\";\"no\";\"no\";\"telephone\";\"may\";\"tue\";268;2;999;0;\"nonexistent\";1.1;93.994;-36.4;4.857;5191;\"no\"',\n",
       " '35;\"admin.\";\"divorced\";\"high.school\";\"no\";\"no\";\"yes\";\"telephone\";\"may\";\"tue\";259;2;999;0;\"nonexistent\";1.1;93.994;-36.4;4.857;5191;\"no\"',\n",
       " '34;\"admin.\";\"single\";\"university.degree\";\"no\";\"yes\";\"yes\";\"telephone\";\"may\";\"tue\";26;1;999;0;\"nonexistent\";1.1;93.994;-36.4;4.857;5191;\"no\"',\n",
       " '50;\"blue-collar\";\"married\";\"basic.4y\";\"unknown\";\"unknown\";\"unknown\";\"telephone\";\"may\";\"tue\";153;1;999;0;\"nonexistent\";1.1;93.994;-36.4;4.857;5191;\"no\"',\n",
       " '39;\"admin.\";\"single\";\"university.degree\";\"no\";\"no\";\"no\";\"telephone\";\"may\";\"tue\";424;2;999;0;\"nonexistent\";1.1;93.994;-36.4;4.857;5191;\"no\"',\n",
       " '39;\"blue-collar\";\"married\";\"basic.9y\";\"unknown\";\"no\";\"no\";\"telephone\";\"may\";\"tue\";375;1;999;0;\"nonexistent\";1.1;93.994;-36.4;4.857;5191;\"no\"',\n",
       " '42;\"entrepreneur\";\"married\";\"basic.6y\";\"no\";\"no\";\"no\";\"telephone\";\"may\";\"tue\";179;2;999;0;\"nonexistent\";1.1;93.994;-36.4;4.857;5191;\"no\"',\n",
       " '57;\"retired\";\"married\";\"university.degree\";\"no\";\"yes\";\"no\";\"telephone\";\"may\";\"tue\";383;1;999;0;\"nonexistent\";1.1;93.994;-36.4;4.857;5191;\"no\"',\n",
       " '45;\"blue-collar\";\"married\";\"basic.4y\";\"unknown\";\"no\";\"no\";\"telephone\";\"may\";\"tue\";440;1;999;0;\"nonexistent\";1.1;93.994;-36.4;4.857;5191;\"no\"',\n",
       " '40;\"technician\";\"married\";\"basic.4y\";\"no\";\"no\";\"yes\";\"telephone\";\"may\";\"tue\";195;1;999;0;\"nonexistent\";1.1;93.994;-36.4;4.857;5191;\"no\"',\n",
       " '42;\"blue-collar\";\"married\";\"high.school\";\"no\";\"no\";\"yes\";\"telephone\";\"may\";\"tue\";1297;3;999;0;\"nonexistent\";1.1;93.994;-36.4;4.857;5191;\"yes\"',\n",
       " '40;\"technician\";\"married\";\"basic.4y\";\"no\";\"no\";\"no\";\"telephone\";\"may\";\"tue\";217;1;999;0;\"nonexistent\";1.1;93.994;-36.4;4.857;5191;\"no\"',\n",
       " '38;\"blue-collar\";\"single\";\"basic.4y\";\"unknown\";\"no\";\"no\";\"telephone\";\"may\";\"tue\";87;1;999;0;\"nonexistent\";1.1;93.994;-36.4;4.857;5191;\"no\"',\n",
       " '39;\"blue-collar\";\"married\";\"basic.6y\";\"unknown\";\"yes\";\"yes\";\"telephone\";\"may\";\"tue\";427;1;999;0;\"nonexistent\";1.1;93.994;-36.4;4.857;5191;\"no\"',\n",
       " '41;\"blue-collar\";\"married\";\"basic.4y\";\"no\";\"no\";\"no\";\"telephone\";\"may\";\"tue\";189;1;999;0;\"nonexistent\";1.1;93.994;-36.4;4.857;5191;\"no\"',\n",
       " '39;\"blue-collar\";\"married\";\"basic.6y\";\"unknown\";\"yes\";\"no\";\"telephone\";\"may\";\"tue\";502;1;999;0;\"nonexistent\";1.1;93.994;-36.4;4.857;5191;\"no\"',\n",
       " '41;\"blue-collar\";\"married\";\"basic.4y\";\"no\";\"yes\";\"yes\";\"telephone\";\"may\";\"tue\";260;1;999;0;\"nonexistent\";1.1;93.994;-36.4;4.857;5191;\"no\"',\n",
       " '45;\"admin.\";\"married\";\"university.degree\";\"unknown\";\"no\";\"no\";\"telephone\";\"may\";\"tue\";209;1;999;0;\"nonexistent\";1.1;93.994;-36.4;4.857;5191;\"no\"',\n",
       " '35;\"admin.\";\"divorced\";\"university.degree\";\"no\";\"unknown\";\"unknown\";\"telephone\";\"may\";\"tue\";179;1;999;0;\"nonexistent\";1.1;93.994;-36.4;4.857;5191;\"no\"',\n",
       " '35;\"admin.\";\"married\";\"basic.6y\";\"no\";\"yes\";\"no\";\"telephone\";\"may\";\"tue\";179;1;999;0;\"nonexistent\";1.1;93.994;-36.4;4.857;5191;\"no\"',\n",
       " '49;\"blue-collar\";\"married\";\"high.school\";\"unknown\";\"no\";\"no\";\"telephone\";\"may\";\"tue\";69;1;999;0;\"nonexistent\";1.1;93.994;-36.4;4.857;5191;\"no\"',\n",
       " '36;\"technician\";\"married\";\"unknown\";\"no\";\"no\";\"no\";\"telephone\";\"may\";\"tue\";105;2;999;0;\"nonexistent\";1.1;93.994;-36.4;4.857;5191;\"no\"',\n",
       " '23;\"admin.\";\"single\";\"university.degree\";\"no\";\"no\";\"no\";\"telephone\";\"may\";\"tue\";266;3;999;0;\"nonexistent\";1.1;93.994;-36.4;4.857;5191;\"no\"',\n",
       " '43;\"unemployed\";\"married\";\"university.degree\";\"unknown\";\"unknown\";\"unknown\";\"telephone\";\"may\";\"tue\";87;2;999;0;\"nonexistent\";1.1;93.994;-36.4;4.857;5191;\"no\"',\n",
       " '49;\"entrepreneur\";\"married\";\"professional.course\";\"no\";\"unknown\";\"unknown\";\"telephone\";\"may\";\"tue\";524;2;999;0;\"nonexistent\";1.1;93.994;-36.4;4.857;5191;\"no\"',\n",
       " '36;\"technician\";\"married\";\"professional.course\";\"no\";\"unknown\";\"unknown\";\"telephone\";\"may\";\"tue\";155;2;999;0;\"nonexistent\";1.1;93.994;-36.4;4.857;5191;\"no\"',\n",
       " '51;\"blue-collar\";\"married\";\"basic.9y\";\"unknown\";\"yes\";\"no\";\"telephone\";\"may\";\"tue\";162;2;999;0;\"nonexistent\";1.1;93.994;-36.4;4.857;5191;\"no\"',\n",
       " '56;\"retired\";\"married\";\"basic.4y\";\"unknown\";\"yes\";\"yes\";\"telephone\";\"may\";\"tue\";316;4;999;0;\"nonexistent\";1.1;93.994;-36.4;4.857;5191;\"no\"',\n",
       " '45;\"housemaid\";\"married\";\"high.school\";\"no\";\"no\";\"no\";\"telephone\";\"may\";\"tue\";352;2;999;0;\"nonexistent\";1.1;93.994;-36.4;4.857;5191;\"no\"',\n",
       " '42;\"admin.\";\"married\";\"high.school\";\"no\";\"no\";\"no\";\"telephone\";\"may\";\"tue\";695;3;999;0;\"nonexistent\";1.1;93.994;-36.4;4.857;5191;\"no\"',\n",
       " '41;\"admin.\";\"divorced\";\"high.school\";\"no\";\"no\";\"no\";\"telephone\";\"may\";\"tue\";76;4;999;0;\"nonexistent\";1.1;93.994;-36.4;4.857;5191;\"no\"',\n",
       " '32;\"services\";\"married\";\"high.school\";\"unknown\";\"no\";\"yes\";\"telephone\";\"may\";\"tue\";535;2;999;0;\"nonexistent\";1.1;93.994;-36.4;4.857;5191;\"no\"',\n",
       " '46;\"management\";\"married\";\"university.degree\";\"no\";\"no\";\"no\";\"telephone\";\"may\";\"tue\";310;2;999;0;\"nonexistent\";1.1;93.994;-36.4;4.857;5191;\"no\"',\n",
       " '37;\"blue-collar\";\"married\";\"unknown\";\"no\";\"no\";\"no\";\"telephone\";\"may\";\"tue\";390;3;999;0;\"nonexistent\";1.1;93.994;-36.4;4.857;5191;\"no\"',\n",
       " '53;\"management\";\"married\";\"university.degree\";\"unknown\";\"no\";\"no\";\"telephone\";\"may\";\"tue\";369;1;999;0;\"nonexistent\";1.1;93.994;-36.4;4.857;5191;\"no\"',\n",
       " '30;\"blue-collar\";\"married\";\"basic.4y\";\"no\";\"no\";\"no\";\"telephone\";\"may\";\"tue\";112;2;999;0;\"nonexistent\";1.1;93.994;-36.4;4.857;5191;\"no\"',\n",
       " '45;\"unknown\";\"married\";\"unknown\";\"unknown\";\"no\";\"no\";\"telephone\";\"may\";\"tue\";79;1;999;0;\"nonexistent\";1.1;93.994;-36.4;4.857;5191;\"no\"',\n",
       " '24;\"technician\";\"single\";\"professional.course\";\"no\";\"no\";\"yes\";\"telephone\";\"may\";\"tue\";140;2;999;0;\"nonexistent\";1.1;93.994;-36.4;4.857;5191;\"no\"',\n",
       " '45;\"unknown\";\"married\";\"unknown\";\"unknown\";\"no\";\"no\";\"telephone\";\"may\";\"tue\";315;1;999;0;\"nonexistent\";1.1;93.994;-36.4;4.857;5191;\"no\"',\n",
       " '34;\"admin.\";\"single\";\"university.degree\";\"no\";\"no\";\"yes\";\"telephone\";\"may\";\"tue\";262;2;999;0;\"nonexistent\";1.1;93.994;-36.4;4.857;5191;\"no\"',\n",
       " '41;\"management\";\"married\";\"university.degree\";\"unknown\";\"no\";\"no\";\"telephone\";\"may\";\"tue\";174;2;999;0;\"nonexistent\";1.1;93.994;-36.4;4.857;5191;\"no\"',\n",
       " '59;\"blue-collar\";\"married\";\"basic.4y\";\"no\";\"yes\";\"no\";\"telephone\";\"may\";\"tue\";424;2;999;0;\"nonexistent\";1.1;93.994;-36.4;4.857;5191;\"no\"',\n",
       " '45;\"blue-collar\";\"married\";\"basic.4y\";\"unknown\";\"no\";\"no\";\"telephone\";\"may\";\"tue\";135;1;999;0;\"nonexistent\";1.1;93.994;-36.4;4.857;5191;\"no\"',\n",
       " '54;\"blue-collar\";\"married\";\"basic.6y\";\"unknown\";\"no\";\"no\";\"telephone\";\"may\";\"tue\";36;5;999;0;\"nonexistent\";1.1;93.994;-36.4;4.857;5191;\"no\"',\n",
       " '32;\"technician\";\"married\";\"professional.course\";\"no\";\"no\";\"no\";\"telephone\";\"may\";\"tue\";1906;3;999;0;\"nonexistent\";1.1;93.994;-36.4;4.857;5191;\"no\"',\n",
       " '33;\"technician\";\"married\";\"professional.course\";\"no\";\"yes\";\"no\";\"telephone\";\"may\";\"tue\";219;2;999;0;\"nonexistent\";1.1;93.994;-36.4;4.857;5191;\"no\"',\n",
       " '32;\"admin.\";\"married\";\"university.degree\";\"no\";\"no\";\"no\";\"telephone\";\"may\";\"tue\";135;1;999;0;\"nonexistent\";1.1;93.994;-36.4;4.857;5191;\"no\"',\n",
       " '34;\"services\";\"single\";\"high.school\";\"no\";\"unknown\";\"unknown\";\"telephone\";\"may\";\"tue\";147;2;999;0;\"nonexistent\";1.1;93.994;-36.4;4.857;5191;\"no\"',\n",
       " '46;\"management\";\"married\";\"university.degree\";\"no\";\"no\";\"no\";\"telephone\";\"may\";\"tue\";407;2;999;0;\"nonexistent\";1.1;93.994;-36.4;4.857;5191;\"no\"',\n",
       " '57;\"technician\";\"married\";\"professional.course\";\"no\";\"yes\";\"no\";\"telephone\";\"may\";\"tue\";402;4;999;0;\"nonexistent\";1.1;93.994;-36.4;4.857;5191;\"no\"',\n",
       " '42;\"technician\";\"married\";\"basic.9y\";\"no\";\"no\";\"no\";\"telephone\";\"may\";\"tue\";209;1;999;0;\"nonexistent\";1.1;93.994;-36.4;4.857;5191;\"no\"',\n",
       " '48;\"admin.\";\"married\";\"professional.course\";\"no\";\"yes\";\"no\";\"telephone\";\"may\";\"tue\";92;2;999;0;\"nonexistent\";1.1;93.994;-36.4;4.857;5191;\"no\"',\n",
       " '58;\"admin.\";\"divorced\";\"university.degree\";\"unknown\";\"yes\";\"no\";\"telephone\";\"may\";\"tue\";208;1;999;0;\"nonexistent\";1.1;93.994;-36.4;4.857;5191;\"no\"',\n",
       " '34;\"services\";\"married\";\"high.school\";\"no\";\"no\";\"no\";\"telephone\";\"may\";\"tue\";193;1;999;0;\"nonexistent\";1.1;93.994;-36.4;4.857;5191;\"no\"',\n",
       " '32;\"admin.\";\"single\";\"university.degree\";\"no\";\"yes\";\"yes\";\"telephone\";\"may\";\"tue\";65;1;999;0;\"nonexistent\";1.1;93.994;-36.4;4.857;5191;\"no\"',\n",
       " '48;\"blue-collar\";\"married\";\"basic.9y\";\"no\";\"no\";\"no\";\"telephone\";\"may\";\"tue\";284;2;999;0;\"nonexistent\";1.1;93.994;-36.4;4.857;5191;\"no\"',\n",
       " '47;\"blue-collar\";\"married\";\"basic.9y\";\"no\";\"no\";\"no\";\"telephone\";\"may\";\"tue\";285;1;999;0;\"nonexistent\";1.1;93.994;-36.4;4.857;5191;\"no\"',\n",
       " '31;\"services\";\"married\";\"high.school\";\"unknown\";\"no\";\"no\";\"telephone\";\"may\";\"tue\";231;1;999;0;\"nonexistent\";1.1;93.994;-36.4;4.857;5191;\"no\"',\n",
       " '32;\"admin.\";\"single\";\"university.degree\";\"no\";\"yes\";\"no\";\"telephone\";\"may\";\"tue\";278;1;999;0;\"nonexistent\";1.1;93.994;-36.4;4.857;5191;\"no\"',\n",
       " '32;\"admin.\";\"single\";\"university.degree\";\"no\";\"no\";\"no\";\"telephone\";\"may\";\"tue\";389;1;999;0;\"nonexistent\";1.1;93.994;-36.4;4.857;5191;\"no\"',\n",
       " '36;\"services\";\"married\";\"high.school\";\"no\";\"no\";\"no\";\"telephone\";\"may\";\"tue\";158;1;999;0;\"nonexistent\";1.1;93.994;-36.4;4.857;5191;\"no\"',\n",
       " '53;\"blue-collar\";\"married\";\"basic.4y\";\"unknown\";\"no\";\"yes\";\"telephone\";\"may\";\"tue\";78;2;999;0;\"nonexistent\";1.1;93.994;-36.4;4.857;5191;\"no\"',\n",
       " '37;\"blue-collar\";\"married\";\"basic.9y\";\"unknown\";\"no\";\"no\";\"telephone\";\"may\";\"tue\";258;5;999;0;\"nonexistent\";1.1;93.994;-36.4;4.857;5191;\"no\"',\n",
       " '50;\"services\";\"married\";\"high.school\";\"no\";\"no\";\"no\";\"telephone\";\"may\";\"tue\";87;1;999;0;\"nonexistent\";1.1;93.994;-36.4;4.857;5191;\"no\"',\n",
       " '46;\"blue-collar\";\"married\";\"basic.6y\";\"no\";\"yes\";\"no\";\"telephone\";\"may\";\"tue\";147;2;999;0;\"nonexistent\";1.1;93.994;-36.4;4.857;5191;\"no\"',\n",
       " '41;\"admin.\";\"married\";\"high.school\";\"no\";\"no\";\"no\";\"telephone\";\"may\";\"tue\";635;1;999;0;\"nonexistent\";1.1;93.994;-36.4;4.857;5191;\"no\"',\n",
       " '43;\"blue-collar\";\"single\";\"basic.4y\";\"no\";\"no\";\"no\";\"telephone\";\"may\";\"tue\";289;1;999;0;\"nonexistent\";1.1;93.994;-36.4;4.857;5191;\"no\"',\n",
       " '51;\"management\";\"married\";\"university.degree\";\"no\";\"yes\";\"no\";\"telephone\";\"may\";\"tue\";170;3;999;0;\"nonexistent\";1.1;93.994;-36.4;4.857;5191;\"no\"',\n",
       " '38;\"admin.\";\"married\";\"university.degree\";\"no\";\"yes\";\"no\";\"telephone\";\"may\";\"tue\";802;1;999;0;\"nonexistent\";1.1;93.994;-36.4;4.857;5191;\"no\"',\n",
       " '41;\"technician\";\"married\";\"basic.6y\";\"no\";\"yes\";\"no\";\"telephone\";\"may\";\"tue\";381;2;999;0;\"nonexistent\";1.1;93.994;-36.4;4.857;5191;\"no\"',\n",
       " '39;\"services\";\"married\";\"high.school\";\"unknown\";\"no\";\"no\";\"telephone\";\"may\";\"tue\";218;4;999;0;\"nonexistent\";1.1;93.994;-36.4;4.857;5191;\"no\"',\n",
       " '52;\"blue-collar\";\"married\";\"basic.4y\";\"no\";\"no\";\"no\";\"telephone\";\"may\";\"tue\";57;2;999;0;\"nonexistent\";1.1;93.994;-36.4;4.857;5191;\"no\"',\n",
       " '37;\"technician\";\"married\";\"professional.course\";\"no\";\"yes\";\"no\";\"telephone\";\"may\";\"tue\";304;2;999;0;\"nonexistent\";1.1;93.994;-36.4;4.857;5191;\"no\"',\n",
       " '41;\"admin.\";\"married\";\"basic.9y\";\"no\";\"yes\";\"no\";\"telephone\";\"may\";\"tue\";241;3;999;0;\"nonexistent\";1.1;93.994;-36.4;4.857;5191;\"no\"',\n",
       " '46;\"admin.\";\"divorced\";\"university.degree\";\"no\";\"yes\";\"yes\";\"telephone\";\"may\";\"tue\";230;1;999;0;\"nonexistent\";1.1;93.994;-36.4;4.857;5191;\"no\"',\n",
       " '47;\"technician\";\"married\";\"professional.course\";\"no\";\"no\";\"no\";\"telephone\";\"may\";\"tue\";79;4;999;0;\"nonexistent\";1.1;93.994;-36.4;4.857;5191;\"no\"',\n",
       " '35;\"technician\";\"married\";\"professional.course\";\"no\";\"no\";\"no\";\"telephone\";\"may\";\"tue\";262;3;999;0;\"nonexistent\";1.1;93.994;-36.4;4.857;5191;\"no\"',\n",
       " '38;\"services\";\"married\";\"high.school\";\"unknown\";\"no\";\"no\";\"telephone\";\"may\";\"tue\";392;2;999;0;\"nonexistent\";1.1;93.994;-36.4;4.857;5191;\"no\"',\n",
       " '30;\"blue-collar\";\"single\";\"unknown\";\"no\";\"yes\";\"yes\";\"telephone\";\"may\";\"tue\";201;2;999;0;\"nonexistent\";1.1;93.994;-36.4;4.857;5191;\"no\"',\n",
       " '46;\"blue-collar\";\"married\";\"basic.9y\";\"no\";\"yes\";\"no\";\"telephone\";\"may\";\"tue\";145;1;999;0;\"nonexistent\";1.1;93.994;-36.4;4.857;5191;\"no\"',\n",
       " '30;\"technician\";\"married\";\"professional.course\";\"no\";\"no\";\"no\";\"telephone\";\"may\";\"tue\";252;1;999;0;\"nonexistent\";1.1;93.994;-36.4;4.857;5191;\"no\"',\n",
       " '35;\"services\";\"single\";\"basic.4y\";\"no\";\"no\";\"no\";\"telephone\";\"may\";\"tue\";329;1;999;0;\"nonexistent\";1.1;93.994;-36.4;4.857;5191;\"no\"',\n",
       " '58;\"admin.\";\"married\";\"unknown\";\"unknown\";\"yes\";\"no\";\"telephone\";\"may\";\"tue\";328;2;999;0;\"nonexistent\";1.1;93.994;-36.4;4.857;5191;\"no\"',\n",
       " '40;\"technician\";\"married\";\"professional.course\";\"no\";\"no\";\"no\";\"telephone\";\"may\";\"tue\";191;2;999;0;\"nonexistent\";1.1;93.994;-36.4;4.857;5191;\"no\"',\n",
       " '34;\"technician\";\"married\";\"university.degree\";\"no\";\"no\";\"no\";\"telephone\";\"may\";\"tue\";116;2;999;0;\"nonexistent\";1.1;93.994;-36.4;4.857;5191;\"no\"',\n",
       " '30;\"admin.\";\"single\";\"university.degree\";\"no\";\"no\";\"no\";\"telephone\";\"may\";\"tue\";246;1;999;0;\"nonexistent\";1.1;93.994;-36.4;4.857;5191;\"no\"',\n",
       " '38;\"services\";\"married\";\"basic.6y\";\"no\";\"no\";\"no\";\"telephone\";\"may\";\"tue\";532;2;999;0;\"nonexistent\";1.1;93.994;-36.4;4.857;5191;\"no\"',\n",
       " '55;\"management\";\"single\";\"basic.4y\";\"no\";\"no\";\"no\";\"telephone\";\"may\";\"tue\";293;1;999;0;\"nonexistent\";1.1;93.994;-36.4;4.857;5191;\"no\"',\n",
       " '55;\"management\";\"married\";\"university.degree\";\"unknown\";\"yes\";\"no\";\"telephone\";\"may\";\"tue\";416;3;999;0;\"nonexistent\";1.1;93.994;-36.4;4.857;5191;\"no\"',\n",
       " '45;\"technician\";\"single\";\"professional.course\";\"no\";\"yes\";\"no\";\"telephone\";\"may\";\"tue\";37;2;999;0;\"nonexistent\";1.1;93.994;-36.4;4.857;5191;\"no\"',\n",
       " '36;\"admin.\";\"married\";\"university.degree\";\"no\";\"yes\";\"yes\";\"telephone\";\"may\";\"tue\";132;2;999;0;\"nonexistent\";1.1;93.994;-36.4;4.857;5191;\"no\"',\n",
       " '32;\"admin.\";\"single\";\"university.degree\";\"no\";\"no\";\"no\";\"telephone\";\"may\";\"tue\";530;2;999;0;\"nonexistent\";1.1;93.994;-36.4;4.857;5191;\"no\"',\n",
       " '35;\"technician\";\"married\";\"unknown\";\"unknown\";\"yes\";\"no\";\"telephone\";\"may\";\"tue\";175;3;999;0;\"nonexistent\";1.1;93.994;-36.4;4.857;5191;\"no\"',\n",
       " '55;\"management\";\"divorced\";\"university.degree\";\"no\";\"yes\";\"no\";\"telephone\";\"may\";\"tue\";90;5;999;0;\"nonexistent\";1.1;93.994;-36.4;4.857;5191;\"no\"',\n",
       " '49;\"housemaid\";\"married\";\"basic.4y\";\"unknown\";\"unknown\";\"unknown\";\"telephone\";\"may\";\"tue\";524;2;999;0;\"nonexistent\";1.1;93.994;-36.4;4.857;5191;\"no\"',\n",
       " '29;\"admin.\";\"married\";\"high.school\";\"no\";\"yes\";\"no\";\"telephone\";\"may\";\"tue\";29;3;999;0;\"nonexistent\";1.1;93.994;-36.4;4.857;5191;\"no\"',\n",
       " '34;\"blue-collar\";\"married\";\"basic.4y\";\"no\";\"yes\";\"no\";\"telephone\";\"may\";\"tue\";311;2;999;0;\"nonexistent\";1.1;93.994;-36.4;4.857;5191;\"no\"',\n",
       " '54;\"retired\";\"married\";\"high.school\";\"unknown\";\"yes\";\"no\";\"telephone\";\"may\";\"tue\";412;1;999;0;\"nonexistent\";1.1;93.994;-36.4;4.857;5191;\"no\"',\n",
       " '36;\"technician\";\"single\";\"professional.course\";\"no\";\"no\";\"no\";\"telephone\";\"may\";\"tue\";211;2;999;0;\"nonexistent\";1.1;93.994;-36.4;4.857;5191;\"no\"',\n",
       " '30;\"management\";\"single\";\"university.degree\";\"no\";\"yes\";\"no\";\"telephone\";\"may\";\"tue\";312;3;999;0;\"nonexistent\";1.1;93.994;-36.4;4.857;5191;\"no\"',\n",
       " '33;\"housemaid\";\"divorced\";\"university.degree\";\"no\";\"no\";\"no\";\"telephone\";\"may\";\"tue\";392;1;999;0;\"nonexistent\";1.1;93.994;-36.4;4.857;5191;\"no\"',\n",
       " '37;\"blue-collar\";\"married\";\"high.school\";\"no\";\"no\";\"no\";\"telephone\";\"may\";\"tue\";191;1;999;0;\"nonexistent\";1.1;93.994;-36.4;4.857;5191;\"no\"',\n",
       " '36;\"technician\";\"married\";\"basic.9y\";\"unknown\";\"yes\";\"no\";\"telephone\";\"may\";\"tue\";284;2;999;0;\"nonexistent\";1.1;93.994;-36.4;4.857;5191;\"no\"',\n",
       " '33;\"blue-collar\";\"married\";\"high.school\";\"no\";\"no\";\"no\";\"telephone\";\"may\";\"tue\";328;1;999;0;\"nonexistent\";1.1;93.994;-36.4;4.857;5191;\"no\"',\n",
       " '32;\"housemaid\";\"married\";\"high.school\";\"no\";\"yes\";\"no\";\"telephone\";\"may\";\"tue\";100;1;999;0;\"nonexistent\";1.1;93.994;-36.4;4.857;5191;\"no\"',\n",
       " '32;\"housemaid\";\"married\";\"high.school\";\"no\";\"no\";\"no\";\"telephone\";\"may\";\"tue\";226;1;999;0;\"nonexistent\";1.1;93.994;-36.4;4.857;5191;\"no\"',\n",
       " '50;\"blue-collar\";\"married\";\"basic.4y\";\"unknown\";\"yes\";\"no\";\"telephone\";\"may\";\"tue\";507;1;999;0;\"nonexistent\";1.1;93.994;-36.4;4.857;5191;\"no\"',\n",
       " '39;\"blue-collar\";\"married\";\"basic.9y\";\"no\";\"no\";\"yes\";\"telephone\";\"may\";\"tue\";333;2;999;0;\"nonexistent\";1.1;93.994;-36.4;4.857;5191;\"no\"',\n",
       " '51;\"blue-collar\";\"divorced\";\"unknown\";\"unknown\";\"yes\";\"yes\";\"telephone\";\"may\";\"tue\";128;2;999;0;\"nonexistent\";1.1;93.994;-36.4;4.857;5191;\"no\"',\n",
       " '33;\"services\";\"married\";\"high.school\";\"no\";\"no\";\"no\";\"telephone\";\"may\";\"tue\";322;2;999;0;\"nonexistent\";1.1;93.994;-36.4;4.857;5191;\"no\"',\n",
       " '33;\"services\";\"married\";\"basic.4y\";\"no\";\"no\";\"no\";\"telephone\";\"may\";\"tue\";202;4;999;0;\"nonexistent\";1.1;93.994;-36.4;4.857;5191;\"no\"',\n",
       " '56;\"management\";\"married\";\"university.degree\";\"unknown\";\"no\";\"yes\";\"telephone\";\"may\";\"tue\";92;2;999;0;\"nonexistent\";1.1;93.994;-36.4;4.857;5191;\"no\"',\n",
       " '39;\"management\";\"divorced\";\"university.degree\";\"unknown\";\"yes\";\"no\";\"telephone\";\"may\";\"tue\";205;2;999;0;\"nonexistent\";1.1;93.994;-36.4;4.857;5191;\"no\"',\n",
       " '33;\"self-employed\";\"single\";\"university.degree\";\"no\";\"no\";\"no\";\"telephone\";\"may\";\"tue\";739;3;999;0;\"nonexistent\";1.1;93.994;-36.4;4.857;5191;\"no\"',\n",
       " '59;\"retired\";\"divorced\";\"basic.4y\";\"unknown\";\"no\";\"no\";\"telephone\";\"may\";\"tue\";273;2;999;0;\"nonexistent\";1.1;93.994;-36.4;4.857;5191;\"no\"',\n",
       " '42;\"admin.\";\"single\";\"unknown\";\"no\";\"yes\";\"no\";\"telephone\";\"may\";\"tue\";339;3;999;0;\"nonexistent\";1.1;93.994;-36.4;4.857;5191;\"no\"',\n",
       " '43;\"services\";\"married\";\"high.school\";\"no\";\"no\";\"yes\";\"telephone\";\"may\";\"tue\";262;1;999;0;\"nonexistent\";1.1;93.994;-36.4;4.857;5191;\"no\"',\n",
       " '35;\"admin.\";\"married\";\"university.degree\";\"no\";\"unknown\";\"unknown\";\"telephone\";\"may\";\"tue\";308;3;999;0;\"nonexistent\";1.1;93.994;-36.4;4.857;5191;\"no\"',\n",
       " '46;\"blue-collar\";\"married\";\"basic.6y\";\"unknown\";\"yes\";\"no\";\"telephone\";\"may\";\"tue\";467;2;999;0;\"nonexistent\";1.1;93.994;-36.4;4.857;5191;\"no\"',\n",
       " '27;\"technician\";\"married\";\"basic.9y\";\"no\";\"no\";\"yes\";\"telephone\";\"may\";\"tue\";245;2;999;0;\"nonexistent\";1.1;93.994;-36.4;4.857;5191;\"no\"',\n",
       " '47;\"admin.\";\"divorced\";\"university.degree\";\"no\";\"yes\";\"no\";\"telephone\";\"may\";\"tue\";160;3;999;0;\"nonexistent\";1.1;93.994;-36.4;4.857;5191;\"no\"',\n",
       " '31;\"admin.\";\"single\";\"university.degree\";\"no\";\"no\";\"no\";\"telephone\";\"may\";\"tue\";189;2;999;0;\"nonexistent\";1.1;93.994;-36.4;4.857;5191;\"no\"',\n",
       " '32;\"blue-collar\";\"married\";\"basic.9y\";\"no\";\"yes\";\"no\";\"telephone\";\"may\";\"tue\";477;1;999;0;\"nonexistent\";1.1;93.994;-36.4;4.857;5191;\"no\"',\n",
       " '54;\"admin.\";\"married\";\"high.school\";\"no\";\"no\";\"no\";\"telephone\";\"may\";\"tue\";65;3;999;0;\"nonexistent\";1.1;93.994;-36.4;4.857;5191;\"no\"',\n",
       " '56;\"management\";\"married\";\"university.degree\";\"unknown\";\"no\";\"no\";\"telephone\";\"may\";\"tue\";191;1;999;0;\"nonexistent\";1.1;93.994;-36.4;4.857;5191;\"no\"',\n",
       " '48;\"services\";\"single\";\"high.school\";\"unknown\";\"yes\";\"no\";\"telephone\";\"may\";\"tue\";196;2;999;0;\"nonexistent\";1.1;93.994;-36.4;4.857;5191;\"no\"',\n",
       " '44;\"admin.\";\"married\";\"high.school\";\"no\";\"yes\";\"no\";\"telephone\";\"may\";\"tue\";221;2;999;0;\"nonexistent\";1.1;93.994;-36.4;4.857;5191;\"no\"',\n",
       " '46;\"admin.\";\"married\";\"high.school\";\"no\";\"no\";\"yes\";\"telephone\";\"may\";\"tue\";197;2;999;0;\"nonexistent\";1.1;93.994;-36.4;4.857;5191;\"no\"',\n",
       " '45;\"services\";\"married\";\"high.school\";\"no\";\"yes\";\"no\";\"telephone\";\"may\";\"tue\";178;2;999;0;\"nonexistent\";1.1;93.994;-36.4;4.857;5191;\"no\"',\n",
       " '43;\"admin.\";\"married\";\"professional.course\";\"no\";\"no\";\"yes\";\"telephone\";\"may\";\"tue\";221;2;999;0;\"nonexistent\";1.1;93.994;-36.4;4.857;5191;\"no\"',\n",
       " '40;\"admin.\";\"single\";\"high.school\";\"unknown\";\"no\";\"no\";\"telephone\";\"may\";\"tue\";64;2;999;0;\"nonexistent\";1.1;93.994;-36.4;4.857;5191;\"no\"',\n",
       " '56;\"management\";\"married\";\"university.degree\";\"no\";\"yes\";\"no\";\"telephone\";\"may\";\"tue\";75;2;999;0;\"nonexistent\";1.1;93.994;-36.4;4.857;5191;\"no\"',\n",
       " '47;\"entrepreneur\";\"married\";\"professional.course\";\"no\";\"no\";\"no\";\"telephone\";\"may\";\"tue\";400;2;999;0;\"nonexistent\";1.1;93.994;-36.4;4.857;5191;\"no\"',\n",
       " '39;\"management\";\"divorced\";\"university.degree\";\"unknown\";\"yes\";\"no\";\"telephone\";\"may\";\"tue\";378;3;999;0;\"nonexistent\";1.1;93.994;-36.4;4.857;5191;\"no\"',\n",
       " '48;\"technician\";\"married\";\"basic.4y\";\"unknown\";\"no\";\"no\";\"telephone\";\"may\";\"tue\";118;2;999;0;\"nonexistent\";1.1;93.994;-36.4;4.857;5191;\"no\"',\n",
       " '45;\"housemaid\";\"married\";\"professional.course\";\"unknown\";\"yes\";\"no\";\"telephone\";\"may\";\"tue\";1597;2;999;0;\"nonexistent\";1.1;93.994;-36.4;4.857;5191;\"yes\"',\n",
       " '36;\"self-employed\";\"married\";\"university.degree\";\"no\";\"no\";\"no\";\"telephone\";\"may\";\"tue\";346;2;999;0;\"nonexistent\";1.1;93.994;-36.4;4.857;5191;\"no\"',\n",
       " '49;\"management\";\"married\";\"professional.course\";\"unknown\";\"yes\";\"no\";\"telephone\";\"may\";\"tue\";107;2;999;0;\"nonexistent\";1.1;93.994;-36.4;4.857;5191;\"no\"',\n",
       " '46;\"services\";\"married\";\"high.school\";\"no\";\"no\";\"no\";\"telephone\";\"may\";\"tue\";60;3;999;0;\"nonexistent\";1.1;93.994;-36.4;4.857;5191;\"no\"',\n",
       " '38;\"blue-collar\";\"married\";\"basic.9y\";\"no\";\"yes\";\"no\";\"telephone\";\"may\";\"tue\";276;2;999;0;\"nonexistent\";1.1;93.994;-36.4;4.857;5191;\"no\"',\n",
       " '50;\"housemaid\";\"married\";\"basic.4y\";\"unknown\";\"yes\";\"no\";\"telephone\";\"may\";\"tue\";176;2;999;0;\"nonexistent\";1.1;93.994;-36.4;4.857;5191;\"no\"',\n",
       " '27;\"admin.\";\"single\";\"high.school\";\"no\";\"yes\";\"no\";\"telephone\";\"may\";\"tue\";390;2;999;0;\"nonexistent\";1.1;93.994;-36.4;4.857;5191;\"no\"',\n",
       " '40;\"technician\";\"married\";\"professional.course\";\"unknown\";\"yes\";\"no\";\"telephone\";\"may\";\"tue\";251;3;999;0;\"nonexistent\";1.1;93.994;-36.4;4.857;5191;\"no\"',\n",
       " '46;\"management\";\"married\";\"university.degree\";\"no\";\"yes\";\"no\";\"telephone\";\"may\";\"tue\";716;2;999;0;\"nonexistent\";1.1;93.994;-36.4;4.857;5191;\"no\"',\n",
       " '40;\"admin.\";\"divorced\";\"university.degree\";\"no\";\"yes\";\"no\";\"telephone\";\"may\";\"tue\";189;3;999;0;\"nonexistent\";1.1;93.994;-36.4;4.857;5191;\"no\"',\n",
       " '33;\"management\";\"single\";\"university.degree\";\"no\";\"no\";\"no\";\"telephone\";\"may\";\"tue\";125;2;999;0;\"nonexistent\";1.1;93.994;-36.4;4.857;5191;\"no\"',\n",
       " '54;\"retired\";\"married\";\"high.school\";\"no\";\"yes\";\"no\";\"telephone\";\"may\";\"tue\";234;2;999;0;\"nonexistent\";1.1;93.994;-36.4;4.857;5191;\"no\"',\n",
       " '52;\"blue-collar\";\"married\";\"basic.4y\";\"unknown\";\"yes\";\"no\";\"telephone\";\"may\";\"tue\";79;2;999;0;\"nonexistent\";1.1;93.994;-36.4;4.857;5191;\"no\"',\n",
       " '53;\"admin.\";\"married\";\"university.degree\";\"unknown\";\"yes\";\"no\";\"telephone\";\"may\";\"tue\";13;6;999;0;\"nonexistent\";1.1;93.994;-36.4;4.857;5191;\"no\"',\n",
       " '49;\"services\";\"married\";\"high.school\";\"unknown\";\"no\";\"no\";\"telephone\";\"may\";\"tue\";296;3;999;0;\"nonexistent\";1.1;93.994;-36.4;4.857;5191;\"no\"',\n",
       " '42;\"blue-collar\";\"married\";\"basic.4y\";\"unknown\";\"no\";\"no\";\"telephone\";\"may\";\"tue\";114;2;999;0;\"nonexistent\";1.1;93.994;-36.4;4.857;5191;\"no\"',\n",
       " '49;\"housemaid\";\"married\";\"basic.4y\";\"no\";\"no\";\"no\";\"telephone\";\"may\";\"tue\";283;3;999;0;\"nonexistent\";1.1;93.994;-36.4;4.857;5191;\"no\"',\n",
       " '40;\"entrepreneur\";\"married\";\"basic.9y\";\"no\";\"no\";\"no\";\"telephone\";\"may\";\"tue\";109;2;999;0;\"nonexistent\";1.1;93.994;-36.4;4.857;5191;\"no\"',\n",
       " '59;\"admin.\";\"married\";\"university.degree\";\"unknown\";\"no\";\"no\";\"telephone\";\"may\";\"tue\";132;2;999;0;\"nonexistent\";1.1;93.994;-36.4;4.857;5191;\"no\"',\n",
       " '51;\"self-employed\";\"married\";\"basic.9y\";\"no\";\"yes\";\"no\";\"telephone\";\"may\";\"tue\";144;2;999;0;\"nonexistent\";1.1;93.994;-36.4;4.857;5191;\"no\"',\n",
       " '57;\"housemaid\";\"married\";\"basic.6y\";\"unknown\";\"yes\";\"no\";\"telephone\";\"may\";\"tue\";121;2;999;0;\"nonexistent\";1.1;93.994;-36.4;4.857;5191;\"no\"',\n",
       " '38;\"self-employed\";\"divorced\";\"basic.9y\";\"no\";\"yes\";\"no\";\"telephone\";\"may\";\"tue\";95;3;999;0;\"nonexistent\";1.1;93.994;-36.4;4.857;5191;\"no\"',\n",
       " '52;\"self-employed\";\"married\";\"university.degree\";\"no\";\"no\";\"no\";\"telephone\";\"may\";\"tue\";31;3;999;0;\"nonexistent\";1.1;93.994;-36.4;4.857;5191;\"no\"',\n",
       " '26;\"unemployed\";\"single\";\"basic.9y\";\"no\";\"yes\";\"no\";\"telephone\";\"may\";\"tue\";112;3;999;0;\"nonexistent\";1.1;93.994;-36.4;4.857;5191;\"no\"',\n",
       " '35;\"admin.\";\"married\";\"university.degree\";\"no\";\"yes\";\"yes\";\"telephone\";\"may\";\"tue\";161;2;999;0;\"nonexistent\";1.1;93.994;-36.4;4.857;5191;\"no\"',\n",
       " '51;\"admin.\";\"married\";\"university.degree\";\"no\";\"no\";\"no\";\"telephone\";\"may\";\"tue\";87;4;999;0;\"nonexistent\";1.1;93.994;-36.4;4.857;5191;\"no\"',\n",
       " '43;\"blue-collar\";\"married\";\"basic.4y\";\"unknown\";\"yes\";\"yes\";\"telephone\";\"may\";\"tue\";593;2;999;0;\"nonexistent\";1.1;93.994;-36.4;4.857;5191;\"no\"',\n",
       " '42;\"admin.\";\"married\";\"high.school\";\"unknown\";\"yes\";\"no\";\"telephone\";\"may\";\"tue\";99;2;999;0;\"nonexistent\";1.1;93.994;-36.4;4.857;5191;\"no\"',\n",
       " '60;\"retired\";\"divorced\";\"university.degree\";\"unknown\";\"yes\";\"no\";\"telephone\";\"may\";\"tue\";198;2;999;0;\"nonexistent\";1.1;93.994;-36.4;4.857;5191;\"no\"',\n",
       " '36;\"blue-collar\";\"married\";\"basic.9y\";\"no\";\"yes\";\"no\";\"telephone\";\"may\";\"tue\";285;2;999;0;\"nonexistent\";1.1;93.994;-36.4;4.857;5191;\"no\"',\n",
       " '57;\"management\";\"married\";\"university.degree\";\"unknown\";\"no\";\"no\";\"telephone\";\"may\";\"tue\";190;3;999;0;\"nonexistent\";1.1;93.994;-36.4;4.857;5191;\"no\"',\n",
       " '35;\"student\";\"single\";\"university.degree\";\"unknown\";\"no\";\"no\";\"telephone\";\"may\";\"tue\";172;5;999;0;\"nonexistent\";1.1;93.994;-36.4;4.857;5191;\"no\"',\n",
       " '30;\"admin.\";\"married\";\"university.degree\";\"no\";\"no\";\"no\";\"telephone\";\"may\";\"tue\";178;2;999;0;\"nonexistent\";1.1;93.994;-36.4;4.857;5191;\"no\"',\n",
       " '43;\"services\";\"married\";\"high.school\";\"no\";\"no\";\"no\";\"telephone\";\"may\";\"tue\";174;2;999;0;\"nonexistent\";1.1;93.994;-36.4;4.857;5191;\"no\"',\n",
       " '40;\"technician\";\"married\";\"basic.9y\";\"no\";\"no\";\"no\";\"telephone\";\"may\";\"tue\";631;2;999;0;\"nonexistent\";1.1;93.994;-36.4;4.857;5191;\"no\"',\n",
       " '45;\"technician\";\"married\";\"university.degree\";\"no\";\"no\";\"no\";\"telephone\";\"may\";\"tue\";152;3;999;0;\"nonexistent\";1.1;93.994;-36.4;4.857;5191;\"no\"',\n",
       " '56;\"retired\";\"married\";\"high.school\";\"no\";\"no\";\"no\";\"telephone\";\"may\";\"tue\";176;5;999;0;\"nonexistent\";1.1;93.994;-36.4;4.857;5191;\"no\"',\n",
       " '46;\"services\";\"married\";\"basic.6y\";\"no\";\"no\";\"no\";\"telephone\";\"may\";\"tue\";32;3;999;0;\"nonexistent\";1.1;93.994;-36.4;4.857;5191;\"no\"',\n",
       " '41;\"blue-collar\";\"married\";\"basic.4y\";\"no\";\"yes\";\"no\";\"telephone\";\"may\";\"tue\";1529;2;999;0;\"nonexistent\";1.1;93.994;-36.4;4.857;5191;\"no\"',\n",
       " '42;\"admin.\";\"married\";\"university.degree\";\"no\";\"yes\";\"no\";\"telephone\";\"may\";\"tue\";254;2;999;0;\"nonexistent\";1.1;93.994;-36.4;4.857;5191;\"no\"',\n",
       " '56;\"blue-collar\";\"married\";\"basic.4y\";\"no\";\"no\";\"no\";\"telephone\";\"may\";\"tue\";214;2;999;0;\"nonexistent\";1.1;93.994;-36.4;4.857;5191;\"no\"',\n",
       " '43;\"entrepreneur\";\"married\";\"basic.4y\";\"no\";\"yes\";\"no\";\"telephone\";\"may\";\"tue\";147;3;999;0;\"nonexistent\";1.1;93.994;-36.4;4.857;5191;\"no\"',\n",
       " '34;\"blue-collar\";\"married\";\"basic.4y\";\"no\";\"no\";\"no\";\"telephone\";\"may\";\"tue\";800;4;999;0;\"nonexistent\";1.1;93.994;-36.4;4.857;5191;\"no\"',\n",
       " '38;\"services\";\"married\";\"high.school\";\"no\";\"yes\";\"no\";\"telephone\";\"may\";\"tue\";106;2;999;0;\"nonexistent\";1.1;93.994;-36.4;4.857;5191;\"no\"',\n",
       " '40;\"technician\";\"married\";\"basic.9y\";\"no\";\"no\";\"no\";\"telephone\";\"may\";\"tue\";135;2;999;0;\"nonexistent\";1.1;93.994;-36.4;4.857;5191;\"no\"',\n",
       " '38;\"admin.\";\"married\";\"high.school\";\"no\";\"no\";\"no\";\"telephone\";\"may\";\"tue\";112;4;999;0;\"nonexistent\";1.1;93.994;-36.4;4.857;5191;\"no\"',\n",
       " '48;\"entrepreneur\";\"married\";\"university.degree\";\"no\";\"yes\";\"no\";\"telephone\";\"may\";\"tue\";222;2;999;0;\"nonexistent\";1.1;93.994;-36.4;4.857;5191;\"no\"',\n",
       " '27;\"blue-collar\";\"married\";\"basic.9y\";\"unknown\";\"yes\";\"no\";\"telephone\";\"may\";\"tue\";314;3;999;0;\"nonexistent\";1.1;93.994;-36.4;4.857;5191;\"no\"',\n",
       " '24;\"technician\";\"single\";\"professional.course\";\"no\";\"no\";\"no\";\"telephone\";\"may\";\"tue\";421;2;999;0;\"nonexistent\";1.1;93.994;-36.4;4.857;5191;\"no\"',\n",
       " '47;\"admin.\";\"single\";\"unknown\";\"unknown\";\"yes\";\"yes\";\"telephone\";\"may\";\"tue\";410;2;999;0;\"nonexistent\";1.1;93.994;-36.4;4.857;5191;\"no\"',\n",
       " '48;\"blue-collar\";\"married\";\"professional.course\";\"unknown\";\"no\";\"no\";\"telephone\";\"may\";\"tue\";207;3;999;0;\"nonexistent\";1.1;93.994;-36.4;4.857;5191;\"no\"',\n",
       " '31;\"admin.\";\"single\";\"high.school\";\"no\";\"yes\";\"yes\";\"telephone\";\"may\";\"tue\";239;2;999;0;\"nonexistent\";1.1;93.994;-36.4;4.857;5191;\"no\"',\n",
       " '39;\"self-employed\";\"single\";\"basic.4y\";\"unknown\";\"yes\";\"no\";\"telephone\";\"may\";\"tue\";83;4;999;0;\"nonexistent\";1.1;93.994;-36.4;4.857;5191;\"no\"',\n",
       " '41;\"technician\";\"single\";\"university.degree\";\"unknown\";\"no\";\"no\";\"telephone\";\"may\";\"tue\";160;3;999;0;\"nonexistent\";1.1;93.994;-36.4;4.857;5191;\"no\"',\n",
       " '49;\"blue-collar\";\"married\";\"basic.4y\";\"unknown\";\"yes\";\"no\";\"telephone\";\"may\";\"tue\";42;3;999;0;\"nonexistent\";1.1;93.994;-36.4;4.857;5191;\"no\"',\n",
       " '56;\"retired\";\"married\";\"basic.4y\";\"no\";\"no\";\"no\";\"telephone\";\"may\";\"tue\";55;2;999;0;\"nonexistent\";1.1;93.994;-36.4;4.857;5191;\"no\"',\n",
       " '49;\"admin.\";\"married\";\"high.school\";\"no\";\"no\";\"no\";\"telephone\";\"may\";\"tue\";157;2;999;0;\"nonexistent\";1.1;93.994;-36.4;4.857;5191;\"no\"',\n",
       " '47;\"unemployed\";\"divorced\";\"university.degree\";\"no\";\"no\";\"no\";\"telephone\";\"may\";\"tue\";303;3;999;0;\"nonexistent\";1.1;93.994;-36.4;4.857;5191;\"no\"',\n",
       " '44;\"blue-collar\";\"married\";\"unknown\";\"unknown\";\"yes\";\"no\";\"telephone\";\"may\";\"tue\";336;3;999;0;\"nonexistent\";1.1;93.994;-36.4;4.857;5191;\"no\"',\n",
       " '48;\"admin.\";\"divorced\";\"high.school\";\"no\";\"no\";\"no\";\"telephone\";\"may\";\"tue\";233;2;999;0;\"nonexistent\";1.1;93.994;-36.4;4.857;5191;\"no\"',\n",
       " '55;\"housemaid\";\"married\";\"basic.4y\";\"no\";\"yes\";\"yes\";\"telephone\";\"may\";\"tue\";211;2;999;0;\"nonexistent\";1.1;93.994;-36.4;4.857;5191;\"no\"',\n",
       " '59;\"management\";\"married\";\"basic.4y\";\"unknown\";\"yes\";\"no\";\"telephone\";\"may\";\"tue\";88;5;999;0;\"nonexistent\";1.1;93.994;-36.4;4.857;5191;\"no\"',\n",
       " '44;\"technician\";\"single\";\"professional.course\";\"no\";\"yes\";\"yes\";\"telephone\";\"may\";\"tue\";139;2;999;0;\"nonexistent\";1.1;93.994;-36.4;4.857;5191;\"no\"',\n",
       " '46;\"blue-collar\";\"married\";\"basic.9y\";\"no\";\"no\";\"yes\";\"telephone\";\"may\";\"tue\";329;3;999;0;\"nonexistent\";1.1;93.994;-36.4;4.857;5191;\"no\"',\n",
       " '39;\"blue-collar\";\"divorced\";\"basic.6y\";\"unknown\";\"yes\";\"no\";\"telephone\";\"may\";\"tue\";305;2;999;0;\"nonexistent\";1.1;93.994;-36.4;4.857;5191;\"no\"',\n",
       " '38;\"unemployed\";\"married\";\"basic.4y\";\"unknown\";\"yes\";\"yes\";\"telephone\";\"may\";\"tue\";206;2;999;0;\"nonexistent\";1.1;93.994;-36.4;4.857;5191;\"no\"',\n",
       " '36;\"services\";\"married\";\"high.school\";\"no\";\"yes\";\"no\";\"telephone\";\"may\";\"tue\";128;2;999;0;\"nonexistent\";1.1;93.994;-36.4;4.857;5191;\"no\"',\n",
       " '29;\"admin.\";\"single\";\"university.degree\";\"no\";\"no\";\"no\";\"telephone\";\"may\";\"tue\";122;3;999;0;\"nonexistent\";1.1;93.994;-36.4;4.857;5191;\"no\"',\n",
       " '31;\"technician\";\"single\";\"professional.course\";\"no\";\"yes\";\"no\";\"telephone\";\"may\";\"tue\";343;3;999;0;\"nonexistent\";1.1;93.994;-36.4;4.857;5191;\"no\"',\n",
       " '30;\"services\";\"divorced\";\"basic.9y\";\"no\";\"no\";\"yes\";\"telephone\";\"may\";\"tue\";126;2;999;0;\"nonexistent\";1.1;93.994;-36.4;4.857;5191;\"no\"',\n",
       " '36;\"blue-collar\";\"married\";\"basic.4y\";\"no\";\"yes\";\"no\";\"telephone\";\"may\";\"tue\";249;3;999;0;\"nonexistent\";1.1;93.994;-36.4;4.857;5191;\"no\"',\n",
       " '60;\"blue-collar\";\"married\";\"professional.course\";\"no\";\"no\";\"no\";\"telephone\";\"may\";\"tue\";59;3;999;0;\"nonexistent\";1.1;93.994;-36.4;4.857;5191;\"no\"',\n",
       " '36;\"admin.\";\"married\";\"university.degree\";\"no\";\"yes\";\"no\";\"telephone\";\"may\";\"tue\";166;3;999;0;\"nonexistent\";1.1;93.994;-36.4;4.857;5191;\"no\"',\n",
       " '32;\"services\";\"married\";\"high.school\";\"no\";\"no\";\"no\";\"telephone\";\"may\";\"tue\";190;3;999;0;\"nonexistent\";1.1;93.994;-36.4;4.857;5191;\"no\"',\n",
       " '39;\"blue-collar\";\"married\";\"basic.9y\";\"unknown\";\"yes\";\"no\";\"telephone\";\"may\";\"tue\";216;2;999;0;\"nonexistent\";1.1;93.994;-36.4;4.857;5191;\"no\"',\n",
       " '30;\"services\";\"married\";\"university.degree\";\"no\";\"yes\";\"no\";\"telephone\";\"may\";\"wed\";51;3;999;0;\"nonexistent\";1.1;93.994;-36.4;4.856;5191;\"no\"',\n",
       " '39;\"blue-collar\";\"married\";\"basic.4y\";\"unknown\";\"no\";\"no\";\"telephone\";\"may\";\"wed\";169;3;999;0;\"nonexistent\";1.1;93.994;-36.4;4.856;5191;\"no\"',\n",
       " '37;\"blue-collar\";\"married\";\"basic.9y\";\"unknown\";\"yes\";\"no\";\"telephone\";\"may\";\"wed\";148;3;999;0;\"nonexistent\";1.1;93.994;-36.4;4.856;5191;\"no\"',\n",
       " '39;\"blue-collar\";\"married\";\"professional.course\";\"unknown\";\"yes\";\"no\";\"telephone\";\"may\";\"wed\";132;3;999;0;\"nonexistent\";1.1;93.994;-36.4;4.856;5191;\"no\"',\n",
       " '46;\"blue-collar\";\"married\";\"basic.4y\";\"no\";\"no\";\"no\";\"telephone\";\"may\";\"wed\";117;3;999;0;\"nonexistent\";1.1;93.994;-36.4;4.856;5191;\"no\"',\n",
       " '43;\"unemployed\";\"married\";\"basic.4y\";\"no\";\"no\";\"no\";\"telephone\";\"may\";\"wed\";275;4;999;0;\"nonexistent\";1.1;93.994;-36.4;4.856;5191;\"no\"',\n",
       " '37;\"services\";\"married\";\"high.school\";\"no\";\"yes\";\"no\";\"telephone\";\"may\";\"wed\";124;2;999;0;\"nonexistent\";1.1;93.994;-36.4;4.856;5191;\"no\"',\n",
       " '30;\"technician\";\"married\";\"university.degree\";\"unknown\";\"no\";\"no\";\"telephone\";\"may\";\"wed\";118;3;999;0;\"nonexistent\";1.1;93.994;-36.4;4.856;5191;\"no\"',\n",
       " '38;\"technician\";\"married\";\"professional.course\";\"no\";\"no\";\"no\";\"telephone\";\"may\";\"wed\";479;2;999;0;\"nonexistent\";1.1;93.994;-36.4;4.856;5191;\"no\"',\n",
       " '31;\"technician\";\"married\";\"university.degree\";\"no\";\"yes\";\"no\";\"telephone\";\"may\";\"wed\";285;3;999;0;\"nonexistent\";1.1;93.994;-36.4;4.856;5191;\"no\"',\n",
       " '44;\"admin.\";\"married\";\"university.degree\";\"no\";\"no\";\"no\";\"telephone\";\"may\";\"wed\";322;2;999;0;\"nonexistent\";1.1;93.994;-36.4;4.856;5191;\"no\"',\n",
       " '44;\"self-employed\";\"married\";\"university.degree\";\"unknown\";\"no\";\"no\";\"telephone\";\"may\";\"wed\";202;2;999;0;\"nonexistent\";1.1;93.994;-36.4;4.856;5191;\"no\"',\n",
       " '38;\"technician\";\"married\";\"unknown\";\"unknown\";\"unknown\";\"unknown\";\"telephone\";\"may\";\"wed\";162;2;999;0;\"nonexistent\";1.1;93.994;-36.4;4.856;5191;\"no\"',\n",
       " '30;\"student\";\"single\";\"high.school\";\"unknown\";\"no\";\"no\";\"telephone\";\"may\";\"wed\";216;3;999;0;\"nonexistent\";1.1;93.994;-36.4;4.856;5191;\"no\"',\n",
       " '37;\"blue-collar\";\"married\";\"basic.4y\";\"unknown\";\"unknown\";\"unknown\";\"telephone\";\"may\";\"wed\";195;2;999;0;\"nonexistent\";1.1;93.994;-36.4;4.856;5191;\"no\"',\n",
       " '54;\"housemaid\";\"divorced\";\"unknown\";\"no\";\"yes\";\"no\";\"telephone\";\"may\";\"wed\";96;2;999;0;\"nonexistent\";1.1;93.994;-36.4;4.856;5191;\"no\"',\n",
       " '41;\"management\";\"married\";\"unknown\";\"unknown\";\"yes\";\"no\";\"telephone\";\"may\";\"wed\";149;2;999;0;\"nonexistent\";1.1;93.994;-36.4;4.856;5191;\"no\"',\n",
       " '43;\"technician\";\"married\";\"professional.course\";\"no\";\"no\";\"no\";\"telephone\";\"may\";\"wed\";720;2;999;0;\"nonexistent\";1.1;93.994;-36.4;4.856;5191;\"no\"',\n",
       " '38;\"housemaid\";\"married\";\"basic.9y\";\"no\";\"no\";\"no\";\"telephone\";\"may\";\"wed\";92;2;999;0;\"nonexistent\";1.1;93.994;-36.4;4.856;5191;\"no\"',\n",
       " '41;\"blue-collar\";\"married\";\"basic.4y\";\"no\";\"yes\";\"no\";\"telephone\";\"may\";\"wed\";188;2;999;0;\"nonexistent\";1.1;93.994;-36.4;4.856;5191;\"no\"',\n",
       " '38;\"blue-collar\";\"single\";\"unknown\";\"unknown\";\"no\";\"yes\";\"telephone\";\"may\";\"wed\";70;2;999;0;\"nonexistent\";1.1;93.994;-36.4;4.856;5191;\"no\"',\n",
       " '33;\"blue-collar\";\"married\";\"basic.9y\";\"no\";\"unknown\";\"unknown\";\"telephone\";\"may\";\"wed\";141;3;999;0;\"nonexistent\";1.1;93.994;-36.4;4.856;5191;\"no\"',\n",
       " '32;\"admin.\";\"married\";\"high.school\";\"no\";\"yes\";\"no\";\"telephone\";\"may\";\"wed\";395;2;999;0;\"nonexistent\";1.1;93.994;-36.4;4.856;5191;\"no\"',\n",
       " '30;\"services\";\"married\";\"high.school\";\"unknown\";\"no\";\"no\";\"telephone\";\"may\";\"wed\";629;2;999;0;\"nonexistent\";1.1;93.994;-36.4;4.856;5191;\"no\"',\n",
       " '43;\"technician\";\"married\";\"basic.6y\";\"no\";\"yes\";\"no\";\"telephone\";\"may\";\"wed\";261;3;999;0;\"nonexistent\";1.1;93.994;-36.4;4.856;5191;\"no\"',\n",
       " '30;\"services\";\"married\";\"high.school\";\"unknown\";\"yes\";\"no\";\"telephone\";\"may\";\"wed\";502;1;999;0;\"nonexistent\";1.1;93.994;-36.4;4.856;5191;\"no\"',\n",
       " '36;\"technician\";\"divorced\";\"professional.course\";\"no\";\"no\";\"no\";\"telephone\";\"may\";\"wed\";446;1;999;0;\"nonexistent\";1.1;93.994;-36.4;4.856;5191;\"no\"',\n",
       " '38;\"blue-collar\";\"married\";\"basic.6y\";\"no\";\"unknown\";\"unknown\";\"telephone\";\"may\";\"wed\";131;3;999;0;\"nonexistent\";1.1;93.994;-36.4;4.856;5191;\"no\"',\n",
       " '35;\"blue-collar\";\"single\";\"basic.6y\";\"no\";\"yes\";\"no\";\"telephone\";\"may\";\"wed\";198;3;999;0;\"nonexistent\";1.1;93.994;-36.4;4.856;5191;\"no\"',\n",
       " '50;\"self-employed\";\"married\";\"university.degree\";\"no\";\"no\";\"no\";\"telephone\";\"may\";\"wed\";312;1;999;0;\"nonexistent\";1.1;93.994;-36.4;4.856;5191;\"no\"',\n",
       " '38;\"blue-collar\";\"married\";\"basic.9y\";\"no\";\"yes\";\"no\";\"telephone\";\"may\";\"wed\";275;6;999;0;\"nonexistent\";1.1;93.994;-36.4;4.856;5191;\"no\"',\n",
       " '58;\"admin.\";\"married\";\"basic.4y\";\"unknown\";\"no\";\"yes\";\"telephone\";\"may\";\"wed\";120;2;999;0;\"nonexistent\";1.1;93.994;-36.4;4.856;5191;\"no\"',\n",
       " '50;\"technician\";\"married\";\"professional.course\";\"no\";\"yes\";\"no\";\"telephone\";\"may\";\"wed\";333;4;999;0;\"nonexistent\";1.1;93.994;-36.4;4.856;5191;\"no\"',\n",
       " '33;\"blue-collar\";\"single\";\"basic.9y\";\"unknown\";\"no\";\"no\";\"telephone\";\"may\";\"wed\";113;1;999;0;\"nonexistent\";1.1;93.994;-36.4;4.856;5191;\"no\"',\n",
       " '33;\"blue-collar\";\"single\";\"basic.9y\";\"unknown\";\"unknown\";\"unknown\";\"telephone\";\"may\";\"wed\";150;1;999;0;\"nonexistent\";1.1;93.994;-36.4;4.856;5191;\"no\"',\n",
       " '44;\"management\";\"single\";\"university.degree\";\"unknown\";\"yes\";\"yes\";\"telephone\";\"may\";\"wed\";91;1;999;0;\"nonexistent\";1.1;93.994;-36.4;4.856;5191;\"no\"',\n",
       " '31;\"management\";\"married\";\"high.school\";\"no\";\"no\";\"no\";\"telephone\";\"may\";\"wed\";296;1;999;0;\"nonexistent\";1.1;93.994;-36.4;4.856;5191;\"no\"',\n",
       " '40;\"entrepreneur\";\"married\";\"basic.9y\";\"no\";\"no\";\"no\";\"telephone\";\"may\";\"wed\";128;3;999;0;\"nonexistent\";1.1;93.994;-36.4;4.856;5191;\"no\"',\n",
       " '28;\"unknown\";\"single\";\"basic.9y\";\"unknown\";\"no\";\"no\";\"telephone\";\"may\";\"wed\";298;1;999;0;\"nonexistent\";1.1;93.994;-36.4;4.856;5191;\"no\"',\n",
       " '36;\"services\";\"single\";\"unknown\";\"no\";\"yes\";\"no\";\"telephone\";\"may\";\"wed\";326;1;999;0;\"nonexistent\";1.1;93.994;-36.4;4.856;5191;\"no\"',\n",
       " '44;\"blue-collar\";\"single\";\"high.school\";\"no\";\"no\";\"no\";\"telephone\";\"may\";\"wed\";292;1;999;0;\"nonexistent\";1.1;93.994;-36.4;4.856;5191;\"no\"',\n",
       " '38;\"blue-collar\";\"divorced\";\"unknown\";\"no\";\"yes\";\"no\";\"telephone\";\"may\";\"wed\";215;1;999;0;\"nonexistent\";1.1;93.994;-36.4;4.856;5191;\"no\"',\n",
       " '33;\"blue-collar\";\"married\";\"basic.9y\";\"no\";\"unknown\";\"unknown\";\"telephone\";\"may\";\"wed\";97;1;999;0;\"nonexistent\";1.1;93.994;-36.4;4.856;5191;\"no\"',\n",
       " '39;\"blue-collar\";\"divorced\";\"basic.6y\";\"unknown\";\"yes\";\"yes\";\"telephone\";\"may\";\"wed\";32;1;999;0;\"nonexistent\";1.1;93.994;-36.4;4.856;5191;\"no\"',\n",
       " '47;\"blue-collar\";\"single\";\"basic.4y\";\"unknown\";\"yes\";\"no\";\"telephone\";\"may\";\"wed\";162;1;999;0;\"nonexistent\";1.1;93.994;-36.4;4.856;5191;\"no\"',\n",
       " '47;\"services\";\"divorced\";\"high.school\";\"no\";\"no\";\"no\";\"telephone\";\"may\";\"wed\";421;1;999;0;\"nonexistent\";1.1;93.994;-36.4;4.856;5191;\"no\"',\n",
       " '35;\"entrepreneur\";\"single\";\"professional.course\";\"no\";\"no\";\"no\";\"telephone\";\"may\";\"wed\";268;1;999;0;\"nonexistent\";1.1;93.994;-36.4;4.856;5191;\"no\"',\n",
       " '42;\"admin.\";\"divorced\";\"university.degree\";\"no\";\"no\";\"no\";\"telephone\";\"may\";\"wed\";232;1;999;0;\"nonexistent\";1.1;93.994;-36.4;4.856;5191;\"no\"',\n",
       " '36;\"admin.\";\"married\";\"high.school\";\"no\";\"no\";\"no\";\"telephone\";\"may\";\"wed\";152;3;999;0;\"nonexistent\";1.1;93.994;-36.4;4.856;5191;\"no\"',\n",
       " '35;\"technician\";\"married\";\"basic.6y\";\"no\";\"no\";\"no\";\"telephone\";\"may\";\"wed\";104;2;999;0;\"nonexistent\";1.1;93.994;-36.4;4.856;5191;\"no\"',\n",
       " '36;\"services\";\"single\";\"unknown\";\"no\";\"yes\";\"no\";\"telephone\";\"may\";\"wed\";852;1;999;0;\"nonexistent\";1.1;93.994;-36.4;4.856;5191;\"no\"',\n",
       " '56;\"entrepreneur\";\"married\";\"university.degree\";\"unknown\";\"yes\";\"no\";\"telephone\";\"may\";\"wed\";159;2;999;0;\"nonexistent\";1.1;93.994;-36.4;4.856;5191;\"no\"',\n",
       " '26;\"admin.\";\"single\";\"high.school\";\"no\";\"no\";\"no\";\"telephone\";\"may\";\"wed\";416;2;999;0;\"nonexistent\";1.1;93.994;-36.4;4.856;5191;\"no\"',\n",
       " '31;\"admin.\";\"single\";\"university.degree\";\"no\";\"yes\";\"yes\";\"telephone\";\"may\";\"wed\";174;1;999;0;\"nonexistent\";1.1;93.994;-36.4;4.856;5191;\"no\"',\n",
       " '57;\"self-employed\";\"single\";\"high.school\";\"unknown\";\"no\";\"no\";\"telephone\";\"may\";\"wed\";139;1;999;0;\"nonexistent\";1.1;93.994;-36.4;4.856;5191;\"no\"',\n",
       " '39;\"services\";\"married\";\"high.school\";\"no\";\"no\";\"no\";\"telephone\";\"may\";\"wed\";193;1;999;0;\"nonexistent\";1.1;93.994;-36.4;4.856;5191;\"no\"',\n",
       " '43;\"blue-collar\";\"married\";\"high.school\";\"no\";\"yes\";\"no\";\"telephone\";\"may\";\"wed\";294;1;999;0;\"nonexistent\";1.1;93.994;-36.4;4.856;5191;\"no\"',\n",
       " '50;\"admin.\";\"married\";\"university.degree\";\"no\";\"no\";\"no\";\"telephone\";\"may\";\"wed\";102;1;999;0;\"nonexistent\";1.1;93.994;-36.4;4.856;5191;\"no\"',\n",
       " '52;\"blue-collar\";\"single\";\"high.school\";\"unknown\";\"unknown\";\"unknown\";\"telephone\";\"may\";\"wed\";124;1;999;0;\"nonexistent\";1.1;93.994;-36.4;4.856;5191;\"no\"',\n",
       " '39;\"blue-collar\";\"divorced\";\"basic.9y\";\"no\";\"no\";\"no\";\"telephone\";\"may\";\"wed\";143;1;999;0;\"nonexistent\";1.1;93.994;-36.4;4.856;5191;\"no\"',\n",
       " '44;\"technician\";\"single\";\"unknown\";\"unknown\";\"yes\";\"no\";\"telephone\";\"may\";\"wed\";231;1;999;0;\"nonexistent\";1.1;93.994;-36.4;4.856;5191;\"no\"',\n",
       " '36;\"housemaid\";\"married\";\"basic.4y\";\"no\";\"yes\";\"no\";\"telephone\";\"may\";\"wed\";128;1;999;0;\"nonexistent\";1.1;93.994;-36.4;4.856;5191;\"no\"',\n",
       " '54;\"management\";\"married\";\"high.school\";\"unknown\";\"yes\";\"no\";\"telephone\";\"may\";\"wed\";74;1;999;0;\"nonexistent\";1.1;93.994;-36.4;4.856;5191;\"no\"',\n",
       " '27;\"admin.\";\"single\";\"basic.9y\";\"no\";\"yes\";\"no\";\"telephone\";\"may\";\"wed\";105;2;999;0;\"nonexistent\";1.1;93.994;-36.4;4.856;5191;\"no\"',\n",
       " '31;\"admin.\";\"single\";\"university.degree\";\"no\";\"no\";\"no\";\"telephone\";\"may\";\"wed\";992;1;999;0;\"nonexistent\";1.1;93.994;-36.4;4.856;5191;\"yes\"',\n",
       " '31;\"admin.\";\"married\";\"university.degree\";\"unknown\";\"no\";\"no\";\"telephone\";\"may\";\"wed\";168;1;999;0;\"nonexistent\";1.1;93.994;-36.4;4.856;5191;\"no\"',\n",
       " '28;\"blue-collar\";\"married\";\"basic.6y\";\"no\";\"no\";\"no\";\"telephone\";\"may\";\"wed\";250;1;999;0;\"nonexistent\";1.1;93.994;-36.4;4.856;5191;\"no\"',\n",
       " '31;\"management\";\"single\";\"university.degree\";\"no\";\"yes\";\"no\";\"telephone\";\"may\";\"wed\";254;1;999;0;\"nonexistent\";1.1;93.994;-36.4;4.856;5191;\"no\"',\n",
       " '30;\"management\";\"divorced\";\"high.school\";\"no\";\"no\";\"yes\";\"telephone\";\"may\";\"wed\";149;1;999;0;\"nonexistent\";1.1;93.994;-36.4;4.856;5191;\"no\"',\n",
       " '52;\"technician\";\"married\";\"professional.course\";\"no\";\"yes\";\"no\";\"telephone\";\"may\";\"wed\";133;2;999;0;\"nonexistent\";1.1;93.994;-36.4;4.856;5191;\"no\"',\n",
       " '37;\"technician\";\"divorced\";\"professional.course\";\"no\";\"no\";\"no\";\"telephone\";\"may\";\"wed\";374;1;999;0;\"nonexistent\";1.1;93.994;-36.4;4.856;5191;\"no\"',\n",
       " '30;\"services\";\"married\";\"university.degree\";\"no\";\"yes\";\"no\";\"telephone\";\"may\";\"wed\";425;6;999;0;\"nonexistent\";1.1;93.994;-36.4;4.856;5191;\"no\"',\n",
       " '45;\"blue-collar\";\"married\";\"basic.9y\";\"unknown\";\"yes\";\"yes\";\"telephone\";\"may\";\"wed\";207;1;999;0;\"nonexistent\";1.1;93.994;-36.4;4.856;5191;\"no\"',\n",
       " '54;\"technician\";\"married\";\"university.degree\";\"no\";\"yes\";\"no\";\"telephone\";\"may\";\"wed\";464;1;999;0;\"nonexistent\";1.1;93.994;-36.4;4.856;5191;\"no\"',\n",
       " '49;\"entrepreneur\";\"married\";\"basic.9y\";\"no\";\"yes\";\"no\";\"telephone\";\"may\";\"wed\";439;1;999;0;\"nonexistent\";1.1;93.994;-36.4;4.856;5191;\"no\"',\n",
       " '44;\"admin.\";\"married\";\"high.school\";\"no\";\"no\";\"no\";\"telephone\";\"may\";\"wed\";83;3;999;0;\"nonexistent\";1.1;93.994;-36.4;4.856;5191;\"no\"',\n",
       " '28;\"student\";\"single\";\"basic.9y\";\"unknown\";\"yes\";\"yes\";\"telephone\";\"may\";\"wed\";732;2;999;0;\"nonexistent\";1.1;93.994;-36.4;4.856;5191;\"yes\"',\n",
       " '53;\"technician\";\"married\";\"high.school\";\"no\";\"yes\";\"no\";\"telephone\";\"may\";\"wed\";149;1;999;0;\"nonexistent\";1.1;93.994;-36.4;4.856;5191;\"no\"',\n",
       " '45;\"blue-collar\";\"married\";\"basic.9y\";\"unknown\";\"yes\";\"no\";\"telephone\";\"may\";\"wed\";142;1;999;0;\"nonexistent\";1.1;93.994;-36.4;4.856;5191;\"no\"',\n",
       " '45;\"blue-collar\";\"married\";\"basic.9y\";\"unknown\";\"no\";\"no\";\"telephone\";\"may\";\"wed\";121;1;999;0;\"nonexistent\";1.1;93.994;-36.4;4.856;5191;\"no\"',\n",
       " '51;\"admin.\";\"married\";\"high.school\";\"unknown\";\"yes\";\"no\";\"telephone\";\"may\";\"wed\";359;1;999;0;\"nonexistent\";1.1;93.994;-36.4;4.856;5191;\"no\"',\n",
       " '41;\"blue-collar\";\"married\";\"basic.9y\";\"unknown\";\"yes\";\"no\";\"telephone\";\"may\";\"wed\";112;1;999;0;\"nonexistent\";1.1;93.994;-36.4;4.856;5191;\"no\"',\n",
       " '43;\"technician\";\"married\";\"professional.course\";\"no\";\"yes\";\"no\";\"telephone\";\"may\";\"wed\";274;4;999;0;\"nonexistent\";1.1;93.994;-36.4;4.856;5191;\"no\"',\n",
       " '31;\"admin.\";\"single\";\"university.degree\";\"no\";\"yes\";\"no\";\"telephone\";\"may\";\"wed\";325;2;999;0;\"nonexistent\";1.1;93.994;-36.4;4.856;5191;\"no\"',\n",
       " '39;\"admin.\";\"single\";\"unknown\";\"no\";\"yes\";\"no\";\"telephone\";\"may\";\"wed\";1521;1;999;0;\"nonexistent\";1.1;93.994;-36.4;4.856;5191;\"no\"',\n",
       " '38;\"technician\";\"married\";\"professional.course\";\"no\";\"no\";\"no\";\"telephone\";\"may\";\"wed\";216;1;999;0;\"nonexistent\";1.1;93.994;-36.4;4.856;5191;\"no\"',\n",
       " '50;\"entrepreneur\";\"married\";\"basic.9y\";\"no\";\"yes\";\"yes\";\"telephone\";\"may\";\"wed\";161;1;999;0;\"nonexistent\";1.1;93.994;-36.4;4.856;5191;\"no\"',\n",
       " '53;\"admin.\";\"single\";\"university.degree\";\"unknown\";\"yes\";\"no\";\"telephone\";\"may\";\"wed\";122;2;999;0;\"nonexistent\";1.1;93.994;-36.4;4.856;5191;\"no\"',\n",
       " '44;\"admin.\";\"divorced\";\"high.school\";\"unknown\";\"yes\";\"no\";\"telephone\";\"may\";\"wed\";800;1;999;0;\"nonexistent\";1.1;93.994;-36.4;4.856;5191;\"no\"',\n",
       " '53;\"blue-collar\";\"married\";\"basic.9y\";\"unknown\";\"yes\";\"yes\";\"telephone\";\"may\";\"wed\";615;1;999;0;\"nonexistent\";1.1;93.994;-36.4;4.856;5191;\"no\"',\n",
       " '24;\"services\";\"single\";\"high.school\";\"no\";\"no\";\"no\";\"telephone\";\"may\";\"wed\";111;1;999;0;\"nonexistent\";1.1;93.994;-36.4;4.856;5191;\"no\"',\n",
       " '34;\"admin.\";\"single\";\"high.school\";\"no\";\"yes\";\"no\";\"telephone\";\"may\";\"wed\";359;1;999;0;\"nonexistent\";1.1;93.994;-36.4;4.856;5191;\"no\"',\n",
       " '40;\"technician\";\"married\";\"professional.course\";\"no\";\"yes\";\"no\";\"telephone\";\"may\";\"wed\";327;3;999;0;\"nonexistent\";1.1;93.994;-36.4;4.856;5191;\"no\"',\n",
       " '57;\"management\";\"divorced\";\"university.degree\";\"no\";\"yes\";\"no\";\"telephone\";\"may\";\"wed\";236;1;999;0;\"nonexistent\";1.1;93.994;-36.4;4.856;5191;\"no\"',\n",
       " '43;\"blue-collar\";\"married\";\"basic.4y\";\"unknown\";\"yes\";\"no\";\"telephone\";\"may\";\"wed\";227;1;999;0;\"nonexistent\";1.1;93.994;-36.4;4.856;5191;\"no\"',\n",
       " '31;\"blue-collar\";\"married\";\"basic.6y\";\"unknown\";\"no\";\"no\";\"telephone\";\"may\";\"wed\";109;1;999;0;\"nonexistent\";1.1;93.994;-36.4;4.856;5191;\"no\"',\n",
       " '31;\"services\";\"married\";\"basic.6y\";\"no\";\"yes\";\"no\";\"telephone\";\"may\";\"wed\";492;2;999;0;\"nonexistent\";1.1;93.994;-36.4;4.856;5191;\"no\"',\n",
       " '31;\"blue-collar\";\"married\";\"basic.6y\";\"unknown\";\"yes\";\"no\";\"telephone\";\"may\";\"wed\";298;1;999;0;\"nonexistent\";1.1;93.994;-36.4;4.856;5191;\"no\"',\n",
       " '45;\"housemaid\";\"married\";\"basic.4y\";\"unknown\";\"yes\";\"no\";\"telephone\";\"may\";\"wed\";83;2;999;0;\"nonexistent\";1.1;93.994;-36.4;4.856;5191;\"no\"',\n",
       " '38;\"admin.\";\"married\";\"university.degree\";\"no\";\"no\";\"no\";\"telephone\";\"may\";\"wed\";241;2;999;0;\"nonexistent\";1.1;93.994;-36.4;4.856;5191;\"no\"',\n",
       " '41;\"entrepreneur\";\"married\";\"university.degree\";\"no\";\"yes\";\"no\";\"telephone\";\"may\";\"wed\";1138;1;999;0;\"nonexistent\";1.1;93.994;-36.4;4.856;5191;\"yes\"',\n",
       " '47;\"blue-collar\";\"married\";\"professional.course\";\"unknown\";\"yes\";\"no\";\"telephone\";\"may\";\"wed\";131;1;999;0;\"nonexistent\";1.1;93.994;-36.4;4.856;5191;\"no\"',\n",
       " '42;\"blue-collar\";\"married\";\"basic.6y\";\"no\";\"no\";\"no\";\"telephone\";\"may\";\"wed\";123;1;999;0;\"nonexistent\";1.1;93.994;-36.4;4.856;5191;\"no\"',\n",
       " '35;\"blue-collar\";\"single\";\"unknown\";\"no\";\"yes\";\"no\";\"telephone\";\"may\";\"wed\";125;1;999;0;\"nonexistent\";1.1;93.994;-36.4;4.856;5191;\"no\"',\n",
       " '40;\"management\";\"married\";\"university.degree\";\"no\";\"yes\";\"no\";\"telephone\";\"may\";\"wed\";295;2;999;0;\"nonexistent\";1.1;93.994;-36.4;4.856;5191;\"no\"',\n",
       " '42;\"blue-collar\";\"married\";\"basic.6y\";\"no\";\"no\";\"no\";\"telephone\";\"may\";\"wed\";287;1;999;0;\"nonexistent\";1.1;93.994;-36.4;4.856;5191;\"no\"',\n",
       " '34;\"technician\";\"married\";\"professional.course\";\"unknown\";\"yes\";\"no\";\"telephone\";\"may\";\"wed\";109;1;999;0;\"nonexistent\";1.1;93.994;-36.4;4.856;5191;\"no\"',\n",
       " '48;\"admin.\";\"single\";\"university.degree\";\"no\";\"yes\";\"no\";\"telephone\";\"may\";\"wed\";140;2;999;0;\"nonexistent\";1.1;93.994;-36.4;4.856;5191;\"no\"',\n",
       " '35;\"blue-collar\";\"married\";\"unknown\";\"no\";\"yes\";\"yes\";\"telephone\";\"may\";\"wed\";52;1;999;0;\"nonexistent\";1.1;93.994;-36.4;4.856;5191;\"no\"',\n",
       " '33;\"blue-collar\";\"married\";\"high.school\";\"no\";\"yes\";\"no\";\"telephone\";\"may\";\"wed\";233;1;999;0;\"nonexistent\";1.1;93.994;-36.4;4.856;5191;\"no\"',\n",
       " '37;\"technician\";\"married\";\"professional.course\";\"no\";\"yes\";\"no\";\"telephone\";\"may\";\"wed\";254;1;999;0;\"nonexistent\";1.1;93.994;-36.4;4.856;5191;\"no\"',\n",
       " '43;\"technician\";\"married\";\"professional.course\";\"no\";\"yes\";\"no\";\"telephone\";\"may\";\"wed\";255;1;999;0;\"nonexistent\";1.1;93.994;-36.4;4.856;5191;\"no\"',\n",
       " '42;\"admin.\";\"single\";\"unknown\";\"unknown\";\"no\";\"no\";\"telephone\";\"may\";\"wed\";126;1;999;0;\"nonexistent\";1.1;93.994;-36.4;4.856;5191;\"no\"',\n",
       " '46;\"admin.\";\"divorced\";\"university.degree\";\"no\";\"yes\";\"no\";\"telephone\";\"may\";\"wed\";184;2;999;0;\"nonexistent\";1.1;93.994;-36.4;4.856;5191;\"no\"',\n",
       " '37;\"blue-collar\";\"single\";\"basic.9y\";\"unknown\";\"yes\";\"no\";\"telephone\";\"may\";\"wed\";591;1;999;0;\"nonexistent\";1.1;93.994;-36.4;4.856;5191;\"yes\"',\n",
       " '40;\"blue-collar\";\"married\";\"high.school\";\"no\";\"yes\";\"no\";\"telephone\";\"may\";\"wed\";294;1;999;0;\"nonexistent\";1.1;93.994;-36.4;4.856;5191;\"no\"',\n",
       " '40;\"blue-collar\";\"married\";\"high.school\";\"no\";\"yes\";\"no\";\"telephone\";\"may\";\"wed\";285;1;999;0;\"nonexistent\";1.1;93.994;-36.4;4.856;5191;\"no\"',\n",
       " '59;\"entrepreneur\";\"divorced\";\"high.school\";\"unknown\";\"yes\";\"no\";\"telephone\";\"may\";\"wed\";173;1;999;0;\"nonexistent\";1.1;93.994;-36.4;4.856;5191;\"no\"',\n",
       " '43;\"technician\";\"single\";\"university.degree\";\"no\";\"no\";\"no\";\"telephone\";\"may\";\"wed\";336;1;999;0;\"nonexistent\";1.1;93.994;-36.4;4.856;5191;\"no\"',\n",
       " '44;\"blue-collar\";\"married\";\"basic.6y\";\"no\";\"yes\";\"yes\";\"telephone\";\"may\";\"wed\";344;1;999;0;\"nonexistent\";1.1;93.994;-36.4;4.856;5191;\"no\"',\n",
       " '44;\"blue-collar\";\"married\";\"basic.4y\";\"no\";\"yes\";\"no\";\"telephone\";\"may\";\"wed\";786;1;999;0;\"nonexistent\";1.1;93.994;-36.4;4.856;5191;\"yes\"',\n",
       " '41;\"admin.\";\"married\";\"university.degree\";\"no\";\"yes\";\"no\";\"telephone\";\"may\";\"wed\";153;1;999;0;\"nonexistent\";1.1;93.994;-36.4;4.856;5191;\"no\"',\n",
       " '28;\"unknown\";\"single\";\"basic.9y\";\"unknown\";\"yes\";\"no\";\"telephone\";\"may\";\"wed\";99;2;999;0;\"nonexistent\";1.1;93.994;-36.4;4.856;5191;\"no\"',\n",
       " '48;\"services\";\"married\";\"high.school\";\"unknown\";\"yes\";\"no\";\"telephone\";\"may\";\"wed\";243;1;999;0;\"nonexistent\";1.1;93.994;-36.4;4.856;5191;\"no\"',\n",
       " '31;\"admin.\";\"single\";\"high.school\";\"no\";\"yes\";\"no\";\"telephone\";\"may\";\"wed\";260;1;999;0;\"nonexistent\";1.1;93.994;-36.4;4.856;5191;\"no\"',\n",
       " '27;\"blue-collar\";\"married\";\"basic.9y\";\"no\";\"yes\";\"no\";\"telephone\";\"may\";\"wed\";164;2;999;0;\"nonexistent\";1.1;93.994;-36.4;4.856;5191;\"no\"',\n",
       " '43;\"technician\";\"single\";\"university.degree\";\"no\";\"yes\";\"no\";\"telephone\";\"may\";\"wed\";255;2;999;0;\"nonexistent\";1.1;93.994;-36.4;4.856;5191;\"no\"',\n",
       " '47;\"retired\";\"married\";\"basic.4y\";\"unknown\";\"yes\";\"no\";\"telephone\";\"may\";\"wed\";47;1;999;0;\"nonexistent\";1.1;93.994;-36.4;4.856;5191;\"no\"',\n",
       " '40;\"blue-collar\";\"divorced\";\"unknown\";\"no\";\"yes\";\"no\";\"telephone\";\"may\";\"wed\";110;2;999;0;\"nonexistent\";1.1;93.994;-36.4;4.856;5191;\"no\"',\n",
       " '43;\"unknown\";\"married\";\"high.school\";\"unknown\";\"no\";\"no\";\"telephone\";\"may\";\"wed\";463;1;999;0;\"nonexistent\";1.1;93.994;-36.4;4.856;5191;\"no\"',\n",
       " '29;\"technician\";\"married\";\"professional.course\";\"no\";\"yes\";\"no\";\"telephone\";\"may\";\"wed\";192;1;999;0;\"nonexistent\";1.1;93.994;-36.4;4.856;5191;\"no\"',\n",
       " '54;\"admin.\";\"married\";\"university.degree\";\"no\";\"no\";\"no\";\"telephone\";\"may\";\"wed\";388;7;999;0;\"nonexistent\";1.1;93.994;-36.4;4.856;5191;\"no\"',\n",
       " '36;\"technician\";\"married\";\"professional.course\";\"no\";\"no\";\"no\";\"telephone\";\"may\";\"wed\";221;1;999;0;\"nonexistent\";1.1;93.994;-36.4;4.856;5191;\"no\"',\n",
       " '30;\"admin.\";\"single\";\"university.degree\";\"no\";\"no\";\"no\";\"telephone\";\"may\";\"wed\";25;1;999;0;\"nonexistent\";1.1;93.994;-36.4;4.856;5191;\"no\"',\n",
       " '38;\"services\";\"single\";\"unknown\";\"unknown\";\"yes\";\"no\";\"telephone\";\"may\";\"wed\";256;6;999;0;\"nonexistent\";1.1;93.994;-36.4;4.856;5191;\"no\"',\n",
       " '39;\"blue-collar\";\"married\";\"basic.6y\";\"no\";\"no\";\"no\";\"telephone\";\"may\";\"wed\";104;1;999;0;\"nonexistent\";1.1;93.994;-36.4;4.856;5191;\"no\"',\n",
       " '33;\"blue-collar\";\"married\";\"basic.9y\";\"no\";\"no\";\"no\";\"telephone\";\"may\";\"wed\";283;2;999;0;\"nonexistent\";1.1;93.994;-36.4;4.856;5191;\"no\"',\n",
       " '39;\"retired\";\"single\";\"high.school\";\"no\";\"yes\";\"no\";\"telephone\";\"may\";\"wed\";448;1;999;0;\"nonexistent\";1.1;93.994;-36.4;4.856;5191;\"no\"',\n",
       " '38;\"technician\";\"single\";\"professional.course\";\"no\";\"no\";\"no\";\"telephone\";\"may\";\"wed\";127;1;999;0;\"nonexistent\";1.1;93.994;-36.4;4.856;5191;\"no\"',\n",
       " '44;\"admin.\";\"married\";\"high.school\";\"no\";\"yes\";\"no\";\"telephone\";\"may\";\"wed\";378;1;999;0;\"nonexistent\";1.1;93.994;-36.4;4.856;5191;\"no\"',\n",
       " '33;\"blue-collar\";\"married\";\"basic.9y\";\"no\";\"yes\";\"no\";\"telephone\";\"may\";\"wed\";67;1;999;0;\"nonexistent\";1.1;93.994;-36.4;4.856;5191;\"no\"',\n",
       " '37;\"blue-collar\";\"married\";\"basic.6y\";\"no\";\"no\";\"no\";\"telephone\";\"may\";\"wed\";221;2;999;0;\"nonexistent\";1.1;93.994;-36.4;4.856;5191;\"no\"',\n",
       " '32;\"management\";\"married\";\"basic.6y\";\"no\";\"no\";\"no\";\"telephone\";\"may\";\"wed\";150;1;999;0;\"nonexistent\";1.1;93.994;-36.4;4.856;5191;\"no\"',\n",
       " '46;\"technician\";\"married\";\"professional.course\";\"no\";\"yes\";\"no\";\"telephone\";\"may\";\"wed\";144;2;999;0;\"nonexistent\";1.1;93.994;-36.4;4.856;5191;\"no\"',\n",
       " '34;\"technician\";\"divorced\";\"professional.course\";\"no\";\"yes\";\"no\";\"telephone\";\"may\";\"wed\";296;2;999;0;\"nonexistent\";1.1;93.994;-36.4;4.856;5191;\"no\"',\n",
       " '52;\"technician\";\"married\";\"basic.4y\";\"unknown\";\"no\";\"no\";\"telephone\";\"may\";\"wed\";161;1;999;0;\"nonexistent\";1.1;93.994;-36.4;4.856;5191;\"no\"',\n",
       " '46;\"blue-collar\";\"married\";\"basic.6y\";\"unknown\";\"no\";\"no\";\"telephone\";\"may\";\"wed\";401;2;999;0;\"nonexistent\";1.1;93.994;-36.4;4.856;5191;\"no\"',\n",
       " '57;\"management\";\"divorced\";\"university.degree\";\"no\";\"unknown\";\"unknown\";\"telephone\";\"may\";\"wed\";435;2;999;0;\"nonexistent\";1.1;93.994;-36.4;4.856;5191;\"no\"',\n",
       " '52;\"technician\";\"married\";\"basic.4y\";\"unknown\";\"no\";\"yes\";\"telephone\";\"may\";\"wed\";388;1;999;0;\"nonexistent\";1.1;93.994;-36.4;4.856;5191;\"no\"',\n",
       " '32;\"technician\";\"single\";\"professional.course\";\"no\";\"no\";\"no\";\"telephone\";\"may\";\"wed\";245;1;999;0;\"nonexistent\";1.1;93.994;-36.4;4.856;5191;\"no\"',\n",
       " '31;\"blue-collar\";\"single\";\"basic.9y\";\"no\";\"no\";\"no\";\"telephone\";\"may\";\"wed\";143;1;999;0;\"nonexistent\";1.1;93.994;-36.4;4.856;5191;\"no\"',\n",
       " '46;\"admin.\";\"divorced\";\"basic.9y\";\"unknown\";\"no\";\"no\";\"telephone\";\"may\";\"wed\";423;1;999;0;\"nonexistent\";1.1;93.994;-36.4;4.856;5191;\"no\"',\n",
       " '59;\"services\";\"divorced\";\"high.school\";\"no\";\"no\";\"no\";\"telephone\";\"may\";\"wed\";231;1;999;0;\"nonexistent\";1.1;93.994;-36.4;4.856;5191;\"no\"',\n",
       " '38;\"blue-collar\";\"married\";\"unknown\";\"unknown\";\"no\";\"yes\";\"telephone\";\"may\";\"wed\";181;1;999;0;\"nonexistent\";1.1;93.994;-36.4;4.856;5191;\"no\"',\n",
       " '42;\"blue-collar\";\"divorced\";\"basic.6y\";\"unknown\";\"yes\";\"no\";\"telephone\";\"may\";\"wed\";107;1;999;0;\"nonexistent\";1.1;93.994;-36.4;4.856;5191;\"no\"',\n",
       " '40;\"blue-collar\";\"married\";\"basic.4y\";\"no\";\"no\";\"no\";\"telephone\";\"may\";\"wed\";227;1;999;0;\"nonexistent\";1.1;93.994;-36.4;4.856;5191;\"no\"',\n",
       " '46;\"admin.\";\"married\";\"professional.course\";\"no\";\"no\";\"no\";\"telephone\";\"may\";\"wed\";69;1;999;0;\"nonexistent\";1.1;93.994;-36.4;4.856;5191;\"no\"',\n",
       " '35;\"admin.\";\"single\";\"high.school\";\"no\";\"no\";\"no\";\"telephone\";\"may\";\"wed\";799;1;999;0;\"nonexistent\";1.1;93.994;-36.4;4.856;5191;\"no\"',\n",
       " '28;\"blue-collar\";\"married\";\"basic.9y\";\"no\";\"no\";\"yes\";\"telephone\";\"may\";\"wed\";109;1;999;0;\"nonexistent\";1.1;93.994;-36.4;4.856;5191;\"no\"',\n",
       " '47;\"services\";\"married\";\"high.school\";\"unknown\";\"yes\";\"no\";\"telephone\";\"may\";\"wed\";127;1;999;0;\"nonexistent\";1.1;93.994;-36.4;4.856;5191;\"no\"',\n",
       " '35;\"blue-collar\";\"married\";\"basic.4y\";\"no\";\"yes\";\"no\";\"telephone\";\"may\";\"wed\";45;1;999;0;\"nonexistent\";1.1;93.994;-36.4;4.856;5191;\"no\"',\n",
       " '48;\"retired\";\"married\";\"basic.9y\";\"no\";\"yes\";\"no\";\"telephone\";\"may\";\"wed\";120;1;999;0;\"nonexistent\";1.1;93.994;-36.4;4.856;5191;\"no\"',\n",
       " '40;\"blue-collar\";\"married\";\"basic.6y\";\"unknown\";\"yes\";\"no\";\"telephone\";\"may\";\"wed\";68;3;999;0;\"nonexistent\";1.1;93.994;-36.4;4.856;5191;\"no\"',\n",
       " '32;\"services\";\"single\";\"high.school\";\"no\";\"yes\";\"no\";\"telephone\";\"may\";\"wed\";180;2;999;0;\"nonexistent\";1.1;93.994;-36.4;4.856;5191;\"no\"',\n",
       " '59;\"retired\";\"divorced\";\"basic.4y\";\"no\";\"yes\";\"no\";\"telephone\";\"may\";\"wed\";112;3;999;0;\"nonexistent\";1.1;93.994;-36.4;4.856;5191;\"no\"',\n",
       " '48;\"entrepreneur\";\"married\";\"basic.9y\";\"unknown\";\"no\";\"no\";\"telephone\";\"may\";\"wed\";444;1;999;0;\"nonexistent\";1.1;93.994;-36.4;4.856;5191;\"no\"',\n",
       " '45;\"blue-collar\";\"married\";\"basic.9y\";\"unknown\";\"yes\";\"no\";\"telephone\";\"may\";\"wed\";246;2;999;0;\"nonexistent\";1.1;93.994;-36.4;4.856;5191;\"no\"',\n",
       " '49;\"blue-collar\";\"single\";\"basic.6y\";\"no\";\"yes\";\"no\";\"telephone\";\"may\";\"wed\";148;4;999;0;\"nonexistent\";1.1;93.994;-36.4;4.856;5191;\"no\"',\n",
       " '51;\"admin.\";\"married\";\"university.degree\";\"no\";\"yes\";\"no\";\"telephone\";\"may\";\"wed\";223;3;999;0;\"nonexistent\";1.1;93.994;-36.4;4.856;5191;\"no\"',\n",
       " '38;\"technician\";\"single\";\"university.degree\";\"no\";\"yes\";\"no\";\"telephone\";\"may\";\"wed\";566;2;999;0;\"nonexistent\";1.1;93.994;-36.4;4.856;5191;\"no\"',\n",
       " '53;\"technician\";\"married\";\"high.school\";\"no\";\"yes\";\"no\";\"telephone\";\"may\";\"wed\";274;2;999;0;\"nonexistent\";1.1;93.994;-36.4;4.856;5191;\"no\"',\n",
       " '49;\"blue-collar\";\"married\";\"basic.9y\";\"no\";\"yes\";\"no\";\"telephone\";\"may\";\"wed\";49;3;999;0;\"nonexistent\";1.1;93.994;-36.4;4.856;5191;\"no\"',\n",
       " '31;\"blue-collar\";\"married\";\"basic.9y\";\"no\";\"yes\";\"yes\";\"telephone\";\"may\";\"wed\";97;2;999;0;\"nonexistent\";1.1;93.994;-36.4;4.856;5191;\"no\"',\n",
       " '36;\"services\";\"married\";\"high.school\";\"unknown\";\"yes\";\"no\";\"telephone\";\"may\";\"wed\";376;2;999;0;\"nonexistent\";1.1;93.994;-36.4;4.856;5191;\"no\"',\n",
       " '54;\"retired\";\"married\";\"basic.4y\";\"unknown\";\"yes\";\"no\";\"telephone\";\"may\";\"wed\";421;2;999;0;\"nonexistent\";1.1;93.994;-36.4;4.856;5191;\"no\"',\n",
       " '29;\"admin.\";\"single\";\"high.school\";\"no\";\"yes\";\"no\";\"telephone\";\"may\";\"wed\";511;2;999;0;\"nonexistent\";1.1;93.994;-36.4;4.856;5191;\"no\"',\n",
       " '31;\"blue-collar\";\"married\";\"basic.6y\";\"unknown\";\"yes\";\"no\";\"telephone\";\"may\";\"wed\";121;2;999;0;\"nonexistent\";1.1;93.994;-36.4;4.856;5191;\"no\"',\n",
       " '35;\"admin.\";\"married\";\"high.school\";\"no\";\"yes\";\"no\";\"telephone\";\"may\";\"wed\";157;2;999;0;\"nonexistent\";1.1;93.994;-36.4;4.856;5191;\"no\"',\n",
       " '38;\"blue-collar\";\"married\";\"basic.9y\";\"no\";\"no\";\"no\";\"telephone\";\"may\";\"wed\";101;1;999;0;\"nonexistent\";1.1;93.994;-36.4;4.856;5191;\"no\"',\n",
       " '54;\"management\";\"married\";\"high.school\";\"unknown\";\"yes\";\"yes\";\"telephone\";\"may\";\"wed\";328;2;999;0;\"nonexistent\";1.1;93.994;-36.4;4.856;5191;\"no\"',\n",
       " '48;\"admin.\";\"married\";\"basic.9y\";\"unknown\";\"no\";\"no\";\"telephone\";\"may\";\"wed\";19;1;999;0;\"nonexistent\";1.1;93.994;-36.4;4.856;5191;\"no\"',\n",
       " '48;\"management\";\"divorced\";\"university.degree\";\"no\";\"yes\";\"no\";\"telephone\";\"may\";\"wed\";866;2;999;0;\"nonexistent\";1.1;93.994;-36.4;4.856;5191;\"no\"',\n",
       " '32;\"admin.\";\"single\";\"university.degree\";\"unknown\";\"yes\";\"no\";\"telephone\";\"may\";\"wed\";229;3;999;0;\"nonexistent\";1.1;93.994;-36.4;4.856;5191;\"no\"',\n",
       " '34;\"technician\";\"married\";\"professional.course\";\"unknown\";\"yes\";\"no\";\"telephone\";\"may\";\"wed\";154;2;999;0;\"nonexistent\";1.1;93.994;-36.4;4.856;5191;\"no\"',\n",
       " '49;\"technician\";\"single\";\"university.degree\";\"unknown\";\"yes\";\"no\";\"telephone\";\"may\";\"wed\";56;1;999;0;\"nonexistent\";1.1;93.994;-36.4;4.856;5191;\"no\"',\n",
       " '44;\"blue-collar\";\"married\";\"basic.9y\";\"unknown\";\"unknown\";\"unknown\";\"telephone\";\"may\";\"wed\";199;1;999;0;\"nonexistent\";1.1;93.994;-36.4;4.856;5191;\"no\"',\n",
       " '42;\"services\";\"divorced\";\"high.school\";\"unknown\";\"no\";\"no\";\"telephone\";\"may\";\"wed\";117;1;999;0;\"nonexistent\";1.1;93.994;-36.4;4.856;5191;\"no\"',\n",
       " '55;\"blue-collar\";\"married\";\"basic.4y\";\"unknown\";\"no\";\"no\";\"telephone\";\"may\";\"wed\";1581;2;999;0;\"nonexistent\";1.1;93.994;-36.4;4.856;5191;\"no\"',\n",
       " '42;\"services\";\"divorced\";\"high.school\";\"unknown\";\"no\";\"no\";\"telephone\";\"may\";\"wed\";185;1;999;0;\"nonexistent\";1.1;93.994;-36.4;4.856;5191;\"no\"',\n",
       " '44;\"admin.\";\"married\";\"university.degree\";\"unknown\";\"no\";\"no\";\"telephone\";\"may\";\"wed\";202;1;999;0;\"nonexistent\";1.1;93.994;-36.4;4.856;5191;\"no\"',\n",
       " '51;\"blue-collar\";\"married\";\"basic.9y\";\"no\";\"no\";\"no\";\"telephone\";\"may\";\"wed\";279;1;999;0;\"nonexistent\";1.1;93.994;-36.4;4.856;5191;\"no\"',\n",
       " '43;\"blue-collar\";\"married\";\"basic.4y\";\"unknown\";\"yes\";\"no\";\"telephone\";\"may\";\"wed\";180;5;999;0;\"nonexistent\";1.1;93.994;-36.4;4.856;5191;\"no\"',\n",
       " '52;\"technician\";\"married\";\"high.school\";\"no\";\"yes\";\"no\";\"telephone\";\"may\";\"wed\";530;2;999;0;\"nonexistent\";1.1;93.994;-36.4;4.856;5191;\"no\"',\n",
       " '45;\"blue-collar\";\"single\";\"basic.6y\";\"no\";\"yes\";\"no\";\"telephone\";\"may\";\"wed\";129;5;999;0;\"nonexistent\";1.1;93.994;-36.4;4.856;5191;\"no\"',\n",
       " '41;\"services\";\"divorced\";\"high.school\";\"no\";\"yes\";\"yes\";\"telephone\";\"may\";\"wed\";60;1;999;0;\"nonexistent\";1.1;93.994;-36.4;4.856;5191;\"no\"',\n",
       " '35;\"technician\";\"divorced\";\"unknown\";\"no\";\"yes\";\"yes\";\"telephone\";\"may\";\"wed\";432;1;999;0;\"nonexistent\";1.1;93.994;-36.4;4.856;5191;\"no\"',\n",
       " '41;\"services\";\"divorced\";\"high.school\";\"no\";\"no\";\"yes\";\"telephone\";\"may\";\"wed\";516;1;999;0;\"nonexistent\";1.1;93.994;-36.4;4.856;5191;\"no\"',\n",
       " '46;\"management\";\"married\";\"basic.9y\";\"no\";\"no\";\"no\";\"telephone\";\"may\";\"wed\";617;1;999;0;\"nonexistent\";1.1;93.994;-36.4;4.856;5191;\"no\"',\n",
       " '36;\"housemaid\";\"divorced\";\"basic.9y\";\"unknown\";\"no\";\"no\";\"telephone\";\"may\";\"wed\";179;2;999;0;\"nonexistent\";1.1;93.994;-36.4;4.856;5191;\"no\"',\n",
       " '29;\"technician\";\"married\";\"professional.course\";\"no\";\"no\";\"no\";\"telephone\";\"may\";\"wed\";125;2;999;0;\"nonexistent\";1.1;93.994;-36.4;4.856;5191;\"no\"',\n",
       " '47;\"services\";\"married\";\"unknown\";\"no\";\"no\";\"no\";\"telephone\";\"may\";\"wed\";262;2;999;0;\"nonexistent\";1.1;93.994;-36.4;4.856;5191;\"no\"',\n",
       " '43;\"blue-collar\";\"married\";\"basic.4y\";\"unknown\";\"yes\";\"no\";\"telephone\";\"may\";\"wed\";396;2;999;0;\"nonexistent\";1.1;93.994;-36.4;4.856;5191;\"no\"',\n",
       " '38;\"blue-collar\";\"single\";\"basic.9y\";\"unknown\";\"no\";\"no\";\"telephone\";\"may\";\"wed\";294;2;999;0;\"nonexistent\";1.1;93.994;-36.4;4.856;5191;\"no\"',\n",
       " '44;\"blue-collar\";\"married\";\"basic.4y\";\"no\";\"yes\";\"no\";\"telephone\";\"may\";\"wed\";171;2;999;0;\"nonexistent\";1.1;93.994;-36.4;4.856;5191;\"no\"',\n",
       " '29;\"services\";\"married\";\"high.school\";\"no\";\"no\";\"no\";\"telephone\";\"may\";\"wed\";614;2;999;0;\"nonexistent\";1.1;93.994;-36.4;4.856;5191;\"no\"',\n",
       " '58;\"unknown\";\"married\";\"unknown\";\"unknown\";\"no\";\"no\";\"telephone\";\"may\";\"wed\";118;3;999;0;\"nonexistent\";1.1;93.994;-36.4;4.856;5191;\"no\"',\n",
       " '48;\"blue-collar\";\"married\";\"professional.course\";\"no\";\"no\";\"yes\";\"telephone\";\"may\";\"wed\";485;4;999;0;\"nonexistent\";1.1;93.994;-36.4;4.856;5191;\"no\"',\n",
       " '46;\"blue-collar\";\"married\";\"basic.9y\";\"unknown\";\"no\";\"no\";\"telephone\";\"may\";\"wed\";406;2;999;0;\"nonexistent\";1.1;93.994;-36.4;4.856;5191;\"no\"',\n",
       " '31;\"blue-collar\";\"married\";\"basic.4y\";\"no\";\"yes\";\"no\";\"telephone\";\"may\";\"wed\";287;1;999;0;\"nonexistent\";1.1;93.994;-36.4;4.856;5191;\"no\"',\n",
       " '47;\"services\";\"married\";\"unknown\";\"no\";\"no\";\"no\";\"telephone\";\"may\";\"wed\";216;2;999;0;\"nonexistent\";1.1;93.994;-36.4;4.856;5191;\"no\"',\n",
       " '44;\"admin.\";\"married\";\"university.degree\";\"no\";\"yes\";\"no\";\"telephone\";\"may\";\"wed\";37;2;999;0;\"nonexistent\";1.1;93.994;-36.4;4.856;5191;\"no\"',\n",
       " '31;\"blue-collar\";\"married\";\"basic.4y\";\"no\";\"yes\";\"no\";\"telephone\";\"may\";\"wed\";650;1;999;0;\"nonexistent\";1.1;93.994;-36.4;4.856;5191;\"no\"',\n",
       " '38;\"unemployed\";\"divorced\";\"professional.course\";\"no\";\"no\";\"no\";\"telephone\";\"may\";\"wed\";590;3;999;0;\"nonexistent\";1.1;93.994;-36.4;4.856;5191;\"no\"',\n",
       " '33;\"admin.\";\"married\";\"university.degree\";\"no\";\"no\";\"no\";\"telephone\";\"may\";\"wed\";55;1;999;0;\"nonexistent\";1.1;93.994;-36.4;4.856;5191;\"no\"',\n",
       " '53;\"blue-collar\";\"married\";\"basic.9y\";\"no\";\"yes\";\"no\";\"telephone\";\"may\";\"wed\";166;1;999;0;\"nonexistent\";1.1;93.994;-36.4;4.856;5191;\"no\"',\n",
       " '33;\"management\";\"single\";\"unknown\";\"no\";\"yes\";\"no\";\"telephone\";\"may\";\"wed\";371;2;999;0;\"nonexistent\";1.1;93.994;-36.4;4.856;5191;\"no\"',\n",
       " '33;\"self-employed\";\"married\";\"basic.9y\";\"no\";\"yes\";\"no\";\"telephone\";\"may\";\"wed\";48;1;999;0;\"nonexistent\";1.1;93.994;-36.4;4.856;5191;\"no\"',\n",
       " '37;\"admin.\";\"divorced\";\"university.degree\";\"no\";\"yes\";\"no\";\"telephone\";\"may\";\"wed\";72;1;999;0;\"nonexistent\";1.1;93.994;-36.4;4.856;5191;\"no\"',\n",
       " '55;\"blue-collar\";\"married\";\"basic.9y\";\"no\";\"yes\";\"no\";\"telephone\";\"may\";\"wed\";55;1;999;0;\"nonexistent\";1.1;93.994;-36.4;4.856;5191;\"no\"',\n",
       " '41;\"admin.\";\"single\";\"basic.6y\";\"no\";\"unknown\";\"unknown\";\"telephone\";\"may\";\"wed\";92;1;999;0;\"nonexistent\";1.1;93.994;-36.4;4.856;5191;\"no\"',\n",
       " '46;\"blue-collar\";\"married\";\"basic.6y\";\"unknown\";\"yes\";\"no\";\"telephone\";\"may\";\"wed\";196;2;999;0;\"nonexistent\";1.1;93.994;-36.4;4.856;5191;\"no\"',\n",
       " '32;\"entrepreneur\";\"divorced\";\"university.degree\";\"no\";\"no\";\"no\";\"telephone\";\"may\";\"wed\";96;1;999;0;\"nonexistent\";1.1;93.994;-36.4;4.856;5191;\"no\"',\n",
       " '48;\"blue-collar\";\"married\";\"high.school\";\"no\";\"no\";\"no\";\"telephone\";\"may\";\"wed\";144;1;999;0;\"nonexistent\";1.1;93.994;-36.4;4.856;5191;\"no\"',\n",
       " '34;\"entrepreneur\";\"married\";\"basic.4y\";\"no\";\"yes\";\"no\";\"telephone\";\"may\";\"wed\";474;1;999;0;\"nonexistent\";1.1;93.994;-36.4;4.856;5191;\"no\"',\n",
       " '35;\"admin.\";\"single\";\"university.degree\";\"no\";\"no\";\"no\";\"telephone\";\"may\";\"wed\";559;1;999;0;\"nonexistent\";1.1;93.994;-36.4;4.856;5191;\"no\"',\n",
       " '55;\"blue-collar\";\"married\";\"basic.4y\";\"no\";\"yes\";\"yes\";\"telephone\";\"may\";\"wed\";1101;1;999;0;\"nonexistent\";1.1;93.994;-36.4;4.856;5191;\"no\"',\n",
       " '45;\"entrepreneur\";\"single\";\"university.degree\";\"no\";\"unknown\";\"unknown\";\"telephone\";\"may\";\"wed\";229;3;999;0;\"nonexistent\";1.1;93.994;-36.4;4.856;5191;\"no\"',\n",
       " '48;\"management\";\"divorced\";\"university.degree\";\"no\";\"no\";\"no\";\"telephone\";\"may\";\"wed\";236;2;999;0;\"nonexistent\";1.1;93.994;-36.4;4.856;5191;\"no\"',\n",
       " '34;\"blue-collar\";\"married\";\"basic.6y\";\"no\";\"yes\";\"no\";\"telephone\";\"may\";\"wed\";164;1;999;0;\"nonexistent\";1.1;93.994;-36.4;4.856;5191;\"no\"',\n",
       " '46;\"admin.\";\"divorced\";\"university.degree\";\"unknown\";\"no\";\"no\";\"telephone\";\"may\";\"wed\";93;1;999;0;\"nonexistent\";1.1;93.994;-36.4;4.856;5191;\"no\"',\n",
       " '34;\"blue-collar\";\"married\";\"basic.6y\";\"no\";\"yes\";\"no\";\"telephone\";\"may\";\"wed\";123;1;999;0;\"nonexistent\";1.1;93.994;-36.4;4.856;5191;\"no\"',\n",
       " '51;\"unemployed\";\"married\";\"professional.course\";\"unknown\";\"no\";\"no\";\"telephone\";\"may\";\"wed\";912;2;999;0;\"nonexistent\";1.1;93.994;-36.4;4.856;5191;\"no\"',\n",
       " '37;\"admin.\";\"married\";\"university.degree\";\"no\";\"no\";\"no\";\"telephone\";\"may\";\"wed\";209;2;999;0;\"nonexistent\";1.1;93.994;-36.4;4.856;5191;\"no\"',\n",
       " '54;\"housemaid\";\"divorced\";\"basic.4y\";\"no\";\"no\";\"no\";\"telephone\";\"may\";\"wed\";485;1;999;0;\"nonexistent\";1.1;93.994;-36.4;4.856;5191;\"no\"',\n",
       " '45;\"services\";\"married\";\"high.school\";\"unknown\";\"yes\";\"no\";\"telephone\";\"may\";\"wed\";206;2;999;0;\"nonexistent\";1.1;93.994;-36.4;4.856;5191;\"no\"',\n",
       " '39;\"services\";\"single\";\"high.school\";\"no\";\"unknown\";\"unknown\";\"telephone\";\"may\";\"wed\";239;2;999;0;\"nonexistent\";1.1;93.994;-36.4;4.856;5191;\"no\"',\n",
       " '39;\"blue-collar\";\"married\";\"basic.9y\";\"no\";\"no\";\"no\";\"telephone\";\"may\";\"wed\";311;1;999;0;\"nonexistent\";1.1;93.994;-36.4;4.856;5191;\"no\"',\n",
       " '39;\"technician\";\"single\";\"basic.6y\";\"unknown\";\"no\";\"no\";\"telephone\";\"may\";\"wed\";362;1;999;0;\"nonexistent\";1.1;93.994;-36.4;4.856;5191;\"no\"',\n",
       " '39;\"services\";\"married\";\"basic.9y\";\"no\";\"no\";\"no\";\"telephone\";\"may\";\"wed\";274;1;999;0;\"nonexistent\";1.1;93.994;-36.4;4.856;5191;\"no\"',\n",
       " '32;\"entrepreneur\";\"married\";\"basic.6y\";\"no\";\"yes\";\"no\";\"telephone\";\"may\";\"wed\";163;1;999;0;\"nonexistent\";1.1;93.994;-36.4;4.856;5191;\"no\"',\n",
       " '41;\"services\";\"single\";\"high.school\";\"no\";\"yes\";\"yes\";\"telephone\";\"may\";\"wed\";345;1;999;0;\"nonexistent\";1.1;93.994;-36.4;4.856;5191;\"no\"',\n",
       " '59;\"housemaid\";\"married\";\"basic.6y\";\"no\";\"yes\";\"no\";\"telephone\";\"may\";\"wed\";329;1;999;0;\"nonexistent\";1.1;93.994;-36.4;4.856;5191;\"no\"',\n",
       " '57;\"technician\";\"married\";\"basic.9y\";\"no\";\"yes\";\"no\";\"telephone\";\"may\";\"wed\";68;1;999;0;\"nonexistent\";1.1;93.994;-36.4;4.856;5191;\"no\"',\n",
       " '30;\"services\";\"married\";\"unknown\";\"no\";\"no\";\"no\";\"telephone\";\"may\";\"wed\";143;3;999;0;\"nonexistent\";1.1;93.994;-36.4;4.856;5191;\"no\"',\n",
       " ...]"
      ]
     },
     "execution_count": 19,
     "metadata": {},
     "output_type": "execute_result"
    }
   ],
   "source": [
    "kdd_rdd_no_header.collect()"
   ]
  },
  {
   "cell_type": "code",
   "execution_count": 20,
   "metadata": {},
   "outputs": [
    {
     "data": {
      "text/plain": [
       "41188"
      ]
     },
     "execution_count": 20,
     "metadata": {},
     "output_type": "execute_result"
    }
   ],
   "source": [
    "kdd_rdd_no_header.count()"
   ]
  },
  {
   "cell_type": "code",
   "execution_count": 21,
   "metadata": {},
   "outputs": [
    {
     "data": {
      "text/plain": [
       "21"
      ]
     },
     "execution_count": 21,
     "metadata": {},
     "output_type": "execute_result"
    }
   ],
   "source": [
    "# Features:\n",
    "len(kdd_rdd_header.split(\";\"))"
   ]
  },
  {
   "cell_type": "code",
   "execution_count": 22,
   "metadata": {},
   "outputs": [
    {
     "data": {
      "text/plain": [
       "'56;\"housemaid\";\"married\";\"basic.4y\";\"no\";\"no\";\"no\";\"telephone\";\"may\";\"mon\";261;1;999;0;\"nonexistent\";1.1;93.994;-36.4;4.857;5191;\"no\"'"
      ]
     },
     "execution_count": 22,
     "metadata": {},
     "output_type": "execute_result"
    }
   ],
   "source": [
    "kdd_rdd_no_header.collect()[0]"
   ]
  },
  {
   "cell_type": "markdown",
   "metadata": {},
   "source": [
    "### 2) Studio attributi categorici: conteggio valori in ordine decrescente:\n",
    "(nome, posizione):\n",
    "- job, 1\n",
    "- marital, 2\n",
    "- education, 3\n",
    "- default, 4\n",
    "- housing, 5\n",
    "- loan, 6\n",
    "- contact, 7\n",
    "- month, 8\n",
    "- day_of_week, 9\n",
    "- poutcome, 14"
   ]
  },
  {
   "cell_type": "code",
   "execution_count": 26,
   "metadata": {},
   "outputs": [],
   "source": [
    "# Funzione per contare le occorrenze in ordine decrescente\n",
    "def counter_by_labels(labels_list):\n",
    "    for i in labels_list:\n",
    "        labels = kdd_rdd_no_header.map(lambda line: line.strip().split(\";\")[i[1]])\n",
    "        label_counts = labels.countByValue()\n",
    "        sorted_labels = OrderedDict(sorted(label_counts.items(), key=lambda t: t[1], reverse=True))\n",
    "        print(\"Count value for <\" + str(i[0]) + \">: value - count\")\n",
    "        all_c = 0\n",
    "        for label, count in sorted_labels.items():\n",
    "            print(\"   \" + str(label) + \" - \" + str(count))\n",
    "            all_c = all_c + count"
   ]
  },
  {
   "cell_type": "code",
   "execution_count": 27,
   "metadata": {
    "scrolled": true
   },
   "outputs": [
    {
     "name": "stdout",
     "output_type": "stream",
     "text": [
      "Count value for <Job>: value - count\n",
      "   \"admin.\" - 10422\n",
      "   \"blue-collar\" - 9254\n",
      "   \"technician\" - 6743\n",
      "   \"services\" - 3969\n",
      "   \"management\" - 2924\n",
      "   \"retired\" - 1720\n",
      "   \"entrepreneur\" - 1456\n",
      "   \"self-employed\" - 1421\n",
      "   \"housemaid\" - 1060\n",
      "   \"unemployed\" - 1014\n",
      "   \"student\" - 875\n",
      "   \"unknown\" - 330\n",
      "Count value for <Marital>: value - count\n",
      "   \"married\" - 24928\n",
      "   \"single\" - 11568\n",
      "   \"divorced\" - 4612\n",
      "   \"unknown\" - 80\n",
      "Count value for <Education>: value - count\n",
      "   \"university.degree\" - 12168\n",
      "   \"high.school\" - 9515\n",
      "   \"basic.9y\" - 6045\n",
      "   \"professional.course\" - 5243\n",
      "   \"basic.4y\" - 4176\n",
      "   \"basic.6y\" - 2292\n",
      "   \"unknown\" - 1731\n",
      "   \"illiterate\" - 18\n",
      "Count value for <Default>: value - count\n",
      "   \"no\" - 32588\n",
      "   \"unknown\" - 8597\n",
      "   \"yes\" - 3\n",
      "Count value for <Housing>: value - count\n",
      "   \"yes\" - 21576\n",
      "   \"no\" - 18622\n",
      "   \"unknown\" - 990\n",
      "Count value for <Loan>: value - count\n",
      "   \"no\" - 33950\n",
      "   \"yes\" - 6248\n",
      "   \"unknown\" - 990\n",
      "Count value for <Contact>: value - count\n",
      "   \"cellular\" - 26144\n",
      "   \"telephone\" - 15044\n",
      "Count value for <Month>: value - count\n",
      "   \"may\" - 13769\n",
      "   \"jul\" - 7174\n",
      "   \"aug\" - 6178\n",
      "   \"jun\" - 5318\n",
      "   \"nov\" - 4101\n",
      "   \"apr\" - 2632\n",
      "   \"oct\" - 718\n",
      "   \"sep\" - 570\n",
      "   \"mar\" - 546\n",
      "   \"dec\" - 182\n",
      "Count value for <Day_of_week>: value - count\n",
      "   \"thu\" - 8623\n",
      "   \"mon\" - 8514\n",
      "   \"wed\" - 8134\n",
      "   \"tue\" - 8090\n",
      "   \"fri\" - 7827\n",
      "Count value for <Poutcome>: value - count\n",
      "   \"nonexistent\" - 35563\n",
      "   \"failure\" - 4252\n",
      "   \"success\" - 1373\n"
     ]
    }
   ],
   "source": [
    "labels_list = [(\"Job\", 1), (\"Marital\", 2), \n",
    "               (\"Education\", 3), (\"Default\", 4),\n",
    "               (\"Housing\", 5), (\"Loan\", 6),\n",
    "               (\"Contact\", 7), (\"Month\", 8),\n",
    "               (\"Day_of_week\", 9), (\"Poutcome\", 14)\n",
    "            ]\n",
    "counter_by_labels(labels_list)"
   ]
  },
  {
   "cell_type": "markdown",
   "metadata": {},
   "source": [
    "### 3) Studio target:"
   ]
  },
  {
   "cell_type": "code",
   "execution_count": 28,
   "metadata": {},
   "outputs": [
    {
     "name": "stdout",
     "output_type": "stream",
     "text": [
      "Count value for <Target y>: value - count\n",
      "   \"no\" - 36548\n",
      "   \"yes\" - 4640\n"
     ]
    }
   ],
   "source": [
    "counter_by_labels([(\"Target y\", -1)])"
   ]
  },
  {
   "cell_type": "markdown",
   "metadata": {},
   "source": [
    "### 4) Queries sul dataframe:"
   ]
  },
  {
   "cell_type": "code",
   "execution_count": 29,
   "metadata": {
    "scrolled": true
   },
   "outputs": [
    {
     "name": "stdout",
     "output_type": "stream",
     "text": [
      "+---+------------+--------+-------------------+-------+-------+----+---------+-----+-----------+--------+--------+-----+--------+-----------+------------+--------------+-------------+---------+-----------+---+\n",
      "|age|         job| marital|          education|default|housing|loan|  contact|month|day_of_week|duration|campaign|pdays|previous|   poutcome|emp_var_rate|cons_price_idx|cons_conf_idx|euribor3m|nr_employed|  y|\n",
      "+---+------------+--------+-------------------+-------+-------+----+---------+-----+-----------+--------+--------+-----+--------+-----------+------------+--------------+-------------+---------+-----------+---+\n",
      "| 42|      admin.| married|  university.degree|     no|     no| yes|telephone|  may|        mon|     262|       2|  999|       0|nonexistent|         1.1|        93.994|        -36.4|    4.857|     5191.0| no|\n",
      "| 49| blue-collar| married|        high.school|unknown|     no|  no|telephone|  may|        tue|      69|       1|  999|       0|nonexistent|         1.1|        93.994|        -36.4|    4.857|     5191.0| no|\n",
      "| 45| blue-collar|  single|           basic.6y|     no|    yes|  no|telephone|  may|        wed|     129|       5|  999|       0|nonexistent|         1.1|        93.994|        -36.4|    4.856|     5191.0| no|\n",
      "| 45|  management|  single|  university.degree|     no|     no|  no|telephone|  may|        thu|     477|       2|  999|       0|nonexistent|         1.1|        93.994|        -36.4|    4.855|     5191.0| no|\n",
      "| 36|    services|divorced|  university.degree|     no|     no|  no|telephone|  may|        fri|     208|       1|  999|       0|nonexistent|         1.1|        93.994|        -36.4|    4.855|     5191.0| no|\n",
      "| 47| blue-collar|divorced|           basic.4y|     no|     no| yes|telephone|  may|        mon|     298|       2|  999|       0|nonexistent|         1.1|        93.994|        -36.4|    4.857|     5191.0| no|\n",
      "| 48|  technician| married|        high.school|     no|     no|  no|telephone|  may|        tue|     166|       1|  999|       0|nonexistent|         1.1|        93.994|        -36.4|    4.856|     5191.0| no|\n",
      "| 43|    services| married|        high.school|     no|     no|  no|telephone|  may|        wed|     124|       1|  999|       0|nonexistent|         1.1|        93.994|        -36.4|    4.859|     5191.0| no|\n",
      "| 52| blue-collar| married|           basic.4y|unknown|    yes| yes|telephone|  may|        wed|     833|       1|  999|       0|nonexistent|         1.1|        93.994|        -36.4|    4.859|     5191.0| no|\n",
      "| 29| blue-collar| married|professional.course|     no|    yes| yes|telephone|  may|        wed|     260|       1|  999|       0|nonexistent|         1.1|        93.994|        -36.4|    4.859|     5191.0| no|\n",
      "| 24|     student|  single|        high.school|unknown|     no|  no|telephone|  may|        wed|     246|       1|  999|       0|nonexistent|         1.1|        93.994|        -36.4|    4.859|     5191.0| no|\n",
      "| 28|entrepreneur| married|           basic.4y|unknown|     no|  no|telephone|  may|        wed|     117|       1|  999|       0|nonexistent|         1.1|        93.994|        -36.4|    4.859|     5191.0| no|\n",
      "| 59| blue-collar|divorced|           basic.4y|     no|     no|  no|telephone|  may|        wed|     341|       5|  999|       0|nonexistent|         1.1|        93.994|        -36.4|    4.859|     5191.0| no|\n",
      "| 34| blue-collar|  single|           basic.4y|unknown|     no| yes|telephone|  may|        wed|     135|       2|  999|       0|nonexistent|         1.1|        93.994|        -36.4|    4.859|     5191.0| no|\n",
      "| 31| blue-collar| married|           basic.9y|     no|     no| yes|telephone|  may|        wed|     582|       2|  999|       0|nonexistent|         1.1|        93.994|        -36.4|    4.859|     5191.0| no|\n",
      "| 48| blue-collar| married|        high.school|unknown|     no|  no|telephone|  may|        thu|     202|       4|  999|       0|nonexistent|         1.1|        93.994|        -36.4|     4.86|     5191.0| no|\n",
      "| 32|    services| married|        high.school|unknown|    yes|  no|telephone|  may|        thu|     177|       3|  999|       0|nonexistent|         1.1|        93.994|        -36.4|     4.86|     5191.0| no|\n",
      "| 33|      admin.|divorced|        high.school|     no|    yes|  no|telephone|  may|        fri|     290|       1|  999|       0|nonexistent|         1.1|        93.994|        -36.4|    4.859|     5191.0| no|\n",
      "| 35|  management| married|  university.degree|     no|    yes|  no|telephone|  may|        fri|     408|      10|  999|       0|nonexistent|         1.1|        93.994|        -36.4|    4.859|     5191.0| no|\n",
      "| 39|    services| married|        high.school|unknown|     no|  no|telephone|  may|        mon|       5|       2|  999|       0|nonexistent|         1.1|        93.994|        -36.4|    4.858|     5191.0| no|\n",
      "+---+------------+--------+-------------------+-------+-------+----+---------+-----+-----------+--------+--------+-----+--------+-----------+------------+--------------+-------------+---------+-----------+---+\n",
      "only showing top 20 rows\n",
      "\n"
     ]
    }
   ],
   "source": [
    "not_duplicated_df.show()"
   ]
  },
  {
   "cell_type": "code",
   "execution_count": 23,
   "metadata": {},
   "outputs": [
    {
     "name": "stdout",
     "output_type": "stream",
     "text": [
      "+-------------+\n",
      "|          job|\n",
      "+-------------+\n",
      "|   management|\n",
      "|      retired|\n",
      "|      unknown|\n",
      "|self-employed|\n",
      "|      student|\n",
      "|  blue-collar|\n",
      "| entrepreneur|\n",
      "|       admin.|\n",
      "|   technician|\n",
      "|     services|\n",
      "|    housemaid|\n",
      "|   unemployed|\n",
      "+-------------+\n",
      "\n"
     ]
    }
   ],
   "source": [
    "# Esempio distinct\n",
    "not_duplicated_df.select(\"job\").distinct().show()"
   ]
  },
  {
   "cell_type": "code",
   "execution_count": 31,
   "metadata": {},
   "outputs": [],
   "source": [
    "# Creazione vista temporanea \"temp\"\n",
    "not_duplicated_df.createOrReplaceTempView(\"temp\")"
   ]
  },
  {
   "cell_type": "code",
   "execution_count": 32,
   "metadata": {},
   "outputs": [
    {
     "name": "stdout",
     "output_type": "stream",
     "text": [
      "+-------------+--------+\n",
      "|          job|count(1)|\n",
      "+-------------+--------+\n",
      "|   management|    2924|\n",
      "|      retired|    1718|\n",
      "|      unknown|     330|\n",
      "|self-employed|    1421|\n",
      "|      student|     875|\n",
      "|  blue-collar|    9253|\n",
      "| entrepreneur|    1456|\n",
      "|       admin.|   10419|\n",
      "|   technician|    6739|\n",
      "|     services|    3967|\n",
      "|    housemaid|    1060|\n",
      "|   unemployed|    1014|\n",
      "+-------------+--------+\n",
      "\n"
     ]
    }
   ],
   "source": [
    "query = spark.sql(\"SELECT job, count(*) FROM temp GROUP BY job\")\n",
    "query.show()"
   ]
  },
  {
   "cell_type": "code",
   "execution_count": 33,
   "metadata": {},
   "outputs": [
    {
     "name": "stdout",
     "output_type": "stream",
     "text": [
      "+-----+-----------+----+\n",
      "|month|nr_employed| tot|\n",
      "+-----+-----------+----+\n",
      "|  apr|     5099.1|2457|\n",
      "|  oct|     5195.8|  67|\n",
      "|  jul|     5076.2| 177|\n",
      "|  nov|     5195.8|3615|\n",
      "|  mar|     5099.1| 282|\n",
      "|  sep|     4963.6| 303|\n",
      "|  oct|     5017.5| 446|\n",
      "|  oct|     4963.6| 204|\n",
      "|  jun|     5076.2| 715|\n",
      "|  jul|     4991.6| 311|\n",
      "|  may|     5191.0|7762|\n",
      "|  jun|     5228.1|4374|\n",
      "|  apr|     5008.7| 174|\n",
      "|  may|     5099.1|5793|\n",
      "|  sep|     5017.5| 267|\n",
      "|  jul|     5228.1|6681|\n",
      "|  aug|     5228.1|5173|\n",
      "|  aug|     5076.2| 770|\n",
      "|  mar|     5008.7| 264|\n",
      "|  nov|     4963.6| 128|\n",
      "+-----+-----------+----+\n",
      "only showing top 20 rows\n",
      "\n"
     ]
    }
   ],
   "source": [
    "query = spark.sql(\"SELECT month, nr_employed, count(*) AS tot FROM temp GROUP BY month, nr_employed\")\n",
    "query.show()"
   ]
  },
  {
   "cell_type": "code",
   "execution_count": 34,
   "metadata": {},
   "outputs": [
    {
     "name": "stdout",
     "output_type": "stream",
     "text": [
      "+-----+--------+\n",
      "|month|sum(tot)|\n",
      "+-----+--------+\n",
      "|  sep|     303|\n",
      "|  aug|     770|\n",
      "|  apr|    2457|\n",
      "|  dec|      10|\n",
      "|  mar|     282|\n",
      "|  may|     212|\n",
      "|  jun|     229|\n",
      "|  sep|     267|\n",
      "|  aug|    5173|\n",
      "|  aug|     233|\n",
      "|  nov|     357|\n",
      "|  nov|    3615|\n",
      "|  jul|    6681|\n",
      "|  jun|     715|\n",
      "|  oct|     446|\n",
      "|  oct|     204|\n",
      "|  nov|     128|\n",
      "|  mar|     264|\n",
      "|  dec|     172|\n",
      "|  jul|     311|\n",
      "+-----+--------+\n",
      "only showing top 20 rows\n",
      "\n"
     ]
    }
   ],
   "source": [
    "query.createOrReplaceTempView(\"temp1\")\n",
    "query = spark.sql(\"SELECT month, SUM(tot) FROM temp1 GROUP BY month, tot\")\n",
    "query.show()"
   ]
  },
  {
   "cell_type": "code",
   "execution_count": 35,
   "metadata": {},
   "outputs": [
    {
     "name": "stdout",
     "output_type": "stream",
     "text": [
      "+---+--------+\n",
      "|  y|count(1)|\n",
      "+---+--------+\n",
      "| no|       4|\n",
      "+---+--------+\n",
      "\n"
     ]
    }
   ],
   "source": [
    "query = spark.sql(\"SELECT y, count(*) FROM temp WHERE duration =0 GROUP BY y\")\n",
    "query.show()"
   ]
  },
  {
   "cell_type": "code",
   "execution_count": 36,
   "metadata": {},
   "outputs": [],
   "source": [
    "# Creazione vista temporanea \"temp\"\n",
    "not_duplicated_df.createOrReplaceTempView(\"temp2\")"
   ]
  },
  {
   "cell_type": "markdown",
   "metadata": {},
   "source": [
    "Numero di chiamate precedente campagna"
   ]
  },
  {
   "cell_type": "code",
   "execution_count": 37,
   "metadata": {},
   "outputs": [
    {
     "name": "stdout",
     "output_type": "stream",
     "text": [
      "+--------+\n",
      "|count(1)|\n",
      "+--------+\n",
      "|   41176|\n",
      "+--------+\n",
      "\n"
     ]
    }
   ],
   "source": [
    "query1 = spark.sql(\"\"\"SELECT COUNT(*) FROM temp2\"\"\")\n",
    "query1.show()"
   ]
  },
  {
   "cell_type": "code",
   "execution_count": 38,
   "metadata": {},
   "outputs": [],
   "source": [
    "query2 = spark.sql(\"\"\" SELECT COUNT(*)/41188 * 100 AS prev_tot FROM temp2 WHERE previous > 0\"\"\")"
   ]
  },
  {
   "cell_type": "code",
   "execution_count": 39,
   "metadata": {},
   "outputs": [
    {
     "name": "stdout",
     "output_type": "stream",
     "text": [
      "+-----------------+\n",
      "|         prev_tot|\n",
      "+-----------------+\n",
      "|13.65689035641449|\n",
      "+-----------------+\n",
      "\n"
     ]
    }
   ],
   "source": [
    "query2.show()"
   ]
  },
  {
   "cell_type": "markdown",
   "metadata": {},
   "source": [
    "Numero di chiamate questa campagna"
   ]
  },
  {
   "cell_type": "code",
   "execution_count": 40,
   "metadata": {},
   "outputs": [
    {
     "name": "stdout",
     "output_type": "stream",
     "text": [
      "+------------------+\n",
      "|          camp_tot|\n",
      "+------------------+\n",
      "|57.157424492570655|\n",
      "+------------------+\n",
      "\n"
     ]
    }
   ],
   "source": [
    "query2 = spark.sql(\"\"\" SELECT COUNT(*)/41188 * 100 AS camp_tot FROM temp2 WHERE campaign > 1\"\"\")\n",
    "query2.show()"
   ]
  },
  {
   "cell_type": "markdown",
   "metadata": {},
   "source": [
    "Numero di coincidenze tra campaign>1 e previous>0"
   ]
  },
  {
   "cell_type": "code",
   "execution_count": 41,
   "metadata": {},
   "outputs": [
    {
     "name": "stdout",
     "output_type": "stream",
     "text": [
      "+-----------------+\n",
      "|         camp_tot|\n",
      "+-----------------+\n",
      "|6.734971350878896|\n",
      "+-----------------+\n",
      "\n"
     ]
    }
   ],
   "source": [
    "query2 = spark.sql(\"\"\" SELECT COUNT(*)/41188 * 100 AS camp_tot FROM temp2 WHERE campaign > 1 AND previous > 0\"\"\")\n",
    "query2.show()"
   ]
  },
  {
   "cell_type": "code",
   "execution_count": 42,
   "metadata": {},
   "outputs": [
    {
     "name": "stdout",
     "output_type": "stream",
     "text": [
      "+---+\n",
      "|  y|\n",
      "+---+\n",
      "| no|\n",
      "| no|\n",
      "| no|\n",
      "| no|\n",
      "| no|\n",
      "| no|\n",
      "| no|\n",
      "| no|\n",
      "| no|\n",
      "| no|\n",
      "| no|\n",
      "| no|\n",
      "| no|\n",
      "| no|\n",
      "| no|\n",
      "| no|\n",
      "|yes|\n",
      "| no|\n",
      "| no|\n",
      "| no|\n",
      "+---+\n",
      "only showing top 20 rows\n",
      "\n"
     ]
    }
   ],
   "source": [
    "query2 = spark.sql(\"\"\" SELECT y FROM temp2 WHERE campaign > 1 AND previous > 0\"\"\")\n",
    "query2.show()"
   ]
  },
  {
   "cell_type": "code",
   "execution_count": 43,
   "metadata": {},
   "outputs": [
    {
     "name": "stdout",
     "output_type": "stream",
     "text": [
      "+--------+\n",
      "|count(1)|\n",
      "+--------+\n",
      "|    2084|\n",
      "|     690|\n",
      "+--------+\n",
      "\n"
     ]
    }
   ],
   "source": [
    "query2 = spark.sql(\"\"\" SELECT COUNT(*) FROM temp2 WHERE campaign > 1 AND previous > 0 GROUP BY y\"\"\")\n",
    "query2.show()"
   ]
  },
  {
   "cell_type": "code",
   "execution_count": 44,
   "metadata": {},
   "outputs": [
    {
     "name": "stdout",
     "output_type": "stream",
     "text": [
      "+--------+\n",
      "|count(1)|\n",
      "+--------+\n",
      "|   13293|\n",
      "|    1490|\n",
      "+--------+\n",
      "\n",
      "+--------+\n",
      "|count(1)|\n",
      "+--------+\n",
      "|   15335|\n",
      "|    2299|\n",
      "+--------+\n",
      "\n"
     ]
    }
   ],
   "source": [
    "query2 = spark.sql(\"\"\" SELECT COUNT(*) FROM temp2 WHERE campaign = 1 AND previous = 0 GROUP BY y\"\"\")\n",
    "query2.show()\n",
    "query2 = spark.sql(\"\"\" SELECT COUNT(*) FROM temp2 WHERE campaign = 1 GROUP BY y\"\"\")\n",
    "query2.show()"
   ]
  },
  {
   "cell_type": "markdown",
   "metadata": {},
   "source": [
    "Percentuale di yes/no"
   ]
  },
  {
   "cell_type": "code",
   "execution_count": 45,
   "metadata": {},
   "outputs": [
    {
     "name": "stdout",
     "output_type": "stream",
     "text": [
      "+--------+\n",
      "|count(1)|\n",
      "+--------+\n",
      "|   36537|\n",
      "|    4639|\n",
      "+--------+\n",
      "\n"
     ]
    }
   ],
   "source": [
    "query2 = spark.sql(\"\"\" SELECT COUNT(*) FROM temp2 GROUP BY y\"\"\")\n",
    "query2.show()\n"
   ]
  },
  {
   "cell_type": "code",
   "execution_count": 46,
   "metadata": {},
   "outputs": [],
   "source": [
    "condition1 = (not_duplicated_df.job==\"unknown\") | (not_duplicated_df.education==\"unknown\")\n",
    "condition2 = not_duplicated_df.y== \"yes\"\n",
    "kdd_df2 = not_duplicated_df.filter(condition1).filter(condition2)"
   ]
  },
  {
   "cell_type": "code",
   "execution_count": 47,
   "metadata": {
    "scrolled": true
   },
   "outputs": [
    {
     "name": "stdout",
     "output_type": "stream",
     "text": [
      "+---+------------+--------+---------+-------+-------+-------+---------+-----+-----------+--------+--------+-----+--------+-----------+------------+--------------+-------------+---------+-----------+---+\n",
      "|age|job         |marital |education|default|housing|loan   |contact  |month|day_of_week|duration|campaign|pdays|previous|poutcome   |emp_var_rate|cons_price_idx|cons_conf_idx|euribor3m|nr_employed|y  |\n",
      "+---+------------+--------+---------+-------+-------+-------+---------+-----+-----------+--------+--------+-----+--------+-----------+------------+--------------+-------------+---------+-----------+---+\n",
      "|60 |retired     |married |unknown  |no     |yes    |no     |cellular |aug  |mon        |600     |2       |999  |0       |nonexistent|1.4         |93.444        |-36.1        |4.965    |5228.1     |yes|\n",
      "|55 |entrepreneur|single  |unknown  |unknown|no     |no     |telephone|jul  |wed        |542     |1       |999  |0       |nonexistent|1.4         |93.918        |-42.7        |4.963    |5228.1     |yes|\n",
      "|78 |retired     |divorced|unknown  |no     |no     |no     |cellular |jun  |thu        |544     |1       |999  |0       |nonexistent|-1.7        |94.055        |-39.8        |0.729    |4991.6     |yes|\n",
      "|56 |admin.      |divorced|unknown  |no     |yes    |no     |telephone|jul  |fri        |353     |2       |999  |0       |nonexistent|-2.9        |92.469        |-33.6        |1.059    |5076.2     |yes|\n",
      "|45 |admin.      |married |unknown  |no     |yes    |no     |cellular |may  |fri        |271     |1       |999  |0       |nonexistent|-1.8        |92.893        |-46.2        |1.259    |5099.1     |yes|\n",
      "|82 |retired     |married |unknown  |no     |no     |no     |cellular |apr  |wed        |321     |1       |999  |0       |nonexistent|-1.8        |93.075        |-47.1        |1.445    |5099.1     |yes|\n",
      "|30 |admin.      |married |unknown  |no     |yes    |no     |cellular |jun  |fri        |207     |2       |4    |1       |success    |-2.9        |92.963        |-40.8        |1.268    |5076.2     |yes|\n",
      "|47 |services    |divorced|unknown  |no     |yes    |no     |cellular |aug  |tue        |113     |2       |999  |1       |failure    |-1.7        |94.027        |-38.3        |0.899    |4991.6     |yes|\n",
      "|44 |blue-collar |divorced|unknown  |no     |yes    |yes    |telephone|may  |wed        |799     |1       |999  |0       |nonexistent|1.1         |93.994        |-36.4        |4.858    |5191.0     |yes|\n",
      "|48 |technician  |single  |unknown  |no     |yes    |no     |telephone|may  |fri        |722     |3       |999  |0       |nonexistent|1.1         |93.994        |-36.4        |4.864    |5191.0     |yes|\n",
      "|50 |housemaid   |single  |unknown  |no     |no     |no     |telephone|jun  |mon        |741     |4       |999  |0       |nonexistent|1.4         |94.465        |-41.8        |4.96     |5228.1     |yes|\n",
      "|47 |student     |single  |unknown  |no     |unknown|unknown|telephone|nov  |mon        |145     |1       |999  |0       |nonexistent|-0.1        |93.2          |-42.0        |4.406    |5195.8     |yes|\n",
      "|38 |blue-collar |divorced|unknown  |no     |no     |no     |cellular |nov  |tue        |596     |1       |999  |0       |nonexistent|-0.1        |93.2          |-42.0        |4.153    |5195.8     |yes|\n",
      "|77 |retired     |divorced|unknown  |no     |yes    |no     |cellular |mar  |tue        |178     |1       |999  |0       |nonexistent|-1.8        |92.843        |-50.0        |1.614    |5099.1     |yes|\n",
      "|59 |admin.      |married |unknown  |no     |no     |no     |cellular |jun  |tue        |245     |1       |999  |0       |nonexistent|-2.9        |92.963        |-40.8        |1.262    |5076.2     |yes|\n",
      "|59 |unknown     |married |unknown  |unknown|no     |no     |telephone|jun  |thu        |701     |1       |999  |0       |nonexistent|1.4         |94.465        |-41.8        |4.866    |5228.1     |yes|\n",
      "|34 |blue-collar |single  |unknown  |no     |no     |yes    |cellular |jul  |fri        |1000    |1       |999  |0       |nonexistent|1.4         |93.918        |-42.7        |4.962    |5228.1     |yes|\n",
      "|37 |management  |married |unknown  |no     |no     |no     |cellular |dec  |wed        |149     |3       |999  |0       |nonexistent|-3.0        |92.713        |-33.0        |0.715    |5023.5     |yes|\n",
      "|70 |technician  |married |unknown  |no     |no     |no     |cellular |aug  |thu        |411     |1       |999  |0       |nonexistent|-1.7        |94.027        |-38.3        |0.899    |4991.6     |yes|\n",
      "|86 |retired     |married |unknown  |unknown|yes    |no     |cellular |sep  |tue        |340     |1       |999  |0       |nonexistent|-1.1        |94.199        |-37.5        |0.877    |4963.6     |yes|\n",
      "+---+------------+--------+---------+-------+-------+-------+---------+-----+-----------+--------+--------+-----+--------+-----------+------------+--------------+-------------+---------+-----------+---+\n",
      "only showing top 20 rows\n",
      "\n"
     ]
    }
   ],
   "source": [
    "kdd_df2.show(truncate=False)"
   ]
  },
  {
   "cell_type": "markdown",
   "metadata": {},
   "source": [
    "Esempio selezione distinti"
   ]
  },
  {
   "cell_type": "code",
   "execution_count": 48,
   "metadata": {},
   "outputs": [
    {
     "data": {
      "text/plain": [
       "['management',\n",
       " 'retired',\n",
       " 'unknown',\n",
       " 'self-employed',\n",
       " 'student',\n",
       " 'blue-collar',\n",
       " 'entrepreneur',\n",
       " 'admin.',\n",
       " 'technician',\n",
       " 'services',\n",
       " 'housemaid',\n",
       " 'unemployed']"
      ]
     },
     "execution_count": 48,
     "metadata": {},
     "output_type": "execute_result"
    }
   ],
   "source": [
    "not_duplicated_df.select(\"job\").distinct().rdd.map(lambda r: r[0]).collect()\n",
    "# - Select(class_name) funzione per selezionare una o più colonne per fare un'operazione\n",
    "# - Distinct() usata su una colonna pysparl indica i valori univoci\n",
    "# - rdd indica che il dataframe è un RDD (Resilient Distributed Dataset) = raccolta di elementi non modificabile e partizionata su cui è possibile operare in parallelo. \n",
    "# - map(function)  utilizzata per trasformare l'rdd utilizzando una funzione lambda."
   ]
  },
  {
   "cell_type": "markdown",
   "metadata": {},
   "source": [
    "# Modifiche Dataset"
   ]
  },
  {
   "cell_type": "markdown",
   "metadata": {},
   "source": [
    "- Sostituzione in pdays dei valori pari a \"999\" con \"-1\""
   ]
  },
  {
   "cell_type": "code",
   "execution_count": 24,
   "metadata": {},
   "outputs": [],
   "source": [
    "target_column = \"pdays\""
   ]
  },
  {
   "cell_type": "code",
   "execution_count": 25,
   "metadata": {},
   "outputs": [],
   "source": [
    "not_duplicated_df = not_duplicated_df.withColumn(target_column,\n",
    "    F.when(not_duplicated_df[target_column]==999,-1).\n",
    "    otherwise(not_duplicated_df[target_column]))"
   ]
  },
  {
   "cell_type": "markdown",
   "metadata": {},
   "source": [
    "- Drop duration = 0"
   ]
  },
  {
   "cell_type": "code",
   "execution_count": 26,
   "metadata": {},
   "outputs": [],
   "source": [
    "target_column = \"duration\""
   ]
  },
  {
   "cell_type": "code",
   "execution_count": 27,
   "metadata": {},
   "outputs": [],
   "source": [
    "not_duplicated_df = not_duplicated_df.filter(not_duplicated_df[target_column] != 0)"
   ]
  },
  {
   "cell_type": "code",
   "execution_count": 28,
   "metadata": {},
   "outputs": [
    {
     "data": {
      "text/plain": [
       "41172"
      ]
     },
     "execution_count": 28,
     "metadata": {},
     "output_type": "execute_result"
    }
   ],
   "source": [
    "not_duplicated_df.count()"
   ]
  },
  {
   "cell_type": "markdown",
   "metadata": {},
   "source": [
    "# Salvataggio nuovo dataset"
   ]
  },
  {
   "cell_type": "code",
   "execution_count": 30,
   "metadata": {},
   "outputs": [],
   "source": [
    "not_duplicated_df.write.format(\"csv\").save(\"hdfs://kddrtserver13.isti.cnr.it:9000/user/hpsa15/bank_dataset2.csv\", header = True)"
   ]
  },
  {
   "cell_type": "code",
   "execution_count": 31,
   "metadata": {},
   "outputs": [],
   "source": [
    "hdfs_path2 = 'hdfs://kddrtserver13.isti.cnr.it:9000/user/hpsa15/bank_dataset2.csv'"
   ]
  },
  {
   "cell_type": "code",
   "execution_count": 32,
   "metadata": {},
   "outputs": [],
   "source": [
    "kdd_df_new2 = spark.read.options(inferSchema = True, header = True).csv(hdfs_path2)"
   ]
  },
  {
   "cell_type": "code",
   "execution_count": 38,
   "metadata": {
    "scrolled": true
   },
   "outputs": [
    {
     "data": {
      "text/plain": [
       "[('age', 'int'),\n",
       " ('job', 'string'),\n",
       " ('marital', 'string'),\n",
       " ('education', 'string'),\n",
       " ('default', 'string'),\n",
       " ('housing', 'string'),\n",
       " ('loan', 'string'),\n",
       " ('contact', 'string'),\n",
       " ('month', 'string'),\n",
       " ('day_of_week', 'string'),\n",
       " ('duration', 'int'),\n",
       " ('campaign', 'int'),\n",
       " ('pdays', 'int'),\n",
       " ('previous', 'int'),\n",
       " ('poutcome', 'string'),\n",
       " ('emp_var_rate', 'double'),\n",
       " ('cons_price_idx', 'double'),\n",
       " ('cons_conf_idx', 'double'),\n",
       " ('euribor3m', 'double'),\n",
       " ('nr_employed', 'double'),\n",
       " ('y', 'string')]"
      ]
     },
     "execution_count": 38,
     "metadata": {},
     "output_type": "execute_result"
    }
   ],
   "source": [
    "kdd_df_new2.dtypes"
   ]
  },
  {
   "cell_type": "markdown",
   "metadata": {},
   "source": [
    "# Statistiche variabili numeriche"
   ]
  },
  {
   "cell_type": "code",
   "execution_count": 54,
   "metadata": {},
   "outputs": [],
   "source": [
    "def basic_statistics(df):\n",
    "    for i in df.dtypes:\n",
    "        if(i[1] == 'int' or i[1] == 'double'):\n",
    "            df.describe(i[0]).show(truncate=False)"
   ]
  },
  {
   "cell_type": "markdown",
   "metadata": {},
   "source": [
    "- dataset originale"
   ]
  },
  {
   "cell_type": "code",
   "execution_count": 55,
   "metadata": {
    "scrolled": true
   },
   "outputs": [
    {
     "name": "stdout",
     "output_type": "stream",
     "text": [
      "+-------+------------------+\n",
      "|summary|age               |\n",
      "+-------+------------------+\n",
      "|count  |41188             |\n",
      "|mean   |40.02406040594348 |\n",
      "|stddev |10.421249980934057|\n",
      "|min    |17                |\n",
      "|max    |98                |\n",
      "+-------+------------------+\n",
      "\n",
      "+-------+------------------+\n",
      "|summary|duration          |\n",
      "+-------+------------------+\n",
      "|count  |41188             |\n",
      "|mean   |258.2850101971448 |\n",
      "|stddev |259.27924883646455|\n",
      "|min    |0                 |\n",
      "|max    |4918              |\n",
      "+-------+------------------+\n",
      "\n",
      "+-------+-----------------+\n",
      "|summary|campaign         |\n",
      "+-------+-----------------+\n",
      "|count  |41188            |\n",
      "|mean   |2.567592502670681|\n",
      "|stddev |2.770013542902331|\n",
      "|min    |1                |\n",
      "|max    |56               |\n",
      "+-------+-----------------+\n",
      "\n",
      "+-------+-----------------+\n",
      "|summary|pdays            |\n",
      "+-------+-----------------+\n",
      "|count  |41188            |\n",
      "|mean   |962.4754540157328|\n",
      "|stddev |186.9109073447414|\n",
      "|min    |0                |\n",
      "|max    |999              |\n",
      "+-------+-----------------+\n",
      "\n",
      "+-------+-------------------+\n",
      "|summary|previous           |\n",
      "+-------+-------------------+\n",
      "|count  |41188              |\n",
      "|mean   |0.17296299893172767|\n",
      "|stddev |0.49490107983928927|\n",
      "|min    |0                  |\n",
      "|max    |7                  |\n",
      "+-------+-------------------+\n",
      "\n",
      "+-------+-------------------+\n",
      "|summary|emp_var_rate       |\n",
      "+-------+-------------------+\n",
      "|count  |41188              |\n",
      "|mean   |0.08188550063178392|\n",
      "|stddev |1.57095974051703   |\n",
      "|min    |-3.4               |\n",
      "|max    |1.4                |\n",
      "+-------+-------------------+\n",
      "\n",
      "+-------+------------------+\n",
      "|summary|cons_price_idx    |\n",
      "+-------+------------------+\n",
      "|count  |41188             |\n",
      "|mean   |93.57566436828918 |\n",
      "|stddev |0.5788400489541355|\n",
      "|min    |92.201            |\n",
      "|max    |94.767            |\n",
      "+-------+------------------+\n",
      "\n",
      "+-------+------------------+\n",
      "|summary|cons_conf_idx     |\n",
      "+-------+------------------+\n",
      "|count  |41188             |\n",
      "|mean   |-40.50260027191787|\n",
      "|stddev |4.628197856174595 |\n",
      "|min    |-50.8             |\n",
      "|max    |-26.9             |\n",
      "+-------+------------------+\n",
      "\n",
      "+-------+------------------+\n",
      "|summary|euribor3m         |\n",
      "+-------+------------------+\n",
      "|count  |41188             |\n",
      "|mean   |3.6212908128585366|\n",
      "|stddev |1.7344474048512557|\n",
      "|min    |0.634             |\n",
      "|max    |5.045             |\n",
      "+-------+------------------+\n",
      "\n",
      "+-------+-----------------+\n",
      "|summary|nr_employed      |\n",
      "+-------+-----------------+\n",
      "|count  |41188            |\n",
      "|mean   |5167.035910944004|\n",
      "|stddev |72.25152766825924|\n",
      "|min    |4963.6           |\n",
      "|max    |5228.1           |\n",
      "+-------+-----------------+\n",
      "\n"
     ]
    }
   ],
   "source": [
    "basic_statistics(kdd_df)"
   ]
  },
  {
   "cell_type": "markdown",
   "metadata": {},
   "source": [
    "- dataset modificato"
   ]
  },
  {
   "cell_type": "code",
   "execution_count": 56,
   "metadata": {
    "scrolled": true
   },
   "outputs": [
    {
     "name": "stdout",
     "output_type": "stream",
     "text": [
      "+-------+------------------+\n",
      "|summary|age               |\n",
      "+-------+------------------+\n",
      "|count  |41172             |\n",
      "|mean   |40.02326824055183 |\n",
      "|stddev |10.420474048540774|\n",
      "|min    |17                |\n",
      "|max    |98                |\n",
      "+-------+------------------+\n",
      "\n",
      "+-------+-----------------+\n",
      "|summary|duration         |\n",
      "+-------+-----------------+\n",
      "|count  |41172            |\n",
      "|mean   |258.340911298941 |\n",
      "|stddev |259.3054156925593|\n",
      "|min    |1                |\n",
      "|max    |4918             |\n",
      "+-------+-----------------+\n",
      "\n",
      "+-------+------------------+\n",
      "|summary|campaign          |\n",
      "+-------+------------------+\n",
      "|count  |41172             |\n",
      "|mean   |2.567667346740503 |\n",
      "|stddev |2.7701995342345733|\n",
      "|min    |1                 |\n",
      "|max    |56                |\n",
      "+-------+------------------+\n",
      "\n",
      "+-------+-------------------+\n",
      "|summary|pdays              |\n",
      "+-------+-------------------+\n",
      "|count  |41172              |\n",
      "|mean   |-0.7418876906635578|\n",
      "|stddev |1.51061147003449   |\n",
      "|min    |-1                 |\n",
      "|max    |27                 |\n",
      "+-------+-------------------+\n",
      "\n",
      "+-------+-------------------+\n",
      "|summary|previous           |\n",
      "+-------+-------------------+\n",
      "|count  |41172              |\n",
      "|mean   |0.17303021470902555|\n",
      "|stddev |0.49498548715498597|\n",
      "|min    |0                  |\n",
      "|max    |7                  |\n",
      "+-------+-------------------+\n",
      "\n",
      "+-------+-------------------+\n",
      "|summary|emp_var_rate       |\n",
      "+-------+-------------------+\n",
      "|count  |41172              |\n",
      "|mean   |0.08195618381424455|\n",
      "|stddev |1.5708827194453636 |\n",
      "|min    |-3.4               |\n",
      "|max    |1.4                |\n",
      "+-------+-------------------+\n",
      "\n",
      "+-------+------------------+\n",
      "|summary|cons_price_idx    |\n",
      "+-------+------------------+\n",
      "|count  |41172             |\n",
      "|mean   |93.57574166909552 |\n",
      "|stddev |0.5788480295176317|\n",
      "|min    |92.201            |\n",
      "|max    |94.767            |\n",
      "+-------+------------------+\n",
      "\n",
      "+-------+------------------+\n",
      "|summary|cons_conf_idx     |\n",
      "+-------+------------------+\n",
      "|count  |41172             |\n",
      "|mean   |-40.50277130088409|\n",
      "|stddev |4.627790343403595 |\n",
      "|min    |-50.8             |\n",
      "|max    |-26.9             |\n",
      "+-------+------------------+\n",
      "\n",
      "+-------+------------------+\n",
      "|summary|euribor3m         |\n",
      "+-------+------------------+\n",
      "|count  |41172             |\n",
      "|mean   |3.621339235402701 |\n",
      "|stddev |1.7344280272171133|\n",
      "|min    |0.634             |\n",
      "|max    |5.045             |\n",
      "+-------+------------------+\n",
      "\n",
      "+-------+------------------+\n",
      "|summary|nr_employed       |\n",
      "+-------+------------------+\n",
      "|count  |41172             |\n",
      "|mean   |5167.0361046342105|\n",
      "|stddev |72.2525989629157  |\n",
      "|min    |4963.6            |\n",
      "|max    |5228.1            |\n",
      "+-------+------------------+\n",
      "\n"
     ]
    }
   ],
   "source": [
    "basic_statistics(not_duplicated_df)"
   ]
  },
  {
   "cell_type": "markdown",
   "metadata": {},
   "source": [
    "# Distribuzione variabile target per categorici"
   ]
  },
  {
   "cell_type": "markdown",
   "metadata": {},
   "source": [
    "- Contact"
   ]
  },
  {
   "cell_type": "code",
   "execution_count": 57,
   "metadata": {},
   "outputs": [],
   "source": [
    "def distr_target(df, target_columns):\n",
    "    df.createOrReplaceTempView(\"temp\")\n",
    "    tot = {}\n",
    "    for target_column in target_columns:\n",
    "        query = spark.sql(\"SELECT \"+ target_column + \", y, COUNT(*) AS Tot FROM temp GROUP BY \"+ target_column + \", y\")\n",
    "        #query.show()\n",
    "        dist_val = spark.sql(\"SELECT DISTINCT \"+ target_column + \" FROM temp\" )\n",
    "        #dist_val.show()\n",
    "        dist_val = dist_val.select(target_column).rdd.map(lambda r: r[0]).collect()\n",
    "        for i in dist_val:\n",
    "            #print(i)\n",
    "            y_ = query.filter(df[target_column] == i).filter(df[\"y\"]==\"yes\").select(\"Tot\").rdd.map(lambda r: r[0]).collect()[0]\n",
    "            n_ = query.filter(df[target_column] == i).filter(df[\"y\"]==\"no\").select(\"Tot\").rdd.map(lambda r: r[0]).collect()[0]\n",
    "            tot[target_column + \"_\"+i] = y_/n_\n",
    "    return tot "
   ]
  },
  {
   "cell_type": "code",
   "execution_count": 58,
   "metadata": {},
   "outputs": [
    {
     "data": {
      "text/plain": [
       "{'contact_cellular': 0.17289048473967683,\n",
       " 'contact_telephone': 0.05521644566056269}"
      ]
     },
     "execution_count": 58,
     "metadata": {},
     "output_type": "execute_result"
    }
   ],
   "source": [
    "distr_target(not_duplicated_df, [\"contact\"])"
   ]
  },
  {
   "cell_type": "markdown",
   "metadata": {},
   "source": [
    "- Risultato y rispetto a campagna precedente"
   ]
  },
  {
   "cell_type": "code",
   "execution_count": 59,
   "metadata": {},
   "outputs": [],
   "source": [
    "def cond_perc(df, target_columns):\n",
    "    df.createOrReplaceTempView(\"temp\")\n",
    "    tot = {}\n",
    "    for target_column in target_columns:\n",
    "        query = spark.sql(\"SELECT \"+ target_column + \", y, COUNT(*) AS Tot FROM temp GROUP BY \"+ target_column + \", y\")\n",
    "        #query.show()\n",
    "        dist_val = spark.sql(\"SELECT DISTINCT \"+ target_column + \" FROM temp\" )\n",
    "        #dist_val.show()\n",
    "        dist_val = dist_val.select(target_column).rdd.map(lambda r: r[0]).collect()\n",
    "        for i in dist_val:\n",
    "            #print(i)\n",
    "            y_ = query.filter(df[target_column] == i).filter(df[\"y\"]==\"yes\").select(\"Tot\").rdd.map(lambda r: r[0]).collect()[0]\n",
    "            n_ = query.filter(df[target_column] == i).filter(df[\"y\"]==\"no\").select(\"Tot\").rdd.map(lambda r: r[0]).collect()[0]\n",
    "            tot[target_column + \"_\"+i + \"_yes\"] = [y_/(y_+n_)*100, y_]\n",
    "            tot[target_column + \"_\"+i + \"_no\"] = [n_/(y_+n_)*100, n_]\n",
    "    return tot "
   ]
  },
  {
   "cell_type": "code",
   "execution_count": 60,
   "metadata": {},
   "outputs": [
    {
     "data": {
      "text/plain": [
       "{'poutcome_success_yes': [65.1128914785142, 894],\n",
       " 'poutcome_success_no': [34.8871085214858, 479],\n",
       " 'poutcome_failure_yes': [14.22859830667921, 605],\n",
       " 'poutcome_failure_no': [85.7714016933208, 3647],\n",
       " 'poutcome_nonexistent_yes': [8.833375530987144, 3140],\n",
       " 'poutcome_nonexistent_no': [91.16662446901286, 32407]}"
      ]
     },
     "execution_count": 60,
     "metadata": {},
     "output_type": "execute_result"
    }
   ],
   "source": [
    "cond_perc(not_duplicated_df, [\"poutcome\"])"
   ]
  },
  {
   "cell_type": "markdown",
   "metadata": {},
   "source": [
    "# Numero di anziani con yes (e no) e durata della loro chiamata"
   ]
  },
  {
   "cell_type": "code",
   "execution_count": 46,
   "metadata": {},
   "outputs": [],
   "source": [
    "not_duplicated_df.createOrReplaceTempView(\"temp_1\")"
   ]
  },
  {
   "cell_type": "code",
   "execution_count": 50,
   "metadata": {},
   "outputs": [
    {
     "name": "stdout",
     "output_type": "stream",
     "text": [
      "+---+--------+\n",
      "|age|duration|\n",
      "+---+--------+\n",
      "| 73|      63|\n",
      "| 78|      87|\n",
      "| 72|      87|\n",
      "+---+--------+\n",
      "\n"
     ]
    },
    {
     "data": {
      "text/plain": [
       "3"
      ]
     },
     "execution_count": 50,
     "metadata": {},
     "output_type": "execute_result"
    }
   ],
   "source": [
    "my = spark.sql(\"SELECT age, duration FROM temp_1 WHERE y = 'yes' AND age > 70 AND duration < 100\")\n",
    "my.show()\n",
    "my.count()"
   ]
  },
  {
   "cell_type": "code",
   "execution_count": 51,
   "metadata": {},
   "outputs": [
    {
     "name": "stdout",
     "output_type": "stream",
     "text": [
      "+---+--------+\n",
      "|age|duration|\n",
      "+---+--------+\n",
      "| 42|     262|\n",
      "| 49|      69|\n",
      "| 45|     129|\n",
      "| 45|     477|\n",
      "| 36|     208|\n",
      "| 47|     298|\n",
      "| 48|     166|\n",
      "| 43|     124|\n",
      "| 52|     833|\n",
      "| 29|     260|\n",
      "| 24|     246|\n",
      "| 28|     117|\n",
      "| 59|     341|\n",
      "| 34|     135|\n",
      "| 31|     582|\n",
      "| 48|     202|\n",
      "| 32|     177|\n",
      "| 33|     290|\n",
      "| 35|     408|\n",
      "| 39|       5|\n",
      "+---+--------+\n",
      "only showing top 20 rows\n",
      "\n"
     ]
    },
    {
     "data": {
      "text/plain": [
       "36533"
      ]
     },
     "execution_count": 51,
     "metadata": {},
     "output_type": "execute_result"
    }
   ],
   "source": [
    "my = spark.sql(\"SELECT age, duration FROM temp_1 WHERE y = 'no' AND age < 100\")\n",
    "my.show()\n",
    "my.count()"
   ]
  },
  {
   "cell_type": "markdown",
   "metadata": {},
   "source": [
    "## Plot"
   ]
  },
  {
   "cell_type": "markdown",
   "metadata": {},
   "source": [
    "Identifichiamo il mese dell'anno con la coppia \"month_year\""
   ]
  },
  {
   "cell_type": "code",
   "execution_count": 61,
   "metadata": {},
   "outputs": [
    {
     "name": "stdout",
     "output_type": "stream",
     "text": [
      "+-----+-----+\n",
      "|month|count|\n",
      "+-----+-----+\n",
      "|  jun| 5318|\n",
      "|  aug| 6175|\n",
      "|  may|13765|\n",
      "|  sep|  570|\n",
      "|  mar|  546|\n",
      "|  oct|  717|\n",
      "|  jul| 7169|\n",
      "|  nov| 4100|\n",
      "|  apr| 2630|\n",
      "|  dec|  182|\n",
      "+-----+-----+\n",
      "\n"
     ]
    }
   ],
   "source": [
    "not_duplicated_df.select(\"month\").groupby(\"month\").count().show()"
   ]
  },
  {
   "cell_type": "code",
   "execution_count": 62,
   "metadata": {},
   "outputs": [
    {
     "name": "stdout",
     "output_type": "stream",
     "text": [
      "+-----+-----+\n",
      "|month|count|\n",
      "+-----+-----+\n",
      "|  mar|  546|\n",
      "+-----+-----+\n",
      "\n"
     ]
    }
   ],
   "source": [
    "not_duplicated_df.select(\"month\").filter(not_duplicated_df[\"month\"]==\"mar\").groupby(\"month\").count().show()"
   ]
  },
  {
   "cell_type": "code",
   "execution_count": 63,
   "metadata": {},
   "outputs": [
    {
     "name": "stdout",
     "output_type": "stream",
     "text": [
      "+-----+-----+\n",
      "|month|count|\n",
      "+-----+-----+\n",
      "|  mar|  546|\n",
      "+-----+-----+\n",
      "\n"
     ]
    }
   ],
   "source": [
    "kdd_df.select(\"month\").filter(kdd_df[\"month\"]==\"mar\").groupby(\"month\").count().show()"
   ]
  },
  {
   "cell_type": "code",
   "execution_count": 64,
   "metadata": {},
   "outputs": [],
   "source": [
    "def insert_year(df):\n",
    "    month = df.rdd.map(lambda x: x.month).collect()\n",
    "    d = []\n",
    "    year = 2008\n",
    "    count = 0\n",
    "    idx = 10\n",
    "    tmp = month[0]\n",
    "    for i in range(0, len(month)):\n",
    "        if (month[i] != tmp) or (i==(len(month)-1)):\n",
    "            if(i==(len(month)-1)):\n",
    "                count = count + 1\n",
    "            for j in range(0, count):\n",
    "                #d.append(tmp+\"_\" + str(year))\n",
    "                d.append((idx, str(year)+\"_\"+tmp))\n",
    "            #print(\"Mese = \" + str(tmp)+\"_\" + str(year) + \"--- Count = \" + str(count))\n",
    "            tmp = month[i]\n",
    "            idx = idx + 1\n",
    "            count = 1\n",
    "            if month[i]==\"mar\":\n",
    "                year= year + 1\n",
    "                \n",
    "        else:\n",
    "            count = count + 1\n",
    "    rdd = sc.parallelize(d)\n",
    "    month_year = rdd.map(lambda x: Row(idx = x[0], month_year= x[1]))\n",
    "    df_month_year = spark.createDataFrame(month_year)\n",
    "    return df_month_year"
   ]
  },
  {
   "cell_type": "code",
   "execution_count": 65,
   "metadata": {
    "scrolled": true
   },
   "outputs": [],
   "source": [
    "df_month_year= insert_year(kdd_df)"
   ]
  },
  {
   "cell_type": "markdown",
   "metadata": {},
   "source": [
    "Selezione colonne"
   ]
  },
  {
   "cell_type": "code",
   "execution_count": 67,
   "metadata": {},
   "outputs": [],
   "source": [
    "# Splittiamo in due liste chiave, valore per fare plot\n",
    "def split_k_v(query):\n",
    "    return query.rdd.map(lambda x: x[1]).collect(),query.rdd.map(lambda x: x[2]).collect() "
   ]
  },
  {
   "cell_type": "markdown",
   "metadata": {},
   "source": [
    "- Mesi ed anni + count"
   ]
  },
  {
   "cell_type": "code",
   "execution_count": 68,
   "metadata": {},
   "outputs": [],
   "source": [
    "df_month_year.createOrReplaceTempView(\"temp_my\")"
   ]
  },
  {
   "cell_type": "code",
   "execution_count": 69,
   "metadata": {},
   "outputs": [
    {
     "name": "stdout",
     "output_type": "stream",
     "text": [
      "+---+----------+----+\n",
      "|idx|month_year| tot|\n",
      "+---+----------+----+\n",
      "| 10|  2008_may|7763|\n",
      "| 11|  2008_jun|4374|\n",
      "| 12|  2008_jul|6685|\n",
      "| 13|  2008_aug|5175|\n",
      "| 14|  2008_oct|  67|\n",
      "| 15|  2008_nov|3616|\n",
      "| 16|  2008_dec|  10|\n",
      "| 17|  2009_mar| 282|\n",
      "| 18|  2009_apr|2458|\n",
      "| 19|  2009_may|5794|\n",
      "| 20|  2009_jun| 715|\n",
      "| 21|  2009_jul| 178|\n",
      "| 22|  2009_aug| 770|\n",
      "| 23|  2009_sep| 267|\n",
      "| 24|  2009_oct| 447|\n",
      "| 25|  2009_nov| 357|\n",
      "| 26|  2009_dec| 172|\n",
      "| 27|  2010_mar| 264|\n",
      "| 28|  2010_apr| 174|\n",
      "| 29|  2010_may| 212|\n",
      "+---+----------+----+\n",
      "only showing top 20 rows\n",
      "\n"
     ]
    }
   ],
   "source": [
    "my = spark.sql(\"SELECT idx, month_year, count(*) AS tot FROM temp_my GROUP BY idx, month_year ORDER BY idx\")\n",
    "my.show()"
   ]
  },
  {
   "cell_type": "markdown",
   "metadata": {},
   "source": [
    "- Mese_anno vs Campagna precedente"
   ]
  },
  {
   "cell_type": "code",
   "execution_count": 71,
   "metadata": {},
   "outputs": [],
   "source": [
    "month_year = df_month_year.rdd.map(lambda x: x.month_year).collect()"
   ]
  },
  {
   "cell_type": "code",
   "execution_count": 72,
   "metadata": {},
   "outputs": [],
   "source": [
    "poutcome = kdd_df.rdd.map(lambda x: x.poutcome).collect()"
   ]
  },
  {
   "cell_type": "code",
   "execution_count": 73,
   "metadata": {},
   "outputs": [],
   "source": [
    "y = kdd_df.rdd.map(lambda x: x.y).collect()"
   ]
  },
  {
   "cell_type": "code",
   "execution_count": 74,
   "metadata": {},
   "outputs": [],
   "source": [
    "euribor3m = kdd_df.rdd.map(lambda x: x.euribor3m).collect()"
   ]
  },
  {
   "cell_type": "code",
   "execution_count": 75,
   "metadata": {},
   "outputs": [],
   "source": [
    "ll = []\n",
    "idx_m = 10\n",
    "for i in range(0, len(month_year)):\n",
    "    ll.append((idx_m, month_year[i], poutcome[i], y[i]))\n",
    "    if i != (len(month_year)-1):\n",
    "        #if month_year[i+1] != month_year[i]:\n",
    "        if month_year[i+1] != month_year[i]:\n",
    "            idx_m = idx_m + 1\n",
    "rdd = sc.parallelize(ll)\n",
    "tmp = rdd.map(lambda x: Row(idx_m = x[0], month_year = x[1], poutcome= x[2], y=x[3]))\n",
    "tmp_dd = spark.createDataFrame(tmp)"
   ]
  },
  {
   "cell_type": "code",
   "execution_count": 76,
   "metadata": {},
   "outputs": [],
   "source": [
    "tmp_dd.createOrReplaceTempView(\"temp_\")"
   ]
  },
  {
   "cell_type": "code",
   "execution_count": 77,
   "metadata": {},
   "outputs": [
    {
     "name": "stdout",
     "output_type": "stream",
     "text": [
      "+-----+----------+-----------+---+----+\n",
      "|idx_m|month_year|   poutcome|  y| tot|\n",
      "+-----+----------+-----------+---+----+\n",
      "|   10|  2008_may|nonexistent|yes| 240|\n",
      "|   10|  2008_may|nonexistent| no|7523|\n",
      "|   11|  2008_jun|nonexistent|yes| 188|\n",
      "|   11|  2008_jun|nonexistent| no|4186|\n",
      "|   12|  2008_jul|nonexistent|yes| 407|\n",
      "|   12|  2008_jul|nonexistent| no|6278|\n",
      "|   13|  2008_aug|nonexistent|yes| 271|\n",
      "|   13|  2008_aug|nonexistent| no|4904|\n",
      "|   14|  2008_oct|    failure| no|   1|\n",
      "|   14|  2008_oct|    failure|yes|   1|\n",
      "|   14|  2008_oct|nonexistent|yes|  41|\n",
      "|   14|  2008_oct|nonexistent| no|  24|\n",
      "|   15|  2008_nov|    failure| no| 673|\n",
      "|   15|  2008_nov|    failure|yes|  23|\n",
      "|   15|  2008_nov|nonexistent| no|2721|\n",
      "|   15|  2008_nov|nonexistent|yes| 164|\n",
      "|   15|  2008_nov|    success|yes|   3|\n",
      "|   15|  2008_nov|    success| no|  32|\n",
      "|   16|  2008_dec|    failure| no|   1|\n",
      "|   16|  2008_dec|nonexistent| no|   8|\n",
      "+-----+----------+-----------+---+----+\n",
      "only showing top 20 rows\n",
      "\n"
     ]
    }
   ],
   "source": [
    "query = spark.sql(\"SELECT idx_m, month_year, poutcome, y, count(*) AS tot FROM temp_ GROUP BY idx_m,  month_year, poutcome, y ORDER BY idx_m, poutcome\")\n",
    "query.show()"
   ]
  },
  {
   "cell_type": "code",
   "execution_count": 78,
   "metadata": {},
   "outputs": [],
   "source": [
    "query.createOrReplaceTempView(\"tmp\")"
   ]
  },
  {
   "cell_type": "code",
   "execution_count": 79,
   "metadata": {},
   "outputs": [],
   "source": [
    "def cond_perc(query):\n",
    "    tot = {}\n",
    "    month_year = query.select(\"month_year\").distinct().rdd.map(lambda r: r[0]).collect()\n",
    "    poutcome = query.select(\"poutcome\").distinct().rdd.map(lambda r: r[0]).collect()\n",
    "    for i in month_year:\n",
    "        tot_my = {}\n",
    "        for j in poutcome:    \n",
    "            y_l = query.filter(query[\"month_year\"] == i).filter(query[\"poutcome\"] == j).filter(query[\"y\"]==\"yes\").select(\"tot\").rdd.map(lambda r: r[0]).collect()\n",
    "            n_l = query.filter(query[\"month_year\"] == i).filter(query[\"poutcome\"] == j).filter(query[\"y\"]==\"no\").select(\"tot\").rdd.map(lambda r: r[0]).collect()\n",
    "            y_ = 0\n",
    "            n_ = 0\n",
    "            if len(y_l) > 0:\n",
    "                y_ = y_l[0]\n",
    "            if len(n_l) > 0:\n",
    "                n_ = n_l[0]                \n",
    "            tot_my[j] = [y_+n_, y_, n_]\n",
    "        tot[i] =tot_my\n",
    "    return tot "
   ]
  },
  {
   "cell_type": "code",
   "execution_count": 80,
   "metadata": {
    "scrolled": true
   },
   "outputs": [
    {
     "data": {
      "text/plain": [
       "{'2010_may': {'success': [76, 62, 14],\n",
       "  'failure': [60, 21, 39],\n",
       "  'nonexistent': [76, 39, 37]},\n",
       " '2010_mar': {'success': [78, 62, 16],\n",
       "  'failure': [79, 31, 48],\n",
       "  'nonexistent': [107, 57, 50]},\n",
       " '2009_oct': {'success': [67, 45, 22],\n",
       "  'failure': [106, 41, 65],\n",
       "  'nonexistent': [274, 94, 180]},\n",
       " '2008_jul': {'success': [0, 0, 0],\n",
       "  'failure': [0, 0, 0],\n",
       "  'nonexistent': [6685, 407, 6278]},\n",
       " '2008_aug': {'success': [0, 0, 0],\n",
       "  'failure': [0, 0, 0],\n",
       "  'nonexistent': [5175, 271, 4904]},\n",
       " '2008_dec': {'success': [0, 0, 0],\n",
       "  'failure': [1, 0, 1],\n",
       "  'nonexistent': [9, 1, 8]},\n",
       " '2010_apr': {'success': [47, 35, 12],\n",
       "  'failure': [45, 14, 31],\n",
       "  'nonexistent': [82, 48, 34]},\n",
       " '2009_sep': {'success': [53, 39, 14],\n",
       "  'failure': [55, 16, 39],\n",
       "  'nonexistent': [159, 51, 108]},\n",
       " '2008_jun': {'success': [0, 0, 0],\n",
       "  'failure': [0, 0, 0],\n",
       "  'nonexistent': [4374, 188, 4186]},\n",
       " '2010_jul': {'success': [97, 75, 22],\n",
       "  'failure': [89, 42, 47],\n",
       "  'nonexistent': [125, 59, 66]},\n",
       " '2009_nov': {'success': [91, 67, 24],\n",
       "  'failure': [105, 42, 63],\n",
       "  'nonexistent': [161, 59, 102]},\n",
       " '2010_nov': {'success': [39, 25, 14],\n",
       "  'failure': [38, 7, 31],\n",
       "  'nonexistent': [51, 26, 25]},\n",
       " '2009_aug': {'success': [133, 74, 59],\n",
       "  'failure': [189, 56, 133],\n",
       "  'nonexistent': [448, 134, 314]},\n",
       " '2008_may': {'success': [0, 0, 0],\n",
       "  'failure': [0, 0, 0],\n",
       "  'nonexistent': [7763, 240, 7523]},\n",
       " '2009_dec': {'success': [45, 30, 15],\n",
       "  'failure': [38, 13, 25],\n",
       "  'nonexistent': [89, 45, 44]},\n",
       " '2010_aug': {'success': [72, 61, 11],\n",
       "  'failure': [65, 23, 42],\n",
       "  'nonexistent': [96, 36, 60]},\n",
       " '2008_oct': {'success': [0, 0, 0],\n",
       "  'failure': [2, 1, 1],\n",
       "  'nonexistent': [65, 41, 24]},\n",
       " '2008_nov': {'success': [35, 3, 32],\n",
       "  'failure': [696, 23, 673],\n",
       "  'nonexistent': [2885, 164, 2721]},\n",
       " '2010_sep': {'success': [95, 76, 19],\n",
       "  'failure': [82, 24, 58],\n",
       "  'nonexistent': [126, 50, 76]},\n",
       " '2010_jun': {'success': [75, 52, 23],\n",
       "  'failure': [49, 19, 30],\n",
       "  'nonexistent': [105, 36, 69]},\n",
       " '2009_jul': {'success': [11, 7, 4],\n",
       "  'failure': [31, 7, 24],\n",
       "  'nonexistent': [136, 52, 84]},\n",
       " '2009_may': {'success': [154, 51, 103],\n",
       "  'failure': [1719, 109, 1610],\n",
       "  'nonexistent': [3921, 364, 3557]},\n",
       " '2009_mar': {'success': [3, 2, 1],\n",
       "  'failure': [19, 7, 12],\n",
       "  'nonexistent': [260, 117, 143]},\n",
       " '2009_apr': {'success': [64, 34, 30],\n",
       "  'failure': [602, 59, 543],\n",
       "  'nonexistent': [1792, 349, 1443]},\n",
       " '2010_oct': {'success': [69, 51, 18],\n",
       "  'failure': [60, 15, 45],\n",
       "  'nonexistent': [75, 27, 48]},\n",
       " '2009_jun': {'success': [69, 43, 26],\n",
       "  'failure': [122, 35, 87],\n",
       "  'nonexistent': [524, 186, 338]}}"
      ]
     },
     "execution_count": 80,
     "metadata": {},
     "output_type": "execute_result"
    }
   ],
   "source": [
    "cond_perc(query)"
   ]
  },
  {
   "cell_type": "code",
   "execution_count": 81,
   "metadata": {},
   "outputs": [],
   "source": [
    "ll = []\n",
    "idx_m = 10\n",
    "for i in range(0, len(month_year)):\n",
    "    ll.append((idx_m, month_year[i], euribor3m[i], y[i]))\n",
    "    if i != (len(month_year)-1):\n",
    "        #if month_year[i+1] != month_year[i]:\n",
    "        if month_year[i+1] != month_year[i]:\n",
    "            idx_m = idx_m + 1\n",
    "rdd = sc.parallelize(ll)\n",
    "tmp = rdd.map(lambda x: Row(idx_m = x[0], month_year = x[1], euribor3m= x[2], y=x[3]))\n",
    "tmp_dd = spark.createDataFrame(tmp)"
   ]
  },
  {
   "cell_type": "code",
   "execution_count": 82,
   "metadata": {},
   "outputs": [],
   "source": [
    "tmp_dd.createOrReplaceTempView(\"temp_\")"
   ]
  },
  {
   "cell_type": "code",
   "execution_count": 83,
   "metadata": {},
   "outputs": [
    {
     "name": "stdout",
     "output_type": "stream",
     "text": [
      "+-----+----------+---------+---+----+\n",
      "|idx_m|month_year|euribor3m|  y| tot|\n",
      "+-----+----------+---------+---+----+\n",
      "|   10|  2008_may|    4.864|yes|  24|\n",
      "|   10|  2008_may|    4.855| no| 819|\n",
      "|   10|  2008_may|    4.856|yes|  32|\n",
      "|   10|  2008_may|    4.859|yes|  30|\n",
      "|   10|  2008_may|    4.857|yes|  72|\n",
      "|   10|  2008_may|    4.856| no|1178|\n",
      "|   10|  2008_may|    4.855|yes|  21|\n",
      "|   10|  2008_may|    4.858| no| 704|\n",
      "|   10|  2008_may|    4.864| no| 415|\n",
      "|   10|  2008_may|     4.86| no| 853|\n",
      "|   10|  2008_may|    4.858|yes|  29|\n",
      "|   10|  2008_may|     4.86|yes|  32|\n",
      "|   10|  2008_may|    4.859| no| 758|\n",
      "|   10|  2008_may|    4.857| no|2796|\n",
      "|   11|  2008_jun|    4.866|yes|  14|\n",
      "|   11|  2008_jun|    4.959| no| 770|\n",
      "|   11|  2008_jun|    4.958| no| 233|\n",
      "|   11|  2008_jun|     4.96|yes|  11|\n",
      "|   11|  2008_jun|    4.967| no| 378|\n",
      "|   11|  2008_jun|    4.961|yes|  31|\n",
      "+-----+----------+---------+---+----+\n",
      "only showing top 20 rows\n",
      "\n"
     ]
    }
   ],
   "source": [
    "query = spark.sql(\"SELECT idx_m, month_year, euribor3m, y, count(*) AS tot FROM temp_ GROUP BY idx_m, euribor3m, month_year, y ORDER BY idx_m\")\n",
    "query.show()"
   ]
  },
  {
   "cell_type": "markdown",
   "metadata": {},
   "source": [
    "- Job vs duration"
   ]
  },
  {
   "cell_type": "code",
   "execution_count": 84,
   "metadata": {},
   "outputs": [],
   "source": [
    "job = not_duplicated_df.rdd.map(lambda x: x.job).collect()\n",
    "duration = not_duplicated_df.rdd.map(lambda x: x.duration).collect()"
   ]
  },
  {
   "cell_type": "code",
   "execution_count": 85,
   "metadata": {},
   "outputs": [],
   "source": [
    "y = not_duplicated_df.rdd.map(lambda x: x.y).collect()"
   ]
  },
  {
   "cell_type": "code",
   "execution_count": 86,
   "metadata": {},
   "outputs": [
    {
     "data": {
      "image/png": "[encoded data removed]",
      "text/plain": [
       "<Figure size 720x576 with 1 Axes>"
      ]
     },
     "metadata": {
      "needs_background": "light"
     },
     "output_type": "display_data"
    }
   ],
   "source": [
    "plt.figure(figsize = (10,8))\n",
    "sns.scatterplot(x = job, y = duration, hue = y)\n",
    "plt.xticks(rotation=45)\n",
    "plt.show()"
   ]
  },
  {
   "cell_type": "markdown",
   "metadata": {},
   "source": [
    "- Job rispetto al target"
   ]
  },
  {
   "cell_type": "code",
   "execution_count": 87,
   "metadata": {},
   "outputs": [],
   "source": [
    "# Splittiamo in due liste chiave, valore per fare plot\n",
    "def split_k_v(query):\n",
    "    return query.rdd.map(lambda x: x[0] + \"_\"+x[1]).collect(), query.rdd.map(lambda x: x[1]).collect(), query.rdd.map(lambda x: x[2]).collect() "
   ]
  },
  {
   "cell_type": "code",
   "execution_count": 88,
   "metadata": {},
   "outputs": [],
   "source": [
    "not_duplicated_df.createOrReplaceTempView(\"temp_my\")"
   ]
  },
  {
   "cell_type": "code",
   "execution_count": 89,
   "metadata": {},
   "outputs": [
    {
     "name": "stdout",
     "output_type": "stream",
     "text": [
      "+-------------+---+----+\n",
      "|          job|  y| tot|\n",
      "+-------------+---+----+\n",
      "|       admin.| no|9067|\n",
      "|      retired|yes| 434|\n",
      "|   management| no|2595|\n",
      "|  blue-collar| no|8613|\n",
      "|      student| no| 600|\n",
      "|      unknown| no| 293|\n",
      "|   technician| no|6009|\n",
      "|       admin.|yes|1351|\n",
      "|   management|yes| 328|\n",
      "|  blue-collar|yes| 638|\n",
      "|      unknown|yes|  37|\n",
      "|   unemployed| no| 870|\n",
      "|self-employed|yes| 149|\n",
      "|   unemployed|yes| 144|\n",
      "|    housemaid|yes| 106|\n",
      "|   technician|yes| 730|\n",
      "|     services|yes| 323|\n",
      "|self-employed| no|1272|\n",
      "|    housemaid| no| 954|\n",
      "| entrepreneur|yes| 124|\n",
      "+-------------+---+----+\n",
      "only showing top 20 rows\n",
      "\n"
     ]
    }
   ],
   "source": [
    "my = spark.sql(\"SELECT job, y, count(*) AS tot FROM temp_my GROUP BY job, y\")\n",
    "my.show()"
   ]
  },
  {
   "cell_type": "code",
   "execution_count": 90,
   "metadata": {},
   "outputs": [],
   "source": [
    "temp_df = my.toPandas()"
   ]
  },
  {
   "cell_type": "code",
   "execution_count": 91,
   "metadata": {},
   "outputs": [
    {
     "data": {
      "image/png": "[encoded data removed]",
      "text/plain": [
       "<Figure size 1440x720 with 1 Axes>"
      ]
     },
     "metadata": {
      "needs_background": "light"
     },
     "output_type": "display_data"
    }
   ],
   "source": [
    "\n",
    "plt.figure(figsize = (20,10))\n",
    "sns.barplot(x = \"job\", y = \"tot\", hue = \"y\", data  = temp_df, palette=\"Set2\")\n",
    "plt.xticks(rotation=45, fontsize='10')\n",
    "plt.yticks(fontsize='13')\n",
    "plt.show()\n"
   ]
  },
  {
   "cell_type": "markdown",
   "metadata": {},
   "source": [
    "- Distribuzione età"
   ]
  },
  {
   "cell_type": "code",
   "execution_count": 92,
   "metadata": {},
   "outputs": [],
   "source": [
    "def split_k_v(query):\n",
    "    return query.rdd.map(lambda x: x[0]).collect(),query.rdd.map(lambda x: x[1]).collect() "
   ]
  },
  {
   "cell_type": "code",
   "execution_count": 93,
   "metadata": {},
   "outputs": [],
   "source": [
    "not_duplicated_df.createOrReplaceTempView(\"temp3\")"
   ]
  },
  {
   "cell_type": "code",
   "execution_count": 94,
   "metadata": {
    "scrolled": true
   },
   "outputs": [
    {
     "name": "stdout",
     "output_type": "stream",
     "text": [
      "+---+----+\n",
      "|age| tot|\n",
      "+---+----+\n",
      "| 31|1946|\n",
      "| 85|  15|\n",
      "| 65|  44|\n",
      "| 53| 732|\n",
      "| 78|  27|\n",
      "| 34|1745|\n",
      "| 81|  20|\n",
      "| 28|1001|\n",
      "| 76|  34|\n",
      "| 27| 850|\n",
      "| 26| 698|\n",
      "| 44|1011|\n",
      "| 91|   2|\n",
      "| 22| 137|\n",
      "| 47| 927|\n",
      "| 52| 779|\n",
      "| 86|   8|\n",
      "| 40|1161|\n",
      "| 20|  65|\n",
      "| 94|   1|\n",
      "+---+----+\n",
      "only showing top 20 rows\n",
      "\n"
     ]
    }
   ],
   "source": [
    "age = spark.sql(\"SELECT age, count(*) AS tot FROM temp3 GROUP BY age\")\n",
    "age.show()"
   ]
  },
  {
   "cell_type": "markdown",
   "metadata": {},
   "source": [
    "L'istogramma dell'età mostra una ditribuzione molto simile a una distribuzione normale, benché inclinata a destra"
   ]
  },
  {
   "cell_type": "code",
   "execution_count": 95,
   "metadata": {},
   "outputs": [],
   "source": [
    "age_k, age_v = split_k_v(age)"
   ]
  },
  {
   "cell_type": "code",
   "execution_count": 96,
   "metadata": {},
   "outputs": [
    {
     "data": {
      "image/png": "[encoded data removed]",
      "text/plain": [
       "<Figure size 1080x576 with 1 Axes>"
      ]
     },
     "metadata": {
      "needs_background": "light"
     },
     "output_type": "display_data"
    }
   ],
   "source": [
    "#sns.set(style=\"whitegrid\", palette=\"deep\")\n",
    "plt.figure(figsize=(15,8))\n",
    "plt.xticks(range(0,100, 10), rotation=0, fontsize='13')\n",
    "plt.yticks(fontsize='13')\n",
    "plt.bar(age_k, age_v,width=1)\n",
    "plt.show()"
   ]
  },
  {
   "cell_type": "markdown",
   "metadata": {},
   "source": [
    "# Analisi dei dati economici"
   ]
  },
  {
   "cell_type": "code",
   "execution_count": 97,
   "metadata": {},
   "outputs": [],
   "source": [
    "emp_var_rate = kdd_df.rdd.map(lambda x: x.emp_var_rate).collect()\n",
    "cons_price_idx = kdd_df.rdd.map(lambda x: x.cons_price_idx).collect()\n",
    "euribor3m = kdd_df.rdd.map(lambda x: x.euribor3m).collect()\n",
    "nr_employed = kdd_df.rdd.map(lambda x: x.nr_employed).collect()"
   ]
  },
  {
   "cell_type": "markdown",
   "metadata": {},
   "source": [
    "euribor3m - nr_employed\n",
    "\n",
    "Vediamo dal plot come all'aumento dei tassi di interesse euribor (sulle x) anche il numero di dipendenti dell'azienda aumenta (asse delle y)\n",
    "\n",
    "Il tasso di interesse Euribor a 3 mesi è il tasso di interesse al quale una selezione di banche europee si prestano reciprocamente fondi denominati in euro, per cui i prestiti hanno una scadenza di 3 mesi."
   ]
  },
  {
   "cell_type": "code",
   "execution_count": 98,
   "metadata": {},
   "outputs": [
    {
     "data": {
      "text/plain": [
       "<seaborn.axisgrid.JointGrid at 0x7f48a3cfafd0>"
      ]
     },
     "execution_count": 98,
     "metadata": {},
     "output_type": "execute_result"
    },
    {
     "data": {
      "image/png": "[encoded data removed]",
      "text/plain": [
       "<Figure size 432x432 with 3 Axes>"
      ]
     },
     "metadata": {
      "needs_background": "light"
     },
     "output_type": "display_data"
    }
   ],
   "source": [
    "sns.jointplot(x = euribor3m, y = nr_employed, kind = 'kde')"
   ]
  },
  {
   "cell_type": "markdown",
   "metadata": {},
   "source": [
    "euribor3m - emp_var_rate \n",
    "\n",
    "All'aumentare dei tassi di interesse euribor, aumenta anche il tasso di variazione dei dipendenti (conseguenza del precedente plot)"
   ]
  },
  {
   "cell_type": "code",
   "execution_count": 99,
   "metadata": {},
   "outputs": [
    {
     "data": {
      "text/plain": [
       "<seaborn.axisgrid.JointGrid at 0x7f489fc31490>"
      ]
     },
     "execution_count": 99,
     "metadata": {},
     "output_type": "execute_result"
    },
    {
     "data": {
      "image/png": "[encoded data removed]",
      "text/plain": [
       "<Figure size 432x432 with 3 Axes>"
      ]
     },
     "metadata": {
      "needs_background": "light"
     },
     "output_type": "display_data"
    }
   ],
   "source": [
    "sns.jointplot(x = euribor3m, y = emp_var_rate, kind = 'reg')"
   ]
  },
  {
   "cell_type": "markdown",
   "metadata": {},
   "source": [
    "nr_employed - cons_price_idx \n",
    "\n",
    "Maggiore è il numero di dipendenti, maggiore è l'indice dei prezzi al consumo"
   ]
  },
  {
   "cell_type": "code",
   "execution_count": 100,
   "metadata": {},
   "outputs": [
    {
     "data": {
      "text/plain": [
       "<seaborn.axisgrid.JointGrid at 0x7f489fb1a110>"
      ]
     },
     "execution_count": 100,
     "metadata": {},
     "output_type": "execute_result"
    },
    {
     "data": {
      "image/png": "[encoded data removed]",
      "text/plain": [
       "<Figure size 432x432 with 3 Axes>"
      ]
     },
     "metadata": {
      "needs_background": "light"
     },
     "output_type": "display_data"
    }
   ],
   "source": [
    "sns.jointplot(x = nr_employed, y = cons_price_idx, kind = 'kde')"
   ]
  },
  {
   "cell_type": "markdown",
   "metadata": {},
   "source": [
    "Confronto tra month_year e emp_var_rate\n",
    "\n",
    "è possibile vedere come per il 2008 i mesi estivi hanno un alto tasso di occupazione\n",
    "Dopo le fluttuazioni di settembre e ottobre, l'occupazione si è ridotta verso la fine dell'anno. Spiega il piccolo aumento di novembre e il calo di dicembre."
   ]
  },
  {
   "cell_type": "code",
   "execution_count": 101,
   "metadata": {},
   "outputs": [
    {
     "data": {
      "text/plain": [
       "<matplotlib.collections.PathCollection at 0x7f489fc3a3d0>"
      ]
     },
     "execution_count": 101,
     "metadata": {},
     "output_type": "execute_result"
    },
    {
     "data": {
      "image/png": "[encoded data removed]",
      "text/plain": [
       "<Figure size 1440x720 with 1 Axes>"
      ]
     },
     "metadata": {
      "needs_background": "light"
     },
     "output_type": "display_data"
    }
   ],
   "source": [
    "fig, ax = plt.subplots(figsize=(20,10))\n",
    "plt.xticks(rotation=45)\n",
    "ax.scatter(month_year, emp_var_rate)"
   ]
  },
  {
   "cell_type": "code",
   "execution_count": 102,
   "metadata": {},
   "outputs": [
    {
     "data": {
      "text/plain": [
       "<matplotlib.collections.PathCollection at 0x7f489fab1310>"
      ]
     },
     "execution_count": 102,
     "metadata": {},
     "output_type": "execute_result"
    },
    {
     "data": {
      "image/png": "[encoded data removed]",
      "text/plain": [
       "<Figure size 1440x720 with 1 Axes>"
      ]
     },
     "metadata": {
      "needs_background": "light"
     },
     "output_type": "display_data"
    }
   ],
   "source": [
    "fig, ax = plt.subplots(figsize=(20,10))\n",
    "plt.xticks(rotation=45)\n",
    "ax.scatter(month_year, nr_employed)"
   ]
  },
  {
   "cell_type": "markdown",
   "metadata": {},
   "source": [
    "## Conteggio Missing Values\n",
    "- Nel dataset i Missing Values sono specificati come \"unknown\""
   ]
  },
  {
   "cell_type": "code",
   "execution_count": 103,
   "metadata": {
    "scrolled": true
   },
   "outputs": [
    {
     "data": {
      "text/plain": [
       "[('age', 'int'),\n",
       " ('job', 'string'),\n",
       " ('marital', 'string'),\n",
       " ('education', 'string'),\n",
       " ('default', 'string'),\n",
       " ('housing', 'string'),\n",
       " ('loan', 'string'),\n",
       " ('contact', 'string'),\n",
       " ('month', 'string'),\n",
       " ('day_of_week', 'string'),\n",
       " ('duration', 'int'),\n",
       " ('campaign', 'int'),\n",
       " ('pdays', 'int'),\n",
       " ('previous', 'int'),\n",
       " ('poutcome', 'string'),\n",
       " ('emp_var_rate', 'double'),\n",
       " ('cons_price_idx', 'double'),\n",
       " ('cons_conf_idx', 'double'),\n",
       " ('euribor3m', 'double'),\n",
       " ('nr_employed', 'double'),\n",
       " ('y', 'string')]"
      ]
     },
     "execution_count": 103,
     "metadata": {},
     "output_type": "execute_result"
    }
   ],
   "source": [
    "kdd_df.dtypes"
   ]
  },
  {
   "cell_type": "code",
   "execution_count": null,
   "metadata": {},
   "outputs": [],
   "source": [
    "### for col in (y for y in kdd_df.dtypes if y[1]==\"string\"):\n",
    "    print(\"<\" + str(col[0])+\"> \" + \" with null values = \" +str(kdd_df.filter(kdd_df[col[0]] == \"unknown\").count()))"
   ]
  },
  {
   "cell_type": "markdown",
   "metadata": {},
   "source": [
    "## Replace Missing Values (Prova Non Usata)"
   ]
  },
  {
   "cell_type": "code",
   "execution_count": 105,
   "metadata": {},
   "outputs": [],
   "source": [
    "# Fare il replace di particolari valori in determiante colonne\n",
    "# inserire in \"lit()\" il valore che vogliamo inserire\n",
    "# df = kdd_0df.withColumn(\"loan\", when(kdd_df[\"loan\"]==\"unknown\", \n",
    "#                                     lit(notckd)).otherwise(kdd_df[\"loan\"]))"
   ]
  },
  {
   "cell_type": "markdown",
   "metadata": {},
   "source": [
    "Per sostituire i valori nulli con la moda:"
   ]
  },
  {
   "cell_type": "code",
   "execution_count": 106,
   "metadata": {},
   "outputs": [],
   "source": [
    "# Colonne con valori nulli\n",
    "num_col = [\"job\", \"marital\", \"education\", \"default\", \"housing\", \"loan\"]"
   ]
  },
  {
   "cell_type": "code",
   "execution_count": 107,
   "metadata": {},
   "outputs": [],
   "source": [
    "def fill_mode(df, cols_to_replace):\n",
    "    mode_col = []\n",
    "    for c in cols_to_replace:\n",
    "        # Filtrare i nulli\n",
    "        df = df.filter(df[c] != \"unknown\")\n",
    "        # Selezione valori distinti\n",
    "        distinct_val = df.select(c).distinct().rdd.map(lambda x: x[0]).collect()\n",
    "        # Contatore dei valori distinti\n",
    "        distinct_count = []\n",
    "        for v in distinct_val:\n",
    "            distinct_count.append([v, df.filter(df[c]==v).count()])\n",
    "        # Ordiniamo\n",
    "        s_distinct_count = sorted(distinct_count, key = lambda x: x[1], reverse = True)\n",
    "\n",
    "        mode_col.append([c, s_distinct_count[0][0]])\n",
    "    for c, m in mode_col:\n",
    "        df = df.withColumn(c, when(df[c]==\"unknown\", lit(m)).otherwise(df[c]))\n",
    "    return df"
   ]
  },
  {
   "cell_type": "code",
   "execution_count": 108,
   "metadata": {},
   "outputs": [],
   "source": [
    "df = fill_mode(kdd_df, num_col)"
   ]
  },
  {
   "cell_type": "code",
   "execution_count": 109,
   "metadata": {},
   "outputs": [
    {
     "name": "stdout",
     "output_type": "stream",
     "text": [
      "<job>  with null values = 0\n",
      "<marital>  with null values = 0\n",
      "<education>  with null values = 0\n",
      "<default>  with null values = 0\n",
      "<housing>  with null values = 0\n",
      "<loan>  with null values = 0\n",
      "<contact>  with null values = 0\n",
      "<month>  with null values = 0\n",
      "<day_of_week>  with null values = 0\n",
      "<poutcome>  with null values = 0\n",
      "<y>  with null values = 0\n"
     ]
    }
   ],
   "source": [
    "for col in (y for y in df.dtypes if y[1]==\"string\"):\n",
    "    print(\"<\" + str(col[0])+\"> \" + \" with null values = \" +str(df.filter(df[col[0]] == \"unknown\").count()))"
   ]
  },
  {
   "cell_type": "markdown",
   "metadata": {},
   "source": [
    "## Outliers Detection"
   ]
  },
  {
   "cell_type": "markdown",
   "metadata": {},
   "source": [
    "Prova differenza tra kdd_df (dove PDays ha molti valoti a 999) e not_duplicated_df (dove in PDays il 999 è stato sostituito con -1)"
   ]
  },
  {
   "cell_type": "code",
   "execution_count": 110,
   "metadata": {},
   "outputs": [],
   "source": [
    "numerical_features = [x[0] for x in kdd_df.dtypes if x[1]== \"int\" ]"
   ]
  },
  {
   "cell_type": "code",
   "execution_count": 111,
   "metadata": {},
   "outputs": [],
   "source": [
    "def outliers_plot(features, df):\n",
    "    for i in features:\n",
    "        fig1, ax1 = plt.subplots()\n",
    "        ax1.set_title('Feature = '+ str(i))\n",
    "        ax1.boxplot(df.select(i).rdd.map(lambda r: r[0]).collect())"
   ]
  },
  {
   "cell_type": "code",
   "execution_count": 112,
   "metadata": {
    "scrolled": true
   },
   "outputs": [
    {
     "data": {
      "image/png": "[encoded data removed]",
      "text/plain": [
       "<Figure size 432x288 with 1 Axes>"
      ]
     },
     "metadata": {
      "needs_background": "light"
     },
     "output_type": "display_data"
    },
    {
     "data": {
      "image/png": "[encoded data removed]",
      "text/plain": [
       "<Figure size 432x288 with 1 Axes>"
      ]
     },
     "metadata": {
      "needs_background": "light"
     },
     "output_type": "display_data"
    },
    {
     "data": {
      "image/png": "[encoded data removed]",
      "text/plain": [
       "<Figure size 432x288 with 1 Axes>"
      ]
     },
     "metadata": {
      "needs_background": "light"
     },
     "output_type": "display_data"
    },
    {
     "data": {
      "image/png": "[encoded data removed]",
      "text/plain": [
       "<Figure size 432x288 with 1 Axes>"
      ]
     },
     "metadata": {
      "needs_background": "light"
     },
     "output_type": "display_data"
    },
    {
     "data": {
      "image/png": "[encoded data removed]",
      "text/plain": [
       "<Figure size 432x288 with 1 Axes>"
      ]
     },
     "metadata": {
      "needs_background": "light"
     },
     "output_type": "display_data"
    }
   ],
   "source": [
    "outliers_plot(numerical_features, kdd_df)"
   ]
  },
  {
   "cell_type": "code",
   "execution_count": 113,
   "metadata": {},
   "outputs": [
    {
     "data": {
      "image/png": "[encoded data removed]",
      "text/plain": [
       "<Figure size 432x288 with 1 Axes>"
      ]
     },
     "metadata": {
      "needs_background": "light"
     },
     "output_type": "display_data"
    },
    {
     "data": {
      "image/png": "[encoded data removed]",
      "text/plain": [
       "<Figure size 432x288 with 1 Axes>"
      ]
     },
     "metadata": {
      "needs_background": "light"
     },
     "output_type": "display_data"
    },
    {
     "data": {
      "image/png": "[encoded data removed]",
      "text/plain": [
       "<Figure size 432x288 with 1 Axes>"
      ]
     },
     "metadata": {
      "needs_background": "light"
     },
     "output_type": "display_data"
    },
    {
     "data": {
      "image/png": "[encoded data removed]",
      "text/plain": [
       "<Figure size 432x288 with 1 Axes>"
      ]
     },
     "metadata": {
      "needs_background": "light"
     },
     "output_type": "display_data"
    },
    {
     "data": {
      "image/png": "[encoded data removed]",
      "text/plain": [
       "<Figure size 432x288 with 1 Axes>"
      ]
     },
     "metadata": {
      "needs_background": "light"
     },
     "output_type": "display_data"
    }
   ],
   "source": [
    "outliers_plot(numerical_features, not_duplicated_df)"
   ]
  },
  {
   "cell_type": "markdown",
   "metadata": {},
   "source": [
    "Il quartile IQR viene calcolato come il valor medio tra il quartile inferiore e superiore dei dati\n",
    "come il medio, il quartile inferiore e superiore può essere calcolato con \"percentile()\" inserendo 50%, 25%, 75%\n",
    "\n",
    "Un valore anomalo viene classificato come tale se si discosta per certa quantità di IQR dal valore mediano di solito pari a \n",
    "2.22 (cioè 3 deviazioni standard)"
   ]
  },
  {
   "cell_type": "code",
   "execution_count": 114,
   "metadata": {},
   "outputs": [],
   "source": [
    "class df_Outlier():\n",
    "    def __init__(self, dataframe):\n",
    "        self.dataframe = dataframe\n",
    "        \n",
    "    # Calcoliamo gli intervalli creando un dizionario bounds\n",
    "    # bound = {features : [Q1, Q3, lower, upper]}\n",
    "    def interquart_range(self):\n",
    "        bounds = {\n",
    "            feature: dict(\n",
    "                    zip([\"Q1\", \"Q3\"], self.dataframe.approxQuantile(feature, [0.25, 0.75], 0))\n",
    "                )\n",
    "            for feature, f_type in zip(self.dataframe.columns, self.dataframe.dtypes) if f_type[1] == \"int\"            \n",
    "        }\n",
    "        for b in bounds:\n",
    "            print(b)\n",
    "            IQR = bounds[b][\"Q3\"] - bounds[b][\"Q1\"]\n",
    "            bounds[b][\"lower\"] = bounds[b][\"Q1\"] - (IQR * 2.5)\n",
    "            print(\"Lower = \" + str(bounds[b][\"Q1\"] - (IQR * 2.5)))\n",
    "            bounds[b][\"upper\"] = bounds[b][\"Q3\"] + (IQR * 2.5)\n",
    "            print(\"Upper = \" + str(bounds[b][\"Q3\"] + (IQR * 2.5)))\n",
    "        return bounds\n",
    "    \n",
    "    def print_interquart(self):\n",
    "        self.interquart_range()\n",
    "        \n",
    "    # Per ogni features intera calcoliamo se è un outliers o meno e aggiungiamo una colonna \"nameclass_out\"\n",
    "    def flag_out(self):\n",
    "        bounds = self.interquart_range()\n",
    "        return self.dataframe.select(\n",
    "            \"*\",\n",
    "            *[\n",
    "                F.when(\n",
    "                    F.col(c).between(bounds[c]['lower'], bounds[c]['upper']),\n",
    "                    0\n",
    "                ).otherwise(1).alias(c+\"_out\") \n",
    "                for c in bounds\n",
    "            ]\n",
    "        )\n",
    "    \n",
    "    # Mostriamo gli outliers\n",
    "    def show_out(self):\n",
    "        out_dataframe = self.flag_out()\n",
    "        for o in out_dataframe.columns:\n",
    "            out_dataframe.select(o).filter(F.col(o).isNotNull()).show()\n",
    "            \n",
    "    def select_not_out(self):\n",
    "        out_dataframe = self.flag_out()\n",
    "        out_dataframe.createOrReplaceTempView(\"temp\")\n",
    "        new_df = self.dataframe.select(\"*\")\n",
    "        #new_df = copy.deepcopy(self.dataframe.schema)\n",
    "        for c in out_dataframe.columns:\n",
    "            if \"_out\" in c:\n",
    "                new_df= spark.sql(\"SELECT * FROM temp WHERE \" + str(c) + \"= 0\")\n",
    "        return new_df"
   ]
  },
  {
   "cell_type": "code",
   "execution_count": 115,
   "metadata": {},
   "outputs": [
    {
     "name": "stdout",
     "output_type": "stream",
     "text": [
      "age\n",
      "Lower = -5.5\n",
      "Upper = 84.5\n",
      "duration\n",
      "Lower = -440.5\n",
      "Upper = 861.5\n",
      "campaign\n",
      "Lower = -4.0\n",
      "Upper = 8.0\n",
      "pdays\n",
      "Lower = -1.0\n",
      "Upper = -1.0\n",
      "previous\n",
      "Lower = 0.0\n",
      "Upper = 0.0\n"
     ]
    }
   ],
   "source": [
    "new_df = df_Outlier(not_duplicated_df).select_not_out()"
   ]
  },
  {
   "cell_type": "code",
   "execution_count": 116,
   "metadata": {},
   "outputs": [
    {
     "name": "stdout",
     "output_type": "stream",
     "text": [
      "+--------+\n",
      "|count(1)|\n",
      "+--------+\n",
      "|   35547|\n",
      "+--------+\n",
      "\n"
     ]
    }
   ],
   "source": [
    "new_df.createOrReplaceTempView(\"temp\")\n",
    "count = spark.sql(\"SELECT COUNT(*) FROM temp\")\n",
    "count.show()"
   ]
  },
  {
   "cell_type": "markdown",
   "metadata": {},
   "source": [
    "## Correlation Matrix"
   ]
  },
  {
   "cell_type": "markdown",
   "metadata": {},
   "source": [
    "### Pearson"
   ]
  },
  {
   "cell_type": "code",
   "execution_count": 117,
   "metadata": {
    "scrolled": false
   },
   "outputs": [
    {
     "data": {
      "image/png": "[encoded data removed]",
      "text/plain": [
       "<Figure size 1440x1440 with 2 Axes>"
      ]
     },
     "metadata": {
      "needs_background": "light"
     },
     "output_type": "display_data"
    }
   ],
   "source": [
    "col_names = [x[0] for x in kdd_df.dtypes if x[1]==\"int\" or x[1]==\"double\"]\n",
    "features = kdd_df.select(col_names).rdd.map(lambda row: row[0:])\n",
    "corr_mat=Statistics.corr(features, method=\"pearson\")\n",
    "corr_df = pd.DataFrame(corr_mat)\n",
    "corr_df.index, corr_df.columns = col_names, col_names\n",
    "plt.figure(figsize = (20,20))\n",
    "correlation = sns.heatmap(corr_df, cmap='BuPu', vmin=-1, vmax=1,annot=True, linewidths=.7)"
   ]
  },
  {
   "cell_type": "markdown",
   "metadata": {},
   "source": [
    "### not_duplicated_df"
   ]
  },
  {
   "cell_type": "code",
   "execution_count": 121,
   "metadata": {},
   "outputs": [
    {
     "data": {
      "image/png": "[encoded data removed]",
      "text/plain": [
       "<Figure size 720x576 with 2 Axes>"
      ]
     },
     "metadata": {
      "needs_background": "light"
     },
     "output_type": "display_data"
    }
   ],
   "source": [
    "col_names = [x[0] for x in not_duplicated_df.dtypes if x[1]==\"int\" or x[1]==\"double\"]\n",
    "features = not_duplicated_df.select(col_names).rdd.map(lambda row: row[0:])\n",
    "corr_mat=Statistics.corr(features, )\n",
    "corr_df = pd.DataFrame(corr_mat)\n",
    "corr_df.index, corr_df.columns = col_names, col_names\n",
    "plt.figure(figsize = (10,8))\n",
    "correlation = sns.heatmap(corr_df, cmap='BuPu', vmin=-1, vmax=1,annot=True, linewidths=.7)"
   ]
  },
  {
   "cell_type": "markdown",
   "metadata": {},
   "source": [
    "# Normalizzazione - One Hot (Prova Non Usata)"
   ]
  },
  {
   "cell_type": "code",
   "execution_count": 454,
   "metadata": {},
   "outputs": [
    {
     "data": {
      "text/plain": [
       "'\\nassembler = VectorAssembler().setInputCols            (df_new.columns).setOutputCol(\"features\")\\ntransformed = assembler.transform(df_new)\\nscaler = MinMaxScaler(inputCol=\"features\",         outputCol=\"scaledFeatures\")\\nscalerModel =  scaler.fit(transformed.select(\"features\"))\\nscaledData = scalerModel.transform(transformed)'"
      ]
     },
     "execution_count": 454,
     "metadata": {},
     "output_type": "execute_result"
    }
   ],
   "source": [
    "# One Hot\n",
    "kdd_train_df_ohe_normalized = kdd_train_df_num.map(lambda x : NormalizeAndOneHotEncoding(x))"
   ]
  },
  {
   "cell_type": "markdown",
   "metadata": {},
   "source": [
    "## Scrittura nuovo csv"
   ]
  },
  {
   "cell_type": "code",
   "execution_count": null,
   "metadata": {},
   "outputs": [],
   "source": [
    "kdd_df.write.format(\"csv\").save(\"hdfs://kddrtserver13.isti.cnr.it:9000/user/hpsa15/n_dataset.csv\")"
   ]
  },
  {
   "cell_type": "code",
   "execution_count": null,
   "metadata": {},
   "outputs": [],
   "source": [
    "spark.stop()"
   ]
  },
  {
   "cell_type": "code",
   "execution_count": null,
   "metadata": {},
   "outputs": [],
   "source": []
  }
 ],
 "metadata": {
  "kernelspec": {
   "display_name": "Python 3",
   "language": "python",
   "name": "python3"
  },
  "language_info": {
   "codemirror_mode": {
    "name": "ipython",
    "version": 3
   },
   "file_extension": ".py",
   "mimetype": "text/x-python",
   "name": "python",
   "nbconvert_exporter": "python",
   "pygments_lexer": "ipython3",
   "version": "3.7.6"
  }
 },
 "nbformat": 4,
 "nbformat_minor": 4
}
